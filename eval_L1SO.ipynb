{
 "cells": [
  {
   "cell_type": "code",
   "execution_count": 1,
   "metadata": {},
   "outputs": [],
   "source": [
    "import os, yaml\n",
    "from datetime import datetime\n",
    "from easydict import EasyDict\n",
    "from glob import glob\n",
    "import pickle\n",
    "from pathlib import Path\n",
    "\n",
    "import numpy as np\n",
    "import pandas as pd\n",
    "\n",
    "import torch\n",
    "import torch.nn.functional as F\n",
    "import torch.backends.cudnn as cudnn\n",
    "from torch.utils.data import DataLoader\n",
    "\n",
    "from dataloader.bci_compet import get_dataset\n",
    "from dataloader.bci_compet import BCICompet2aIV\n",
    "\n",
    "from model.litmodel import LitModel\n",
    "from model.litmodel import get_litmodel\n",
    "from model.cat_conditioned import CatConditioned\n",
    "from model.attn_conditioned import ATTNConditioned\n",
    "from model.attn_conditioned_subj_avg import ATTNConditionedSubjAvg\n",
    "from model.attn_conditioned_subj_ftr import ATTNConditionedSubjFtr\n",
    "\n",
    "\n",
    "from pytorch_lightning import Trainer, seed_everything\n",
    "\n",
    "from sklearn.model_selection import KFold\n",
    "from sklearn.metrics import accuracy_score, cohen_kappa_score\n",
    "\n",
    "%load_ext autoreload\n",
    "%autoreload 2"
   ]
  },
  {
   "cell_type": "code",
   "execution_count": 2,
   "metadata": {},
   "outputs": [],
   "source": [
    "### Set confings\n",
    "config_name = 'bcicompet2a_config'\n",
    "with open(f'configs/{config_name}.yaml') as file:\n",
    "    config = yaml.load(file, Loader=yaml.FullLoader)\n",
    "    args = EasyDict(config)\n",
    "    "
   ]
  },
  {
   "cell_type": "code",
   "execution_count": 3,
   "metadata": {},
   "outputs": [
    {
     "name": "stderr",
     "output_type": "stream",
     "text": [
      "Seed set to 42\n"
     ]
    }
   ],
   "source": [
    "#### Set Device ####\n",
    "# if torch.cuda.is_available():\n",
    "#     os.environ['CUDA_VISIBLE_DEVICES'] = str(args.GPU_NUM)\n",
    "cudnn.benchmark = True\n",
    "cudnn.fastest = True\n",
    "cudnn.deterministic = True\n",
    "\n",
    "#### Set SEED ####\n",
    "seed_everything(args.SEED)\n",
    "\n",
    "#### Update configs ####\n",
    "if args.downsampling != 0: args['sampling_rate'] = args.downsampling\n"
   ]
  },
  {
   "cell_type": "code",
   "execution_count": 4,
   "metadata": {},
   "outputs": [
    {
     "name": "stdout",
     "output_type": "stream",
     "text": [
      "Loading cache\n"
     ]
    }
   ],
   "source": [
    "CACHE_ROOT = 'cache'\n",
    "TEST_ROOT = 'test_results'\n",
    "\n",
    "args.is_test = True\n",
    "\n",
    "def load_dataset(args, return_subject_id=False):\n",
    "    datasets = {}\n",
    "    for subject_id in range(0,9):\n",
    "        args['target_subject'] = subject_id\n",
    "        datasets[subject_id] = BCICompet2aIV(args)\n",
    "    return datasets\n",
    "\n",
    "path = os.path.join(CACHE_ROOT, f'{config_name}_base_test.pkl')\n",
    "\n",
    "if not os.path.isfile(path):\n",
    "    print('Cache miss, generating cache')\n",
    "    datasets = load_dataset(args)\n",
    "    with open(path, 'wb') as file:\n",
    "        pickle.dump(datasets, file)\n",
    "else:\n",
    "    print('Loading cache')\n",
    "    with open(path, 'rb') as file:\n",
    "        datasets = pickle.load(file)"
   ]
  },
  {
   "cell_type": "code",
   "execution_count": 7,
   "metadata": {},
   "outputs": [
    {
     "name": "stdout",
     "output_type": "stream",
     "text": [
      "['2023-12-14_11-33-59-avg_L1SO_8', '2023-12-14_10-59-34-avg_L1SO_0', '2023-12-14_11-16-46-avg_L1SO_4', '2023-12-14_11-21-04-avg_L1SO_5', '2023-12-14_11-12-28-avg_L1SO_3', '2023-12-14_15-36-43-avg_L1SO_0', '2023-12-14_11-03-52-avg_L1SO_1', '2023-12-14_11-25-21-avg_L1SO_6', '2023-12-14_11-08-10-avg_L1SO_2', '2023-12-14_11-29-39-avg_L1SO_7']\n"
     ]
    }
   ],
   "source": [
    "method =  'avg'\n",
    "subj_info = 'avg'\n",
    "\n",
    "\n",
    "trains = glob(f'{args.CKPT_PATH}/{args.task}/*{method}_L1SO_*')\n",
    "versions = [train.split(os.sep)[-1] for train in trains]\n",
    "print(versions)\n",
    "\n",
    "versions = ['2023-12-14_15-36-43-avg_L1SO_0']"
   ]
  },
  {
   "cell_type": "code",
   "execution_count": 9,
   "metadata": {},
   "outputs": [
    {
     "name": "stderr",
     "output_type": "stream",
     "text": [
      "Trainer will use only 1 of 2 GPUs because it is running inside an interactive / notebook environment. You may try to set `Trainer(devices=2)` but please note that multi-GPU inside interactive / notebook environments is considered experimental and unstable. Your mileage may vary.\n",
      "GPU available: True (cuda), used: True\n",
      "TPU available: False, using: 0 TPU cores\n",
      "IPU available: False, using: 0 IPUs\n",
      "HPU available: False, using: 0 HPUs\n",
      "LOCAL_RANK: 0 - CUDA_VISIBLE_DEVICES: [0,1]\n"
     ]
    },
    {
     "name": "stdout",
     "output_type": "stream",
     "text": [
      "\n",
      "./checkpoints/BCICompet2a/2023-12-14_15-36-43-avg_L1SO_0/epoch=91-val_loss=0.937.ckpt\n",
      "0\n",
      "\n"
     ]
    },
    {
     "name": "stderr",
     "output_type": "stream",
     "text": [
      "/home/devuser/.local/lib/python3.8/site-packages/pytorch_lightning/trainer/connectors/data_connector.py:441: The 'predict_dataloader' does not have many workers which may be a bottleneck. Consider increasing the value of the `num_workers` argument` to `num_workers=31` in the `DataLoader` to improve performance.\n"
     ]
    },
    {
     "data": {
      "application/vnd.jupyter.widget-view+json": {
       "model_id": "509db8e6f9d64ae687d166dbe19d1e32",
       "version_major": 2,
       "version_minor": 0
      },
      "text/plain": [
       "Predicting: |          | 0/? [00:00<?, ?it/s]"
      ]
     },
     "metadata": {},
     "output_type": "display_data"
    }
   ],
   "source": [
    "\n",
    "result_dict = {}\n",
    "for version in versions:\n",
    "    LOS = int(version.split('_')[-1])\n",
    "    ckpt_path = sorted(glob(f'{args.CKPT_PATH}/{args.task}/{version}/*.ckpt'))[-1]\n",
    "    print()\n",
    "    print(ckpt_path)\n",
    "    print(LOS)\n",
    "    print()\n",
    "\n",
    "    #model = get_litmodel(args)\n",
    "    in_model =  ATTNConditionedSubjAvg(args, embedding_dimension=30, combined_features_dimension=100 )\n",
    "    #in_model = ATTNConditionedSubjFtr(args, embedding_dimension=23, combined_features_dimension=43, subj_dim=26 )\n",
    "    model = LitModel(args, in_model)\n",
    "    model.load_state_dict(torch.load(ckpt_path)['state_dict'], strict=False)\n",
    "    trainer = Trainer()\n",
    "\n",
    "    model.eval()\n",
    "\n",
    "    datasets[LOS].return_subject_info = subj_info\n",
    "    test_dataloader = DataLoader(datasets[LOS],\n",
    "                                    batch_size=args.batch_size,\n",
    "                                    pin_memory=False,\n",
    "                                    num_workers=args.num_workers)\n",
    "    gt = datasets[LOS].label                                   \n",
    "    logits = trainer.predict(model, dataloaders=test_dataloader)\n",
    "    pred = torch.cat(logits, dim=0).argmax(axis=1).detach().cpu().numpy()\n",
    "    acc = accuracy_score(pred, gt)\n",
    "    kappa = cohen_kappa_score(pred, gt)\n",
    "    result_dict[LOS] = {'acc': acc, 'kappa': kappa}\n",
    "result_df = pd.DataFrame(result_dict).T\n",
    "\n",
    "Path(f'{TEST_ROOT}/{args.task}/{method}').mkdir(parents=True, exist_ok=True)\n",
    "\n",
    "result_df.to_csv(f'{TEST_ROOT}/{args.task}/{method}/{datetime.now().strftime(\"%Y-%m-%d_%H-%M-%S\")}_L1SO.csv')"
   ]
  },
  {
   "cell_type": "code",
   "execution_count": null,
   "metadata": {},
   "outputs": [],
   "source": []
  },
  {
   "cell_type": "code",
   "execution_count": null,
   "metadata": {},
   "outputs": [],
   "source": []
  }
 ],
 "metadata": {
  "kernelspec": {
   "display_name": "Python 3",
   "language": "python",
   "name": "python3"
  },
  "language_info": {
   "codemirror_mode": {
    "name": "ipython",
    "version": 3
   },
   "file_extension": ".py",
   "mimetype": "text/x-python",
   "name": "python",
   "nbconvert_exporter": "python",
   "pygments_lexer": "ipython3",
   "version": "3.8.10"
  }
 },
 "nbformat": 4,
 "nbformat_minor": 2
}
