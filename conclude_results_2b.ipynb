{
 "cells": [
  {
   "cell_type": "code",
   "execution_count": null,
   "metadata": {},
   "outputs": [],
   "source": [
    "import os\n",
    "import pandas as pd\n",
    "import numpy as np\n",
    "\n",
    "path = 'test_results/BCICompet2b'"
   ]
  },
  {
   "cell_type": "code",
   "execution_count": null,
   "metadata": {},
   "outputs": [],
   "source": [
    "results = os.listdir(path)\n",
    "results = [element for element in results if 'all_' not in element]\n",
    "results"
   ]
  },
  {
   "cell_type": "code",
   "execution_count": null,
   "metadata": {},
   "outputs": [],
   "source": [
    "\n",
    "columns = ['Subject', 'Accuracy', 'Kappa']\n",
    "dfs = [pd.read_csv(os.path.join(path, result)) for result in results]\n",
    "for df in dfs:\n",
    "    df.columns = columns\n",
    "for i in range(len(dfs)):\n",
    "    dfs[i]['method'] = results[i].split('-')[-1].split('.')[0]\n",
    "   \n",
    "concat_df = pd.concat(dfs)"
   ]
  },
  {
   "cell_type": "code",
   "execution_count": null,
   "metadata": {},
   "outputs": [],
   "source": [
    "\n",
    "# Create Accuracy DataFrame\n",
    "accuracy_df = concat_df.pivot(index='Subject', columns='method', values='Accuracy')\n",
    "\n",
    "# Create Kappa DataFrame\n",
    "kappa_df = concat_df.pivot(index='Subject', columns='method', values='Kappa')"
   ]
  },
  {
   "cell_type": "code",
   "execution_count": null,
   "metadata": {},
   "outputs": [],
   "source": [
    "# Calculate mean and standard deviation for Accuracy and Kappa\n",
    "accuracy_mean = accuracy_df.mean()\n",
    "accuracy_std = accuracy_df.std()\n",
    "kappa_mean = kappa_df.mean()\n",
    "kappa_std = kappa_df.std()\n",
    "\n",
    "# Append mean and standard deviation to the DataFrames\n",
    "accuracy_df.loc['Mean'] = accuracy_mean\n",
    "accuracy_df.loc['Std'] = accuracy_std\n",
    "kappa_df.loc['Mean'] = kappa_mean\n",
    "kappa_df.loc['Std'] = kappa_std"
   ]
  },
  {
   "cell_type": "code",
   "execution_count": null,
   "metadata": {},
   "outputs": [],
   "source": [
    "accuracy_df"
   ]
  },
  {
   "cell_type": "code",
   "execution_count": null,
   "metadata": {},
   "outputs": [],
   "source": [
    "kappa_df"
   ]
  },
  {
   "cell_type": "code",
   "execution_count": null,
   "metadata": {},
   "outputs": [],
   "source": []
  }
 ],
 "metadata": {
  "kernelspec": {
   "display_name": "Python 3",
   "language": "python",
   "name": "python3"
  },
  "language_info": {
   "codemirror_mode": {
    "name": "ipython",
    "version": 3
   },
   "file_extension": ".py",
   "mimetype": "text/x-python",
   "name": "python",
   "nbconvert_exporter": "python",
   "pygments_lexer": "ipython3",
   "version": "3.8.10"
  }
 },
 "nbformat": 4,
 "nbformat_minor": 2
}
