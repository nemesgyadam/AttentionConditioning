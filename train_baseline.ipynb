{
 "cells": [
  {
   "cell_type": "code",
   "execution_count": 1,
   "metadata": {},
   "outputs": [],
   "source": [
    "import os\n",
    "os.environ[\"CUDA_DEVICE_ORDER\"]=\"PCI_BUS_ID\"   # see issue #152\n",
    "os.environ[\"CUDA_VISIBLE_DEVICES\"]=\"0\""
   ]
  },
  {
   "cell_type": "code",
   "execution_count": 2,
   "metadata": {},
   "outputs": [
    {
     "name": "stderr",
     "output_type": "stream",
     "text": [
      "/home/devuser/.local/lib/python3.8/site-packages/docstring_inheritance/docstring_inheritors/bases/inheritor.py:329: DocstringInheritanceWarning: File /home/devuser/.local/lib/python3.8/site-packages/braindecode/models/eegconformer.py:88: in EEGConformer.__init__: section Parameters: the docstring for the argument 'n_outputs' is missing.\n",
      "  self._warn(\n",
      "/home/devuser/.local/lib/python3.8/site-packages/docstring_inheritance/docstring_inheritors/bases/inheritor.py:329: DocstringInheritanceWarning: File /home/devuser/.local/lib/python3.8/site-packages/braindecode/models/eegconformer.py:88: in EEGConformer.__init__: section Parameters: the docstring for the argument 'n_chans' is missing.\n",
      "  self._warn(\n",
      "/home/devuser/.local/lib/python3.8/site-packages/docstring_inheritance/docstring_inheritors/bases/inheritor.py:329: DocstringInheritanceWarning: File /home/devuser/.local/lib/python3.8/site-packages/braindecode/models/eegconformer.py:88: in EEGConformer.__init__: section Parameters: the docstring for the argument 'n_filters_time' is missing.\n",
      "  self._warn(\n",
      "/home/devuser/.local/lib/python3.8/site-packages/docstring_inheritance/docstring_inheritors/bases/inheritor.py:329: DocstringInheritanceWarning: File /home/devuser/.local/lib/python3.8/site-packages/braindecode/models/eegconformer.py:88: in EEGConformer.__init__: section Parameters: the docstring for the argument 'filter_time_length' is missing.\n",
      "  self._warn(\n",
      "/home/devuser/.local/lib/python3.8/site-packages/docstring_inheritance/docstring_inheritors/bases/inheritor.py:329: DocstringInheritanceWarning: File /home/devuser/.local/lib/python3.8/site-packages/braindecode/models/eegconformer.py:88: in EEGConformer.__init__: section Parameters: the docstring for the argument 'pool_time_length' is missing.\n",
      "  self._warn(\n",
      "/home/devuser/.local/lib/python3.8/site-packages/docstring_inheritance/docstring_inheritors/bases/inheritor.py:329: DocstringInheritanceWarning: File /home/devuser/.local/lib/python3.8/site-packages/braindecode/models/eegconformer.py:88: in EEGConformer.__init__: section Parameters: the docstring for the argument 'pool_time_stride' is missing.\n",
      "  self._warn(\n",
      "/home/devuser/.local/lib/python3.8/site-packages/docstring_inheritance/docstring_inheritors/bases/inheritor.py:329: DocstringInheritanceWarning: File /home/devuser/.local/lib/python3.8/site-packages/braindecode/models/eegconformer.py:88: in EEGConformer.__init__: section Parameters: the docstring for the argument 'drop_prob' is missing.\n",
      "  self._warn(\n",
      "/home/devuser/.local/lib/python3.8/site-packages/docstring_inheritance/docstring_inheritors/bases/inheritor.py:329: DocstringInheritanceWarning: File /home/devuser/.local/lib/python3.8/site-packages/braindecode/models/eegconformer.py:88: in EEGConformer.__init__: section Parameters: the docstring for the argument 'att_depth' is missing.\n",
      "  self._warn(\n",
      "/home/devuser/.local/lib/python3.8/site-packages/docstring_inheritance/docstring_inheritors/bases/inheritor.py:329: DocstringInheritanceWarning: File /home/devuser/.local/lib/python3.8/site-packages/braindecode/models/eegconformer.py:88: in EEGConformer.__init__: section Parameters: the docstring for the argument 'att_heads' is missing.\n",
      "  self._warn(\n",
      "/home/devuser/.local/lib/python3.8/site-packages/docstring_inheritance/docstring_inheritors/bases/inheritor.py:329: DocstringInheritanceWarning: File /home/devuser/.local/lib/python3.8/site-packages/braindecode/models/eegconformer.py:88: in EEGConformer.__init__: section Parameters: the docstring for the argument 'att_drop_prob' is missing.\n",
      "  self._warn(\n",
      "/home/devuser/.local/lib/python3.8/site-packages/docstring_inheritance/docstring_inheritors/bases/inheritor.py:329: DocstringInheritanceWarning: File /home/devuser/.local/lib/python3.8/site-packages/braindecode/models/eegconformer.py:88: in EEGConformer.__init__: section Parameters: the docstring for the argument 'final_fc_length' is missing.\n",
      "  self._warn(\n",
      "/home/devuser/.local/lib/python3.8/site-packages/docstring_inheritance/docstring_inheritors/bases/inheritor.py:329: DocstringInheritanceWarning: File /home/devuser/.local/lib/python3.8/site-packages/braindecode/models/eegconformer.py:88: in EEGConformer.__init__: section Parameters: the docstring for the argument 'return_features' is missing.\n",
      "  self._warn(\n",
      "/home/devuser/.local/lib/python3.8/site-packages/docstring_inheritance/docstring_inheritors/bases/inheritor.py:329: DocstringInheritanceWarning: File /home/devuser/.local/lib/python3.8/site-packages/braindecode/models/eegconformer.py:88: in EEGConformer.__init__: section Parameters: the docstring for the argument 'n_times' is missing.\n",
      "  self._warn(\n",
      "/home/devuser/.local/lib/python3.8/site-packages/docstring_inheritance/docstring_inheritors/bases/inheritor.py:329: DocstringInheritanceWarning: File /home/devuser/.local/lib/python3.8/site-packages/braindecode/models/eegconformer.py:88: in EEGConformer.__init__: section Parameters: the docstring for the argument 'chs_info' is missing.\n",
      "  self._warn(\n",
      "/home/devuser/.local/lib/python3.8/site-packages/docstring_inheritance/docstring_inheritors/bases/inheritor.py:329: DocstringInheritanceWarning: File /home/devuser/.local/lib/python3.8/site-packages/braindecode/models/eegconformer.py:88: in EEGConformer.__init__: section Parameters: the docstring for the argument 'input_window_seconds' is missing.\n",
      "  self._warn(\n",
      "/home/devuser/.local/lib/python3.8/site-packages/docstring_inheritance/docstring_inheritors/bases/inheritor.py:329: DocstringInheritanceWarning: File /home/devuser/.local/lib/python3.8/site-packages/braindecode/models/eegconformer.py:88: in EEGConformer.__init__: section Parameters: the docstring for the argument 'sfreq' is missing.\n",
      "  self._warn(\n",
      "/home/devuser/.local/lib/python3.8/site-packages/docstring_inheritance/docstring_inheritors/bases/inheritor.py:329: DocstringInheritanceWarning: File /home/devuser/.local/lib/python3.8/site-packages/braindecode/models/eegconformer.py:88: in EEGConformer.__init__: section Parameters: the docstring for the argument 'n_classes' is missing.\n",
      "  self._warn(\n",
      "/home/devuser/.local/lib/python3.8/site-packages/docstring_inheritance/docstring_inheritors/bases/inheritor.py:329: DocstringInheritanceWarning: File /home/devuser/.local/lib/python3.8/site-packages/braindecode/models/eegconformer.py:88: in EEGConformer.__init__: section Parameters: the docstring for the argument 'n_channels' is missing.\n",
      "  self._warn(\n",
      "/home/devuser/.local/lib/python3.8/site-packages/docstring_inheritance/docstring_inheritors/bases/inheritor.py:329: DocstringInheritanceWarning: File /home/devuser/.local/lib/python3.8/site-packages/braindecode/models/eegconformer.py:88: in EEGConformer.__init__: section Parameters: the docstring for the argument 'input_window_samples' is missing.\n",
      "  self._warn(\n",
      "/home/devuser/.local/lib/python3.8/site-packages/docstring_inheritance/docstring_inheritors/bases/inheritor.py:329: DocstringInheritanceWarning: File /home/devuser/.local/lib/python3.8/site-packages/braindecode/models/eegconformer.py:88: in EEGConformer.__init__: section Parameters: the docstring for the argument 'add_log_softmax' is missing.\n",
      "  self._warn(\n",
      "/home/devuser/.local/lib/python3.8/site-packages/docstring_inheritance/docstring_inheritors/bases/inheritor.py:329: DocstringInheritanceWarning: File /home/devuser/.local/lib/python3.8/site-packages/braindecode/models/eegconformer.py:163: in EEGConformer.forward: section Parameters: the docstring for the argument 'x' is missing.\n",
      "  self._warn(\n",
      "/home/devuser/.local/lib/python3.8/site-packages/docstring_inheritance/docstring_inheritors/bases/inheritor.py:329: DocstringInheritanceWarning: File /home/devuser/.local/lib/python3.8/site-packages/braindecode/models/eegitnet.py:121: in EEGITNet.__init__: section Parameters: the docstring for the argument 'n_outputs' is missing.\n",
      "  self._warn(\n",
      "/home/devuser/.local/lib/python3.8/site-packages/docstring_inheritance/docstring_inheritors/bases/inheritor.py:329: DocstringInheritanceWarning: File /home/devuser/.local/lib/python3.8/site-packages/braindecode/models/eegitnet.py:121: in EEGITNet.__init__: section Parameters: the docstring for the argument 'n_chans' is missing.\n",
      "  self._warn(\n",
      "/home/devuser/.local/lib/python3.8/site-packages/docstring_inheritance/docstring_inheritors/bases/inheritor.py:329: DocstringInheritanceWarning: File /home/devuser/.local/lib/python3.8/site-packages/braindecode/models/eegitnet.py:121: in EEGITNet.__init__: section Parameters: the docstring for the argument 'n_times' is missing.\n",
      "  self._warn(\n",
      "/home/devuser/.local/lib/python3.8/site-packages/docstring_inheritance/docstring_inheritors/bases/inheritor.py:329: DocstringInheritanceWarning: File /home/devuser/.local/lib/python3.8/site-packages/braindecode/models/eegitnet.py:121: in EEGITNet.__init__: section Parameters: the docstring for the argument 'drop_prob' is missing.\n",
      "  self._warn(\n",
      "/home/devuser/.local/lib/python3.8/site-packages/docstring_inheritance/docstring_inheritors/bases/inheritor.py:329: DocstringInheritanceWarning: File /home/devuser/.local/lib/python3.8/site-packages/braindecode/models/eegitnet.py:121: in EEGITNet.__init__: section Parameters: the docstring for the argument 'chs_info' is missing.\n",
      "  self._warn(\n",
      "/home/devuser/.local/lib/python3.8/site-packages/docstring_inheritance/docstring_inheritors/bases/inheritor.py:329: DocstringInheritanceWarning: File /home/devuser/.local/lib/python3.8/site-packages/braindecode/models/eegitnet.py:121: in EEGITNet.__init__: section Parameters: the docstring for the argument 'input_window_seconds' is missing.\n",
      "  self._warn(\n",
      "/home/devuser/.local/lib/python3.8/site-packages/docstring_inheritance/docstring_inheritors/bases/inheritor.py:329: DocstringInheritanceWarning: File /home/devuser/.local/lib/python3.8/site-packages/braindecode/models/eegitnet.py:121: in EEGITNet.__init__: section Parameters: the docstring for the argument 'sfreq' is missing.\n",
      "  self._warn(\n",
      "/home/devuser/.local/lib/python3.8/site-packages/docstring_inheritance/docstring_inheritors/bases/inheritor.py:329: DocstringInheritanceWarning: File /home/devuser/.local/lib/python3.8/site-packages/braindecode/models/eegitnet.py:121: in EEGITNet.__init__: section Parameters: the docstring for the argument 'n_classes' is missing.\n",
      "  self._warn(\n",
      "/home/devuser/.local/lib/python3.8/site-packages/docstring_inheritance/docstring_inheritors/bases/inheritor.py:329: DocstringInheritanceWarning: File /home/devuser/.local/lib/python3.8/site-packages/braindecode/models/eegitnet.py:121: in EEGITNet.__init__: section Parameters: the docstring for the argument 'in_channels' is missing.\n",
      "  self._warn(\n",
      "/home/devuser/.local/lib/python3.8/site-packages/docstring_inheritance/docstring_inheritors/bases/inheritor.py:329: DocstringInheritanceWarning: File /home/devuser/.local/lib/python3.8/site-packages/braindecode/models/eegitnet.py:121: in EEGITNet.__init__: section Parameters: the docstring for the argument 'input_window_samples' is missing.\n",
      "  self._warn(\n",
      "/home/devuser/.local/lib/python3.8/site-packages/docstring_inheritance/docstring_inheritors/bases/inheritor.py:329: DocstringInheritanceWarning: File /home/devuser/.local/lib/python3.8/site-packages/braindecode/models/eegitnet.py:121: in EEGITNet.__init__: section Parameters: the docstring for the argument 'add_log_softmax' is missing.\n",
      "  self._warn(\n",
      "/home/devuser/.local/lib/python3.8/site-packages/docstring_inheritance/docstring_inheritors/bases/inheritor.py:329: DocstringInheritanceWarning: File /home/devuser/.local/lib/python3.8/site-packages/braindecode/models/deep4.py:89: in Deep4Net.__init__: section Parameters: the docstring for the argument 'n_chans' is missing.\n",
      "  self._warn(\n",
      "/home/devuser/.local/lib/python3.8/site-packages/docstring_inheritance/docstring_inheritors/bases/inheritor.py:329: DocstringInheritanceWarning: File /home/devuser/.local/lib/python3.8/site-packages/braindecode/models/deep4.py:89: in Deep4Net.__init__: section Parameters: the docstring for the argument 'n_outputs' is missing.\n",
      "  self._warn(\n",
      "/home/devuser/.local/lib/python3.8/site-packages/docstring_inheritance/docstring_inheritors/bases/inheritor.py:329: DocstringInheritanceWarning: File /home/devuser/.local/lib/python3.8/site-packages/braindecode/models/deep4.py:89: in Deep4Net.__init__: section Parameters: the docstring for the argument 'n_times' is missing.\n",
      "  self._warn(\n",
      "/home/devuser/.local/lib/python3.8/site-packages/docstring_inheritance/docstring_inheritors/bases/inheritor.py:329: DocstringInheritanceWarning: File /home/devuser/.local/lib/python3.8/site-packages/braindecode/models/deep4.py:89: in Deep4Net.__init__: section Parameters: the docstring for the argument 'final_conv_length' is missing.\n",
      "  self._warn(\n",
      "/home/devuser/.local/lib/python3.8/site-packages/docstring_inheritance/docstring_inheritors/bases/inheritor.py:329: DocstringInheritanceWarning: File /home/devuser/.local/lib/python3.8/site-packages/braindecode/models/deep4.py:89: in Deep4Net.__init__: section Parameters: the docstring for the argument 'n_filters_time' is missing.\n",
      "  self._warn(\n",
      "/home/devuser/.local/lib/python3.8/site-packages/docstring_inheritance/docstring_inheritors/bases/inheritor.py:329: DocstringInheritanceWarning: File /home/devuser/.local/lib/python3.8/site-packages/braindecode/models/deep4.py:89: in Deep4Net.__init__: section Parameters: the docstring for the argument 'n_filters_spat' is missing.\n",
      "  self._warn(\n",
      "/home/devuser/.local/lib/python3.8/site-packages/docstring_inheritance/docstring_inheritors/bases/inheritor.py:329: DocstringInheritanceWarning: File /home/devuser/.local/lib/python3.8/site-packages/braindecode/models/deep4.py:89: in Deep4Net.__init__: section Parameters: the docstring for the argument 'filter_time_length' is missing.\n",
      "  self._warn(\n",
      "/home/devuser/.local/lib/python3.8/site-packages/docstring_inheritance/docstring_inheritors/bases/inheritor.py:329: DocstringInheritanceWarning: File /home/devuser/.local/lib/python3.8/site-packages/braindecode/models/deep4.py:89: in Deep4Net.__init__: section Parameters: the docstring for the argument 'pool_time_length' is missing.\n",
      "  self._warn(\n",
      "/home/devuser/.local/lib/python3.8/site-packages/docstring_inheritance/docstring_inheritors/bases/inheritor.py:329: DocstringInheritanceWarning: File /home/devuser/.local/lib/python3.8/site-packages/braindecode/models/deep4.py:89: in Deep4Net.__init__: section Parameters: the docstring for the argument 'pool_time_stride' is missing.\n",
      "  self._warn(\n",
      "/home/devuser/.local/lib/python3.8/site-packages/docstring_inheritance/docstring_inheritors/bases/inheritor.py:329: DocstringInheritanceWarning: File /home/devuser/.local/lib/python3.8/site-packages/braindecode/models/deep4.py:89: in Deep4Net.__init__: section Parameters: the docstring for the argument 'n_filters_2' is missing.\n",
      "  self._warn(\n",
      "/home/devuser/.local/lib/python3.8/site-packages/docstring_inheritance/docstring_inheritors/bases/inheritor.py:329: DocstringInheritanceWarning: File /home/devuser/.local/lib/python3.8/site-packages/braindecode/models/deep4.py:89: in Deep4Net.__init__: section Parameters: the docstring for the argument 'filter_length_2' is missing.\n",
      "  self._warn(\n",
      "/home/devuser/.local/lib/python3.8/site-packages/docstring_inheritance/docstring_inheritors/bases/inheritor.py:329: DocstringInheritanceWarning: File /home/devuser/.local/lib/python3.8/site-packages/braindecode/models/deep4.py:89: in Deep4Net.__init__: section Parameters: the docstring for the argument 'n_filters_3' is missing.\n",
      "  self._warn(\n",
      "/home/devuser/.local/lib/python3.8/site-packages/docstring_inheritance/docstring_inheritors/bases/inheritor.py:329: DocstringInheritanceWarning: File /home/devuser/.local/lib/python3.8/site-packages/braindecode/models/deep4.py:89: in Deep4Net.__init__: section Parameters: the docstring for the argument 'filter_length_3' is missing.\n",
      "  self._warn(\n",
      "/home/devuser/.local/lib/python3.8/site-packages/docstring_inheritance/docstring_inheritors/bases/inheritor.py:329: DocstringInheritanceWarning: File /home/devuser/.local/lib/python3.8/site-packages/braindecode/models/deep4.py:89: in Deep4Net.__init__: section Parameters: the docstring for the argument 'n_filters_4' is missing.\n",
      "  self._warn(\n",
      "/home/devuser/.local/lib/python3.8/site-packages/docstring_inheritance/docstring_inheritors/bases/inheritor.py:329: DocstringInheritanceWarning: File /home/devuser/.local/lib/python3.8/site-packages/braindecode/models/deep4.py:89: in Deep4Net.__init__: section Parameters: the docstring for the argument 'filter_length_4' is missing.\n",
      "  self._warn(\n",
      "/home/devuser/.local/lib/python3.8/site-packages/docstring_inheritance/docstring_inheritors/bases/inheritor.py:329: DocstringInheritanceWarning: File /home/devuser/.local/lib/python3.8/site-packages/braindecode/models/deep4.py:89: in Deep4Net.__init__: section Parameters: the docstring for the argument 'first_conv_nonlin' is missing.\n",
      "  self._warn(\n",
      "/home/devuser/.local/lib/python3.8/site-packages/docstring_inheritance/docstring_inheritors/bases/inheritor.py:329: DocstringInheritanceWarning: File /home/devuser/.local/lib/python3.8/site-packages/braindecode/models/deep4.py:89: in Deep4Net.__init__: section Parameters: the docstring for the argument 'first_pool_mode' is missing.\n",
      "  self._warn(\n",
      "/home/devuser/.local/lib/python3.8/site-packages/docstring_inheritance/docstring_inheritors/bases/inheritor.py:329: DocstringInheritanceWarning: File /home/devuser/.local/lib/python3.8/site-packages/braindecode/models/deep4.py:89: in Deep4Net.__init__: section Parameters: the docstring for the argument 'first_pool_nonlin' is missing.\n",
      "  self._warn(\n",
      "/home/devuser/.local/lib/python3.8/site-packages/docstring_inheritance/docstring_inheritors/bases/inheritor.py:329: DocstringInheritanceWarning: File /home/devuser/.local/lib/python3.8/site-packages/braindecode/models/deep4.py:89: in Deep4Net.__init__: section Parameters: the docstring for the argument 'later_conv_nonlin' is missing.\n",
      "  self._warn(\n",
      "/home/devuser/.local/lib/python3.8/site-packages/docstring_inheritance/docstring_inheritors/bases/inheritor.py:329: DocstringInheritanceWarning: File /home/devuser/.local/lib/python3.8/site-packages/braindecode/models/deep4.py:89: in Deep4Net.__init__: section Parameters: the docstring for the argument 'later_pool_mode' is missing.\n",
      "  self._warn(\n",
      "/home/devuser/.local/lib/python3.8/site-packages/docstring_inheritance/docstring_inheritors/bases/inheritor.py:329: DocstringInheritanceWarning: File /home/devuser/.local/lib/python3.8/site-packages/braindecode/models/deep4.py:89: in Deep4Net.__init__: section Parameters: the docstring for the argument 'later_pool_nonlin' is missing.\n",
      "  self._warn(\n",
      "/home/devuser/.local/lib/python3.8/site-packages/docstring_inheritance/docstring_inheritors/bases/inheritor.py:329: DocstringInheritanceWarning: File /home/devuser/.local/lib/python3.8/site-packages/braindecode/models/deep4.py:89: in Deep4Net.__init__: section Parameters: the docstring for the argument 'drop_prob' is missing.\n",
      "  self._warn(\n",
      "/home/devuser/.local/lib/python3.8/site-packages/docstring_inheritance/docstring_inheritors/bases/inheritor.py:329: DocstringInheritanceWarning: File /home/devuser/.local/lib/python3.8/site-packages/braindecode/models/deep4.py:89: in Deep4Net.__init__: section Parameters: the docstring for the argument 'split_first_layer' is missing.\n",
      "  self._warn(\n",
      "/home/devuser/.local/lib/python3.8/site-packages/docstring_inheritance/docstring_inheritors/bases/inheritor.py:329: DocstringInheritanceWarning: File /home/devuser/.local/lib/python3.8/site-packages/braindecode/models/deep4.py:89: in Deep4Net.__init__: section Parameters: the docstring for the argument 'batch_norm' is missing.\n",
      "  self._warn(\n",
      "/home/devuser/.local/lib/python3.8/site-packages/docstring_inheritance/docstring_inheritors/bases/inheritor.py:329: DocstringInheritanceWarning: File /home/devuser/.local/lib/python3.8/site-packages/braindecode/models/deep4.py:89: in Deep4Net.__init__: section Parameters: the docstring for the argument 'batch_norm_alpha' is missing.\n",
      "  self._warn(\n",
      "/home/devuser/.local/lib/python3.8/site-packages/docstring_inheritance/docstring_inheritors/bases/inheritor.py:329: DocstringInheritanceWarning: File /home/devuser/.local/lib/python3.8/site-packages/braindecode/models/deep4.py:89: in Deep4Net.__init__: section Parameters: the docstring for the argument 'stride_before_pool' is missing.\n",
      "  self._warn(\n",
      "/home/devuser/.local/lib/python3.8/site-packages/docstring_inheritance/docstring_inheritors/bases/inheritor.py:329: DocstringInheritanceWarning: File /home/devuser/.local/lib/python3.8/site-packages/braindecode/models/deep4.py:89: in Deep4Net.__init__: section Parameters: the docstring for the argument 'chs_info' is missing.\n",
      "  self._warn(\n",
      "/home/devuser/.local/lib/python3.8/site-packages/docstring_inheritance/docstring_inheritors/bases/inheritor.py:329: DocstringInheritanceWarning: File /home/devuser/.local/lib/python3.8/site-packages/braindecode/models/deep4.py:89: in Deep4Net.__init__: section Parameters: the docstring for the argument 'input_window_seconds' is missing.\n",
      "  self._warn(\n",
      "/home/devuser/.local/lib/python3.8/site-packages/docstring_inheritance/docstring_inheritors/bases/inheritor.py:329: DocstringInheritanceWarning: File /home/devuser/.local/lib/python3.8/site-packages/braindecode/models/deep4.py:89: in Deep4Net.__init__: section Parameters: the docstring for the argument 'sfreq' is missing.\n",
      "  self._warn(\n",
      "/home/devuser/.local/lib/python3.8/site-packages/docstring_inheritance/docstring_inheritors/bases/inheritor.py:329: DocstringInheritanceWarning: File /home/devuser/.local/lib/python3.8/site-packages/braindecode/models/deep4.py:89: in Deep4Net.__init__: section Parameters: the docstring for the argument 'in_chans' is missing.\n",
      "  self._warn(\n",
      "/home/devuser/.local/lib/python3.8/site-packages/docstring_inheritance/docstring_inheritors/bases/inheritor.py:329: DocstringInheritanceWarning: File /home/devuser/.local/lib/python3.8/site-packages/braindecode/models/deep4.py:89: in Deep4Net.__init__: section Parameters: the docstring for the argument 'n_classes' is missing.\n",
      "  self._warn(\n",
      "/home/devuser/.local/lib/python3.8/site-packages/docstring_inheritance/docstring_inheritors/bases/inheritor.py:329: DocstringInheritanceWarning: File /home/devuser/.local/lib/python3.8/site-packages/braindecode/models/deep4.py:89: in Deep4Net.__init__: section Parameters: the docstring for the argument 'input_window_samples' is missing.\n",
      "  self._warn(\n",
      "/home/devuser/.local/lib/python3.8/site-packages/docstring_inheritance/docstring_inheritors/bases/inheritor.py:329: DocstringInheritanceWarning: File /home/devuser/.local/lib/python3.8/site-packages/braindecode/models/deep4.py:89: in Deep4Net.__init__: section Parameters: the docstring for the argument 'add_log_softmax' is missing.\n",
      "  self._warn(\n",
      "/home/devuser/.local/lib/python3.8/site-packages/docstring_inheritance/docstring_inheritors/bases/inheritor.py:329: DocstringInheritanceWarning: File /home/devuser/.local/lib/python3.8/site-packages/braindecode/models/deepsleepnet.py:190: in DeepSleepNet.__init__: section Parameters: the docstring for the argument 'n_outputs' is missing.\n",
      "  self._warn(\n",
      "/home/devuser/.local/lib/python3.8/site-packages/docstring_inheritance/docstring_inheritors/bases/inheritor.py:329: DocstringInheritanceWarning: File /home/devuser/.local/lib/python3.8/site-packages/braindecode/models/deepsleepnet.py:190: in DeepSleepNet.__init__: section Parameters: the docstring for the argument 'return_feats' is missing.\n",
      "  self._warn(\n",
      "/home/devuser/.local/lib/python3.8/site-packages/docstring_inheritance/docstring_inheritors/bases/inheritor.py:329: DocstringInheritanceWarning: File /home/devuser/.local/lib/python3.8/site-packages/braindecode/models/deepsleepnet.py:190: in DeepSleepNet.__init__: section Parameters: the docstring for the argument 'n_chans' is missing.\n",
      "  self._warn(\n",
      "/home/devuser/.local/lib/python3.8/site-packages/docstring_inheritance/docstring_inheritors/bases/inheritor.py:329: DocstringInheritanceWarning: File /home/devuser/.local/lib/python3.8/site-packages/braindecode/models/deepsleepnet.py:190: in DeepSleepNet.__init__: section Parameters: the docstring for the argument 'chs_info' is missing.\n",
      "  self._warn(\n",
      "/home/devuser/.local/lib/python3.8/site-packages/docstring_inheritance/docstring_inheritors/bases/inheritor.py:329: DocstringInheritanceWarning: File /home/devuser/.local/lib/python3.8/site-packages/braindecode/models/deepsleepnet.py:190: in DeepSleepNet.__init__: section Parameters: the docstring for the argument 'n_times' is missing.\n",
      "  self._warn(\n",
      "/home/devuser/.local/lib/python3.8/site-packages/docstring_inheritance/docstring_inheritors/bases/inheritor.py:329: DocstringInheritanceWarning: File /home/devuser/.local/lib/python3.8/site-packages/braindecode/models/deepsleepnet.py:190: in DeepSleepNet.__init__: section Parameters: the docstring for the argument 'input_window_seconds' is missing.\n",
      "  self._warn(\n",
      "/home/devuser/.local/lib/python3.8/site-packages/docstring_inheritance/docstring_inheritors/bases/inheritor.py:329: DocstringInheritanceWarning: File /home/devuser/.local/lib/python3.8/site-packages/braindecode/models/deepsleepnet.py:190: in DeepSleepNet.__init__: section Parameters: the docstring for the argument 'sfreq' is missing.\n",
      "  self._warn(\n",
      "/home/devuser/.local/lib/python3.8/site-packages/docstring_inheritance/docstring_inheritors/bases/inheritor.py:329: DocstringInheritanceWarning: File /home/devuser/.local/lib/python3.8/site-packages/braindecode/models/deepsleepnet.py:190: in DeepSleepNet.__init__: section Parameters: the docstring for the argument 'n_classes' is missing.\n",
      "  self._warn(\n",
      "/home/devuser/.local/lib/python3.8/site-packages/docstring_inheritance/docstring_inheritors/bases/inheritor.py:329: DocstringInheritanceWarning: File /home/devuser/.local/lib/python3.8/site-packages/braindecode/models/deepsleepnet.py:232: in DeepSleepNet.forward: section Parameters: the docstring for the argument 'x' is missing.\n",
      "  self._warn(\n",
      "/home/devuser/.local/lib/python3.8/site-packages/docstring_inheritance/docstring_inheritors/bases/inheritor.py:329: DocstringInheritanceWarning: File /home/devuser/.local/lib/python3.8/site-packages/braindecode/models/eegnet.py:57: in EEGNetv4.__init__: section Parameters: the docstring for the argument 'n_chans' is missing.\n",
      "  self._warn(\n",
      "/home/devuser/.local/lib/python3.8/site-packages/docstring_inheritance/docstring_inheritors/bases/inheritor.py:329: DocstringInheritanceWarning: File /home/devuser/.local/lib/python3.8/site-packages/braindecode/models/eegnet.py:57: in EEGNetv4.__init__: section Parameters: the docstring for the argument 'n_outputs' is missing.\n",
      "  self._warn(\n",
      "/home/devuser/.local/lib/python3.8/site-packages/docstring_inheritance/docstring_inheritors/bases/inheritor.py:329: DocstringInheritanceWarning: File /home/devuser/.local/lib/python3.8/site-packages/braindecode/models/eegnet.py:57: in EEGNetv4.__init__: section Parameters: the docstring for the argument 'n_times' is missing.\n",
      "  self._warn(\n",
      "/home/devuser/.local/lib/python3.8/site-packages/docstring_inheritance/docstring_inheritors/bases/inheritor.py:329: DocstringInheritanceWarning: File /home/devuser/.local/lib/python3.8/site-packages/braindecode/models/eegnet.py:57: in EEGNetv4.__init__: section Parameters: the docstring for the argument 'final_conv_length' is missing.\n",
      "  self._warn(\n",
      "/home/devuser/.local/lib/python3.8/site-packages/docstring_inheritance/docstring_inheritors/bases/inheritor.py:329: DocstringInheritanceWarning: File /home/devuser/.local/lib/python3.8/site-packages/braindecode/models/eegnet.py:57: in EEGNetv4.__init__: section Parameters: the docstring for the argument 'pool_mode' is missing.\n",
      "  self._warn(\n",
      "/home/devuser/.local/lib/python3.8/site-packages/docstring_inheritance/docstring_inheritors/bases/inheritor.py:329: DocstringInheritanceWarning: File /home/devuser/.local/lib/python3.8/site-packages/braindecode/models/eegnet.py:57: in EEGNetv4.__init__: section Parameters: the docstring for the argument 'F1' is missing.\n",
      "  self._warn(\n",
      "/home/devuser/.local/lib/python3.8/site-packages/docstring_inheritance/docstring_inheritors/bases/inheritor.py:329: DocstringInheritanceWarning: File /home/devuser/.local/lib/python3.8/site-packages/braindecode/models/eegnet.py:57: in EEGNetv4.__init__: section Parameters: the docstring for the argument 'D' is missing.\n",
      "  self._warn(\n",
      "/home/devuser/.local/lib/python3.8/site-packages/docstring_inheritance/docstring_inheritors/bases/inheritor.py:329: DocstringInheritanceWarning: File /home/devuser/.local/lib/python3.8/site-packages/braindecode/models/eegnet.py:57: in EEGNetv4.__init__: section Parameters: the docstring for the argument 'F2' is missing.\n",
      "  self._warn(\n",
      "/home/devuser/.local/lib/python3.8/site-packages/docstring_inheritance/docstring_inheritors/bases/inheritor.py:329: DocstringInheritanceWarning: File /home/devuser/.local/lib/python3.8/site-packages/braindecode/models/eegnet.py:57: in EEGNetv4.__init__: section Parameters: the docstring for the argument 'kernel_length' is missing.\n",
      "  self._warn(\n",
      "/home/devuser/.local/lib/python3.8/site-packages/docstring_inheritance/docstring_inheritors/bases/inheritor.py:329: DocstringInheritanceWarning: File /home/devuser/.local/lib/python3.8/site-packages/braindecode/models/eegnet.py:57: in EEGNetv4.__init__: section Parameters: the docstring for the argument 'third_kernel_size' is missing.\n",
      "  self._warn(\n",
      "/home/devuser/.local/lib/python3.8/site-packages/docstring_inheritance/docstring_inheritors/bases/inheritor.py:329: DocstringInheritanceWarning: File /home/devuser/.local/lib/python3.8/site-packages/braindecode/models/eegnet.py:57: in EEGNetv4.__init__: section Parameters: the docstring for the argument 'drop_prob' is missing.\n",
      "  self._warn(\n",
      "/home/devuser/.local/lib/python3.8/site-packages/docstring_inheritance/docstring_inheritors/bases/inheritor.py:329: DocstringInheritanceWarning: File /home/devuser/.local/lib/python3.8/site-packages/braindecode/models/eegnet.py:57: in EEGNetv4.__init__: section Parameters: the docstring for the argument 'chs_info' is missing.\n",
      "  self._warn(\n",
      "/home/devuser/.local/lib/python3.8/site-packages/docstring_inheritance/docstring_inheritors/bases/inheritor.py:329: DocstringInheritanceWarning: File /home/devuser/.local/lib/python3.8/site-packages/braindecode/models/eegnet.py:57: in EEGNetv4.__init__: section Parameters: the docstring for the argument 'input_window_seconds' is missing.\n",
      "  self._warn(\n",
      "/home/devuser/.local/lib/python3.8/site-packages/docstring_inheritance/docstring_inheritors/bases/inheritor.py:329: DocstringInheritanceWarning: File /home/devuser/.local/lib/python3.8/site-packages/braindecode/models/eegnet.py:57: in EEGNetv4.__init__: section Parameters: the docstring for the argument 'sfreq' is missing.\n",
      "  self._warn(\n",
      "/home/devuser/.local/lib/python3.8/site-packages/docstring_inheritance/docstring_inheritors/bases/inheritor.py:329: DocstringInheritanceWarning: File /home/devuser/.local/lib/python3.8/site-packages/braindecode/models/eegnet.py:57: in EEGNetv4.__init__: section Parameters: the docstring for the argument 'in_chans' is missing.\n",
      "  self._warn(\n",
      "/home/devuser/.local/lib/python3.8/site-packages/docstring_inheritance/docstring_inheritors/bases/inheritor.py:329: DocstringInheritanceWarning: File /home/devuser/.local/lib/python3.8/site-packages/braindecode/models/eegnet.py:57: in EEGNetv4.__init__: section Parameters: the docstring for the argument 'n_classes' is missing.\n",
      "  self._warn(\n",
      "/home/devuser/.local/lib/python3.8/site-packages/docstring_inheritance/docstring_inheritors/bases/inheritor.py:329: DocstringInheritanceWarning: File /home/devuser/.local/lib/python3.8/site-packages/braindecode/models/eegnet.py:57: in EEGNetv4.__init__: section Parameters: the docstring for the argument 'input_window_samples' is missing.\n",
      "  self._warn(\n",
      "/home/devuser/.local/lib/python3.8/site-packages/docstring_inheritance/docstring_inheritors/bases/inheritor.py:329: DocstringInheritanceWarning: File /home/devuser/.local/lib/python3.8/site-packages/braindecode/models/eegnet.py:245: in EEGNetv1.__init__: section Parameters: the docstring for the argument 'n_chans' is missing.\n",
      "  self._warn(\n",
      "/home/devuser/.local/lib/python3.8/site-packages/docstring_inheritance/docstring_inheritors/bases/inheritor.py:329: DocstringInheritanceWarning: File /home/devuser/.local/lib/python3.8/site-packages/braindecode/models/eegnet.py:245: in EEGNetv1.__init__: section Parameters: the docstring for the argument 'n_outputs' is missing.\n",
      "  self._warn(\n",
      "/home/devuser/.local/lib/python3.8/site-packages/docstring_inheritance/docstring_inheritors/bases/inheritor.py:329: DocstringInheritanceWarning: File /home/devuser/.local/lib/python3.8/site-packages/braindecode/models/eegnet.py:245: in EEGNetv1.__init__: section Parameters: the docstring for the argument 'n_times' is missing.\n",
      "  self._warn(\n",
      "/home/devuser/.local/lib/python3.8/site-packages/docstring_inheritance/docstring_inheritors/bases/inheritor.py:329: DocstringInheritanceWarning: File /home/devuser/.local/lib/python3.8/site-packages/braindecode/models/eegnet.py:245: in EEGNetv1.__init__: section Parameters: the docstring for the argument 'final_conv_length' is missing.\n",
      "  self._warn(\n",
      "/home/devuser/.local/lib/python3.8/site-packages/docstring_inheritance/docstring_inheritors/bases/inheritor.py:329: DocstringInheritanceWarning: File /home/devuser/.local/lib/python3.8/site-packages/braindecode/models/eegnet.py:245: in EEGNetv1.__init__: section Parameters: the docstring for the argument 'pool_mode' is missing.\n",
      "  self._warn(\n",
      "/home/devuser/.local/lib/python3.8/site-packages/docstring_inheritance/docstring_inheritors/bases/inheritor.py:329: DocstringInheritanceWarning: File /home/devuser/.local/lib/python3.8/site-packages/braindecode/models/eegnet.py:245: in EEGNetv1.__init__: section Parameters: the docstring for the argument 'second_kernel_size' is missing.\n",
      "  self._warn(\n",
      "/home/devuser/.local/lib/python3.8/site-packages/docstring_inheritance/docstring_inheritors/bases/inheritor.py:329: DocstringInheritanceWarning: File /home/devuser/.local/lib/python3.8/site-packages/braindecode/models/eegnet.py:245: in EEGNetv1.__init__: section Parameters: the docstring for the argument 'third_kernel_size' is missing.\n",
      "  self._warn(\n",
      "/home/devuser/.local/lib/python3.8/site-packages/docstring_inheritance/docstring_inheritors/bases/inheritor.py:329: DocstringInheritanceWarning: File /home/devuser/.local/lib/python3.8/site-packages/braindecode/models/eegnet.py:245: in EEGNetv1.__init__: section Parameters: the docstring for the argument 'drop_prob' is missing.\n",
      "  self._warn(\n",
      "/home/devuser/.local/lib/python3.8/site-packages/docstring_inheritance/docstring_inheritors/bases/inheritor.py:329: DocstringInheritanceWarning: File /home/devuser/.local/lib/python3.8/site-packages/braindecode/models/eegnet.py:245: in EEGNetv1.__init__: section Parameters: the docstring for the argument 'chs_info' is missing.\n",
      "  self._warn(\n",
      "/home/devuser/.local/lib/python3.8/site-packages/docstring_inheritance/docstring_inheritors/bases/inheritor.py:329: DocstringInheritanceWarning: File /home/devuser/.local/lib/python3.8/site-packages/braindecode/models/eegnet.py:245: in EEGNetv1.__init__: section Parameters: the docstring for the argument 'input_window_seconds' is missing.\n",
      "  self._warn(\n",
      "/home/devuser/.local/lib/python3.8/site-packages/docstring_inheritance/docstring_inheritors/bases/inheritor.py:329: DocstringInheritanceWarning: File /home/devuser/.local/lib/python3.8/site-packages/braindecode/models/eegnet.py:245: in EEGNetv1.__init__: section Parameters: the docstring for the argument 'sfreq' is missing.\n",
      "  self._warn(\n",
      "/home/devuser/.local/lib/python3.8/site-packages/docstring_inheritance/docstring_inheritors/bases/inheritor.py:329: DocstringInheritanceWarning: File /home/devuser/.local/lib/python3.8/site-packages/braindecode/models/eegnet.py:245: in EEGNetv1.__init__: section Parameters: the docstring for the argument 'in_chans' is missing.\n",
      "  self._warn(\n",
      "/home/devuser/.local/lib/python3.8/site-packages/docstring_inheritance/docstring_inheritors/bases/inheritor.py:329: DocstringInheritanceWarning: File /home/devuser/.local/lib/python3.8/site-packages/braindecode/models/eegnet.py:245: in EEGNetv1.__init__: section Parameters: the docstring for the argument 'n_classes' is missing.\n",
      "  self._warn(\n",
      "/home/devuser/.local/lib/python3.8/site-packages/docstring_inheritance/docstring_inheritors/bases/inheritor.py:329: DocstringInheritanceWarning: File /home/devuser/.local/lib/python3.8/site-packages/braindecode/models/eegnet.py:245: in EEGNetv1.__init__: section Parameters: the docstring for the argument 'input_window_samples' is missing.\n",
      "  self._warn(\n",
      "/home/devuser/.local/lib/python3.8/site-packages/docstring_inheritance/docstring_inheritors/bases/inheritor.py:329: DocstringInheritanceWarning: File /home/devuser/.local/lib/python3.8/site-packages/braindecode/models/eegnet.py:245: in EEGNetv1.__init__: section Parameters: the docstring for the argument 'add_log_softmax' is missing.\n",
      "  self._warn(\n",
      "/home/devuser/.local/lib/python3.8/site-packages/docstring_inheritance/docstring_inheritors/bases/inheritor.py:329: DocstringInheritanceWarning: File /home/devuser/.local/lib/python3.8/site-packages/braindecode/models/shallow_fbcsp.py:67: in ShallowFBCSPNet.__init__: section Parameters: the docstring for the argument 'n_chans' is missing.\n",
      "  self._warn(\n",
      "/home/devuser/.local/lib/python3.8/site-packages/docstring_inheritance/docstring_inheritors/bases/inheritor.py:329: DocstringInheritanceWarning: File /home/devuser/.local/lib/python3.8/site-packages/braindecode/models/shallow_fbcsp.py:67: in ShallowFBCSPNet.__init__: section Parameters: the docstring for the argument 'n_outputs' is missing.\n",
      "  self._warn(\n",
      "/home/devuser/.local/lib/python3.8/site-packages/docstring_inheritance/docstring_inheritors/bases/inheritor.py:329: DocstringInheritanceWarning: File /home/devuser/.local/lib/python3.8/site-packages/braindecode/models/shallow_fbcsp.py:67: in ShallowFBCSPNet.__init__: section Parameters: the docstring for the argument 'n_times' is missing.\n",
      "  self._warn(\n",
      "/home/devuser/.local/lib/python3.8/site-packages/docstring_inheritance/docstring_inheritors/bases/inheritor.py:329: DocstringInheritanceWarning: File /home/devuser/.local/lib/python3.8/site-packages/braindecode/models/shallow_fbcsp.py:67: in ShallowFBCSPNet.__init__: section Parameters: the docstring for the argument 'n_filters_time' is missing.\n",
      "  self._warn(\n",
      "/home/devuser/.local/lib/python3.8/site-packages/docstring_inheritance/docstring_inheritors/bases/inheritor.py:329: DocstringInheritanceWarning: File /home/devuser/.local/lib/python3.8/site-packages/braindecode/models/shallow_fbcsp.py:67: in ShallowFBCSPNet.__init__: section Parameters: the docstring for the argument 'filter_time_length' is missing.\n",
      "  self._warn(\n",
      "/home/devuser/.local/lib/python3.8/site-packages/docstring_inheritance/docstring_inheritors/bases/inheritor.py:329: DocstringInheritanceWarning: File /home/devuser/.local/lib/python3.8/site-packages/braindecode/models/shallow_fbcsp.py:67: in ShallowFBCSPNet.__init__: section Parameters: the docstring for the argument 'n_filters_spat' is missing.\n",
      "  self._warn(\n",
      "/home/devuser/.local/lib/python3.8/site-packages/docstring_inheritance/docstring_inheritors/bases/inheritor.py:329: DocstringInheritanceWarning: File /home/devuser/.local/lib/python3.8/site-packages/braindecode/models/shallow_fbcsp.py:67: in ShallowFBCSPNet.__init__: section Parameters: the docstring for the argument 'pool_time_length' is missing.\n",
      "  self._warn(\n",
      "/home/devuser/.local/lib/python3.8/site-packages/docstring_inheritance/docstring_inheritors/bases/inheritor.py:329: DocstringInheritanceWarning: File /home/devuser/.local/lib/python3.8/site-packages/braindecode/models/shallow_fbcsp.py:67: in ShallowFBCSPNet.__init__: section Parameters: the docstring for the argument 'pool_time_stride' is missing.\n",
      "  self._warn(\n",
      "/home/devuser/.local/lib/python3.8/site-packages/docstring_inheritance/docstring_inheritors/bases/inheritor.py:329: DocstringInheritanceWarning: File /home/devuser/.local/lib/python3.8/site-packages/braindecode/models/shallow_fbcsp.py:67: in ShallowFBCSPNet.__init__: section Parameters: the docstring for the argument 'final_conv_length' is missing.\n",
      "  self._warn(\n",
      "/home/devuser/.local/lib/python3.8/site-packages/docstring_inheritance/docstring_inheritors/bases/inheritor.py:329: DocstringInheritanceWarning: File /home/devuser/.local/lib/python3.8/site-packages/braindecode/models/shallow_fbcsp.py:67: in ShallowFBCSPNet.__init__: section Parameters: the docstring for the argument 'conv_nonlin' is missing.\n",
      "  self._warn(\n",
      "/home/devuser/.local/lib/python3.8/site-packages/docstring_inheritance/docstring_inheritors/bases/inheritor.py:329: DocstringInheritanceWarning: File /home/devuser/.local/lib/python3.8/site-packages/braindecode/models/shallow_fbcsp.py:67: in ShallowFBCSPNet.__init__: section Parameters: the docstring for the argument 'pool_mode' is missing.\n",
      "  self._warn(\n",
      "/home/devuser/.local/lib/python3.8/site-packages/docstring_inheritance/docstring_inheritors/bases/inheritor.py:329: DocstringInheritanceWarning: File /home/devuser/.local/lib/python3.8/site-packages/braindecode/models/shallow_fbcsp.py:67: in ShallowFBCSPNet.__init__: section Parameters: the docstring for the argument 'pool_nonlin' is missing.\n",
      "  self._warn(\n",
      "/home/devuser/.local/lib/python3.8/site-packages/docstring_inheritance/docstring_inheritors/bases/inheritor.py:329: DocstringInheritanceWarning: File /home/devuser/.local/lib/python3.8/site-packages/braindecode/models/shallow_fbcsp.py:67: in ShallowFBCSPNet.__init__: section Parameters: the docstring for the argument 'split_first_layer' is missing.\n",
      "  self._warn(\n",
      "/home/devuser/.local/lib/python3.8/site-packages/docstring_inheritance/docstring_inheritors/bases/inheritor.py:329: DocstringInheritanceWarning: File /home/devuser/.local/lib/python3.8/site-packages/braindecode/models/shallow_fbcsp.py:67: in ShallowFBCSPNet.__init__: section Parameters: the docstring for the argument 'batch_norm' is missing.\n",
      "  self._warn(\n",
      "/home/devuser/.local/lib/python3.8/site-packages/docstring_inheritance/docstring_inheritors/bases/inheritor.py:329: DocstringInheritanceWarning: File /home/devuser/.local/lib/python3.8/site-packages/braindecode/models/shallow_fbcsp.py:67: in ShallowFBCSPNet.__init__: section Parameters: the docstring for the argument 'batch_norm_alpha' is missing.\n",
      "  self._warn(\n",
      "/home/devuser/.local/lib/python3.8/site-packages/docstring_inheritance/docstring_inheritors/bases/inheritor.py:329: DocstringInheritanceWarning: File /home/devuser/.local/lib/python3.8/site-packages/braindecode/models/shallow_fbcsp.py:67: in ShallowFBCSPNet.__init__: section Parameters: the docstring for the argument 'drop_prob' is missing.\n",
      "  self._warn(\n",
      "/home/devuser/.local/lib/python3.8/site-packages/docstring_inheritance/docstring_inheritors/bases/inheritor.py:329: DocstringInheritanceWarning: File /home/devuser/.local/lib/python3.8/site-packages/braindecode/models/shallow_fbcsp.py:67: in ShallowFBCSPNet.__init__: section Parameters: the docstring for the argument 'chs_info' is missing.\n",
      "  self._warn(\n",
      "/home/devuser/.local/lib/python3.8/site-packages/docstring_inheritance/docstring_inheritors/bases/inheritor.py:329: DocstringInheritanceWarning: File /home/devuser/.local/lib/python3.8/site-packages/braindecode/models/shallow_fbcsp.py:67: in ShallowFBCSPNet.__init__: section Parameters: the docstring for the argument 'input_window_seconds' is missing.\n",
      "  self._warn(\n",
      "/home/devuser/.local/lib/python3.8/site-packages/docstring_inheritance/docstring_inheritors/bases/inheritor.py:329: DocstringInheritanceWarning: File /home/devuser/.local/lib/python3.8/site-packages/braindecode/models/shallow_fbcsp.py:67: in ShallowFBCSPNet.__init__: section Parameters: the docstring for the argument 'sfreq' is missing.\n",
      "  self._warn(\n",
      "/home/devuser/.local/lib/python3.8/site-packages/docstring_inheritance/docstring_inheritors/bases/inheritor.py:329: DocstringInheritanceWarning: File /home/devuser/.local/lib/python3.8/site-packages/braindecode/models/shallow_fbcsp.py:67: in ShallowFBCSPNet.__init__: section Parameters: the docstring for the argument 'in_chans' is missing.\n",
      "  self._warn(\n",
      "/home/devuser/.local/lib/python3.8/site-packages/docstring_inheritance/docstring_inheritors/bases/inheritor.py:329: DocstringInheritanceWarning: File /home/devuser/.local/lib/python3.8/site-packages/braindecode/models/shallow_fbcsp.py:67: in ShallowFBCSPNet.__init__: section Parameters: the docstring for the argument 'n_classes' is missing.\n",
      "  self._warn(\n",
      "/home/devuser/.local/lib/python3.8/site-packages/docstring_inheritance/docstring_inheritors/bases/inheritor.py:329: DocstringInheritanceWarning: File /home/devuser/.local/lib/python3.8/site-packages/braindecode/models/shallow_fbcsp.py:67: in ShallowFBCSPNet.__init__: section Parameters: the docstring for the argument 'input_window_samples' is missing.\n",
      "  self._warn(\n",
      "/home/devuser/.local/lib/python3.8/site-packages/docstring_inheritance/docstring_inheritors/bases/inheritor.py:329: DocstringInheritanceWarning: File /home/devuser/.local/lib/python3.8/site-packages/braindecode/models/shallow_fbcsp.py:67: in ShallowFBCSPNet.__init__: section Parameters: the docstring for the argument 'add_log_softmax' is missing.\n",
      "  self._warn(\n",
      "/home/devuser/.local/lib/python3.8/site-packages/docstring_inheritance/docstring_inheritors/bases/inheritor.py:329: DocstringInheritanceWarning: File /home/devuser/.local/lib/python3.8/site-packages/braindecode/models/hybrid.py:31: in HybridNet.__init__: section Parameters: the docstring for the argument 'n_chans' is missing.\n",
      "  self._warn(\n",
      "/home/devuser/.local/lib/python3.8/site-packages/docstring_inheritance/docstring_inheritors/bases/inheritor.py:329: DocstringInheritanceWarning: File /home/devuser/.local/lib/python3.8/site-packages/braindecode/models/hybrid.py:31: in HybridNet.__init__: section Parameters: the docstring for the argument 'n_outputs' is missing.\n",
      "  self._warn(\n",
      "/home/devuser/.local/lib/python3.8/site-packages/docstring_inheritance/docstring_inheritors/bases/inheritor.py:329: DocstringInheritanceWarning: File /home/devuser/.local/lib/python3.8/site-packages/braindecode/models/hybrid.py:31: in HybridNet.__init__: section Parameters: the docstring for the argument 'n_times' is missing.\n",
      "  self._warn(\n",
      "/home/devuser/.local/lib/python3.8/site-packages/docstring_inheritance/docstring_inheritors/bases/inheritor.py:329: DocstringInheritanceWarning: File /home/devuser/.local/lib/python3.8/site-packages/braindecode/models/hybrid.py:31: in HybridNet.__init__: section Parameters: the docstring for the argument 'in_chans' is missing.\n",
      "  self._warn(\n",
      "/home/devuser/.local/lib/python3.8/site-packages/docstring_inheritance/docstring_inheritors/bases/inheritor.py:329: DocstringInheritanceWarning: File /home/devuser/.local/lib/python3.8/site-packages/braindecode/models/hybrid.py:31: in HybridNet.__init__: section Parameters: the docstring for the argument 'n_classes' is missing.\n",
      "  self._warn(\n",
      "/home/devuser/.local/lib/python3.8/site-packages/docstring_inheritance/docstring_inheritors/bases/inheritor.py:329: DocstringInheritanceWarning: File /home/devuser/.local/lib/python3.8/site-packages/braindecode/models/hybrid.py:31: in HybridNet.__init__: section Parameters: the docstring for the argument 'input_window_samples' is missing.\n",
      "  self._warn(\n",
      "/home/devuser/.local/lib/python3.8/site-packages/docstring_inheritance/docstring_inheritors/bases/inheritor.py:329: DocstringInheritanceWarning: File /home/devuser/.local/lib/python3.8/site-packages/braindecode/models/hybrid.py:31: in HybridNet.__init__: section Parameters: the docstring for the argument 'add_log_softmax' is missing.\n",
      "  self._warn(\n",
      "/home/devuser/.local/lib/python3.8/site-packages/docstring_inheritance/docstring_inheritors/bases/inheritor.py:329: DocstringInheritanceWarning: File /home/devuser/.local/lib/python3.8/site-packages/braindecode/models/hybrid.py:117: in HybridNet.forward: section Parameters: the docstring for the argument 'x' is missing.\n",
      "  self._warn(\n",
      "/home/devuser/.local/lib/python3.8/site-packages/docstring_inheritance/docstring_inheritors/bases/inheritor.py:329: DocstringInheritanceWarning: File /home/devuser/.local/lib/python3.8/site-packages/braindecode/models/eegresnet.py:35: in EEGResNet.__init__: section Parameters: the docstring for the argument 'n_chans' is missing.\n",
      "  self._warn(\n",
      "/home/devuser/.local/lib/python3.8/site-packages/docstring_inheritance/docstring_inheritors/bases/inheritor.py:329: DocstringInheritanceWarning: File /home/devuser/.local/lib/python3.8/site-packages/braindecode/models/eegresnet.py:35: in EEGResNet.__init__: section Parameters: the docstring for the argument 'n_outputs' is missing.\n",
      "  self._warn(\n",
      "/home/devuser/.local/lib/python3.8/site-packages/docstring_inheritance/docstring_inheritors/bases/inheritor.py:329: DocstringInheritanceWarning: File /home/devuser/.local/lib/python3.8/site-packages/braindecode/models/eegresnet.py:35: in EEGResNet.__init__: section Parameters: the docstring for the argument 'n_times' is missing.\n",
      "  self._warn(\n",
      "/home/devuser/.local/lib/python3.8/site-packages/docstring_inheritance/docstring_inheritors/bases/inheritor.py:329: DocstringInheritanceWarning: File /home/devuser/.local/lib/python3.8/site-packages/braindecode/models/eegresnet.py:35: in EEGResNet.__init__: section Parameters: the docstring for the argument 'final_pool_length' is missing.\n",
      "  self._warn(\n",
      "/home/devuser/.local/lib/python3.8/site-packages/docstring_inheritance/docstring_inheritors/bases/inheritor.py:329: DocstringInheritanceWarning: File /home/devuser/.local/lib/python3.8/site-packages/braindecode/models/eegresnet.py:35: in EEGResNet.__init__: section Parameters: the docstring for the argument 'n_first_filters' is missing.\n",
      "  self._warn(\n",
      "/home/devuser/.local/lib/python3.8/site-packages/docstring_inheritance/docstring_inheritors/bases/inheritor.py:329: DocstringInheritanceWarning: File /home/devuser/.local/lib/python3.8/site-packages/braindecode/models/eegresnet.py:35: in EEGResNet.__init__: section Parameters: the docstring for the argument 'n_layers_per_block' is missing.\n",
      "  self._warn(\n",
      "/home/devuser/.local/lib/python3.8/site-packages/docstring_inheritance/docstring_inheritors/bases/inheritor.py:329: DocstringInheritanceWarning: File /home/devuser/.local/lib/python3.8/site-packages/braindecode/models/eegresnet.py:35: in EEGResNet.__init__: section Parameters: the docstring for the argument 'first_filter_length' is missing.\n",
      "  self._warn(\n",
      "/home/devuser/.local/lib/python3.8/site-packages/docstring_inheritance/docstring_inheritors/bases/inheritor.py:329: DocstringInheritanceWarning: File /home/devuser/.local/lib/python3.8/site-packages/braindecode/models/eegresnet.py:35: in EEGResNet.__init__: section Parameters: the docstring for the argument 'nonlinearity' is missing.\n",
      "  self._warn(\n",
      "/home/devuser/.local/lib/python3.8/site-packages/docstring_inheritance/docstring_inheritors/bases/inheritor.py:329: DocstringInheritanceWarning: File /home/devuser/.local/lib/python3.8/site-packages/braindecode/models/eegresnet.py:35: in EEGResNet.__init__: section Parameters: the docstring for the argument 'split_first_layer' is missing.\n",
      "  self._warn(\n",
      "/home/devuser/.local/lib/python3.8/site-packages/docstring_inheritance/docstring_inheritors/bases/inheritor.py:329: DocstringInheritanceWarning: File /home/devuser/.local/lib/python3.8/site-packages/braindecode/models/eegresnet.py:35: in EEGResNet.__init__: section Parameters: the docstring for the argument 'batch_norm_alpha' is missing.\n",
      "  self._warn(\n",
      "/home/devuser/.local/lib/python3.8/site-packages/docstring_inheritance/docstring_inheritors/bases/inheritor.py:329: DocstringInheritanceWarning: File /home/devuser/.local/lib/python3.8/site-packages/braindecode/models/eegresnet.py:35: in EEGResNet.__init__: section Parameters: the docstring for the argument 'batch_norm_epsilon' is missing.\n",
      "  self._warn(\n",
      "/home/devuser/.local/lib/python3.8/site-packages/docstring_inheritance/docstring_inheritors/bases/inheritor.py:329: DocstringInheritanceWarning: File /home/devuser/.local/lib/python3.8/site-packages/braindecode/models/eegresnet.py:35: in EEGResNet.__init__: section Parameters: the docstring for the argument 'conv_weight_init_fn' is missing.\n",
      "  self._warn(\n",
      "/home/devuser/.local/lib/python3.8/site-packages/docstring_inheritance/docstring_inheritors/bases/inheritor.py:329: DocstringInheritanceWarning: File /home/devuser/.local/lib/python3.8/site-packages/braindecode/models/eegresnet.py:35: in EEGResNet.__init__: section Parameters: the docstring for the argument 'chs_info' is missing.\n",
      "  self._warn(\n",
      "/home/devuser/.local/lib/python3.8/site-packages/docstring_inheritance/docstring_inheritors/bases/inheritor.py:329: DocstringInheritanceWarning: File /home/devuser/.local/lib/python3.8/site-packages/braindecode/models/eegresnet.py:35: in EEGResNet.__init__: section Parameters: the docstring for the argument 'input_window_seconds' is missing.\n",
      "  self._warn(\n",
      "/home/devuser/.local/lib/python3.8/site-packages/docstring_inheritance/docstring_inheritors/bases/inheritor.py:329: DocstringInheritanceWarning: File /home/devuser/.local/lib/python3.8/site-packages/braindecode/models/eegresnet.py:35: in EEGResNet.__init__: section Parameters: the docstring for the argument 'sfreq' is missing.\n",
      "  self._warn(\n",
      "/home/devuser/.local/lib/python3.8/site-packages/docstring_inheritance/docstring_inheritors/bases/inheritor.py:329: DocstringInheritanceWarning: File /home/devuser/.local/lib/python3.8/site-packages/braindecode/models/eegresnet.py:35: in EEGResNet.__init__: section Parameters: the docstring for the argument 'in_chans' is missing.\n",
      "  self._warn(\n",
      "/home/devuser/.local/lib/python3.8/site-packages/docstring_inheritance/docstring_inheritors/bases/inheritor.py:329: DocstringInheritanceWarning: File /home/devuser/.local/lib/python3.8/site-packages/braindecode/models/eegresnet.py:35: in EEGResNet.__init__: section Parameters: the docstring for the argument 'n_classes' is missing.\n",
      "  self._warn(\n",
      "/home/devuser/.local/lib/python3.8/site-packages/docstring_inheritance/docstring_inheritors/bases/inheritor.py:329: DocstringInheritanceWarning: File /home/devuser/.local/lib/python3.8/site-packages/braindecode/models/eegresnet.py:35: in EEGResNet.__init__: section Parameters: the docstring for the argument 'input_window_samples' is missing.\n",
      "  self._warn(\n",
      "/home/devuser/.local/lib/python3.8/site-packages/docstring_inheritance/docstring_inheritors/bases/inheritor.py:329: DocstringInheritanceWarning: File /home/devuser/.local/lib/python3.8/site-packages/braindecode/models/eegresnet.py:35: in EEGResNet.__init__: section Parameters: the docstring for the argument 'add_log_softmax' is missing.\n",
      "  self._warn(\n",
      "/home/devuser/.local/lib/python3.8/site-packages/docstring_inheritance/docstring_inheritors/bases/inheritor.py:329: DocstringInheritanceWarning: File /home/devuser/.local/lib/python3.8/site-packages/braindecode/models/eeginception.py:93: in EEGInception.__init__: section Parameters: the docstring for the argument 'n_chans' is missing.\n",
      "  self._warn(\n",
      "/home/devuser/.local/lib/python3.8/site-packages/docstring_inheritance/docstring_inheritors/bases/inheritor.py:329: DocstringInheritanceWarning: File /home/devuser/.local/lib/python3.8/site-packages/braindecode/models/eeginception.py:93: in EEGInception.__init__: section Parameters: the docstring for the argument 'n_outputs' is missing.\n",
      "  self._warn(\n",
      "/home/devuser/.local/lib/python3.8/site-packages/docstring_inheritance/docstring_inheritors/bases/inheritor.py:329: DocstringInheritanceWarning: File /home/devuser/.local/lib/python3.8/site-packages/braindecode/models/eeginception.py:93: in EEGInception.__init__: section Parameters: the docstring for the argument 'n_times' is missing.\n",
      "  self._warn(\n",
      "/home/devuser/.local/lib/python3.8/site-packages/docstring_inheritance/docstring_inheritors/bases/inheritor.py:329: DocstringInheritanceWarning: File /home/devuser/.local/lib/python3.8/site-packages/braindecode/models/eeginception.py:93: in EEGInception.__init__: section Parameters: the docstring for the argument 'sfreq' is missing.\n",
      "  self._warn(\n",
      "/home/devuser/.local/lib/python3.8/site-packages/docstring_inheritance/docstring_inheritors/bases/inheritor.py:329: DocstringInheritanceWarning: File /home/devuser/.local/lib/python3.8/site-packages/braindecode/models/eeginception.py:93: in EEGInception.__init__: section Parameters: the docstring for the argument 'drop_prob' is missing.\n",
      "  self._warn(\n",
      "/home/devuser/.local/lib/python3.8/site-packages/docstring_inheritance/docstring_inheritors/bases/inheritor.py:329: DocstringInheritanceWarning: File /home/devuser/.local/lib/python3.8/site-packages/braindecode/models/eeginception.py:93: in EEGInception.__init__: section Parameters: the docstring for the argument 'scales_samples_s' is missing.\n",
      "  self._warn(\n",
      "/home/devuser/.local/lib/python3.8/site-packages/docstring_inheritance/docstring_inheritors/bases/inheritor.py:329: DocstringInheritanceWarning: File /home/devuser/.local/lib/python3.8/site-packages/braindecode/models/eeginception.py:93: in EEGInception.__init__: section Parameters: the docstring for the argument 'n_filters' is missing.\n",
      "  self._warn(\n",
      "/home/devuser/.local/lib/python3.8/site-packages/docstring_inheritance/docstring_inheritors/bases/inheritor.py:329: DocstringInheritanceWarning: File /home/devuser/.local/lib/python3.8/site-packages/braindecode/models/eeginception.py:93: in EEGInception.__init__: section Parameters: the docstring for the argument 'activation' is missing.\n",
      "  self._warn(\n",
      "/home/devuser/.local/lib/python3.8/site-packages/docstring_inheritance/docstring_inheritors/bases/inheritor.py:329: DocstringInheritanceWarning: File /home/devuser/.local/lib/python3.8/site-packages/braindecode/models/eeginception.py:93: in EEGInception.__init__: section Parameters: the docstring for the argument 'batch_norm_alpha' is missing.\n",
      "  self._warn(\n",
      "/home/devuser/.local/lib/python3.8/site-packages/docstring_inheritance/docstring_inheritors/bases/inheritor.py:329: DocstringInheritanceWarning: File /home/devuser/.local/lib/python3.8/site-packages/braindecode/models/eeginception.py:93: in EEGInception.__init__: section Parameters: the docstring for the argument 'depth_multiplier' is missing.\n",
      "  self._warn(\n",
      "/home/devuser/.local/lib/python3.8/site-packages/docstring_inheritance/docstring_inheritors/bases/inheritor.py:329: DocstringInheritanceWarning: File /home/devuser/.local/lib/python3.8/site-packages/braindecode/models/eeginception.py:93: in EEGInception.__init__: section Parameters: the docstring for the argument 'pooling_sizes' is missing.\n",
      "  self._warn(\n",
      "/home/devuser/.local/lib/python3.8/site-packages/docstring_inheritance/docstring_inheritors/bases/inheritor.py:329: DocstringInheritanceWarning: File /home/devuser/.local/lib/python3.8/site-packages/braindecode/models/eeginception.py:93: in EEGInception.__init__: section Parameters: the docstring for the argument 'chs_info' is missing.\n",
      "  self._warn(\n",
      "/home/devuser/.local/lib/python3.8/site-packages/docstring_inheritance/docstring_inheritors/bases/inheritor.py:329: DocstringInheritanceWarning: File /home/devuser/.local/lib/python3.8/site-packages/braindecode/models/eeginception.py:93: in EEGInception.__init__: section Parameters: the docstring for the argument 'input_window_seconds' is missing.\n",
      "  self._warn(\n",
      "/home/devuser/.local/lib/python3.8/site-packages/docstring_inheritance/docstring_inheritors/bases/inheritor.py:329: DocstringInheritanceWarning: File /home/devuser/.local/lib/python3.8/site-packages/braindecode/models/eeginception.py:93: in EEGInception.__init__: section Parameters: the docstring for the argument 'in_channels' is missing.\n",
      "  self._warn(\n",
      "/home/devuser/.local/lib/python3.8/site-packages/docstring_inheritance/docstring_inheritors/bases/inheritor.py:329: DocstringInheritanceWarning: File /home/devuser/.local/lib/python3.8/site-packages/braindecode/models/eeginception.py:93: in EEGInception.__init__: section Parameters: the docstring for the argument 'n_classes' is missing.\n",
      "  self._warn(\n",
      "/home/devuser/.local/lib/python3.8/site-packages/docstring_inheritance/docstring_inheritors/bases/inheritor.py:329: DocstringInheritanceWarning: File /home/devuser/.local/lib/python3.8/site-packages/braindecode/models/eeginception.py:93: in EEGInception.__init__: section Parameters: the docstring for the argument 'input_window_samples' is missing.\n",
      "  self._warn(\n",
      "/home/devuser/.local/lib/python3.8/site-packages/docstring_inheritance/docstring_inheritors/bases/inheritor.py:329: DocstringInheritanceWarning: File /home/devuser/.local/lib/python3.8/site-packages/braindecode/models/eeginception.py:93: in EEGInception.__init__: section Parameters: the docstring for the argument 'add_log_softmax' is missing.\n",
      "  self._warn(\n",
      "/home/devuser/.local/lib/python3.8/site-packages/docstring_inheritance/docstring_inheritors/bases/inheritor.py:329: DocstringInheritanceWarning: File /home/devuser/.local/lib/python3.8/site-packages/braindecode/models/eeginception_erp.py:96: in EEGInceptionERP.__init__: section Parameters: the docstring for the argument 'n_chans' is missing.\n",
      "  self._warn(\n",
      "/home/devuser/.local/lib/python3.8/site-packages/docstring_inheritance/docstring_inheritors/bases/inheritor.py:329: DocstringInheritanceWarning: File /home/devuser/.local/lib/python3.8/site-packages/braindecode/models/eeginception_erp.py:96: in EEGInceptionERP.__init__: section Parameters: the docstring for the argument 'n_outputs' is missing.\n",
      "  self._warn(\n",
      "/home/devuser/.local/lib/python3.8/site-packages/docstring_inheritance/docstring_inheritors/bases/inheritor.py:329: DocstringInheritanceWarning: File /home/devuser/.local/lib/python3.8/site-packages/braindecode/models/eeginception_erp.py:96: in EEGInceptionERP.__init__: section Parameters: the docstring for the argument 'n_times' is missing.\n",
      "  self._warn(\n",
      "/home/devuser/.local/lib/python3.8/site-packages/docstring_inheritance/docstring_inheritors/bases/inheritor.py:329: DocstringInheritanceWarning: File /home/devuser/.local/lib/python3.8/site-packages/braindecode/models/eeginception_erp.py:96: in EEGInceptionERP.__init__: section Parameters: the docstring for the argument 'sfreq' is missing.\n",
      "  self._warn(\n",
      "/home/devuser/.local/lib/python3.8/site-packages/docstring_inheritance/docstring_inheritors/bases/inheritor.py:329: DocstringInheritanceWarning: File /home/devuser/.local/lib/python3.8/site-packages/braindecode/models/eeginception_erp.py:96: in EEGInceptionERP.__init__: section Parameters: the docstring for the argument 'drop_prob' is missing.\n",
      "  self._warn(\n",
      "/home/devuser/.local/lib/python3.8/site-packages/docstring_inheritance/docstring_inheritors/bases/inheritor.py:329: DocstringInheritanceWarning: File /home/devuser/.local/lib/python3.8/site-packages/braindecode/models/eeginception_erp.py:96: in EEGInceptionERP.__init__: section Parameters: the docstring for the argument 'scales_samples_s' is missing.\n",
      "  self._warn(\n",
      "/home/devuser/.local/lib/python3.8/site-packages/docstring_inheritance/docstring_inheritors/bases/inheritor.py:329: DocstringInheritanceWarning: File /home/devuser/.local/lib/python3.8/site-packages/braindecode/models/eeginception_erp.py:96: in EEGInceptionERP.__init__: section Parameters: the docstring for the argument 'n_filters' is missing.\n",
      "  self._warn(\n",
      "/home/devuser/.local/lib/python3.8/site-packages/docstring_inheritance/docstring_inheritors/bases/inheritor.py:329: DocstringInheritanceWarning: File /home/devuser/.local/lib/python3.8/site-packages/braindecode/models/eeginception_erp.py:96: in EEGInceptionERP.__init__: section Parameters: the docstring for the argument 'activation' is missing.\n",
      "  self._warn(\n",
      "/home/devuser/.local/lib/python3.8/site-packages/docstring_inheritance/docstring_inheritors/bases/inheritor.py:329: DocstringInheritanceWarning: File /home/devuser/.local/lib/python3.8/site-packages/braindecode/models/eeginception_erp.py:96: in EEGInceptionERP.__init__: section Parameters: the docstring for the argument 'batch_norm_alpha' is missing.\n",
      "  self._warn(\n",
      "/home/devuser/.local/lib/python3.8/site-packages/docstring_inheritance/docstring_inheritors/bases/inheritor.py:329: DocstringInheritanceWarning: File /home/devuser/.local/lib/python3.8/site-packages/braindecode/models/eeginception_erp.py:96: in EEGInceptionERP.__init__: section Parameters: the docstring for the argument 'depth_multiplier' is missing.\n",
      "  self._warn(\n",
      "/home/devuser/.local/lib/python3.8/site-packages/docstring_inheritance/docstring_inheritors/bases/inheritor.py:329: DocstringInheritanceWarning: File /home/devuser/.local/lib/python3.8/site-packages/braindecode/models/eeginception_erp.py:96: in EEGInceptionERP.__init__: section Parameters: the docstring for the argument 'pooling_sizes' is missing.\n",
      "  self._warn(\n",
      "/home/devuser/.local/lib/python3.8/site-packages/docstring_inheritance/docstring_inheritors/bases/inheritor.py:329: DocstringInheritanceWarning: File /home/devuser/.local/lib/python3.8/site-packages/braindecode/models/eeginception_erp.py:96: in EEGInceptionERP.__init__: section Parameters: the docstring for the argument 'chs_info' is missing.\n",
      "  self._warn(\n",
      "/home/devuser/.local/lib/python3.8/site-packages/docstring_inheritance/docstring_inheritors/bases/inheritor.py:329: DocstringInheritanceWarning: File /home/devuser/.local/lib/python3.8/site-packages/braindecode/models/eeginception_erp.py:96: in EEGInceptionERP.__init__: section Parameters: the docstring for the argument 'input_window_seconds' is missing.\n",
      "  self._warn(\n",
      "/home/devuser/.local/lib/python3.8/site-packages/docstring_inheritance/docstring_inheritors/bases/inheritor.py:329: DocstringInheritanceWarning: File /home/devuser/.local/lib/python3.8/site-packages/braindecode/models/eeginception_erp.py:96: in EEGInceptionERP.__init__: section Parameters: the docstring for the argument 'in_channels' is missing.\n",
      "  self._warn(\n",
      "/home/devuser/.local/lib/python3.8/site-packages/docstring_inheritance/docstring_inheritors/bases/inheritor.py:329: DocstringInheritanceWarning: File /home/devuser/.local/lib/python3.8/site-packages/braindecode/models/eeginception_erp.py:96: in EEGInceptionERP.__init__: section Parameters: the docstring for the argument 'n_classes' is missing.\n",
      "  self._warn(\n",
      "/home/devuser/.local/lib/python3.8/site-packages/docstring_inheritance/docstring_inheritors/bases/inheritor.py:329: DocstringInheritanceWarning: File /home/devuser/.local/lib/python3.8/site-packages/braindecode/models/eeginception_erp.py:96: in EEGInceptionERP.__init__: section Parameters: the docstring for the argument 'input_window_samples' is missing.\n",
      "  self._warn(\n",
      "/home/devuser/.local/lib/python3.8/site-packages/docstring_inheritance/docstring_inheritors/bases/inheritor.py:329: DocstringInheritanceWarning: File /home/devuser/.local/lib/python3.8/site-packages/braindecode/models/eeginception_erp.py:96: in EEGInceptionERP.__init__: section Parameters: the docstring for the argument 'add_log_softmax' is missing.\n",
      "  self._warn(\n",
      "/home/devuser/.local/lib/python3.8/site-packages/docstring_inheritance/docstring_inheritors/bases/inheritor.py:329: DocstringInheritanceWarning: File /home/devuser/.local/lib/python3.8/site-packages/braindecode/models/eeginception_mi.py:64: in EEGInceptionMI.__init__: section Parameters: the docstring for the argument 'n_chans' is missing.\n",
      "  self._warn(\n",
      "/home/devuser/.local/lib/python3.8/site-packages/docstring_inheritance/docstring_inheritors/bases/inheritor.py:329: DocstringInheritanceWarning: File /home/devuser/.local/lib/python3.8/site-packages/braindecode/models/eeginception_mi.py:64: in EEGInceptionMI.__init__: section Parameters: the docstring for the argument 'n_outputs' is missing.\n",
      "  self._warn(\n",
      "/home/devuser/.local/lib/python3.8/site-packages/docstring_inheritance/docstring_inheritors/bases/inheritor.py:329: DocstringInheritanceWarning: File /home/devuser/.local/lib/python3.8/site-packages/braindecode/models/eeginception_mi.py:64: in EEGInceptionMI.__init__: section Parameters: the docstring for the argument 'input_window_seconds' is missing.\n",
      "  self._warn(\n",
      "/home/devuser/.local/lib/python3.8/site-packages/docstring_inheritance/docstring_inheritors/bases/inheritor.py:329: DocstringInheritanceWarning: File /home/devuser/.local/lib/python3.8/site-packages/braindecode/models/eeginception_mi.py:64: in EEGInceptionMI.__init__: section Parameters: the docstring for the argument 'sfreq' is missing.\n",
      "  self._warn(\n",
      "/home/devuser/.local/lib/python3.8/site-packages/docstring_inheritance/docstring_inheritors/bases/inheritor.py:329: DocstringInheritanceWarning: File /home/devuser/.local/lib/python3.8/site-packages/braindecode/models/eeginception_mi.py:64: in EEGInceptionMI.__init__: section Parameters: the docstring for the argument 'n_convs' is missing.\n",
      "  self._warn(\n",
      "/home/devuser/.local/lib/python3.8/site-packages/docstring_inheritance/docstring_inheritors/bases/inheritor.py:329: DocstringInheritanceWarning: File /home/devuser/.local/lib/python3.8/site-packages/braindecode/models/eeginception_mi.py:64: in EEGInceptionMI.__init__: section Parameters: the docstring for the argument 'n_filters' is missing.\n",
      "  self._warn(\n",
      "/home/devuser/.local/lib/python3.8/site-packages/docstring_inheritance/docstring_inheritors/bases/inheritor.py:329: DocstringInheritanceWarning: File /home/devuser/.local/lib/python3.8/site-packages/braindecode/models/eeginception_mi.py:64: in EEGInceptionMI.__init__: section Parameters: the docstring for the argument 'kernel_unit_s' is missing.\n",
      "  self._warn(\n",
      "/home/devuser/.local/lib/python3.8/site-packages/docstring_inheritance/docstring_inheritors/bases/inheritor.py:329: DocstringInheritanceWarning: File /home/devuser/.local/lib/python3.8/site-packages/braindecode/models/eeginception_mi.py:64: in EEGInceptionMI.__init__: section Parameters: the docstring for the argument 'activation' is missing.\n",
      "  self._warn(\n",
      "/home/devuser/.local/lib/python3.8/site-packages/docstring_inheritance/docstring_inheritors/bases/inheritor.py:329: DocstringInheritanceWarning: File /home/devuser/.local/lib/python3.8/site-packages/braindecode/models/eeginception_mi.py:64: in EEGInceptionMI.__init__: section Parameters: the docstring for the argument 'chs_info' is missing.\n",
      "  self._warn(\n",
      "/home/devuser/.local/lib/python3.8/site-packages/docstring_inheritance/docstring_inheritors/bases/inheritor.py:329: DocstringInheritanceWarning: File /home/devuser/.local/lib/python3.8/site-packages/braindecode/models/eeginception_mi.py:64: in EEGInceptionMI.__init__: section Parameters: the docstring for the argument 'n_times' is missing.\n",
      "  self._warn(\n",
      "/home/devuser/.local/lib/python3.8/site-packages/docstring_inheritance/docstring_inheritors/bases/inheritor.py:329: DocstringInheritanceWarning: File /home/devuser/.local/lib/python3.8/site-packages/braindecode/models/eeginception_mi.py:64: in EEGInceptionMI.__init__: section Parameters: the docstring for the argument 'in_channels' is missing.\n",
      "  self._warn(\n",
      "/home/devuser/.local/lib/python3.8/site-packages/docstring_inheritance/docstring_inheritors/bases/inheritor.py:329: DocstringInheritanceWarning: File /home/devuser/.local/lib/python3.8/site-packages/braindecode/models/eeginception_mi.py:64: in EEGInceptionMI.__init__: section Parameters: the docstring for the argument 'n_classes' is missing.\n",
      "  self._warn(\n",
      "/home/devuser/.local/lib/python3.8/site-packages/docstring_inheritance/docstring_inheritors/bases/inheritor.py:329: DocstringInheritanceWarning: File /home/devuser/.local/lib/python3.8/site-packages/braindecode/models/eeginception_mi.py:64: in EEGInceptionMI.__init__: section Parameters: the docstring for the argument 'input_window_s' is missing.\n",
      "  self._warn(\n",
      "/home/devuser/.local/lib/python3.8/site-packages/docstring_inheritance/docstring_inheritors/bases/inheritor.py:329: DocstringInheritanceWarning: File /home/devuser/.local/lib/python3.8/site-packages/braindecode/models/eeginception_mi.py:64: in EEGInceptionMI.__init__: section Parameters: the docstring for the argument 'add_log_softmax' is missing.\n",
      "  self._warn(\n",
      "/home/devuser/.local/lib/python3.8/site-packages/docstring_inheritance/docstring_inheritors/bases/inheritor.py:329: DocstringInheritanceWarning: File /home/devuser/.local/lib/python3.8/site-packages/braindecode/models/eeginception_mi.py:185: in EEGInceptionMI.forward: section Parameters: the docstring for the argument 'X' is missing.\n",
      "  self._warn(\n",
      "/home/devuser/.local/lib/python3.8/site-packages/docstring_inheritance/docstring_inheritors/bases/inheritor.py:329: DocstringInheritanceWarning: File /home/devuser/.local/lib/python3.8/site-packages/braindecode/models/atcnet.py:101: in ATCNet.__init__: section Parameters: the docstring for the argument 'n_chans' is missing.\n",
      "  self._warn(\n",
      "/home/devuser/.local/lib/python3.8/site-packages/docstring_inheritance/docstring_inheritors/bases/inheritor.py:329: DocstringInheritanceWarning: File /home/devuser/.local/lib/python3.8/site-packages/braindecode/models/atcnet.py:101: in ATCNet.__init__: section Parameters: the docstring for the argument 'n_outputs' is missing.\n",
      "  self._warn(\n",
      "/home/devuser/.local/lib/python3.8/site-packages/docstring_inheritance/docstring_inheritors/bases/inheritor.py:329: DocstringInheritanceWarning: File /home/devuser/.local/lib/python3.8/site-packages/braindecode/models/atcnet.py:101: in ATCNet.__init__: section Parameters: the docstring for the argument 'input_window_seconds' is missing.\n",
      "  self._warn(\n",
      "/home/devuser/.local/lib/python3.8/site-packages/docstring_inheritance/docstring_inheritors/bases/inheritor.py:329: DocstringInheritanceWarning: File /home/devuser/.local/lib/python3.8/site-packages/braindecode/models/atcnet.py:101: in ATCNet.__init__: section Parameters: the docstring for the argument 'sfreq' is missing.\n",
      "  self._warn(\n",
      "/home/devuser/.local/lib/python3.8/site-packages/docstring_inheritance/docstring_inheritors/bases/inheritor.py:329: DocstringInheritanceWarning: File /home/devuser/.local/lib/python3.8/site-packages/braindecode/models/atcnet.py:101: in ATCNet.__init__: section Parameters: the docstring for the argument 'conv_block_n_filters' is missing.\n",
      "  self._warn(\n",
      "/home/devuser/.local/lib/python3.8/site-packages/docstring_inheritance/docstring_inheritors/bases/inheritor.py:329: DocstringInheritanceWarning: File /home/devuser/.local/lib/python3.8/site-packages/braindecode/models/atcnet.py:101: in ATCNet.__init__: section Parameters: the docstring for the argument 'conv_block_kernel_length_1' is missing.\n",
      "  self._warn(\n",
      "/home/devuser/.local/lib/python3.8/site-packages/docstring_inheritance/docstring_inheritors/bases/inheritor.py:329: DocstringInheritanceWarning: File /home/devuser/.local/lib/python3.8/site-packages/braindecode/models/atcnet.py:101: in ATCNet.__init__: section Parameters: the docstring for the argument 'conv_block_kernel_length_2' is missing.\n",
      "  self._warn(\n",
      "/home/devuser/.local/lib/python3.8/site-packages/docstring_inheritance/docstring_inheritors/bases/inheritor.py:329: DocstringInheritanceWarning: File /home/devuser/.local/lib/python3.8/site-packages/braindecode/models/atcnet.py:101: in ATCNet.__init__: section Parameters: the docstring for the argument 'conv_block_pool_size_1' is missing.\n",
      "  self._warn(\n",
      "/home/devuser/.local/lib/python3.8/site-packages/docstring_inheritance/docstring_inheritors/bases/inheritor.py:329: DocstringInheritanceWarning: File /home/devuser/.local/lib/python3.8/site-packages/braindecode/models/atcnet.py:101: in ATCNet.__init__: section Parameters: the docstring for the argument 'conv_block_pool_size_2' is missing.\n",
      "  self._warn(\n",
      "/home/devuser/.local/lib/python3.8/site-packages/docstring_inheritance/docstring_inheritors/bases/inheritor.py:329: DocstringInheritanceWarning: File /home/devuser/.local/lib/python3.8/site-packages/braindecode/models/atcnet.py:101: in ATCNet.__init__: section Parameters: the docstring for the argument 'conv_block_depth_mult' is missing.\n",
      "  self._warn(\n",
      "/home/devuser/.local/lib/python3.8/site-packages/docstring_inheritance/docstring_inheritors/bases/inheritor.py:329: DocstringInheritanceWarning: File /home/devuser/.local/lib/python3.8/site-packages/braindecode/models/atcnet.py:101: in ATCNet.__init__: section Parameters: the docstring for the argument 'conv_block_dropout' is missing.\n",
      "  self._warn(\n",
      "/home/devuser/.local/lib/python3.8/site-packages/docstring_inheritance/docstring_inheritors/bases/inheritor.py:329: DocstringInheritanceWarning: File /home/devuser/.local/lib/python3.8/site-packages/braindecode/models/atcnet.py:101: in ATCNet.__init__: section Parameters: the docstring for the argument 'n_windows' is missing.\n",
      "  self._warn(\n",
      "/home/devuser/.local/lib/python3.8/site-packages/docstring_inheritance/docstring_inheritors/bases/inheritor.py:329: DocstringInheritanceWarning: File /home/devuser/.local/lib/python3.8/site-packages/braindecode/models/atcnet.py:101: in ATCNet.__init__: section Parameters: the docstring for the argument 'att_head_dim' is missing.\n",
      "  self._warn(\n",
      "/home/devuser/.local/lib/python3.8/site-packages/docstring_inheritance/docstring_inheritors/bases/inheritor.py:329: DocstringInheritanceWarning: File /home/devuser/.local/lib/python3.8/site-packages/braindecode/models/atcnet.py:101: in ATCNet.__init__: section Parameters: the docstring for the argument 'att_num_heads' is missing.\n",
      "  self._warn(\n",
      "/home/devuser/.local/lib/python3.8/site-packages/docstring_inheritance/docstring_inheritors/bases/inheritor.py:329: DocstringInheritanceWarning: File /home/devuser/.local/lib/python3.8/site-packages/braindecode/models/atcnet.py:101: in ATCNet.__init__: section Parameters: the docstring for the argument 'att_dropout' is missing.\n",
      "  self._warn(\n",
      "/home/devuser/.local/lib/python3.8/site-packages/docstring_inheritance/docstring_inheritors/bases/inheritor.py:329: DocstringInheritanceWarning: File /home/devuser/.local/lib/python3.8/site-packages/braindecode/models/atcnet.py:101: in ATCNet.__init__: section Parameters: the docstring for the argument 'tcn_depth' is missing.\n",
      "  self._warn(\n",
      "/home/devuser/.local/lib/python3.8/site-packages/docstring_inheritance/docstring_inheritors/bases/inheritor.py:329: DocstringInheritanceWarning: File /home/devuser/.local/lib/python3.8/site-packages/braindecode/models/atcnet.py:101: in ATCNet.__init__: section Parameters: the docstring for the argument 'tcn_kernel_size' is missing.\n",
      "  self._warn(\n",
      "/home/devuser/.local/lib/python3.8/site-packages/docstring_inheritance/docstring_inheritors/bases/inheritor.py:329: DocstringInheritanceWarning: File /home/devuser/.local/lib/python3.8/site-packages/braindecode/models/atcnet.py:101: in ATCNet.__init__: section Parameters: the docstring for the argument 'tcn_n_filters' is missing.\n",
      "  self._warn(\n",
      "/home/devuser/.local/lib/python3.8/site-packages/docstring_inheritance/docstring_inheritors/bases/inheritor.py:329: DocstringInheritanceWarning: File /home/devuser/.local/lib/python3.8/site-packages/braindecode/models/atcnet.py:101: in ATCNet.__init__: section Parameters: the docstring for the argument 'tcn_dropout' is missing.\n",
      "  self._warn(\n",
      "/home/devuser/.local/lib/python3.8/site-packages/docstring_inheritance/docstring_inheritors/bases/inheritor.py:329: DocstringInheritanceWarning: File /home/devuser/.local/lib/python3.8/site-packages/braindecode/models/atcnet.py:101: in ATCNet.__init__: section Parameters: the docstring for the argument 'tcn_activation' is missing.\n",
      "  self._warn(\n",
      "/home/devuser/.local/lib/python3.8/site-packages/docstring_inheritance/docstring_inheritors/bases/inheritor.py:329: DocstringInheritanceWarning: File /home/devuser/.local/lib/python3.8/site-packages/braindecode/models/atcnet.py:101: in ATCNet.__init__: section Parameters: the docstring for the argument 'concat' is missing.\n",
      "  self._warn(\n",
      "/home/devuser/.local/lib/python3.8/site-packages/docstring_inheritance/docstring_inheritors/bases/inheritor.py:329: DocstringInheritanceWarning: File /home/devuser/.local/lib/python3.8/site-packages/braindecode/models/atcnet.py:101: in ATCNet.__init__: section Parameters: the docstring for the argument 'max_norm_const' is missing.\n",
      "  self._warn(\n",
      "/home/devuser/.local/lib/python3.8/site-packages/docstring_inheritance/docstring_inheritors/bases/inheritor.py:329: DocstringInheritanceWarning: File /home/devuser/.local/lib/python3.8/site-packages/braindecode/models/atcnet.py:101: in ATCNet.__init__: section Parameters: the docstring for the argument 'chs_info' is missing.\n",
      "  self._warn(\n",
      "/home/devuser/.local/lib/python3.8/site-packages/docstring_inheritance/docstring_inheritors/bases/inheritor.py:329: DocstringInheritanceWarning: File /home/devuser/.local/lib/python3.8/site-packages/braindecode/models/atcnet.py:101: in ATCNet.__init__: section Parameters: the docstring for the argument 'n_times' is missing.\n",
      "  self._warn(\n",
      "/home/devuser/.local/lib/python3.8/site-packages/docstring_inheritance/docstring_inheritors/bases/inheritor.py:329: DocstringInheritanceWarning: File /home/devuser/.local/lib/python3.8/site-packages/braindecode/models/atcnet.py:101: in ATCNet.__init__: section Parameters: the docstring for the argument 'n_channels' is missing.\n",
      "  self._warn(\n",
      "/home/devuser/.local/lib/python3.8/site-packages/docstring_inheritance/docstring_inheritors/bases/inheritor.py:329: DocstringInheritanceWarning: File /home/devuser/.local/lib/python3.8/site-packages/braindecode/models/atcnet.py:101: in ATCNet.__init__: section Parameters: the docstring for the argument 'n_classes' is missing.\n",
      "  self._warn(\n",
      "/home/devuser/.local/lib/python3.8/site-packages/docstring_inheritance/docstring_inheritors/bases/inheritor.py:329: DocstringInheritanceWarning: File /home/devuser/.local/lib/python3.8/site-packages/braindecode/models/atcnet.py:101: in ATCNet.__init__: section Parameters: the docstring for the argument 'input_size_s' is missing.\n",
      "  self._warn(\n",
      "/home/devuser/.local/lib/python3.8/site-packages/docstring_inheritance/docstring_inheritors/bases/inheritor.py:329: DocstringInheritanceWarning: File /home/devuser/.local/lib/python3.8/site-packages/braindecode/models/atcnet.py:101: in ATCNet.__init__: section Parameters: the docstring for the argument 'add_log_softmax' is missing.\n",
      "  self._warn(\n",
      "/home/devuser/.local/lib/python3.8/site-packages/docstring_inheritance/docstring_inheritors/bases/inheritor.py:329: DocstringInheritanceWarning: File /home/devuser/.local/lib/python3.8/site-packages/braindecode/models/atcnet.py:239: in ATCNet.forward: section Parameters: the docstring for the argument 'X' is missing.\n",
      "  self._warn(\n",
      "/home/devuser/.local/lib/python3.8/site-packages/docstring_inheritance/docstring_inheritors/bases/inheritor.py:329: DocstringInheritanceWarning: File /home/devuser/.local/lib/python3.8/site-packages/braindecode/models/tcn.py:43: in TCN.__init__: section Parameters: the docstring for the argument 'n_chans' is missing.\n",
      "  self._warn(\n",
      "/home/devuser/.local/lib/python3.8/site-packages/docstring_inheritance/docstring_inheritors/bases/inheritor.py:329: DocstringInheritanceWarning: File /home/devuser/.local/lib/python3.8/site-packages/braindecode/models/tcn.py:43: in TCN.__init__: section Parameters: the docstring for the argument 'n_outputs' is missing.\n",
      "  self._warn(\n",
      "/home/devuser/.local/lib/python3.8/site-packages/docstring_inheritance/docstring_inheritors/bases/inheritor.py:329: DocstringInheritanceWarning: File /home/devuser/.local/lib/python3.8/site-packages/braindecode/models/tcn.py:43: in TCN.__init__: section Parameters: the docstring for the argument 'n_blocks' is missing.\n",
      "  self._warn(\n",
      "/home/devuser/.local/lib/python3.8/site-packages/docstring_inheritance/docstring_inheritors/bases/inheritor.py:329: DocstringInheritanceWarning: File /home/devuser/.local/lib/python3.8/site-packages/braindecode/models/tcn.py:43: in TCN.__init__: section Parameters: the docstring for the argument 'n_filters' is missing.\n",
      "  self._warn(\n",
      "/home/devuser/.local/lib/python3.8/site-packages/docstring_inheritance/docstring_inheritors/bases/inheritor.py:329: DocstringInheritanceWarning: File /home/devuser/.local/lib/python3.8/site-packages/braindecode/models/tcn.py:43: in TCN.__init__: section Parameters: the docstring for the argument 'kernel_size' is missing.\n",
      "  self._warn(\n",
      "/home/devuser/.local/lib/python3.8/site-packages/docstring_inheritance/docstring_inheritors/bases/inheritor.py:329: DocstringInheritanceWarning: File /home/devuser/.local/lib/python3.8/site-packages/braindecode/models/tcn.py:43: in TCN.__init__: section Parameters: the docstring for the argument 'drop_prob' is missing.\n",
      "  self._warn(\n",
      "/home/devuser/.local/lib/python3.8/site-packages/docstring_inheritance/docstring_inheritors/bases/inheritor.py:329: DocstringInheritanceWarning: File /home/devuser/.local/lib/python3.8/site-packages/braindecode/models/tcn.py:43: in TCN.__init__: section Parameters: the docstring for the argument 'chs_info' is missing.\n",
      "  self._warn(\n",
      "/home/devuser/.local/lib/python3.8/site-packages/docstring_inheritance/docstring_inheritors/bases/inheritor.py:329: DocstringInheritanceWarning: File /home/devuser/.local/lib/python3.8/site-packages/braindecode/models/tcn.py:43: in TCN.__init__: section Parameters: the docstring for the argument 'n_times' is missing.\n",
      "  self._warn(\n",
      "/home/devuser/.local/lib/python3.8/site-packages/docstring_inheritance/docstring_inheritors/bases/inheritor.py:329: DocstringInheritanceWarning: File /home/devuser/.local/lib/python3.8/site-packages/braindecode/models/tcn.py:43: in TCN.__init__: section Parameters: the docstring for the argument 'input_window_seconds' is missing.\n",
      "  self._warn(\n",
      "/home/devuser/.local/lib/python3.8/site-packages/docstring_inheritance/docstring_inheritors/bases/inheritor.py:329: DocstringInheritanceWarning: File /home/devuser/.local/lib/python3.8/site-packages/braindecode/models/tcn.py:43: in TCN.__init__: section Parameters: the docstring for the argument 'sfreq' is missing.\n",
      "  self._warn(\n",
      "/home/devuser/.local/lib/python3.8/site-packages/docstring_inheritance/docstring_inheritors/bases/inheritor.py:329: DocstringInheritanceWarning: File /home/devuser/.local/lib/python3.8/site-packages/braindecode/models/tcn.py:43: in TCN.__init__: section Parameters: the docstring for the argument 'n_in_chans' is missing.\n",
      "  self._warn(\n",
      "/home/devuser/.local/lib/python3.8/site-packages/docstring_inheritance/docstring_inheritors/bases/inheritor.py:329: DocstringInheritanceWarning: File /home/devuser/.local/lib/python3.8/site-packages/braindecode/models/tcn.py:43: in TCN.__init__: section Parameters: the docstring for the argument 'add_log_softmax' is missing.\n",
      "  self._warn(\n",
      "/home/devuser/.local/lib/python3.8/site-packages/docstring_inheritance/docstring_inheritors/bases/inheritor.py:329: DocstringInheritanceWarning: File /home/devuser/.local/lib/python3.8/site-packages/braindecode/models/tcn.py:105: in TCN.forward: section Parameters: the docstring for the argument 'x' is missing.\n",
      "  self._warn(\n",
      "/home/devuser/.local/lib/python3.8/site-packages/docstring_inheritance/docstring_inheritors/bases/inheritor.py:329: DocstringInheritanceWarning: File /home/devuser/.local/lib/python3.8/site-packages/braindecode/models/sleep_stager_chambon_2018.py:54: in SleepStagerChambon2018.__init__: section Parameters: the docstring for the argument 'n_chans' is missing.\n",
      "  self._warn(\n",
      "/home/devuser/.local/lib/python3.8/site-packages/docstring_inheritance/docstring_inheritors/bases/inheritor.py:329: DocstringInheritanceWarning: File /home/devuser/.local/lib/python3.8/site-packages/braindecode/models/sleep_stager_chambon_2018.py:54: in SleepStagerChambon2018.__init__: section Parameters: the docstring for the argument 'sfreq' is missing.\n",
      "  self._warn(\n",
      "/home/devuser/.local/lib/python3.8/site-packages/docstring_inheritance/docstring_inheritors/bases/inheritor.py:329: DocstringInheritanceWarning: File /home/devuser/.local/lib/python3.8/site-packages/braindecode/models/sleep_stager_chambon_2018.py:54: in SleepStagerChambon2018.__init__: section Parameters: the docstring for the argument 'n_conv_chs' is missing.\n",
      "  self._warn(\n",
      "/home/devuser/.local/lib/python3.8/site-packages/docstring_inheritance/docstring_inheritors/bases/inheritor.py:329: DocstringInheritanceWarning: File /home/devuser/.local/lib/python3.8/site-packages/braindecode/models/sleep_stager_chambon_2018.py:54: in SleepStagerChambon2018.__init__: section Parameters: the docstring for the argument 'time_conv_size_s' is missing.\n",
      "  self._warn(\n",
      "/home/devuser/.local/lib/python3.8/site-packages/docstring_inheritance/docstring_inheritors/bases/inheritor.py:329: DocstringInheritanceWarning: File /home/devuser/.local/lib/python3.8/site-packages/braindecode/models/sleep_stager_chambon_2018.py:54: in SleepStagerChambon2018.__init__: section Parameters: the docstring for the argument 'max_pool_size_s' is missing.\n",
      "  self._warn(\n",
      "/home/devuser/.local/lib/python3.8/site-packages/docstring_inheritance/docstring_inheritors/bases/inheritor.py:329: DocstringInheritanceWarning: File /home/devuser/.local/lib/python3.8/site-packages/braindecode/models/sleep_stager_chambon_2018.py:54: in SleepStagerChambon2018.__init__: section Parameters: the docstring for the argument 'pad_size_s' is missing.\n",
      "  self._warn(\n",
      "/home/devuser/.local/lib/python3.8/site-packages/docstring_inheritance/docstring_inheritors/bases/inheritor.py:329: DocstringInheritanceWarning: File /home/devuser/.local/lib/python3.8/site-packages/braindecode/models/sleep_stager_chambon_2018.py:54: in SleepStagerChambon2018.__init__: section Parameters: the docstring for the argument 'input_window_seconds' is missing.\n",
      "  self._warn(\n",
      "/home/devuser/.local/lib/python3.8/site-packages/docstring_inheritance/docstring_inheritors/bases/inheritor.py:329: DocstringInheritanceWarning: File /home/devuser/.local/lib/python3.8/site-packages/braindecode/models/sleep_stager_chambon_2018.py:54: in SleepStagerChambon2018.__init__: section Parameters: the docstring for the argument 'n_outputs' is missing.\n",
      "  self._warn(\n",
      "/home/devuser/.local/lib/python3.8/site-packages/docstring_inheritance/docstring_inheritors/bases/inheritor.py:329: DocstringInheritanceWarning: File /home/devuser/.local/lib/python3.8/site-packages/braindecode/models/sleep_stager_chambon_2018.py:54: in SleepStagerChambon2018.__init__: section Parameters: the docstring for the argument 'dropout' is missing.\n",
      "  self._warn(\n",
      "/home/devuser/.local/lib/python3.8/site-packages/docstring_inheritance/docstring_inheritors/bases/inheritor.py:329: DocstringInheritanceWarning: File /home/devuser/.local/lib/python3.8/site-packages/braindecode/models/sleep_stager_chambon_2018.py:54: in SleepStagerChambon2018.__init__: section Parameters: the docstring for the argument 'apply_batch_norm' is missing.\n",
      "  self._warn(\n",
      "/home/devuser/.local/lib/python3.8/site-packages/docstring_inheritance/docstring_inheritors/bases/inheritor.py:329: DocstringInheritanceWarning: File /home/devuser/.local/lib/python3.8/site-packages/braindecode/models/sleep_stager_chambon_2018.py:54: in SleepStagerChambon2018.__init__: section Parameters: the docstring for the argument 'return_feats' is missing.\n",
      "  self._warn(\n",
      "/home/devuser/.local/lib/python3.8/site-packages/docstring_inheritance/docstring_inheritors/bases/inheritor.py:329: DocstringInheritanceWarning: File /home/devuser/.local/lib/python3.8/site-packages/braindecode/models/sleep_stager_chambon_2018.py:54: in SleepStagerChambon2018.__init__: section Parameters: the docstring for the argument 'chs_info' is missing.\n",
      "  self._warn(\n",
      "/home/devuser/.local/lib/python3.8/site-packages/docstring_inheritance/docstring_inheritors/bases/inheritor.py:329: DocstringInheritanceWarning: File /home/devuser/.local/lib/python3.8/site-packages/braindecode/models/sleep_stager_chambon_2018.py:54: in SleepStagerChambon2018.__init__: section Parameters: the docstring for the argument 'n_times' is missing.\n",
      "  self._warn(\n",
      "/home/devuser/.local/lib/python3.8/site-packages/docstring_inheritance/docstring_inheritors/bases/inheritor.py:329: DocstringInheritanceWarning: File /home/devuser/.local/lib/python3.8/site-packages/braindecode/models/sleep_stager_chambon_2018.py:54: in SleepStagerChambon2018.__init__: section Parameters: the docstring for the argument 'n_channels' is missing.\n",
      "  self._warn(\n",
      "/home/devuser/.local/lib/python3.8/site-packages/docstring_inheritance/docstring_inheritors/bases/inheritor.py:329: DocstringInheritanceWarning: File /home/devuser/.local/lib/python3.8/site-packages/braindecode/models/sleep_stager_chambon_2018.py:54: in SleepStagerChambon2018.__init__: section Parameters: the docstring for the argument 'input_size_s' is missing.\n",
      "  self._warn(\n",
      "/home/devuser/.local/lib/python3.8/site-packages/docstring_inheritance/docstring_inheritors/bases/inheritor.py:329: DocstringInheritanceWarning: File /home/devuser/.local/lib/python3.8/site-packages/braindecode/models/sleep_stager_chambon_2018.py:54: in SleepStagerChambon2018.__init__: section Parameters: the docstring for the argument 'n_classes' is missing.\n",
      "  self._warn(\n",
      "/home/devuser/.local/lib/python3.8/site-packages/docstring_inheritance/docstring_inheritors/bases/inheritor.py:329: DocstringInheritanceWarning: File /home/devuser/.local/lib/python3.8/site-packages/braindecode/models/sleep_stager_chambon_2018.py:135: in SleepStagerChambon2018.forward: section Parameters: the docstring for the argument 'x' is missing.\n",
      "  self._warn(\n",
      "/home/devuser/.local/lib/python3.8/site-packages/docstring_inheritance/docstring_inheritors/bases/inheritor.py:329: DocstringInheritanceWarning: File /home/devuser/.local/lib/python3.8/site-packages/braindecode/models/sleep_stager_blanco_2020.py:50: in SleepStagerBlanco2020.__init__: section Parameters: the docstring for the argument 'n_chans' is missing.\n",
      "  self._warn(\n",
      "/home/devuser/.local/lib/python3.8/site-packages/docstring_inheritance/docstring_inheritors/bases/inheritor.py:329: DocstringInheritanceWarning: File /home/devuser/.local/lib/python3.8/site-packages/braindecode/models/sleep_stager_blanco_2020.py:50: in SleepStagerBlanco2020.__init__: section Parameters: the docstring for the argument 'sfreq' is missing.\n",
      "  self._warn(\n",
      "/home/devuser/.local/lib/python3.8/site-packages/docstring_inheritance/docstring_inheritors/bases/inheritor.py:329: DocstringInheritanceWarning: File /home/devuser/.local/lib/python3.8/site-packages/braindecode/models/sleep_stager_blanco_2020.py:50: in SleepStagerBlanco2020.__init__: section Parameters: the docstring for the argument 'n_conv_chans' is missing.\n",
      "  self._warn(\n",
      "/home/devuser/.local/lib/python3.8/site-packages/docstring_inheritance/docstring_inheritors/bases/inheritor.py:329: DocstringInheritanceWarning: File /home/devuser/.local/lib/python3.8/site-packages/braindecode/models/sleep_stager_blanco_2020.py:50: in SleepStagerBlanco2020.__init__: section Parameters: the docstring for the argument 'input_window_seconds' is missing.\n",
      "  self._warn(\n",
      "/home/devuser/.local/lib/python3.8/site-packages/docstring_inheritance/docstring_inheritors/bases/inheritor.py:329: DocstringInheritanceWarning: File /home/devuser/.local/lib/python3.8/site-packages/braindecode/models/sleep_stager_blanco_2020.py:50: in SleepStagerBlanco2020.__init__: section Parameters: the docstring for the argument 'n_outputs' is missing.\n",
      "  self._warn(\n",
      "/home/devuser/.local/lib/python3.8/site-packages/docstring_inheritance/docstring_inheritors/bases/inheritor.py:329: DocstringInheritanceWarning: File /home/devuser/.local/lib/python3.8/site-packages/braindecode/models/sleep_stager_blanco_2020.py:50: in SleepStagerBlanco2020.__init__: section Parameters: the docstring for the argument 'n_groups' is missing.\n",
      "  self._warn(\n",
      "/home/devuser/.local/lib/python3.8/site-packages/docstring_inheritance/docstring_inheritors/bases/inheritor.py:329: DocstringInheritanceWarning: File /home/devuser/.local/lib/python3.8/site-packages/braindecode/models/sleep_stager_blanco_2020.py:50: in SleepStagerBlanco2020.__init__: section Parameters: the docstring for the argument 'max_pool_size' is missing.\n",
      "  self._warn(\n",
      "/home/devuser/.local/lib/python3.8/site-packages/docstring_inheritance/docstring_inheritors/bases/inheritor.py:329: DocstringInheritanceWarning: File /home/devuser/.local/lib/python3.8/site-packages/braindecode/models/sleep_stager_blanco_2020.py:50: in SleepStagerBlanco2020.__init__: section Parameters: the docstring for the argument 'dropout' is missing.\n",
      "  self._warn(\n",
      "/home/devuser/.local/lib/python3.8/site-packages/docstring_inheritance/docstring_inheritors/bases/inheritor.py:329: DocstringInheritanceWarning: File /home/devuser/.local/lib/python3.8/site-packages/braindecode/models/sleep_stager_blanco_2020.py:50: in SleepStagerBlanco2020.__init__: section Parameters: the docstring for the argument 'apply_batch_norm' is missing.\n",
      "  self._warn(\n",
      "/home/devuser/.local/lib/python3.8/site-packages/docstring_inheritance/docstring_inheritors/bases/inheritor.py:329: DocstringInheritanceWarning: File /home/devuser/.local/lib/python3.8/site-packages/braindecode/models/sleep_stager_blanco_2020.py:50: in SleepStagerBlanco2020.__init__: section Parameters: the docstring for the argument 'return_feats' is missing.\n",
      "  self._warn(\n",
      "/home/devuser/.local/lib/python3.8/site-packages/docstring_inheritance/docstring_inheritors/bases/inheritor.py:329: DocstringInheritanceWarning: File /home/devuser/.local/lib/python3.8/site-packages/braindecode/models/sleep_stager_blanco_2020.py:50: in SleepStagerBlanco2020.__init__: section Parameters: the docstring for the argument 'chs_info' is missing.\n",
      "  self._warn(\n",
      "/home/devuser/.local/lib/python3.8/site-packages/docstring_inheritance/docstring_inheritors/bases/inheritor.py:329: DocstringInheritanceWarning: File /home/devuser/.local/lib/python3.8/site-packages/braindecode/models/sleep_stager_blanco_2020.py:50: in SleepStagerBlanco2020.__init__: section Parameters: the docstring for the argument 'n_times' is missing.\n",
      "  self._warn(\n",
      "/home/devuser/.local/lib/python3.8/site-packages/docstring_inheritance/docstring_inheritors/bases/inheritor.py:329: DocstringInheritanceWarning: File /home/devuser/.local/lib/python3.8/site-packages/braindecode/models/sleep_stager_blanco_2020.py:50: in SleepStagerBlanco2020.__init__: section Parameters: the docstring for the argument 'n_channels' is missing.\n",
      "  self._warn(\n",
      "/home/devuser/.local/lib/python3.8/site-packages/docstring_inheritance/docstring_inheritors/bases/inheritor.py:329: DocstringInheritanceWarning: File /home/devuser/.local/lib/python3.8/site-packages/braindecode/models/sleep_stager_blanco_2020.py:50: in SleepStagerBlanco2020.__init__: section Parameters: the docstring for the argument 'n_classes' is missing.\n",
      "  self._warn(\n",
      "/home/devuser/.local/lib/python3.8/site-packages/docstring_inheritance/docstring_inheritors/bases/inheritor.py:329: DocstringInheritanceWarning: File /home/devuser/.local/lib/python3.8/site-packages/braindecode/models/sleep_stager_blanco_2020.py:50: in SleepStagerBlanco2020.__init__: section Parameters: the docstring for the argument 'input_size_s' is missing.\n",
      "  self._warn(\n",
      "/home/devuser/.local/lib/python3.8/site-packages/docstring_inheritance/docstring_inheritors/bases/inheritor.py:329: DocstringInheritanceWarning: File /home/devuser/.local/lib/python3.8/site-packages/braindecode/models/sleep_stager_blanco_2020.py:50: in SleepStagerBlanco2020.__init__: section Parameters: the docstring for the argument 'add_log_softmax' is missing.\n",
      "  self._warn(\n",
      "/home/devuser/.local/lib/python3.8/site-packages/docstring_inheritance/docstring_inheritors/bases/inheritor.py:329: DocstringInheritanceWarning: File /home/devuser/.local/lib/python3.8/site-packages/braindecode/models/sleep_stager_blanco_2020.py:144: in SleepStagerBlanco2020.forward: section Parameters: the docstring for the argument 'x' is missing.\n",
      "  self._warn(\n",
      "/home/devuser/.local/lib/python3.8/site-packages/docstring_inheritance/docstring_inheritors/bases/inheritor.py:329: DocstringInheritanceWarning: File /home/devuser/.local/lib/python3.8/site-packages/braindecode/models/sleep_stager_eldele_2021.py:70: in SleepStagerEldele2021.__init__: section Parameters: the docstring for the argument 'sfreq' is missing.\n",
      "  self._warn(\n",
      "/home/devuser/.local/lib/python3.8/site-packages/docstring_inheritance/docstring_inheritors/bases/inheritor.py:329: DocstringInheritanceWarning: File /home/devuser/.local/lib/python3.8/site-packages/braindecode/models/sleep_stager_eldele_2021.py:70: in SleepStagerEldele2021.__init__: section Parameters: the docstring for the argument 'n_tce' is missing.\n",
      "  self._warn(\n",
      "/home/devuser/.local/lib/python3.8/site-packages/docstring_inheritance/docstring_inheritors/bases/inheritor.py:329: DocstringInheritanceWarning: File /home/devuser/.local/lib/python3.8/site-packages/braindecode/models/sleep_stager_eldele_2021.py:70: in SleepStagerEldele2021.__init__: section Parameters: the docstring for the argument 'd_model' is missing.\n",
      "  self._warn(\n",
      "/home/devuser/.local/lib/python3.8/site-packages/docstring_inheritance/docstring_inheritors/bases/inheritor.py:329: DocstringInheritanceWarning: File /home/devuser/.local/lib/python3.8/site-packages/braindecode/models/sleep_stager_eldele_2021.py:70: in SleepStagerEldele2021.__init__: section Parameters: the docstring for the argument 'd_ff' is missing.\n",
      "  self._warn(\n",
      "/home/devuser/.local/lib/python3.8/site-packages/docstring_inheritance/docstring_inheritors/bases/inheritor.py:329: DocstringInheritanceWarning: File /home/devuser/.local/lib/python3.8/site-packages/braindecode/models/sleep_stager_eldele_2021.py:70: in SleepStagerEldele2021.__init__: section Parameters: the docstring for the argument 'n_attn_heads' is missing.\n",
      "  self._warn(\n",
      "/home/devuser/.local/lib/python3.8/site-packages/docstring_inheritance/docstring_inheritors/bases/inheritor.py:329: DocstringInheritanceWarning: File /home/devuser/.local/lib/python3.8/site-packages/braindecode/models/sleep_stager_eldele_2021.py:70: in SleepStagerEldele2021.__init__: section Parameters: the docstring for the argument 'dropout' is missing.\n",
      "  self._warn(\n",
      "/home/devuser/.local/lib/python3.8/site-packages/docstring_inheritance/docstring_inheritors/bases/inheritor.py:329: DocstringInheritanceWarning: File /home/devuser/.local/lib/python3.8/site-packages/braindecode/models/sleep_stager_eldele_2021.py:70: in SleepStagerEldele2021.__init__: section Parameters: the docstring for the argument 'input_window_seconds' is missing.\n",
      "  self._warn(\n",
      "/home/devuser/.local/lib/python3.8/site-packages/docstring_inheritance/docstring_inheritors/bases/inheritor.py:329: DocstringInheritanceWarning: File /home/devuser/.local/lib/python3.8/site-packages/braindecode/models/sleep_stager_eldele_2021.py:70: in SleepStagerEldele2021.__init__: section Parameters: the docstring for the argument 'n_outputs' is missing.\n",
      "  self._warn(\n",
      "/home/devuser/.local/lib/python3.8/site-packages/docstring_inheritance/docstring_inheritors/bases/inheritor.py:329: DocstringInheritanceWarning: File /home/devuser/.local/lib/python3.8/site-packages/braindecode/models/sleep_stager_eldele_2021.py:70: in SleepStagerEldele2021.__init__: section Parameters: the docstring for the argument 'after_reduced_cnn_size' is missing.\n",
      "  self._warn(\n",
      "/home/devuser/.local/lib/python3.8/site-packages/docstring_inheritance/docstring_inheritors/bases/inheritor.py:329: DocstringInheritanceWarning: File /home/devuser/.local/lib/python3.8/site-packages/braindecode/models/sleep_stager_eldele_2021.py:70: in SleepStagerEldele2021.__init__: section Parameters: the docstring for the argument 'return_feats' is missing.\n",
      "  self._warn(\n",
      "/home/devuser/.local/lib/python3.8/site-packages/docstring_inheritance/docstring_inheritors/bases/inheritor.py:329: DocstringInheritanceWarning: File /home/devuser/.local/lib/python3.8/site-packages/braindecode/models/sleep_stager_eldele_2021.py:70: in SleepStagerEldele2021.__init__: section Parameters: the docstring for the argument 'chs_info' is missing.\n",
      "  self._warn(\n",
      "/home/devuser/.local/lib/python3.8/site-packages/docstring_inheritance/docstring_inheritors/bases/inheritor.py:329: DocstringInheritanceWarning: File /home/devuser/.local/lib/python3.8/site-packages/braindecode/models/sleep_stager_eldele_2021.py:70: in SleepStagerEldele2021.__init__: section Parameters: the docstring for the argument 'n_chans' is missing.\n",
      "  self._warn(\n",
      "/home/devuser/.local/lib/python3.8/site-packages/docstring_inheritance/docstring_inheritors/bases/inheritor.py:329: DocstringInheritanceWarning: File /home/devuser/.local/lib/python3.8/site-packages/braindecode/models/sleep_stager_eldele_2021.py:70: in SleepStagerEldele2021.__init__: section Parameters: the docstring for the argument 'n_times' is missing.\n",
      "  self._warn(\n",
      "/home/devuser/.local/lib/python3.8/site-packages/docstring_inheritance/docstring_inheritors/bases/inheritor.py:329: DocstringInheritanceWarning: File /home/devuser/.local/lib/python3.8/site-packages/braindecode/models/sleep_stager_eldele_2021.py:70: in SleepStagerEldele2021.__init__: section Parameters: the docstring for the argument 'n_classes' is missing.\n",
      "  self._warn(\n",
      "/home/devuser/.local/lib/python3.8/site-packages/docstring_inheritance/docstring_inheritors/bases/inheritor.py:329: DocstringInheritanceWarning: File /home/devuser/.local/lib/python3.8/site-packages/braindecode/models/sleep_stager_eldele_2021.py:70: in SleepStagerEldele2021.__init__: section Parameters: the docstring for the argument 'input_size_s' is missing.\n",
      "  self._warn(\n",
      "/home/devuser/.local/lib/python3.8/site-packages/docstring_inheritance/docstring_inheritors/bases/inheritor.py:329: DocstringInheritanceWarning: File /home/devuser/.local/lib/python3.8/site-packages/braindecode/models/sleep_stager_eldele_2021.py:145: in SleepStagerEldele2021.forward: section Parameters: the docstring for the argument 'x' is missing.\n",
      "  self._warn(\n",
      "/home/devuser/.local/lib/python3.8/site-packages/docstring_inheritance/docstring_inheritors/bases/inheritor.py:329: DocstringInheritanceWarning: File /home/devuser/.local/lib/python3.8/site-packages/braindecode/models/tidnet.py:218: in TIDNet.__init__: section Parameters: the docstring for the argument 'n_chans' is missing.\n",
      "  self._warn(\n",
      "/home/devuser/.local/lib/python3.8/site-packages/docstring_inheritance/docstring_inheritors/bases/inheritor.py:329: DocstringInheritanceWarning: File /home/devuser/.local/lib/python3.8/site-packages/braindecode/models/tidnet.py:218: in TIDNet.__init__: section Parameters: the docstring for the argument 'n_outputs' is missing.\n",
      "  self._warn(\n",
      "/home/devuser/.local/lib/python3.8/site-packages/docstring_inheritance/docstring_inheritors/bases/inheritor.py:329: DocstringInheritanceWarning: File /home/devuser/.local/lib/python3.8/site-packages/braindecode/models/tidnet.py:218: in TIDNet.__init__: section Parameters: the docstring for the argument 'n_times' is missing.\n",
      "  self._warn(\n",
      "/home/devuser/.local/lib/python3.8/site-packages/docstring_inheritance/docstring_inheritors/bases/inheritor.py:329: DocstringInheritanceWarning: File /home/devuser/.local/lib/python3.8/site-packages/braindecode/models/tidnet.py:218: in TIDNet.__init__: section Parameters: the docstring for the argument 'in_chans' is missing.\n",
      "  self._warn(\n",
      "/home/devuser/.local/lib/python3.8/site-packages/docstring_inheritance/docstring_inheritors/bases/inheritor.py:329: DocstringInheritanceWarning: File /home/devuser/.local/lib/python3.8/site-packages/braindecode/models/tidnet.py:218: in TIDNet.__init__: section Parameters: the docstring for the argument 'n_classes' is missing.\n",
      "  self._warn(\n",
      "/home/devuser/.local/lib/python3.8/site-packages/docstring_inheritance/docstring_inheritors/bases/inheritor.py:329: DocstringInheritanceWarning: File /home/devuser/.local/lib/python3.8/site-packages/braindecode/models/tidnet.py:218: in TIDNet.__init__: section Parameters: the docstring for the argument 'input_window_samples' is missing.\n",
      "  self._warn(\n",
      "/home/devuser/.local/lib/python3.8/site-packages/docstring_inheritance/docstring_inheritors/bases/inheritor.py:329: DocstringInheritanceWarning: File /home/devuser/.local/lib/python3.8/site-packages/braindecode/models/tidnet.py:218: in TIDNet.__init__: section Parameters: the docstring for the argument 's_growth' is missing.\n",
      "  self._warn(\n",
      "/home/devuser/.local/lib/python3.8/site-packages/docstring_inheritance/docstring_inheritors/bases/inheritor.py:329: DocstringInheritanceWarning: File /home/devuser/.local/lib/python3.8/site-packages/braindecode/models/tidnet.py:218: in TIDNet.__init__: section Parameters: the docstring for the argument 't_filters' is missing.\n",
      "  self._warn(\n",
      "/home/devuser/.local/lib/python3.8/site-packages/docstring_inheritance/docstring_inheritors/bases/inheritor.py:329: DocstringInheritanceWarning: File /home/devuser/.local/lib/python3.8/site-packages/braindecode/models/tidnet.py:218: in TIDNet.__init__: section Parameters: the docstring for the argument 'drop_prob' is missing.\n",
      "  self._warn(\n",
      "/home/devuser/.local/lib/python3.8/site-packages/docstring_inheritance/docstring_inheritors/bases/inheritor.py:329: DocstringInheritanceWarning: File /home/devuser/.local/lib/python3.8/site-packages/braindecode/models/tidnet.py:218: in TIDNet.__init__: section Parameters: the docstring for the argument 'pooling' is missing.\n",
      "  self._warn(\n",
      "/home/devuser/.local/lib/python3.8/site-packages/docstring_inheritance/docstring_inheritors/bases/inheritor.py:329: DocstringInheritanceWarning: File /home/devuser/.local/lib/python3.8/site-packages/braindecode/models/tidnet.py:218: in TIDNet.__init__: section Parameters: the docstring for the argument 'temp_layers' is missing.\n",
      "  self._warn(\n",
      "/home/devuser/.local/lib/python3.8/site-packages/docstring_inheritance/docstring_inheritors/bases/inheritor.py:329: DocstringInheritanceWarning: File /home/devuser/.local/lib/python3.8/site-packages/braindecode/models/tidnet.py:218: in TIDNet.__init__: section Parameters: the docstring for the argument 'spat_layers' is missing.\n",
      "  self._warn(\n",
      "/home/devuser/.local/lib/python3.8/site-packages/docstring_inheritance/docstring_inheritors/bases/inheritor.py:329: DocstringInheritanceWarning: File /home/devuser/.local/lib/python3.8/site-packages/braindecode/models/tidnet.py:218: in TIDNet.__init__: section Parameters: the docstring for the argument 'temp_span' is missing.\n",
      "  self._warn(\n",
      "/home/devuser/.local/lib/python3.8/site-packages/docstring_inheritance/docstring_inheritors/bases/inheritor.py:329: DocstringInheritanceWarning: File /home/devuser/.local/lib/python3.8/site-packages/braindecode/models/tidnet.py:218: in TIDNet.__init__: section Parameters: the docstring for the argument 'bottleneck' is missing.\n",
      "  self._warn(\n",
      "/home/devuser/.local/lib/python3.8/site-packages/docstring_inheritance/docstring_inheritors/bases/inheritor.py:329: DocstringInheritanceWarning: File /home/devuser/.local/lib/python3.8/site-packages/braindecode/models/tidnet.py:218: in TIDNet.__init__: section Parameters: the docstring for the argument 'summary' is missing.\n",
      "  self._warn(\n",
      "/home/devuser/.local/lib/python3.8/site-packages/docstring_inheritance/docstring_inheritors/bases/inheritor.py:329: DocstringInheritanceWarning: File /home/devuser/.local/lib/python3.8/site-packages/braindecode/models/tidnet.py:218: in TIDNet.__init__: section Parameters: the docstring for the argument 'add_log_softmax' is missing.\n",
      "  self._warn(\n",
      "/home/devuser/.local/lib/python3.8/site-packages/docstring_inheritance/docstring_inheritors/bases/inheritor.py:329: DocstringInheritanceWarning: File /home/devuser/.local/lib/python3.8/site-packages/braindecode/models/tidnet.py:267: in TIDNet.forward: section Parameters: the docstring for the argument 'x' is missing.\n",
      "  self._warn(\n",
      "/home/devuser/.local/lib/python3.8/site-packages/docstring_inheritance/docstring_inheritors/bases/inheritor.py:329: DocstringInheritanceWarning: File /home/devuser/.local/lib/python3.8/site-packages/braindecode/models/usleep.py:166: in USleep.__init__: section Parameters: the docstring for the argument 'n_chans' is missing.\n",
      "  self._warn(\n",
      "/home/devuser/.local/lib/python3.8/site-packages/docstring_inheritance/docstring_inheritors/bases/inheritor.py:329: DocstringInheritanceWarning: File /home/devuser/.local/lib/python3.8/site-packages/braindecode/models/usleep.py:166: in USleep.__init__: section Parameters: the docstring for the argument 'sfreq' is missing.\n",
      "  self._warn(\n",
      "/home/devuser/.local/lib/python3.8/site-packages/docstring_inheritance/docstring_inheritors/bases/inheritor.py:329: DocstringInheritanceWarning: File /home/devuser/.local/lib/python3.8/site-packages/braindecode/models/usleep.py:166: in USleep.__init__: section Parameters: the docstring for the argument 'depth' is missing.\n",
      "  self._warn(\n",
      "/home/devuser/.local/lib/python3.8/site-packages/docstring_inheritance/docstring_inheritors/bases/inheritor.py:329: DocstringInheritanceWarning: File /home/devuser/.local/lib/python3.8/site-packages/braindecode/models/usleep.py:166: in USleep.__init__: section Parameters: the docstring for the argument 'n_time_filters' is missing.\n",
      "  self._warn(\n",
      "/home/devuser/.local/lib/python3.8/site-packages/docstring_inheritance/docstring_inheritors/bases/inheritor.py:329: DocstringInheritanceWarning: File /home/devuser/.local/lib/python3.8/site-packages/braindecode/models/usleep.py:166: in USleep.__init__: section Parameters: the docstring for the argument 'complexity_factor' is missing.\n",
      "  self._warn(\n",
      "/home/devuser/.local/lib/python3.8/site-packages/docstring_inheritance/docstring_inheritors/bases/inheritor.py:329: DocstringInheritanceWarning: File /home/devuser/.local/lib/python3.8/site-packages/braindecode/models/usleep.py:166: in USleep.__init__: section Parameters: the docstring for the argument 'with_skip_connection' is missing.\n",
      "  self._warn(\n",
      "/home/devuser/.local/lib/python3.8/site-packages/docstring_inheritance/docstring_inheritors/bases/inheritor.py:329: DocstringInheritanceWarning: File /home/devuser/.local/lib/python3.8/site-packages/braindecode/models/usleep.py:166: in USleep.__init__: section Parameters: the docstring for the argument 'n_outputs' is missing.\n",
      "  self._warn(\n",
      "/home/devuser/.local/lib/python3.8/site-packages/docstring_inheritance/docstring_inheritors/bases/inheritor.py:329: DocstringInheritanceWarning: File /home/devuser/.local/lib/python3.8/site-packages/braindecode/models/usleep.py:166: in USleep.__init__: section Parameters: the docstring for the argument 'input_window_seconds' is missing.\n",
      "  self._warn(\n",
      "/home/devuser/.local/lib/python3.8/site-packages/docstring_inheritance/docstring_inheritors/bases/inheritor.py:329: DocstringInheritanceWarning: File /home/devuser/.local/lib/python3.8/site-packages/braindecode/models/usleep.py:166: in USleep.__init__: section Parameters: the docstring for the argument 'time_conv_size_s' is missing.\n",
      "  self._warn(\n",
      "/home/devuser/.local/lib/python3.8/site-packages/docstring_inheritance/docstring_inheritors/bases/inheritor.py:329: DocstringInheritanceWarning: File /home/devuser/.local/lib/python3.8/site-packages/braindecode/models/usleep.py:166: in USleep.__init__: section Parameters: the docstring for the argument 'ensure_odd_conv_size' is missing.\n",
      "  self._warn(\n",
      "/home/devuser/.local/lib/python3.8/site-packages/docstring_inheritance/docstring_inheritors/bases/inheritor.py:329: DocstringInheritanceWarning: File /home/devuser/.local/lib/python3.8/site-packages/braindecode/models/usleep.py:166: in USleep.__init__: section Parameters: the docstring for the argument 'chs_info' is missing.\n",
      "  self._warn(\n",
      "/home/devuser/.local/lib/python3.8/site-packages/docstring_inheritance/docstring_inheritors/bases/inheritor.py:329: DocstringInheritanceWarning: File /home/devuser/.local/lib/python3.8/site-packages/braindecode/models/usleep.py:166: in USleep.__init__: section Parameters: the docstring for the argument 'n_times' is missing.\n",
      "  self._warn(\n",
      "/home/devuser/.local/lib/python3.8/site-packages/docstring_inheritance/docstring_inheritors/bases/inheritor.py:329: DocstringInheritanceWarning: File /home/devuser/.local/lib/python3.8/site-packages/braindecode/models/usleep.py:166: in USleep.__init__: section Parameters: the docstring for the argument 'in_chans' is missing.\n",
      "  self._warn(\n",
      "/home/devuser/.local/lib/python3.8/site-packages/docstring_inheritance/docstring_inheritors/bases/inheritor.py:329: DocstringInheritanceWarning: File /home/devuser/.local/lib/python3.8/site-packages/braindecode/models/usleep.py:166: in USleep.__init__: section Parameters: the docstring for the argument 'n_classes' is missing.\n",
      "  self._warn(\n",
      "/home/devuser/.local/lib/python3.8/site-packages/docstring_inheritance/docstring_inheritors/bases/inheritor.py:329: DocstringInheritanceWarning: File /home/devuser/.local/lib/python3.8/site-packages/braindecode/models/usleep.py:166: in USleep.__init__: section Parameters: the docstring for the argument 'input_size_s' is missing.\n",
      "  self._warn(\n",
      "/home/devuser/.local/lib/python3.8/site-packages/docstring_inheritance/docstring_inheritors/bases/inheritor.py:329: DocstringInheritanceWarning: File /home/devuser/.local/lib/python3.8/site-packages/braindecode/models/usleep.py:166: in USleep.__init__: section Parameters: the docstring for the argument 'add_log_softmax' is missing.\n",
      "  self._warn(\n",
      "/home/devuser/.local/lib/python3.8/site-packages/docstring_inheritance/docstring_inheritors/bases/inheritor.py:329: DocstringInheritanceWarning: File /home/devuser/.local/lib/python3.8/site-packages/braindecode/models/usleep.py:297: in USleep.forward: section Parameters: the docstring for the argument 'x' is missing.\n",
      "  self._warn(\n",
      "/home/devuser/.local/lib/python3.8/site-packages/braindecode/datautil/preprocess.py:10: UserWarning: datautil.preprocess module is deprecated and is now under preprocessing.preprocess, please use from import braindecode.preprocessing.preprocess\n",
      "  warn('datautil.preprocess module is deprecated and is now under '\n"
     ]
    }
   ],
   "source": [
    "import os, yaml\n",
    "from easydict import EasyDict\n",
    "import pickle\n",
    "import hashlib\n",
    "from datetime import datetime\n",
    "\n",
    "import torch\n",
    "from torch.utils.data import DataLoader\n",
    "\n",
    "from sklearn.model_selection import KFold\n",
    "\n",
    "from dataloader.bci_compet import get_dataset\n",
    "from dataloader.bci_compet import BCICompet2aIV\n",
    "\n",
    "from model.litmodel import get_litmodel\n",
    "from pytorch_lightning.loggers import TensorBoardLogger\n",
    "\n",
    "from pytorch_lightning import Trainer, seed_everything\n",
    "\n",
    "\n",
    "from utils.setup_utils import (\n",
    "    get_device,\n",
    "    get_log_name,\n",
    ")\n",
    "from utils.training_utils import get_callbacks\n",
    "\n",
    "%load_ext autoreload\n",
    "%autoreload 2"
   ]
  },
  {
   "cell_type": "code",
   "execution_count": 3,
   "metadata": {},
   "outputs": [],
   "source": [
    "CACHE_ROOT = 'cache'\n",
    "\n",
    "config_name = 'bcicompet2a_config'\n",
    "return_subject_id = False\n",
    "\n",
    "with open(f'configs/{config_name}.yaml') as file:\n",
    "    config = yaml.load(file, Loader=yaml.FullLoader)\n",
    "    args = EasyDict(config)\n",
    "\n",
    "def hash(config):\n",
    "    return 'base'\n",
    "    config_string = str(sorted(config.items())).encode()\n",
    "    return hashlib.sha256(config_string).hexdigest()[:8]\n",
    "config_hash = hash(config)"
   ]
  },
  {
   "cell_type": "code",
   "execution_count": 4,
   "metadata": {},
   "outputs": [
    {
     "name": "stdout",
     "output_type": "stream",
     "text": [
      "Loading cache\n"
     ]
    }
   ],
   "source": [
    "def load_dataset(args, return_subject_id=False):\n",
    "    datasets = {}\n",
    "    for subject_id in range(0,9):\n",
    "        args['target_subject'] = subject_id\n",
    "        datasets[subject_id] = BCICompet2aIV(args, return_subject_id=return_subject_id)\n",
    "    return datasets\n",
    "\n",
    "hash_path = os.path.join(CACHE_ROOT, f'{config_name}_{config_hash}_{str(int(return_subject_id))}.pkl')\n",
    "\n",
    "if not os.path.isfile(hash_path):\n",
    "    print('Cache miss, generating cache')\n",
    "    datasets = load_dataset(args, return_subject_id=return_subject_id)\n",
    "    with open(hash_path, 'wb') as file:\n",
    "        pickle.dump(datasets, file)\n",
    "else:\n",
    "    print('Loading cache')\n",
    "    with open(hash_path, 'rb') as file:\n",
    "        datasets = pickle.load(file)"
   ]
  },
  {
   "cell_type": "code",
   "execution_count": 5,
   "metadata": {},
   "outputs": [
    {
     "name": "stderr",
     "output_type": "stream",
     "text": [
      "Seed set to 42\n"
     ]
    },
    {
     "name": "stdout",
     "output_type": "stream",
     "text": [
      "LOG >>> Log name: \n",
      "\t20231130_task_BCICompet2a_batch_512_lr_0.002_Baseline\n"
     ]
    },
    {
     "data": {
      "text/plain": [
       "42"
      ]
     },
     "execution_count": 5,
     "metadata": {},
     "output_type": "execute_result"
    }
   ],
   "source": [
    "#### Set Log ####\n",
    "args['current_time'] = datetime.now().strftime('%Y%m%d')\n",
    "args['LOG_NAME'] = get_log_name(args)\n",
    "\n",
    "#### Update configs ####\n",
    "if args.downsampling != 0: args['sampling_rate'] = args.downsampling\n",
    "\n",
    "seed_everything(args.SEED)\n"
   ]
  },
  {
   "cell_type": "code",
   "execution_count": 6,
   "metadata": {},
   "outputs": [
    {
     "name": "stdout",
     "output_type": "stream",
     "text": [
      "Subject 0 has 288 trials\n",
      "Subject 1 has 288 trials\n",
      "Subject 2 has 288 trials\n",
      "Subject 3 has 288 trials\n",
      "Subject 4 has 288 trials\n",
      "Subject 5 has 288 trials\n",
      "Subject 6 has 288 trials\n",
      "Subject 7 has 288 trials\n",
      "Subject 8 has 288 trials\n"
     ]
    }
   ],
   "source": [
    "for subject_id in datasets.keys(): \n",
    "    print(f\"Subject {subject_id} has {len(datasets[subject_id])} trials\")"
   ]
  },
  {
   "cell_type": "code",
   "execution_count": 7,
   "metadata": {},
   "outputs": [
    {
     "data": {
      "text/plain": [
       "(2160, 432)"
      ]
     },
     "execution_count": 7,
     "metadata": {},
     "output_type": "execute_result"
    }
   ],
   "source": [
    "train_size = 240\n",
    "val_size = 48\n",
    "\n",
    "\n",
    "train_datasets = {}\n",
    "val_datasets = {}\n",
    "for subject_id in datasets.keys():\n",
    "    train_datasets[subject_id] = torch.utils.data.Subset(datasets[subject_id], range(train_size))\n",
    "    val_datasets[subject_id] = torch.utils.data.Subset(datasets[subject_id], range(train_size, train_size+val_size))\n",
    "\n",
    "\n",
    "train_dataset_all = torch.utils.data.ConcatDataset(list(train_datasets.values()))\n",
    "val_dataset_all = torch.utils.data.ConcatDataset(list(val_datasets.values()))\n",
    "len(train_dataset_all), len(val_dataset_all)"
   ]
  },
  {
   "cell_type": "code",
   "execution_count": 8,
   "metadata": {},
   "outputs": [],
   "source": [
    "train_dataloader_all = DataLoader(train_dataset_all, batch_size=args['batch_size'], shuffle=True, num_workers=0, persistent_workers=False)\n",
    "val_dataloader_all = DataLoader(val_dataset_all, batch_size=args['batch_size'], shuffle=False, num_workers=0, persistent_workers=False)"
   ]
  },
  {
   "cell_type": "code",
   "execution_count": 9,
   "metadata": {},
   "outputs": [
    {
     "name": "stderr",
     "output_type": "stream",
     "text": [
      "/usr/local/lib/python3.8/dist-packages/torch/nn/modules/lazy.py:180: UserWarning: Lazy modules are a new feature under heavy development so changes to the API or functionality can happen at any moment.\n",
      "  warnings.warn('Lazy modules are a new feature under heavy development '\n"
     ]
    }
   ],
   "source": [
    "model = get_litmodel(args)"
   ]
  },
  {
   "cell_type": "code",
   "execution_count": 10,
   "metadata": {},
   "outputs": [],
   "source": [
    "logger = TensorBoardLogger(args.LOG_PATH, \n",
    "                                    name='all_baseline')"
   ]
  },
  {
   "cell_type": "code",
   "execution_count": 11,
   "metadata": {},
   "outputs": [],
   "source": [
    "callbacks = get_callbacks(monitor='val_loss', args=args)"
   ]
  },
  {
   "cell_type": "code",
   "execution_count": 12,
   "metadata": {},
   "outputs": [
    {
     "name": "stderr",
     "output_type": "stream",
     "text": [
      "GPU available: True (cuda), used: True\n",
      "TPU available: False, using: 0 TPU cores\n",
      "IPU available: False, using: 0 IPUs\n",
      "HPU available: False, using: 0 HPUs\n"
     ]
    }
   ],
   "source": [
    "trainer = Trainer(\n",
    "            max_epochs=args['EPOCHS'],\n",
    "            callbacks=callbacks,\n",
    "            default_root_dir=args.CKPT_PATH,\n",
    "            logger=logger,\n",
    "        )"
   ]
  },
  {
   "cell_type": "code",
   "execution_count": 13,
   "metadata": {},
   "outputs": [
    {
     "name": "stderr",
     "output_type": "stream",
     "text": [
      "You are using a CUDA device ('NVIDIA GeForce RTX 4070 Ti') that has Tensor Cores. To properly utilize them, you should set `torch.set_float32_matmul_precision('medium' | 'high')` which will trade-off precision for performance. For more details, read https://pytorch.org/docs/stable/generated/torch.set_float32_matmul_precision.html#torch.set_float32_matmul_precision\n",
      "Missing logger folder: ./logs/all_baseline\n"
     ]
    },
    {
     "name": "stderr",
     "output_type": "stream",
     "text": [
      "LOCAL_RANK: 0 - CUDA_VISIBLE_DEVICES: [0]\n",
      "/home/devuser/.local/lib/python3.8/site-packages/pytorch_lightning/core/optimizer.py:256: Found unsupported keys in the lr scheduler dict: {'internal'}. HINT: remove them from the output of `configure_optimizers`.\n",
      "/home/devuser/.local/lib/python3.8/site-packages/pytorch_lightning/utilities/model_summary/model_summary.py:452: A layer with UninitializedParameter was found. Thus, the total number of parameters detected may be inaccurate.\n",
      "\n",
      "  | Name      | Type             | Params\n",
      "-----------------------------------------------\n",
      "0 | model     | Net              | 13.5 K\n",
      "1 | criterion | CrossEntropyLoss | 0     \n",
      "-----------------------------------------------\n",
      "13.5 K    Trainable params\n",
      "0         Non-trainable params\n",
      "13.5 K    Total params\n",
      "0.054     Total estimated model params size (MB)\n"
     ]
    },
    {
     "data": {
      "application/vnd.jupyter.widget-view+json": {
       "model_id": "186e7341f3e44116b6a1253360bd5bae",
       "version_major": 2,
       "version_minor": 0
      },
      "text/plain": [
       "  0%|          | 0/500 [00:00<?, ?it/s]"
      ]
     },
     "metadata": {},
     "output_type": "display_data"
    },
    {
     "data": {
      "application/vnd.jupyter.widget-view+json": {
       "model_id": "47aa2049cd4445728666022f3a29214f",
       "version_major": 2,
       "version_minor": 0
      },
      "text/plain": [
       "Sanity Checking: |          | 0/? [00:00<?, ?it/s]"
      ]
     },
     "metadata": {},
     "output_type": "display_data"
    },
    {
     "name": "stderr",
     "output_type": "stream",
     "text": [
      "/home/devuser/.local/lib/python3.8/site-packages/pytorch_lightning/trainer/connectors/data_connector.py:441: The 'val_dataloader' does not have many workers which may be a bottleneck. Consider increasing the value of the `num_workers` argument` to `num_workers=31` in the `DataLoader` to improve performance.\n",
      "/usr/local/lib/python3.8/dist-packages/torch/nn/modules/conv.py:459: UserWarning: Using padding='same' with even kernel lengths and odd dilation may require a zero-padded copy of the input be created (Triggered internally at ../aten/src/ATen/native/Convolution.cpp:1003.)\n",
      "  return F.conv2d(input, weight, bias, self.stride,\n",
      "/home/devuser/.local/lib/python3.8/site-packages/pytorch_lightning/trainer/connectors/data_connector.py:441: The 'train_dataloader' does not have many workers which may be a bottleneck. Consider increasing the value of the `num_workers` argument` to `num_workers=31` in the `DataLoader` to improve performance.\n",
      "/home/devuser/.local/lib/python3.8/site-packages/pytorch_lightning/loops/fit_loop.py:293: The number of training batches (5) is smaller than the logging interval Trainer(log_every_n_steps=50). Set a lower value for log_every_n_steps if you want to see logs for the training epoch.\n"
     ]
    },
    {
     "data": {
      "application/vnd.jupyter.widget-view+json": {
       "model_id": "5e5c96657b6a4bf0b2f0e4566ea269fe",
       "version_major": 2,
       "version_minor": 0
      },
      "text/plain": [
       "Training: |          | 0/? [00:00<?, ?it/s]"
      ]
     },
     "metadata": {},
     "output_type": "display_data"
    },
    {
     "data": {
      "application/vnd.jupyter.widget-view+json": {
       "model_id": "d08bc2c5833a482f8eea9272efdc45bb",
       "version_major": 2,
       "version_minor": 0
      },
      "text/plain": [
       "Validation: |          | 0/? [00:00<?, ?it/s]"
      ]
     },
     "metadata": {},
     "output_type": "display_data"
    },
    {
     "data": {
      "application/vnd.jupyter.widget-view+json": {
       "model_id": "8570c65e41d54de7beea573460a7df8a",
       "version_major": 2,
       "version_minor": 0
      },
      "text/plain": [
       "Validation: |          | 0/? [00:00<?, ?it/s]"
      ]
     },
     "metadata": {},
     "output_type": "display_data"
    },
    {
     "data": {
      "application/vnd.jupyter.widget-view+json": {
       "model_id": "f7a2a2850a104e708478fc03b18f3bc9",
       "version_major": 2,
       "version_minor": 0
      },
      "text/plain": [
       "Validation: |          | 0/? [00:00<?, ?it/s]"
      ]
     },
     "metadata": {},
     "output_type": "display_data"
    },
    {
     "data": {
      "application/vnd.jupyter.widget-view+json": {
       "model_id": "891271a4eb514c48928935b1d0a657bd",
       "version_major": 2,
       "version_minor": 0
      },
      "text/plain": [
       "Validation: |          | 0/? [00:00<?, ?it/s]"
      ]
     },
     "metadata": {},
     "output_type": "display_data"
    },
    {
     "data": {
      "application/vnd.jupyter.widget-view+json": {
       "model_id": "775dbbe810bb41f189dc9f61f617860c",
       "version_major": 2,
       "version_minor": 0
      },
      "text/plain": [
       "Validation: |          | 0/? [00:00<?, ?it/s]"
      ]
     },
     "metadata": {},
     "output_type": "display_data"
    },
    {
     "data": {
      "application/vnd.jupyter.widget-view+json": {
       "model_id": "35e4f12af84d49ffa6459465f99a4b26",
       "version_major": 2,
       "version_minor": 0
      },
      "text/plain": [
       "Validation: |          | 0/? [00:00<?, ?it/s]"
      ]
     },
     "metadata": {},
     "output_type": "display_data"
    },
    {
     "data": {
      "application/vnd.jupyter.widget-view+json": {
       "model_id": "77b9331f592a459fb467b92b10d4a587",
       "version_major": 2,
       "version_minor": 0
      },
      "text/plain": [
       "Validation: |          | 0/? [00:00<?, ?it/s]"
      ]
     },
     "metadata": {},
     "output_type": "display_data"
    },
    {
     "data": {
      "application/vnd.jupyter.widget-view+json": {
       "model_id": "5b551b69fc7e4bdebc1764cfbba84275",
       "version_major": 2,
       "version_minor": 0
      },
      "text/plain": [
       "Validation: |          | 0/? [00:00<?, ?it/s]"
      ]
     },
     "metadata": {},
     "output_type": "display_data"
    },
    {
     "data": {
      "application/vnd.jupyter.widget-view+json": {
       "model_id": "4699c50e29714bb097e7bebedfa9e9a9",
       "version_major": 2,
       "version_minor": 0
      },
      "text/plain": [
       "Validation: |          | 0/? [00:00<?, ?it/s]"
      ]
     },
     "metadata": {},
     "output_type": "display_data"
    },
    {
     "data": {
      "application/vnd.jupyter.widget-view+json": {
       "model_id": "07580ee4c106472098c93befdd7fa9eb",
       "version_major": 2,
       "version_minor": 0
      },
      "text/plain": [
       "Validation: |          | 0/? [00:00<?, ?it/s]"
      ]
     },
     "metadata": {},
     "output_type": "display_data"
    },
    {
     "data": {
      "application/vnd.jupyter.widget-view+json": {
       "model_id": "775d6cf86cbd46658972d87ebd7be38e",
       "version_major": 2,
       "version_minor": 0
      },
      "text/plain": [
       "Validation: |          | 0/? [00:00<?, ?it/s]"
      ]
     },
     "metadata": {},
     "output_type": "display_data"
    },
    {
     "data": {
      "application/vnd.jupyter.widget-view+json": {
       "model_id": "ec99033e47fa4fe891e550b7080f27b7",
       "version_major": 2,
       "version_minor": 0
      },
      "text/plain": [
       "Validation: |          | 0/? [00:00<?, ?it/s]"
      ]
     },
     "metadata": {},
     "output_type": "display_data"
    },
    {
     "data": {
      "application/vnd.jupyter.widget-view+json": {
       "model_id": "9a472abe398e407ead605f6fabfd1e21",
       "version_major": 2,
       "version_minor": 0
      },
      "text/plain": [
       "Validation: |          | 0/? [00:00<?, ?it/s]"
      ]
     },
     "metadata": {},
     "output_type": "display_data"
    },
    {
     "data": {
      "application/vnd.jupyter.widget-view+json": {
       "model_id": "3da9f9b459d947949b67d305661be25c",
       "version_major": 2,
       "version_minor": 0
      },
      "text/plain": [
       "Validation: |          | 0/? [00:00<?, ?it/s]"
      ]
     },
     "metadata": {},
     "output_type": "display_data"
    },
    {
     "data": {
      "application/vnd.jupyter.widget-view+json": {
       "model_id": "79a3f646c68b42ee89cb48a0a7583397",
       "version_major": 2,
       "version_minor": 0
      },
      "text/plain": [
       "Validation: |          | 0/? [00:00<?, ?it/s]"
      ]
     },
     "metadata": {},
     "output_type": "display_data"
    },
    {
     "data": {
      "application/vnd.jupyter.widget-view+json": {
       "model_id": "440cf05680524d42bd4a38806a445d59",
       "version_major": 2,
       "version_minor": 0
      },
      "text/plain": [
       "Validation: |          | 0/? [00:00<?, ?it/s]"
      ]
     },
     "metadata": {},
     "output_type": "display_data"
    },
    {
     "data": {
      "application/vnd.jupyter.widget-view+json": {
       "model_id": "d49b72b53e7a40c6a18107201924b157",
       "version_major": 2,
       "version_minor": 0
      },
      "text/plain": [
       "Validation: |          | 0/? [00:00<?, ?it/s]"
      ]
     },
     "metadata": {},
     "output_type": "display_data"
    },
    {
     "data": {
      "application/vnd.jupyter.widget-view+json": {
       "model_id": "353349419f8f4b7493de5a44478ddf4d",
       "version_major": 2,
       "version_minor": 0
      },
      "text/plain": [
       "Validation: |          | 0/? [00:00<?, ?it/s]"
      ]
     },
     "metadata": {},
     "output_type": "display_data"
    },
    {
     "data": {
      "application/vnd.jupyter.widget-view+json": {
       "model_id": "d57b7309df384e23b611835a48ab0eef",
       "version_major": 2,
       "version_minor": 0
      },
      "text/plain": [
       "Validation: |          | 0/? [00:00<?, ?it/s]"
      ]
     },
     "metadata": {},
     "output_type": "display_data"
    },
    {
     "data": {
      "application/vnd.jupyter.widget-view+json": {
       "model_id": "5e880629e56b4748a65ab933afca3de5",
       "version_major": 2,
       "version_minor": 0
      },
      "text/plain": [
       "Validation: |          | 0/? [00:00<?, ?it/s]"
      ]
     },
     "metadata": {},
     "output_type": "display_data"
    },
    {
     "data": {
      "application/vnd.jupyter.widget-view+json": {
       "model_id": "e623c4f35b6b4fc8b07bdbca645154e2",
       "version_major": 2,
       "version_minor": 0
      },
      "text/plain": [
       "Validation: |          | 0/? [00:00<?, ?it/s]"
      ]
     },
     "metadata": {},
     "output_type": "display_data"
    },
    {
     "data": {
      "application/vnd.jupyter.widget-view+json": {
       "model_id": "3bd72fefa618432caadc3dbfb4102071",
       "version_major": 2,
       "version_minor": 0
      },
      "text/plain": [
       "Validation: |          | 0/? [00:00<?, ?it/s]"
      ]
     },
     "metadata": {},
     "output_type": "display_data"
    },
    {
     "data": {
      "application/vnd.jupyter.widget-view+json": {
       "model_id": "ada733ab9b214a21ac68c1ade2adc68d",
       "version_major": 2,
       "version_minor": 0
      },
      "text/plain": [
       "Validation: |          | 0/? [00:00<?, ?it/s]"
      ]
     },
     "metadata": {},
     "output_type": "display_data"
    },
    {
     "data": {
      "application/vnd.jupyter.widget-view+json": {
       "model_id": "b256c995c7044ad080d0da9e5bf1d3a7",
       "version_major": 2,
       "version_minor": 0
      },
      "text/plain": [
       "Validation: |          | 0/? [00:00<?, ?it/s]"
      ]
     },
     "metadata": {},
     "output_type": "display_data"
    },
    {
     "data": {
      "application/vnd.jupyter.widget-view+json": {
       "model_id": "57e22185ee4643fa828d38dfae363599",
       "version_major": 2,
       "version_minor": 0
      },
      "text/plain": [
       "Validation: |          | 0/? [00:00<?, ?it/s]"
      ]
     },
     "metadata": {},
     "output_type": "display_data"
    },
    {
     "data": {
      "application/vnd.jupyter.widget-view+json": {
       "model_id": "285263e4c30041559dfabf5f7923f6c9",
       "version_major": 2,
       "version_minor": 0
      },
      "text/plain": [
       "Validation: |          | 0/? [00:00<?, ?it/s]"
      ]
     },
     "metadata": {},
     "output_type": "display_data"
    },
    {
     "data": {
      "application/vnd.jupyter.widget-view+json": {
       "model_id": "99449684d792457d8f2c435d213c0558",
       "version_major": 2,
       "version_minor": 0
      },
      "text/plain": [
       "Validation: |          | 0/? [00:00<?, ?it/s]"
      ]
     },
     "metadata": {},
     "output_type": "display_data"
    },
    {
     "data": {
      "application/vnd.jupyter.widget-view+json": {
       "model_id": "2ac7304f0ad04af49a6ac54e04df51ab",
       "version_major": 2,
       "version_minor": 0
      },
      "text/plain": [
       "Validation: |          | 0/? [00:00<?, ?it/s]"
      ]
     },
     "metadata": {},
     "output_type": "display_data"
    },
    {
     "data": {
      "application/vnd.jupyter.widget-view+json": {
       "model_id": "bff8b5c40edf4d05907a05fdc50ed788",
       "version_major": 2,
       "version_minor": 0
      },
      "text/plain": [
       "Validation: |          | 0/? [00:00<?, ?it/s]"
      ]
     },
     "metadata": {},
     "output_type": "display_data"
    },
    {
     "data": {
      "application/vnd.jupyter.widget-view+json": {
       "model_id": "8628f6a40a2e4b75aa74cbdc6df5284a",
       "version_major": 2,
       "version_minor": 0
      },
      "text/plain": [
       "Validation: |          | 0/? [00:00<?, ?it/s]"
      ]
     },
     "metadata": {},
     "output_type": "display_data"
    },
    {
     "data": {
      "application/vnd.jupyter.widget-view+json": {
       "model_id": "8ef87adcc5c0453fa7475a3f9a9fd30b",
       "version_major": 2,
       "version_minor": 0
      },
      "text/plain": [
       "Validation: |          | 0/? [00:00<?, ?it/s]"
      ]
     },
     "metadata": {},
     "output_type": "display_data"
    },
    {
     "data": {
      "application/vnd.jupyter.widget-view+json": {
       "model_id": "9777b708f64642a79e8fdc476bad26e7",
       "version_major": 2,
       "version_minor": 0
      },
      "text/plain": [
       "Validation: |          | 0/? [00:00<?, ?it/s]"
      ]
     },
     "metadata": {},
     "output_type": "display_data"
    },
    {
     "data": {
      "application/vnd.jupyter.widget-view+json": {
       "model_id": "eed540a3cfd04175b4744bd540ad67b6",
       "version_major": 2,
       "version_minor": 0
      },
      "text/plain": [
       "Validation: |          | 0/? [00:00<?, ?it/s]"
      ]
     },
     "metadata": {},
     "output_type": "display_data"
    },
    {
     "data": {
      "application/vnd.jupyter.widget-view+json": {
       "model_id": "1b53cc4faabc4c45b8b9c33ac25a37c5",
       "version_major": 2,
       "version_minor": 0
      },
      "text/plain": [
       "Validation: |          | 0/? [00:00<?, ?it/s]"
      ]
     },
     "metadata": {},
     "output_type": "display_data"
    },
    {
     "data": {
      "application/vnd.jupyter.widget-view+json": {
       "model_id": "4e879536999d4d65a538b23883075462",
       "version_major": 2,
       "version_minor": 0
      },
      "text/plain": [
       "Validation: |          | 0/? [00:00<?, ?it/s]"
      ]
     },
     "metadata": {},
     "output_type": "display_data"
    },
    {
     "data": {
      "application/vnd.jupyter.widget-view+json": {
       "model_id": "980dce2324664821b732886b9f6cdb39",
       "version_major": 2,
       "version_minor": 0
      },
      "text/plain": [
       "Validation: |          | 0/? [00:00<?, ?it/s]"
      ]
     },
     "metadata": {},
     "output_type": "display_data"
    },
    {
     "data": {
      "application/vnd.jupyter.widget-view+json": {
       "model_id": "ca97fa2c446e4d4eb15096959c52e775",
       "version_major": 2,
       "version_minor": 0
      },
      "text/plain": [
       "Validation: |          | 0/? [00:00<?, ?it/s]"
      ]
     },
     "metadata": {},
     "output_type": "display_data"
    },
    {
     "data": {
      "application/vnd.jupyter.widget-view+json": {
       "model_id": "529333573aae43dfbdfb28fea76151eb",
       "version_major": 2,
       "version_minor": 0
      },
      "text/plain": [
       "Validation: |          | 0/? [00:00<?, ?it/s]"
      ]
     },
     "metadata": {},
     "output_type": "display_data"
    },
    {
     "data": {
      "application/vnd.jupyter.widget-view+json": {
       "model_id": "031fdb3f04504ee6af12225d2035bbd7",
       "version_major": 2,
       "version_minor": 0
      },
      "text/plain": [
       "Validation: |          | 0/? [00:00<?, ?it/s]"
      ]
     },
     "metadata": {},
     "output_type": "display_data"
    },
    {
     "data": {
      "application/vnd.jupyter.widget-view+json": {
       "model_id": "840e0cfad2b04b06bebcf7bf1f283deb",
       "version_major": 2,
       "version_minor": 0
      },
      "text/plain": [
       "Validation: |          | 0/? [00:00<?, ?it/s]"
      ]
     },
     "metadata": {},
     "output_type": "display_data"
    },
    {
     "data": {
      "application/vnd.jupyter.widget-view+json": {
       "model_id": "53d19514a9c64d8eb189ac168b180592",
       "version_major": 2,
       "version_minor": 0
      },
      "text/plain": [
       "Validation: |          | 0/? [00:00<?, ?it/s]"
      ]
     },
     "metadata": {},
     "output_type": "display_data"
    },
    {
     "data": {
      "application/vnd.jupyter.widget-view+json": {
       "model_id": "bb9ae92803c2404c9c6f6757805b8b0a",
       "version_major": 2,
       "version_minor": 0
      },
      "text/plain": [
       "Validation: |          | 0/? [00:00<?, ?it/s]"
      ]
     },
     "metadata": {},
     "output_type": "display_data"
    },
    {
     "data": {
      "application/vnd.jupyter.widget-view+json": {
       "model_id": "735d511f7f144aa0a19aea0b9734ad76",
       "version_major": 2,
       "version_minor": 0
      },
      "text/plain": [
       "Validation: |          | 0/? [00:00<?, ?it/s]"
      ]
     },
     "metadata": {},
     "output_type": "display_data"
    },
    {
     "data": {
      "application/vnd.jupyter.widget-view+json": {
       "model_id": "f0c10987970944a3ba39cf3c0a665237",
       "version_major": 2,
       "version_minor": 0
      },
      "text/plain": [
       "Validation: |          | 0/? [00:00<?, ?it/s]"
      ]
     },
     "metadata": {},
     "output_type": "display_data"
    },
    {
     "data": {
      "application/vnd.jupyter.widget-view+json": {
       "model_id": "70c0ccdf7b0d44f2ba5737161df4ae83",
       "version_major": 2,
       "version_minor": 0
      },
      "text/plain": [
       "Validation: |          | 0/? [00:00<?, ?it/s]"
      ]
     },
     "metadata": {},
     "output_type": "display_data"
    },
    {
     "data": {
      "application/vnd.jupyter.widget-view+json": {
       "model_id": "e3e59d2d121e46fc847f3fafd09d8703",
       "version_major": 2,
       "version_minor": 0
      },
      "text/plain": [
       "Validation: |          | 0/? [00:00<?, ?it/s]"
      ]
     },
     "metadata": {},
     "output_type": "display_data"
    },
    {
     "data": {
      "application/vnd.jupyter.widget-view+json": {
       "model_id": "0d9e69baf8174b78970292d0cfcf73f1",
       "version_major": 2,
       "version_minor": 0
      },
      "text/plain": [
       "Validation: |          | 0/? [00:00<?, ?it/s]"
      ]
     },
     "metadata": {},
     "output_type": "display_data"
    },
    {
     "data": {
      "application/vnd.jupyter.widget-view+json": {
       "model_id": "090a717093df4957a6c3c55e0097ed97",
       "version_major": 2,
       "version_minor": 0
      },
      "text/plain": [
       "Validation: |          | 0/? [00:00<?, ?it/s]"
      ]
     },
     "metadata": {},
     "output_type": "display_data"
    },
    {
     "data": {
      "application/vnd.jupyter.widget-view+json": {
       "model_id": "2287652ec483438da93908fa596c3af5",
       "version_major": 2,
       "version_minor": 0
      },
      "text/plain": [
       "Validation: |          | 0/? [00:00<?, ?it/s]"
      ]
     },
     "metadata": {},
     "output_type": "display_data"
    },
    {
     "data": {
      "application/vnd.jupyter.widget-view+json": {
       "model_id": "75b927452d51444eb0cd7545ebc6206c",
       "version_major": 2,
       "version_minor": 0
      },
      "text/plain": [
       "Validation: |          | 0/? [00:00<?, ?it/s]"
      ]
     },
     "metadata": {},
     "output_type": "display_data"
    },
    {
     "data": {
      "application/vnd.jupyter.widget-view+json": {
       "model_id": "c0d2aabd42a04257bd898e75023e2297",
       "version_major": 2,
       "version_minor": 0
      },
      "text/plain": [
       "Validation: |          | 0/? [00:00<?, ?it/s]"
      ]
     },
     "metadata": {},
     "output_type": "display_data"
    },
    {
     "data": {
      "application/vnd.jupyter.widget-view+json": {
       "model_id": "ada37dc77a7b477daa29b0b18cf3ffcf",
       "version_major": 2,
       "version_minor": 0
      },
      "text/plain": [
       "Validation: |          | 0/? [00:00<?, ?it/s]"
      ]
     },
     "metadata": {},
     "output_type": "display_data"
    },
    {
     "data": {
      "application/vnd.jupyter.widget-view+json": {
       "model_id": "809e807abf514479be1d8dc2dacbcafa",
       "version_major": 2,
       "version_minor": 0
      },
      "text/plain": [
       "Validation: |          | 0/? [00:00<?, ?it/s]"
      ]
     },
     "metadata": {},
     "output_type": "display_data"
    },
    {
     "data": {
      "application/vnd.jupyter.widget-view+json": {
       "model_id": "6cd70d07e90c4ce7ab83f6002f05deb6",
       "version_major": 2,
       "version_minor": 0
      },
      "text/plain": [
       "Validation: |          | 0/? [00:00<?, ?it/s]"
      ]
     },
     "metadata": {},
     "output_type": "display_data"
    },
    {
     "data": {
      "application/vnd.jupyter.widget-view+json": {
       "model_id": "06ffdeabba874a44a5be6722f7e2d375",
       "version_major": 2,
       "version_minor": 0
      },
      "text/plain": [
       "Validation: |          | 0/? [00:00<?, ?it/s]"
      ]
     },
     "metadata": {},
     "output_type": "display_data"
    },
    {
     "data": {
      "application/vnd.jupyter.widget-view+json": {
       "model_id": "0f6af3a552914d9da966a027fcb7645b",
       "version_major": 2,
       "version_minor": 0
      },
      "text/plain": [
       "Validation: |          | 0/? [00:00<?, ?it/s]"
      ]
     },
     "metadata": {},
     "output_type": "display_data"
    },
    {
     "data": {
      "application/vnd.jupyter.widget-view+json": {
       "model_id": "dd1509bd4f064663861a875f408ef52b",
       "version_major": 2,
       "version_minor": 0
      },
      "text/plain": [
       "Validation: |          | 0/? [00:00<?, ?it/s]"
      ]
     },
     "metadata": {},
     "output_type": "display_data"
    },
    {
     "data": {
      "application/vnd.jupyter.widget-view+json": {
       "model_id": "06c88dffd5be4008b68458f212826c04",
       "version_major": 2,
       "version_minor": 0
      },
      "text/plain": [
       "Validation: |          | 0/? [00:00<?, ?it/s]"
      ]
     },
     "metadata": {},
     "output_type": "display_data"
    },
    {
     "data": {
      "application/vnd.jupyter.widget-view+json": {
       "model_id": "e9e31c05ae4f4ca093b83896d93e7088",
       "version_major": 2,
       "version_minor": 0
      },
      "text/plain": [
       "Validation: |          | 0/? [00:00<?, ?it/s]"
      ]
     },
     "metadata": {},
     "output_type": "display_data"
    },
    {
     "data": {
      "application/vnd.jupyter.widget-view+json": {
       "model_id": "43a7de86392f4568b78627c6101463ce",
       "version_major": 2,
       "version_minor": 0
      },
      "text/plain": [
       "Validation: |          | 0/? [00:00<?, ?it/s]"
      ]
     },
     "metadata": {},
     "output_type": "display_data"
    },
    {
     "data": {
      "application/vnd.jupyter.widget-view+json": {
       "model_id": "373befa32c7b49749b6cd3e5e9bb7e89",
       "version_major": 2,
       "version_minor": 0
      },
      "text/plain": [
       "Validation: |          | 0/? [00:00<?, ?it/s]"
      ]
     },
     "metadata": {},
     "output_type": "display_data"
    },
    {
     "data": {
      "application/vnd.jupyter.widget-view+json": {
       "model_id": "79733ce6adc349878560e3c0cbf721cd",
       "version_major": 2,
       "version_minor": 0
      },
      "text/plain": [
       "Validation: |          | 0/? [00:00<?, ?it/s]"
      ]
     },
     "metadata": {},
     "output_type": "display_data"
    },
    {
     "data": {
      "application/vnd.jupyter.widget-view+json": {
       "model_id": "33f5edcbabd24434975a71aa189f28ff",
       "version_major": 2,
       "version_minor": 0
      },
      "text/plain": [
       "Validation: |          | 0/? [00:00<?, ?it/s]"
      ]
     },
     "metadata": {},
     "output_type": "display_data"
    },
    {
     "data": {
      "application/vnd.jupyter.widget-view+json": {
       "model_id": "ce628547ef15400b807b18c5e0d92e6c",
       "version_major": 2,
       "version_minor": 0
      },
      "text/plain": [
       "Validation: |          | 0/? [00:00<?, ?it/s]"
      ]
     },
     "metadata": {},
     "output_type": "display_data"
    },
    {
     "data": {
      "application/vnd.jupyter.widget-view+json": {
       "model_id": "fcfeb3aa7fd24dc4be3b47170aba52bd",
       "version_major": 2,
       "version_minor": 0
      },
      "text/plain": [
       "Validation: |          | 0/? [00:00<?, ?it/s]"
      ]
     },
     "metadata": {},
     "output_type": "display_data"
    },
    {
     "data": {
      "application/vnd.jupyter.widget-view+json": {
       "model_id": "84dde28bc7974f0ebb416170c0ece7fb",
       "version_major": 2,
       "version_minor": 0
      },
      "text/plain": [
       "Validation: |          | 0/? [00:00<?, ?it/s]"
      ]
     },
     "metadata": {},
     "output_type": "display_data"
    },
    {
     "data": {
      "application/vnd.jupyter.widget-view+json": {
       "model_id": "a3cb0ab394144f2bbb8d383035e4a840",
       "version_major": 2,
       "version_minor": 0
      },
      "text/plain": [
       "Validation: |          | 0/? [00:00<?, ?it/s]"
      ]
     },
     "metadata": {},
     "output_type": "display_data"
    },
    {
     "data": {
      "application/vnd.jupyter.widget-view+json": {
       "model_id": "6093752076db487fb52b1a9521dfc811",
       "version_major": 2,
       "version_minor": 0
      },
      "text/plain": [
       "Validation: |          | 0/? [00:00<?, ?it/s]"
      ]
     },
     "metadata": {},
     "output_type": "display_data"
    },
    {
     "data": {
      "application/vnd.jupyter.widget-view+json": {
       "model_id": "9aa733f9a6aa40fba3d7af011ccacfe1",
       "version_major": 2,
       "version_minor": 0
      },
      "text/plain": [
       "Validation: |          | 0/? [00:00<?, ?it/s]"
      ]
     },
     "metadata": {},
     "output_type": "display_data"
    },
    {
     "data": {
      "application/vnd.jupyter.widget-view+json": {
       "model_id": "23c54e2a2464460b9d49d9c98cfd5d89",
       "version_major": 2,
       "version_minor": 0
      },
      "text/plain": [
       "Validation: |          | 0/? [00:00<?, ?it/s]"
      ]
     },
     "metadata": {},
     "output_type": "display_data"
    },
    {
     "data": {
      "application/vnd.jupyter.widget-view+json": {
       "model_id": "6364b30f93d1462da818d91e2e642b0e",
       "version_major": 2,
       "version_minor": 0
      },
      "text/plain": [
       "Validation: |          | 0/? [00:00<?, ?it/s]"
      ]
     },
     "metadata": {},
     "output_type": "display_data"
    },
    {
     "data": {
      "application/vnd.jupyter.widget-view+json": {
       "model_id": "4737b07bb4f0464092681ce117c96baf",
       "version_major": 2,
       "version_minor": 0
      },
      "text/plain": [
       "Validation: |          | 0/? [00:00<?, ?it/s]"
      ]
     },
     "metadata": {},
     "output_type": "display_data"
    },
    {
     "data": {
      "application/vnd.jupyter.widget-view+json": {
       "model_id": "fb297868c84b4626adb6dd9c4077c061",
       "version_major": 2,
       "version_minor": 0
      },
      "text/plain": [
       "Validation: |          | 0/? [00:00<?, ?it/s]"
      ]
     },
     "metadata": {},
     "output_type": "display_data"
    },
    {
     "data": {
      "application/vnd.jupyter.widget-view+json": {
       "model_id": "6bf1cd44b2dd4c3893dea64998173903",
       "version_major": 2,
       "version_minor": 0
      },
      "text/plain": [
       "Validation: |          | 0/? [00:00<?, ?it/s]"
      ]
     },
     "metadata": {},
     "output_type": "display_data"
    },
    {
     "data": {
      "application/vnd.jupyter.widget-view+json": {
       "model_id": "9a2b7ba2159945609150108e53706a83",
       "version_major": 2,
       "version_minor": 0
      },
      "text/plain": [
       "Validation: |          | 0/? [00:00<?, ?it/s]"
      ]
     },
     "metadata": {},
     "output_type": "display_data"
    },
    {
     "data": {
      "application/vnd.jupyter.widget-view+json": {
       "model_id": "4734577bd2ab4cd0953344e6c8188fc0",
       "version_major": 2,
       "version_minor": 0
      },
      "text/plain": [
       "Validation: |          | 0/? [00:00<?, ?it/s]"
      ]
     },
     "metadata": {},
     "output_type": "display_data"
    },
    {
     "data": {
      "application/vnd.jupyter.widget-view+json": {
       "model_id": "74ce825aa77e43d58c0ae06b288b50e0",
       "version_major": 2,
       "version_minor": 0
      },
      "text/plain": [
       "Validation: |          | 0/? [00:00<?, ?it/s]"
      ]
     },
     "metadata": {},
     "output_type": "display_data"
    },
    {
     "data": {
      "application/vnd.jupyter.widget-view+json": {
       "model_id": "6c73c008c6c54541a874c317a007c1b1",
       "version_major": 2,
       "version_minor": 0
      },
      "text/plain": [
       "Validation: |          | 0/? [00:00<?, ?it/s]"
      ]
     },
     "metadata": {},
     "output_type": "display_data"
    },
    {
     "data": {
      "application/vnd.jupyter.widget-view+json": {
       "model_id": "762eb21b0fae4d9bb485b0604112f380",
       "version_major": 2,
       "version_minor": 0
      },
      "text/plain": [
       "Validation: |          | 0/? [00:00<?, ?it/s]"
      ]
     },
     "metadata": {},
     "output_type": "display_data"
    },
    {
     "data": {
      "application/vnd.jupyter.widget-view+json": {
       "model_id": "7b6d6647b9bf4d979b79b737221d5c2e",
       "version_major": 2,
       "version_minor": 0
      },
      "text/plain": [
       "Validation: |          | 0/? [00:00<?, ?it/s]"
      ]
     },
     "metadata": {},
     "output_type": "display_data"
    },
    {
     "data": {
      "application/vnd.jupyter.widget-view+json": {
       "model_id": "fd62ff7faa1d4c96acc96b503fbc0ae6",
       "version_major": 2,
       "version_minor": 0
      },
      "text/plain": [
       "Validation: |          | 0/? [00:00<?, ?it/s]"
      ]
     },
     "metadata": {},
     "output_type": "display_data"
    },
    {
     "data": {
      "application/vnd.jupyter.widget-view+json": {
       "model_id": "33bbbb78df5c4a8b8791a110e8c3af6a",
       "version_major": 2,
       "version_minor": 0
      },
      "text/plain": [
       "Validation: |          | 0/? [00:00<?, ?it/s]"
      ]
     },
     "metadata": {},
     "output_type": "display_data"
    },
    {
     "data": {
      "application/vnd.jupyter.widget-view+json": {
       "model_id": "8571da23668e419e8ae362a506f020ea",
       "version_major": 2,
       "version_minor": 0
      },
      "text/plain": [
       "Validation: |          | 0/? [00:00<?, ?it/s]"
      ]
     },
     "metadata": {},
     "output_type": "display_data"
    },
    {
     "data": {
      "application/vnd.jupyter.widget-view+json": {
       "model_id": "f3d105a12b384dae9557190dbd1e2a03",
       "version_major": 2,
       "version_minor": 0
      },
      "text/plain": [
       "Validation: |          | 0/? [00:00<?, ?it/s]"
      ]
     },
     "metadata": {},
     "output_type": "display_data"
    },
    {
     "data": {
      "application/vnd.jupyter.widget-view+json": {
       "model_id": "f58675387f454114af90b9648190de3f",
       "version_major": 2,
       "version_minor": 0
      },
      "text/plain": [
       "Validation: |          | 0/? [00:00<?, ?it/s]"
      ]
     },
     "metadata": {},
     "output_type": "display_data"
    },
    {
     "data": {
      "application/vnd.jupyter.widget-view+json": {
       "model_id": "d90d2ba690204cd8a91e6582d4f2b544",
       "version_major": 2,
       "version_minor": 0
      },
      "text/plain": [
       "Validation: |          | 0/? [00:00<?, ?it/s]"
      ]
     },
     "metadata": {},
     "output_type": "display_data"
    },
    {
     "data": {
      "application/vnd.jupyter.widget-view+json": {
       "model_id": "481820b67b94481d91eb0aa0383024f2",
       "version_major": 2,
       "version_minor": 0
      },
      "text/plain": [
       "Validation: |          | 0/? [00:00<?, ?it/s]"
      ]
     },
     "metadata": {},
     "output_type": "display_data"
    },
    {
     "data": {
      "application/vnd.jupyter.widget-view+json": {
       "model_id": "3791505633224997a11b7538d7ef5663",
       "version_major": 2,
       "version_minor": 0
      },
      "text/plain": [
       "Validation: |          | 0/? [00:00<?, ?it/s]"
      ]
     },
     "metadata": {},
     "output_type": "display_data"
    },
    {
     "data": {
      "application/vnd.jupyter.widget-view+json": {
       "model_id": "63deb6f5b13442899f4c80cb6c146470",
       "version_major": 2,
       "version_minor": 0
      },
      "text/plain": [
       "Validation: |          | 0/? [00:00<?, ?it/s]"
      ]
     },
     "metadata": {},
     "output_type": "display_data"
    },
    {
     "data": {
      "application/vnd.jupyter.widget-view+json": {
       "model_id": "34f952dfa97246e58f4e6dcd1731d62a",
       "version_major": 2,
       "version_minor": 0
      },
      "text/plain": [
       "Validation: |          | 0/? [00:00<?, ?it/s]"
      ]
     },
     "metadata": {},
     "output_type": "display_data"
    },
    {
     "data": {
      "application/vnd.jupyter.widget-view+json": {
       "model_id": "178bd5b8da6e40708b3babab9cb45b4e",
       "version_major": 2,
       "version_minor": 0
      },
      "text/plain": [
       "Validation: |          | 0/? [00:00<?, ?it/s]"
      ]
     },
     "metadata": {},
     "output_type": "display_data"
    },
    {
     "data": {
      "application/vnd.jupyter.widget-view+json": {
       "model_id": "7f4b166af18847a281a14e2e7e296dff",
       "version_major": 2,
       "version_minor": 0
      },
      "text/plain": [
       "Validation: |          | 0/? [00:00<?, ?it/s]"
      ]
     },
     "metadata": {},
     "output_type": "display_data"
    },
    {
     "data": {
      "application/vnd.jupyter.widget-view+json": {
       "model_id": "57129df0140e46a380d63e6f3043bf2d",
       "version_major": 2,
       "version_minor": 0
      },
      "text/plain": [
       "Validation: |          | 0/? [00:00<?, ?it/s]"
      ]
     },
     "metadata": {},
     "output_type": "display_data"
    },
    {
     "data": {
      "application/vnd.jupyter.widget-view+json": {
       "model_id": "7eecfbe44480496cb6a49c3a9174da14",
       "version_major": 2,
       "version_minor": 0
      },
      "text/plain": [
       "Validation: |          | 0/? [00:00<?, ?it/s]"
      ]
     },
     "metadata": {},
     "output_type": "display_data"
    },
    {
     "data": {
      "application/vnd.jupyter.widget-view+json": {
       "model_id": "afe36efae058475ab9ef669a3bd29ba8",
       "version_major": 2,
       "version_minor": 0
      },
      "text/plain": [
       "Validation: |          | 0/? [00:00<?, ?it/s]"
      ]
     },
     "metadata": {},
     "output_type": "display_data"
    },
    {
     "data": {
      "application/vnd.jupyter.widget-view+json": {
       "model_id": "446ec47cb5b3401895fe1d4582bbe28c",
       "version_major": 2,
       "version_minor": 0
      },
      "text/plain": [
       "Validation: |          | 0/? [00:00<?, ?it/s]"
      ]
     },
     "metadata": {},
     "output_type": "display_data"
    },
    {
     "data": {
      "application/vnd.jupyter.widget-view+json": {
       "model_id": "bf3504e51192432b91a2e278fc4914bd",
       "version_major": 2,
       "version_minor": 0
      },
      "text/plain": [
       "Validation: |          | 0/? [00:00<?, ?it/s]"
      ]
     },
     "metadata": {},
     "output_type": "display_data"
    },
    {
     "data": {
      "application/vnd.jupyter.widget-view+json": {
       "model_id": "ed434e1de6674773b377c315b0cd219c",
       "version_major": 2,
       "version_minor": 0
      },
      "text/plain": [
       "Validation: |          | 0/? [00:00<?, ?it/s]"
      ]
     },
     "metadata": {},
     "output_type": "display_data"
    },
    {
     "data": {
      "application/vnd.jupyter.widget-view+json": {
       "model_id": "870d4f7da7f34ca59f3f1e54779580d3",
       "version_major": 2,
       "version_minor": 0
      },
      "text/plain": [
       "Validation: |          | 0/? [00:00<?, ?it/s]"
      ]
     },
     "metadata": {},
     "output_type": "display_data"
    },
    {
     "data": {
      "application/vnd.jupyter.widget-view+json": {
       "model_id": "2a358be49fbf467280fd095c27cda6b6",
       "version_major": 2,
       "version_minor": 0
      },
      "text/plain": [
       "Validation: |          | 0/? [00:00<?, ?it/s]"
      ]
     },
     "metadata": {},
     "output_type": "display_data"
    },
    {
     "data": {
      "application/vnd.jupyter.widget-view+json": {
       "model_id": "00992d429a13422e849692e0c02758e0",
       "version_major": 2,
       "version_minor": 0
      },
      "text/plain": [
       "Validation: |          | 0/? [00:00<?, ?it/s]"
      ]
     },
     "metadata": {},
     "output_type": "display_data"
    },
    {
     "data": {
      "application/vnd.jupyter.widget-view+json": {
       "model_id": "cf0eca53c3bf4bd5b94f6561dcb3def8",
       "version_major": 2,
       "version_minor": 0
      },
      "text/plain": [
       "Validation: |          | 0/? [00:00<?, ?it/s]"
      ]
     },
     "metadata": {},
     "output_type": "display_data"
    },
    {
     "data": {
      "application/vnd.jupyter.widget-view+json": {
       "model_id": "7fa782662ddd4833b08019c1f60d95f3",
       "version_major": 2,
       "version_minor": 0
      },
      "text/plain": [
       "Validation: |          | 0/? [00:00<?, ?it/s]"
      ]
     },
     "metadata": {},
     "output_type": "display_data"
    },
    {
     "data": {
      "application/vnd.jupyter.widget-view+json": {
       "model_id": "fa8c1955fe3347c9b6efddce15890fd9",
       "version_major": 2,
       "version_minor": 0
      },
      "text/plain": [
       "Validation: |          | 0/? [00:00<?, ?it/s]"
      ]
     },
     "metadata": {},
     "output_type": "display_data"
    },
    {
     "data": {
      "application/vnd.jupyter.widget-view+json": {
       "model_id": "63a5787eb39740678a8f219233cf00f2",
       "version_major": 2,
       "version_minor": 0
      },
      "text/plain": [
       "Validation: |          | 0/? [00:00<?, ?it/s]"
      ]
     },
     "metadata": {},
     "output_type": "display_data"
    },
    {
     "data": {
      "application/vnd.jupyter.widget-view+json": {
       "model_id": "161056c1253e463fa3696f5af9ba42a1",
       "version_major": 2,
       "version_minor": 0
      },
      "text/plain": [
       "Validation: |          | 0/? [00:00<?, ?it/s]"
      ]
     },
     "metadata": {},
     "output_type": "display_data"
    },
    {
     "data": {
      "application/vnd.jupyter.widget-view+json": {
       "model_id": "71a1f47909804f7c9fd425a5bc8c800c",
       "version_major": 2,
       "version_minor": 0
      },
      "text/plain": [
       "Validation: |          | 0/? [00:00<?, ?it/s]"
      ]
     },
     "metadata": {},
     "output_type": "display_data"
    },
    {
     "data": {
      "application/vnd.jupyter.widget-view+json": {
       "model_id": "55367bf0b3c24d4fa9667569365bbba8",
       "version_major": 2,
       "version_minor": 0
      },
      "text/plain": [
       "Validation: |          | 0/? [00:00<?, ?it/s]"
      ]
     },
     "metadata": {},
     "output_type": "display_data"
    },
    {
     "data": {
      "application/vnd.jupyter.widget-view+json": {
       "model_id": "c424ba4fe8dc484289e170c6f75ad24f",
       "version_major": 2,
       "version_minor": 0
      },
      "text/plain": [
       "Validation: |          | 0/? [00:00<?, ?it/s]"
      ]
     },
     "metadata": {},
     "output_type": "display_data"
    },
    {
     "data": {
      "application/vnd.jupyter.widget-view+json": {
       "model_id": "6a9b64f689f142e2a2e0733c391c56f9",
       "version_major": 2,
       "version_minor": 0
      },
      "text/plain": [
       "Validation: |          | 0/? [00:00<?, ?it/s]"
      ]
     },
     "metadata": {},
     "output_type": "display_data"
    },
    {
     "data": {
      "application/vnd.jupyter.widget-view+json": {
       "model_id": "908b2820a58f4979bc2a967332f0d348",
       "version_major": 2,
       "version_minor": 0
      },
      "text/plain": [
       "Validation: |          | 0/? [00:00<?, ?it/s]"
      ]
     },
     "metadata": {},
     "output_type": "display_data"
    },
    {
     "data": {
      "application/vnd.jupyter.widget-view+json": {
       "model_id": "7516cdf7cc32469ab5cc92755afa9bbb",
       "version_major": 2,
       "version_minor": 0
      },
      "text/plain": [
       "Validation: |          | 0/? [00:00<?, ?it/s]"
      ]
     },
     "metadata": {},
     "output_type": "display_data"
    },
    {
     "data": {
      "application/vnd.jupyter.widget-view+json": {
       "model_id": "1482a0c83cd34c53888f30ca8e6b5e09",
       "version_major": 2,
       "version_minor": 0
      },
      "text/plain": [
       "Validation: |          | 0/? [00:00<?, ?it/s]"
      ]
     },
     "metadata": {},
     "output_type": "display_data"
    },
    {
     "data": {
      "application/vnd.jupyter.widget-view+json": {
       "model_id": "ceaa15ea97b146f9aaa972305257362f",
       "version_major": 2,
       "version_minor": 0
      },
      "text/plain": [
       "Validation: |          | 0/? [00:00<?, ?it/s]"
      ]
     },
     "metadata": {},
     "output_type": "display_data"
    },
    {
     "data": {
      "application/vnd.jupyter.widget-view+json": {
       "model_id": "7a15517e4c2246b2979d6cc2ee948a22",
       "version_major": 2,
       "version_minor": 0
      },
      "text/plain": [
       "Validation: |          | 0/? [00:00<?, ?it/s]"
      ]
     },
     "metadata": {},
     "output_type": "display_data"
    },
    {
     "data": {
      "application/vnd.jupyter.widget-view+json": {
       "model_id": "01b546496d6d4e9d889498351aa0173a",
       "version_major": 2,
       "version_minor": 0
      },
      "text/plain": [
       "Validation: |          | 0/? [00:00<?, ?it/s]"
      ]
     },
     "metadata": {},
     "output_type": "display_data"
    },
    {
     "data": {
      "application/vnd.jupyter.widget-view+json": {
       "model_id": "cebb2bae993049c28008779a07d5ad94",
       "version_major": 2,
       "version_minor": 0
      },
      "text/plain": [
       "Validation: |          | 0/? [00:00<?, ?it/s]"
      ]
     },
     "metadata": {},
     "output_type": "display_data"
    },
    {
     "data": {
      "application/vnd.jupyter.widget-view+json": {
       "model_id": "060ca1a664084e6babbec2075765eb20",
       "version_major": 2,
       "version_minor": 0
      },
      "text/plain": [
       "Validation: |          | 0/? [00:00<?, ?it/s]"
      ]
     },
     "metadata": {},
     "output_type": "display_data"
    },
    {
     "data": {
      "application/vnd.jupyter.widget-view+json": {
       "model_id": "404919b2be3c412d9f643c22cf571591",
       "version_major": 2,
       "version_minor": 0
      },
      "text/plain": [
       "Validation: |          | 0/? [00:00<?, ?it/s]"
      ]
     },
     "metadata": {},
     "output_type": "display_data"
    },
    {
     "data": {
      "application/vnd.jupyter.widget-view+json": {
       "model_id": "dc3b2acb98fd4cc987b179cf5c312c93",
       "version_major": 2,
       "version_minor": 0
      },
      "text/plain": [
       "Validation: |          | 0/? [00:00<?, ?it/s]"
      ]
     },
     "metadata": {},
     "output_type": "display_data"
    },
    {
     "data": {
      "application/vnd.jupyter.widget-view+json": {
       "model_id": "282613fc881749e98dc2f95f4bce3b16",
       "version_major": 2,
       "version_minor": 0
      },
      "text/plain": [
       "Validation: |          | 0/? [00:00<?, ?it/s]"
      ]
     },
     "metadata": {},
     "output_type": "display_data"
    },
    {
     "data": {
      "application/vnd.jupyter.widget-view+json": {
       "model_id": "e55491ce08f9469a8a333ead5ecca84d",
       "version_major": 2,
       "version_minor": 0
      },
      "text/plain": [
       "Validation: |          | 0/? [00:00<?, ?it/s]"
      ]
     },
     "metadata": {},
     "output_type": "display_data"
    },
    {
     "data": {
      "application/vnd.jupyter.widget-view+json": {
       "model_id": "4eb13bd58f0b4c36a8ac4bf1e2fb3028",
       "version_major": 2,
       "version_minor": 0
      },
      "text/plain": [
       "Validation: |          | 0/? [00:00<?, ?it/s]"
      ]
     },
     "metadata": {},
     "output_type": "display_data"
    },
    {
     "data": {
      "application/vnd.jupyter.widget-view+json": {
       "model_id": "bf56f7ba8367433bbafc48ab9988e38e",
       "version_major": 2,
       "version_minor": 0
      },
      "text/plain": [
       "Validation: |          | 0/? [00:00<?, ?it/s]"
      ]
     },
     "metadata": {},
     "output_type": "display_data"
    },
    {
     "data": {
      "application/vnd.jupyter.widget-view+json": {
       "model_id": "3dca3f7412a34d659d35d17d0a7fcb79",
       "version_major": 2,
       "version_minor": 0
      },
      "text/plain": [
       "Validation: |          | 0/? [00:00<?, ?it/s]"
      ]
     },
     "metadata": {},
     "output_type": "display_data"
    },
    {
     "data": {
      "application/vnd.jupyter.widget-view+json": {
       "model_id": "55ea6c7f522a458da3b973a35b8187bf",
       "version_major": 2,
       "version_minor": 0
      },
      "text/plain": [
       "Validation: |          | 0/? [00:00<?, ?it/s]"
      ]
     },
     "metadata": {},
     "output_type": "display_data"
    },
    {
     "data": {
      "application/vnd.jupyter.widget-view+json": {
       "model_id": "3ded694eadfa410696ba6b691a822d74",
       "version_major": 2,
       "version_minor": 0
      },
      "text/plain": [
       "Validation: |          | 0/? [00:00<?, ?it/s]"
      ]
     },
     "metadata": {},
     "output_type": "display_data"
    },
    {
     "data": {
      "application/vnd.jupyter.widget-view+json": {
       "model_id": "c5368a18e3394c2f8379fe8c8b1b8cde",
       "version_major": 2,
       "version_minor": 0
      },
      "text/plain": [
       "Validation: |          | 0/? [00:00<?, ?it/s]"
      ]
     },
     "metadata": {},
     "output_type": "display_data"
    },
    {
     "data": {
      "application/vnd.jupyter.widget-view+json": {
       "model_id": "559397675d774ad3bcfadd884768a5b1",
       "version_major": 2,
       "version_minor": 0
      },
      "text/plain": [
       "Validation: |          | 0/? [00:00<?, ?it/s]"
      ]
     },
     "metadata": {},
     "output_type": "display_data"
    },
    {
     "data": {
      "application/vnd.jupyter.widget-view+json": {
       "model_id": "ec905a15dfe14d4a97c15ef61bc0fd16",
       "version_major": 2,
       "version_minor": 0
      },
      "text/plain": [
       "Validation: |          | 0/? [00:00<?, ?it/s]"
      ]
     },
     "metadata": {},
     "output_type": "display_data"
    },
    {
     "data": {
      "application/vnd.jupyter.widget-view+json": {
       "model_id": "e99b1f900fa244939e2d82ea6fe3e187",
       "version_major": 2,
       "version_minor": 0
      },
      "text/plain": [
       "Validation: |          | 0/? [00:00<?, ?it/s]"
      ]
     },
     "metadata": {},
     "output_type": "display_data"
    },
    {
     "data": {
      "application/vnd.jupyter.widget-view+json": {
       "model_id": "02558fa852ea49a98458c6cc56d0dc39",
       "version_major": 2,
       "version_minor": 0
      },
      "text/plain": [
       "Validation: |          | 0/? [00:00<?, ?it/s]"
      ]
     },
     "metadata": {},
     "output_type": "display_data"
    },
    {
     "data": {
      "application/vnd.jupyter.widget-view+json": {
       "model_id": "e7bee5734ac04fd5a0a3629da89a23ab",
       "version_major": 2,
       "version_minor": 0
      },
      "text/plain": [
       "Validation: |          | 0/? [00:00<?, ?it/s]"
      ]
     },
     "metadata": {},
     "output_type": "display_data"
    },
    {
     "data": {
      "application/vnd.jupyter.widget-view+json": {
       "model_id": "e96a83e221894eac95d4b982e5b65b17",
       "version_major": 2,
       "version_minor": 0
      },
      "text/plain": [
       "Validation: |          | 0/? [00:00<?, ?it/s]"
      ]
     },
     "metadata": {},
     "output_type": "display_data"
    },
    {
     "data": {
      "application/vnd.jupyter.widget-view+json": {
       "model_id": "fffffb38e1a144a8bdff9234cbc39a07",
       "version_major": 2,
       "version_minor": 0
      },
      "text/plain": [
       "Validation: |          | 0/? [00:00<?, ?it/s]"
      ]
     },
     "metadata": {},
     "output_type": "display_data"
    },
    {
     "data": {
      "application/vnd.jupyter.widget-view+json": {
       "model_id": "59db3ac3f95140968bcb123a533e49b1",
       "version_major": 2,
       "version_minor": 0
      },
      "text/plain": [
       "Validation: |          | 0/? [00:00<?, ?it/s]"
      ]
     },
     "metadata": {},
     "output_type": "display_data"
    },
    {
     "data": {
      "application/vnd.jupyter.widget-view+json": {
       "model_id": "7c2de0974e054bb6a83f2f486f957615",
       "version_major": 2,
       "version_minor": 0
      },
      "text/plain": [
       "Validation: |          | 0/? [00:00<?, ?it/s]"
      ]
     },
     "metadata": {},
     "output_type": "display_data"
    },
    {
     "data": {
      "application/vnd.jupyter.widget-view+json": {
       "model_id": "40d428a78e504a20944750708533c458",
       "version_major": 2,
       "version_minor": 0
      },
      "text/plain": [
       "Validation: |          | 0/? [00:00<?, ?it/s]"
      ]
     },
     "metadata": {},
     "output_type": "display_data"
    },
    {
     "data": {
      "application/vnd.jupyter.widget-view+json": {
       "model_id": "691fa2560e38400aa7c9260a2446ac92",
       "version_major": 2,
       "version_minor": 0
      },
      "text/plain": [
       "Validation: |          | 0/? [00:00<?, ?it/s]"
      ]
     },
     "metadata": {},
     "output_type": "display_data"
    },
    {
     "data": {
      "application/vnd.jupyter.widget-view+json": {
       "model_id": "6acb0dbe7295459386e2a56496b536dd",
       "version_major": 2,
       "version_minor": 0
      },
      "text/plain": [
       "Validation: |          | 0/? [00:00<?, ?it/s]"
      ]
     },
     "metadata": {},
     "output_type": "display_data"
    },
    {
     "data": {
      "application/vnd.jupyter.widget-view+json": {
       "model_id": "c232efb1e7b64ac8a30f5d6f8afaf7c4",
       "version_major": 2,
       "version_minor": 0
      },
      "text/plain": [
       "Validation: |          | 0/? [00:00<?, ?it/s]"
      ]
     },
     "metadata": {},
     "output_type": "display_data"
    },
    {
     "data": {
      "application/vnd.jupyter.widget-view+json": {
       "model_id": "f7d12aa9dde64d1983c493780067a182",
       "version_major": 2,
       "version_minor": 0
      },
      "text/plain": [
       "Validation: |          | 0/? [00:00<?, ?it/s]"
      ]
     },
     "metadata": {},
     "output_type": "display_data"
    },
    {
     "data": {
      "application/vnd.jupyter.widget-view+json": {
       "model_id": "341b3c0e04f2430e88af44628567b106",
       "version_major": 2,
       "version_minor": 0
      },
      "text/plain": [
       "Validation: |          | 0/? [00:00<?, ?it/s]"
      ]
     },
     "metadata": {},
     "output_type": "display_data"
    },
    {
     "data": {
      "application/vnd.jupyter.widget-view+json": {
       "model_id": "5de7dca9510540b1b5843794a7074326",
       "version_major": 2,
       "version_minor": 0
      },
      "text/plain": [
       "Validation: |          | 0/? [00:00<?, ?it/s]"
      ]
     },
     "metadata": {},
     "output_type": "display_data"
    },
    {
     "data": {
      "application/vnd.jupyter.widget-view+json": {
       "model_id": "13e2d82383ff4a10956dcb3921377fcd",
       "version_major": 2,
       "version_minor": 0
      },
      "text/plain": [
       "Validation: |          | 0/? [00:00<?, ?it/s]"
      ]
     },
     "metadata": {},
     "output_type": "display_data"
    },
    {
     "data": {
      "application/vnd.jupyter.widget-view+json": {
       "model_id": "5df0901aca3f462d96ade04b87200133",
       "version_major": 2,
       "version_minor": 0
      },
      "text/plain": [
       "Validation: |          | 0/? [00:00<?, ?it/s]"
      ]
     },
     "metadata": {},
     "output_type": "display_data"
    },
    {
     "data": {
      "application/vnd.jupyter.widget-view+json": {
       "model_id": "8c7f626a2a59447bbc6b82b5e8bedd18",
       "version_major": 2,
       "version_minor": 0
      },
      "text/plain": [
       "Validation: |          | 0/? [00:00<?, ?it/s]"
      ]
     },
     "metadata": {},
     "output_type": "display_data"
    },
    {
     "data": {
      "application/vnd.jupyter.widget-view+json": {
       "model_id": "105b4e7623a0400ab162287473efc144",
       "version_major": 2,
       "version_minor": 0
      },
      "text/plain": [
       "Validation: |          | 0/? [00:00<?, ?it/s]"
      ]
     },
     "metadata": {},
     "output_type": "display_data"
    },
    {
     "data": {
      "application/vnd.jupyter.widget-view+json": {
       "model_id": "8f307ff1feee4e2eb574cc6950ea395e",
       "version_major": 2,
       "version_minor": 0
      },
      "text/plain": [
       "Validation: |          | 0/? [00:00<?, ?it/s]"
      ]
     },
     "metadata": {},
     "output_type": "display_data"
    },
    {
     "data": {
      "application/vnd.jupyter.widget-view+json": {
       "model_id": "61fe3c2678964f0096e6eda2997ea3a3",
       "version_major": 2,
       "version_minor": 0
      },
      "text/plain": [
       "Validation: |          | 0/? [00:00<?, ?it/s]"
      ]
     },
     "metadata": {},
     "output_type": "display_data"
    },
    {
     "data": {
      "application/vnd.jupyter.widget-view+json": {
       "model_id": "7b0b6f6a59594ae0bd53748826a3fec3",
       "version_major": 2,
       "version_minor": 0
      },
      "text/plain": [
       "Validation: |          | 0/? [00:00<?, ?it/s]"
      ]
     },
     "metadata": {},
     "output_type": "display_data"
    },
    {
     "data": {
      "application/vnd.jupyter.widget-view+json": {
       "model_id": "376681b3b5c44dccadefe932b913ea26",
       "version_major": 2,
       "version_minor": 0
      },
      "text/plain": [
       "Validation: |          | 0/? [00:00<?, ?it/s]"
      ]
     },
     "metadata": {},
     "output_type": "display_data"
    },
    {
     "data": {
      "application/vnd.jupyter.widget-view+json": {
       "model_id": "bf3dd71f6b374633b7955669b1a78122",
       "version_major": 2,
       "version_minor": 0
      },
      "text/plain": [
       "Validation: |          | 0/? [00:00<?, ?it/s]"
      ]
     },
     "metadata": {},
     "output_type": "display_data"
    },
    {
     "data": {
      "application/vnd.jupyter.widget-view+json": {
       "model_id": "1262d36686d84bd0b0f27ed22e1106f2",
       "version_major": 2,
       "version_minor": 0
      },
      "text/plain": [
       "Validation: |          | 0/? [00:00<?, ?it/s]"
      ]
     },
     "metadata": {},
     "output_type": "display_data"
    },
    {
     "data": {
      "application/vnd.jupyter.widget-view+json": {
       "model_id": "b55c148a18254e7893f9b6c79aaa5ac2",
       "version_major": 2,
       "version_minor": 0
      },
      "text/plain": [
       "Validation: |          | 0/? [00:00<?, ?it/s]"
      ]
     },
     "metadata": {},
     "output_type": "display_data"
    },
    {
     "data": {
      "application/vnd.jupyter.widget-view+json": {
       "model_id": "8a16d4ee7bd6495d81f451c40fd88d9d",
       "version_major": 2,
       "version_minor": 0
      },
      "text/plain": [
       "Validation: |          | 0/? [00:00<?, ?it/s]"
      ]
     },
     "metadata": {},
     "output_type": "display_data"
    },
    {
     "data": {
      "application/vnd.jupyter.widget-view+json": {
       "model_id": "2f9f76d1935e414b83b464e56957857b",
       "version_major": 2,
       "version_minor": 0
      },
      "text/plain": [
       "Validation: |          | 0/? [00:00<?, ?it/s]"
      ]
     },
     "metadata": {},
     "output_type": "display_data"
    },
    {
     "data": {
      "application/vnd.jupyter.widget-view+json": {
       "model_id": "56d594dfc1724fb8bb94cafef9a1e7ec",
       "version_major": 2,
       "version_minor": 0
      },
      "text/plain": [
       "Validation: |          | 0/? [00:00<?, ?it/s]"
      ]
     },
     "metadata": {},
     "output_type": "display_data"
    },
    {
     "data": {
      "application/vnd.jupyter.widget-view+json": {
       "model_id": "74bda252e15f401b85732ff575011f2e",
       "version_major": 2,
       "version_minor": 0
      },
      "text/plain": [
       "Validation: |          | 0/? [00:00<?, ?it/s]"
      ]
     },
     "metadata": {},
     "output_type": "display_data"
    },
    {
     "data": {
      "application/vnd.jupyter.widget-view+json": {
       "model_id": "8aff882aef404ad19d13f99f6a4ae02d",
       "version_major": 2,
       "version_minor": 0
      },
      "text/plain": [
       "Validation: |          | 0/? [00:00<?, ?it/s]"
      ]
     },
     "metadata": {},
     "output_type": "display_data"
    },
    {
     "data": {
      "application/vnd.jupyter.widget-view+json": {
       "model_id": "05196c2aaceb447e82d6e41966f92975",
       "version_major": 2,
       "version_minor": 0
      },
      "text/plain": [
       "Validation: |          | 0/? [00:00<?, ?it/s]"
      ]
     },
     "metadata": {},
     "output_type": "display_data"
    },
    {
     "data": {
      "application/vnd.jupyter.widget-view+json": {
       "model_id": "0f57b2898b864c20bd998c8f3d7ba15c",
       "version_major": 2,
       "version_minor": 0
      },
      "text/plain": [
       "Validation: |          | 0/? [00:00<?, ?it/s]"
      ]
     },
     "metadata": {},
     "output_type": "display_data"
    },
    {
     "data": {
      "application/vnd.jupyter.widget-view+json": {
       "model_id": "0b4a052c0ffc4384955492e8f4f5f250",
       "version_major": 2,
       "version_minor": 0
      },
      "text/plain": [
       "Validation: |          | 0/? [00:00<?, ?it/s]"
      ]
     },
     "metadata": {},
     "output_type": "display_data"
    },
    {
     "data": {
      "application/vnd.jupyter.widget-view+json": {
       "model_id": "1bad96c7babf4dd09d4817fc390bdbd9",
       "version_major": 2,
       "version_minor": 0
      },
      "text/plain": [
       "Validation: |          | 0/? [00:00<?, ?it/s]"
      ]
     },
     "metadata": {},
     "output_type": "display_data"
    },
    {
     "data": {
      "application/vnd.jupyter.widget-view+json": {
       "model_id": "7ebbdc482406463895e85b36539cd200",
       "version_major": 2,
       "version_minor": 0
      },
      "text/plain": [
       "Validation: |          | 0/? [00:00<?, ?it/s]"
      ]
     },
     "metadata": {},
     "output_type": "display_data"
    },
    {
     "data": {
      "application/vnd.jupyter.widget-view+json": {
       "model_id": "68055bb46602487d8d38caa01ce5408a",
       "version_major": 2,
       "version_minor": 0
      },
      "text/plain": [
       "Validation: |          | 0/? [00:00<?, ?it/s]"
      ]
     },
     "metadata": {},
     "output_type": "display_data"
    },
    {
     "data": {
      "application/vnd.jupyter.widget-view+json": {
       "model_id": "20a91ddd2dd34af1a2e2260a8e9a01c9",
       "version_major": 2,
       "version_minor": 0
      },
      "text/plain": [
       "Validation: |          | 0/? [00:00<?, ?it/s]"
      ]
     },
     "metadata": {},
     "output_type": "display_data"
    },
    {
     "data": {
      "application/vnd.jupyter.widget-view+json": {
       "model_id": "78a9dd84e99e4725be171b0923777def",
       "version_major": 2,
       "version_minor": 0
      },
      "text/plain": [
       "Validation: |          | 0/? [00:00<?, ?it/s]"
      ]
     },
     "metadata": {},
     "output_type": "display_data"
    },
    {
     "data": {
      "application/vnd.jupyter.widget-view+json": {
       "model_id": "adbd2ff23ad3452a887eead2612549a4",
       "version_major": 2,
       "version_minor": 0
      },
      "text/plain": [
       "Validation: |          | 0/? [00:00<?, ?it/s]"
      ]
     },
     "metadata": {},
     "output_type": "display_data"
    },
    {
     "data": {
      "application/vnd.jupyter.widget-view+json": {
       "model_id": "f8ae3bbee2934ca79e1cfd8b18477d90",
       "version_major": 2,
       "version_minor": 0
      },
      "text/plain": [
       "Validation: |          | 0/? [00:00<?, ?it/s]"
      ]
     },
     "metadata": {},
     "output_type": "display_data"
    },
    {
     "data": {
      "application/vnd.jupyter.widget-view+json": {
       "model_id": "1cb0d1e4792440708f20b4a383664409",
       "version_major": 2,
       "version_minor": 0
      },
      "text/plain": [
       "Validation: |          | 0/? [00:00<?, ?it/s]"
      ]
     },
     "metadata": {},
     "output_type": "display_data"
    },
    {
     "data": {
      "application/vnd.jupyter.widget-view+json": {
       "model_id": "8dc68c4edf9e4ccb86ae231a7fea6f65",
       "version_major": 2,
       "version_minor": 0
      },
      "text/plain": [
       "Validation: |          | 0/? [00:00<?, ?it/s]"
      ]
     },
     "metadata": {},
     "output_type": "display_data"
    },
    {
     "data": {
      "application/vnd.jupyter.widget-view+json": {
       "model_id": "4e024c7fd9f14ab1a04c258b75322003",
       "version_major": 2,
       "version_minor": 0
      },
      "text/plain": [
       "Validation: |          | 0/? [00:00<?, ?it/s]"
      ]
     },
     "metadata": {},
     "output_type": "display_data"
    },
    {
     "data": {
      "application/vnd.jupyter.widget-view+json": {
       "model_id": "859467930932457ab951167858b09018",
       "version_major": 2,
       "version_minor": 0
      },
      "text/plain": [
       "Validation: |          | 0/? [00:00<?, ?it/s]"
      ]
     },
     "metadata": {},
     "output_type": "display_data"
    },
    {
     "data": {
      "application/vnd.jupyter.widget-view+json": {
       "model_id": "6b44e3ee18854039a6d7e7e00ee59114",
       "version_major": 2,
       "version_minor": 0
      },
      "text/plain": [
       "Validation: |          | 0/? [00:00<?, ?it/s]"
      ]
     },
     "metadata": {},
     "output_type": "display_data"
    },
    {
     "data": {
      "application/vnd.jupyter.widget-view+json": {
       "model_id": "786a635acd3f4914900381f74b7f1b51",
       "version_major": 2,
       "version_minor": 0
      },
      "text/plain": [
       "Validation: |          | 0/? [00:00<?, ?it/s]"
      ]
     },
     "metadata": {},
     "output_type": "display_data"
    },
    {
     "data": {
      "application/vnd.jupyter.widget-view+json": {
       "model_id": "c2ce185929624928a9574254ee06d87c",
       "version_major": 2,
       "version_minor": 0
      },
      "text/plain": [
       "Validation: |          | 0/? [00:00<?, ?it/s]"
      ]
     },
     "metadata": {},
     "output_type": "display_data"
    },
    {
     "data": {
      "application/vnd.jupyter.widget-view+json": {
       "model_id": "d48ebb9d107f4c1b922a780dc6405638",
       "version_major": 2,
       "version_minor": 0
      },
      "text/plain": [
       "Validation: |          | 0/? [00:00<?, ?it/s]"
      ]
     },
     "metadata": {},
     "output_type": "display_data"
    },
    {
     "data": {
      "application/vnd.jupyter.widget-view+json": {
       "model_id": "502622d7e9284b21a63bafb25b3ae5e1",
       "version_major": 2,
       "version_minor": 0
      },
      "text/plain": [
       "Validation: |          | 0/? [00:00<?, ?it/s]"
      ]
     },
     "metadata": {},
     "output_type": "display_data"
    },
    {
     "data": {
      "application/vnd.jupyter.widget-view+json": {
       "model_id": "c261aca281b84970b3e0c4972e9ec7f9",
       "version_major": 2,
       "version_minor": 0
      },
      "text/plain": [
       "Validation: |          | 0/? [00:00<?, ?it/s]"
      ]
     },
     "metadata": {},
     "output_type": "display_data"
    },
    {
     "data": {
      "application/vnd.jupyter.widget-view+json": {
       "model_id": "165b92f2079a434d85c5b15d253083f0",
       "version_major": 2,
       "version_minor": 0
      },
      "text/plain": [
       "Validation: |          | 0/? [00:00<?, ?it/s]"
      ]
     },
     "metadata": {},
     "output_type": "display_data"
    },
    {
     "data": {
      "application/vnd.jupyter.widget-view+json": {
       "model_id": "692e3207916e4588a757106e764d4174",
       "version_major": 2,
       "version_minor": 0
      },
      "text/plain": [
       "Validation: |          | 0/? [00:00<?, ?it/s]"
      ]
     },
     "metadata": {},
     "output_type": "display_data"
    },
    {
     "data": {
      "application/vnd.jupyter.widget-view+json": {
       "model_id": "f90748f10be8413da82fe6d3d4aded69",
       "version_major": 2,
       "version_minor": 0
      },
      "text/plain": [
       "Validation: |          | 0/? [00:00<?, ?it/s]"
      ]
     },
     "metadata": {},
     "output_type": "display_data"
    },
    {
     "data": {
      "application/vnd.jupyter.widget-view+json": {
       "model_id": "869642432d9645398f8154fabe904bbf",
       "version_major": 2,
       "version_minor": 0
      },
      "text/plain": [
       "Validation: |          | 0/? [00:00<?, ?it/s]"
      ]
     },
     "metadata": {},
     "output_type": "display_data"
    },
    {
     "data": {
      "application/vnd.jupyter.widget-view+json": {
       "model_id": "ee606ae6560c422c9075dc43c18f52fa",
       "version_major": 2,
       "version_minor": 0
      },
      "text/plain": [
       "Validation: |          | 0/? [00:00<?, ?it/s]"
      ]
     },
     "metadata": {},
     "output_type": "display_data"
    },
    {
     "data": {
      "application/vnd.jupyter.widget-view+json": {
       "model_id": "67da6009fcae42b7ba74a8d6364fbece",
       "version_major": 2,
       "version_minor": 0
      },
      "text/plain": [
       "Validation: |          | 0/? [00:00<?, ?it/s]"
      ]
     },
     "metadata": {},
     "output_type": "display_data"
    },
    {
     "data": {
      "application/vnd.jupyter.widget-view+json": {
       "model_id": "f6c1f941940b43f9a004d50daf8200cc",
       "version_major": 2,
       "version_minor": 0
      },
      "text/plain": [
       "Validation: |          | 0/? [00:00<?, ?it/s]"
      ]
     },
     "metadata": {},
     "output_type": "display_data"
    },
    {
     "data": {
      "application/vnd.jupyter.widget-view+json": {
       "model_id": "a1d5dff066584d0db7a88661b759bc25",
       "version_major": 2,
       "version_minor": 0
      },
      "text/plain": [
       "Validation: |          | 0/? [00:00<?, ?it/s]"
      ]
     },
     "metadata": {},
     "output_type": "display_data"
    },
    {
     "data": {
      "application/vnd.jupyter.widget-view+json": {
       "model_id": "a79825b26ae64264a64b042b6df7f907",
       "version_major": 2,
       "version_minor": 0
      },
      "text/plain": [
       "Validation: |          | 0/? [00:00<?, ?it/s]"
      ]
     },
     "metadata": {},
     "output_type": "display_data"
    },
    {
     "data": {
      "application/vnd.jupyter.widget-view+json": {
       "model_id": "1f43cd9406a845648d0c8ff9339c1617",
       "version_major": 2,
       "version_minor": 0
      },
      "text/plain": [
       "Validation: |          | 0/? [00:00<?, ?it/s]"
      ]
     },
     "metadata": {},
     "output_type": "display_data"
    },
    {
     "data": {
      "application/vnd.jupyter.widget-view+json": {
       "model_id": "ec03a78919964649b4848bc873d56bc8",
       "version_major": 2,
       "version_minor": 0
      },
      "text/plain": [
       "Validation: |          | 0/? [00:00<?, ?it/s]"
      ]
     },
     "metadata": {},
     "output_type": "display_data"
    },
    {
     "data": {
      "application/vnd.jupyter.widget-view+json": {
       "model_id": "55a9a82d671b449d8fdb481b133ad83b",
       "version_major": 2,
       "version_minor": 0
      },
      "text/plain": [
       "Validation: |          | 0/? [00:00<?, ?it/s]"
      ]
     },
     "metadata": {},
     "output_type": "display_data"
    },
    {
     "data": {
      "application/vnd.jupyter.widget-view+json": {
       "model_id": "c267e3e0cb5740acbcd519451de6b1a2",
       "version_major": 2,
       "version_minor": 0
      },
      "text/plain": [
       "Validation: |          | 0/? [00:00<?, ?it/s]"
      ]
     },
     "metadata": {},
     "output_type": "display_data"
    },
    {
     "data": {
      "application/vnd.jupyter.widget-view+json": {
       "model_id": "0a521f8f1992439e9384ad8cf2910fbc",
       "version_major": 2,
       "version_minor": 0
      },
      "text/plain": [
       "Validation: |          | 0/? [00:00<?, ?it/s]"
      ]
     },
     "metadata": {},
     "output_type": "display_data"
    },
    {
     "data": {
      "application/vnd.jupyter.widget-view+json": {
       "model_id": "088218fecf5741b68d4ce0b0c4511741",
       "version_major": 2,
       "version_minor": 0
      },
      "text/plain": [
       "Validation: |          | 0/? [00:00<?, ?it/s]"
      ]
     },
     "metadata": {},
     "output_type": "display_data"
    },
    {
     "data": {
      "application/vnd.jupyter.widget-view+json": {
       "model_id": "6f5daf25072a4f08904d43f74802e280",
       "version_major": 2,
       "version_minor": 0
      },
      "text/plain": [
       "Validation: |          | 0/? [00:00<?, ?it/s]"
      ]
     },
     "metadata": {},
     "output_type": "display_data"
    },
    {
     "data": {
      "application/vnd.jupyter.widget-view+json": {
       "model_id": "0ea2beee1f6541f58c82cd731b67f047",
       "version_major": 2,
       "version_minor": 0
      },
      "text/plain": [
       "Validation: |          | 0/? [00:00<?, ?it/s]"
      ]
     },
     "metadata": {},
     "output_type": "display_data"
    },
    {
     "data": {
      "application/vnd.jupyter.widget-view+json": {
       "model_id": "8150eed1178243e9b374bb6780250130",
       "version_major": 2,
       "version_minor": 0
      },
      "text/plain": [
       "Validation: |          | 0/? [00:00<?, ?it/s]"
      ]
     },
     "metadata": {},
     "output_type": "display_data"
    },
    {
     "data": {
      "application/vnd.jupyter.widget-view+json": {
       "model_id": "6c29189943c4488a84ece99aaf303cd2",
       "version_major": 2,
       "version_minor": 0
      },
      "text/plain": [
       "Validation: |          | 0/? [00:00<?, ?it/s]"
      ]
     },
     "metadata": {},
     "output_type": "display_data"
    },
    {
     "data": {
      "application/vnd.jupyter.widget-view+json": {
       "model_id": "4ecd99d1f4024590a97763a870fd2b77",
       "version_major": 2,
       "version_minor": 0
      },
      "text/plain": [
       "Validation: |          | 0/? [00:00<?, ?it/s]"
      ]
     },
     "metadata": {},
     "output_type": "display_data"
    },
    {
     "data": {
      "application/vnd.jupyter.widget-view+json": {
       "model_id": "f47f03e4c59e49739d7822242f82a27c",
       "version_major": 2,
       "version_minor": 0
      },
      "text/plain": [
       "Validation: |          | 0/? [00:00<?, ?it/s]"
      ]
     },
     "metadata": {},
     "output_type": "display_data"
    },
    {
     "data": {
      "application/vnd.jupyter.widget-view+json": {
       "model_id": "b12d019f982e4fd8804b154efe0951a5",
       "version_major": 2,
       "version_minor": 0
      },
      "text/plain": [
       "Validation: |          | 0/? [00:00<?, ?it/s]"
      ]
     },
     "metadata": {},
     "output_type": "display_data"
    },
    {
     "data": {
      "application/vnd.jupyter.widget-view+json": {
       "model_id": "b2e7c9afd8884fe2a73f04e7443840a7",
       "version_major": 2,
       "version_minor": 0
      },
      "text/plain": [
       "Validation: |          | 0/? [00:00<?, ?it/s]"
      ]
     },
     "metadata": {},
     "output_type": "display_data"
    },
    {
     "data": {
      "application/vnd.jupyter.widget-view+json": {
       "model_id": "f9e6cd6c2dca4aa3823ab486be435949",
       "version_major": 2,
       "version_minor": 0
      },
      "text/plain": [
       "Validation: |          | 0/? [00:00<?, ?it/s]"
      ]
     },
     "metadata": {},
     "output_type": "display_data"
    },
    {
     "data": {
      "application/vnd.jupyter.widget-view+json": {
       "model_id": "ae5af2de1c5341aaa65d5e128b9818d2",
       "version_major": 2,
       "version_minor": 0
      },
      "text/plain": [
       "Validation: |          | 0/? [00:00<?, ?it/s]"
      ]
     },
     "metadata": {},
     "output_type": "display_data"
    },
    {
     "data": {
      "application/vnd.jupyter.widget-view+json": {
       "model_id": "35c4dc3c8ab5463f9f1842185e648551",
       "version_major": 2,
       "version_minor": 0
      },
      "text/plain": [
       "Validation: |          | 0/? [00:00<?, ?it/s]"
      ]
     },
     "metadata": {},
     "output_type": "display_data"
    },
    {
     "data": {
      "application/vnd.jupyter.widget-view+json": {
       "model_id": "f01dc3014d68486abc56e69add1d5141",
       "version_major": 2,
       "version_minor": 0
      },
      "text/plain": [
       "Validation: |          | 0/? [00:00<?, ?it/s]"
      ]
     },
     "metadata": {},
     "output_type": "display_data"
    },
    {
     "data": {
      "application/vnd.jupyter.widget-view+json": {
       "model_id": "7b743dc57bb14af59025d7c348722869",
       "version_major": 2,
       "version_minor": 0
      },
      "text/plain": [
       "Validation: |          | 0/? [00:00<?, ?it/s]"
      ]
     },
     "metadata": {},
     "output_type": "display_data"
    },
    {
     "data": {
      "application/vnd.jupyter.widget-view+json": {
       "model_id": "d6bcc9db6e4c4c3ca1d9ad18b03b315d",
       "version_major": 2,
       "version_minor": 0
      },
      "text/plain": [
       "Validation: |          | 0/? [00:00<?, ?it/s]"
      ]
     },
     "metadata": {},
     "output_type": "display_data"
    },
    {
     "data": {
      "application/vnd.jupyter.widget-view+json": {
       "model_id": "7e130d0d7c174c179869cc161315a5a9",
       "version_major": 2,
       "version_minor": 0
      },
      "text/plain": [
       "Validation: |          | 0/? [00:00<?, ?it/s]"
      ]
     },
     "metadata": {},
     "output_type": "display_data"
    },
    {
     "data": {
      "application/vnd.jupyter.widget-view+json": {
       "model_id": "9680a30e2f21487f926d63b19673badf",
       "version_major": 2,
       "version_minor": 0
      },
      "text/plain": [
       "Validation: |          | 0/? [00:00<?, ?it/s]"
      ]
     },
     "metadata": {},
     "output_type": "display_data"
    },
    {
     "data": {
      "application/vnd.jupyter.widget-view+json": {
       "model_id": "807a22dc1438484c80d1ab8924ee900f",
       "version_major": 2,
       "version_minor": 0
      },
      "text/plain": [
       "Validation: |          | 0/? [00:00<?, ?it/s]"
      ]
     },
     "metadata": {},
     "output_type": "display_data"
    },
    {
     "data": {
      "application/vnd.jupyter.widget-view+json": {
       "model_id": "9b7c651e4e604c03bfd14df9d8820d28",
       "version_major": 2,
       "version_minor": 0
      },
      "text/plain": [
       "Validation: |          | 0/? [00:00<?, ?it/s]"
      ]
     },
     "metadata": {},
     "output_type": "display_data"
    },
    {
     "data": {
      "application/vnd.jupyter.widget-view+json": {
       "model_id": "6b0874ac9e414b1c8f1ff952aef6664d",
       "version_major": 2,
       "version_minor": 0
      },
      "text/plain": [
       "Validation: |          | 0/? [00:00<?, ?it/s]"
      ]
     },
     "metadata": {},
     "output_type": "display_data"
    },
    {
     "data": {
      "application/vnd.jupyter.widget-view+json": {
       "model_id": "3f925299c43d42cc8cb6bffa79bcdcc6",
       "version_major": 2,
       "version_minor": 0
      },
      "text/plain": [
       "Validation: |          | 0/? [00:00<?, ?it/s]"
      ]
     },
     "metadata": {},
     "output_type": "display_data"
    },
    {
     "data": {
      "application/vnd.jupyter.widget-view+json": {
       "model_id": "28ea3645f6794e3abdc7d445340df3a2",
       "version_major": 2,
       "version_minor": 0
      },
      "text/plain": [
       "Validation: |          | 0/? [00:00<?, ?it/s]"
      ]
     },
     "metadata": {},
     "output_type": "display_data"
    },
    {
     "data": {
      "application/vnd.jupyter.widget-view+json": {
       "model_id": "d83e19e439954116a4bdf9f923226c70",
       "version_major": 2,
       "version_minor": 0
      },
      "text/plain": [
       "Validation: |          | 0/? [00:00<?, ?it/s]"
      ]
     },
     "metadata": {},
     "output_type": "display_data"
    },
    {
     "data": {
      "application/vnd.jupyter.widget-view+json": {
       "model_id": "f43f28112be6417eacfb7b720c692b44",
       "version_major": 2,
       "version_minor": 0
      },
      "text/plain": [
       "Validation: |          | 0/? [00:00<?, ?it/s]"
      ]
     },
     "metadata": {},
     "output_type": "display_data"
    },
    {
     "data": {
      "application/vnd.jupyter.widget-view+json": {
       "model_id": "98c6878e3d44425bb52ed94de00ea6b5",
       "version_major": 2,
       "version_minor": 0
      },
      "text/plain": [
       "Validation: |          | 0/? [00:00<?, ?it/s]"
      ]
     },
     "metadata": {},
     "output_type": "display_data"
    },
    {
     "data": {
      "application/vnd.jupyter.widget-view+json": {
       "model_id": "032db3f1e20544e6ba9147c8cb7dc442",
       "version_major": 2,
       "version_minor": 0
      },
      "text/plain": [
       "Validation: |          | 0/? [00:00<?, ?it/s]"
      ]
     },
     "metadata": {},
     "output_type": "display_data"
    },
    {
     "data": {
      "application/vnd.jupyter.widget-view+json": {
       "model_id": "c546a2a1695d40a2a21b196cb692b905",
       "version_major": 2,
       "version_minor": 0
      },
      "text/plain": [
       "Validation: |          | 0/? [00:00<?, ?it/s]"
      ]
     },
     "metadata": {},
     "output_type": "display_data"
    },
    {
     "data": {
      "application/vnd.jupyter.widget-view+json": {
       "model_id": "09cc23daf0f54842a044cddc5bed0b47",
       "version_major": 2,
       "version_minor": 0
      },
      "text/plain": [
       "Validation: |          | 0/? [00:00<?, ?it/s]"
      ]
     },
     "metadata": {},
     "output_type": "display_data"
    },
    {
     "data": {
      "application/vnd.jupyter.widget-view+json": {
       "model_id": "cb7b7f8a87994c329ae7ba3e2752df1c",
       "version_major": 2,
       "version_minor": 0
      },
      "text/plain": [
       "Validation: |          | 0/? [00:00<?, ?it/s]"
      ]
     },
     "metadata": {},
     "output_type": "display_data"
    },
    {
     "data": {
      "application/vnd.jupyter.widget-view+json": {
       "model_id": "56257683d58e4c36a50195b6207ab087",
       "version_major": 2,
       "version_minor": 0
      },
      "text/plain": [
       "Validation: |          | 0/? [00:00<?, ?it/s]"
      ]
     },
     "metadata": {},
     "output_type": "display_data"
    },
    {
     "data": {
      "application/vnd.jupyter.widget-view+json": {
       "model_id": "dc13ebfa7e1b4657a5b423819021299a",
       "version_major": 2,
       "version_minor": 0
      },
      "text/plain": [
       "Validation: |          | 0/? [00:00<?, ?it/s]"
      ]
     },
     "metadata": {},
     "output_type": "display_data"
    },
    {
     "data": {
      "application/vnd.jupyter.widget-view+json": {
       "model_id": "fe029d12b6124100bb0a582ff43b2dfe",
       "version_major": 2,
       "version_minor": 0
      },
      "text/plain": [
       "Validation: |          | 0/? [00:00<?, ?it/s]"
      ]
     },
     "metadata": {},
     "output_type": "display_data"
    },
    {
     "data": {
      "application/vnd.jupyter.widget-view+json": {
       "model_id": "f0e054b6c60344ae952a2c856dcd33a9",
       "version_major": 2,
       "version_minor": 0
      },
      "text/plain": [
       "Validation: |          | 0/? [00:00<?, ?it/s]"
      ]
     },
     "metadata": {},
     "output_type": "display_data"
    },
    {
     "data": {
      "application/vnd.jupyter.widget-view+json": {
       "model_id": "0e22e296192c43e3a05eeb9bd061190e",
       "version_major": 2,
       "version_minor": 0
      },
      "text/plain": [
       "Validation: |          | 0/? [00:00<?, ?it/s]"
      ]
     },
     "metadata": {},
     "output_type": "display_data"
    },
    {
     "data": {
      "application/vnd.jupyter.widget-view+json": {
       "model_id": "ace9d064aa4c45dea9e0e0b1547f4f9c",
       "version_major": 2,
       "version_minor": 0
      },
      "text/plain": [
       "Validation: |          | 0/? [00:00<?, ?it/s]"
      ]
     },
     "metadata": {},
     "output_type": "display_data"
    },
    {
     "data": {
      "application/vnd.jupyter.widget-view+json": {
       "model_id": "a89e92ef5e7e49c6a0150f0a7aa66839",
       "version_major": 2,
       "version_minor": 0
      },
      "text/plain": [
       "Validation: |          | 0/? [00:00<?, ?it/s]"
      ]
     },
     "metadata": {},
     "output_type": "display_data"
    },
    {
     "data": {
      "application/vnd.jupyter.widget-view+json": {
       "model_id": "9cd171fecfcc4b1d9d31ead9b4152788",
       "version_major": 2,
       "version_minor": 0
      },
      "text/plain": [
       "Validation: |          | 0/? [00:00<?, ?it/s]"
      ]
     },
     "metadata": {},
     "output_type": "display_data"
    },
    {
     "data": {
      "application/vnd.jupyter.widget-view+json": {
       "model_id": "f38438af71084e4d9501bba9f15d2b6e",
       "version_major": 2,
       "version_minor": 0
      },
      "text/plain": [
       "Validation: |          | 0/? [00:00<?, ?it/s]"
      ]
     },
     "metadata": {},
     "output_type": "display_data"
    },
    {
     "data": {
      "application/vnd.jupyter.widget-view+json": {
       "model_id": "5a4115e78f3240719ed1a11650d3b754",
       "version_major": 2,
       "version_minor": 0
      },
      "text/plain": [
       "Validation: |          | 0/? [00:00<?, ?it/s]"
      ]
     },
     "metadata": {},
     "output_type": "display_data"
    },
    {
     "data": {
      "application/vnd.jupyter.widget-view+json": {
       "model_id": "4295c312ff00422d991439c985956a9d",
       "version_major": 2,
       "version_minor": 0
      },
      "text/plain": [
       "Validation: |          | 0/? [00:00<?, ?it/s]"
      ]
     },
     "metadata": {},
     "output_type": "display_data"
    },
    {
     "data": {
      "application/vnd.jupyter.widget-view+json": {
       "model_id": "a1df204a77324daf8ddc2a51f1a3848b",
       "version_major": 2,
       "version_minor": 0
      },
      "text/plain": [
       "Validation: |          | 0/? [00:00<?, ?it/s]"
      ]
     },
     "metadata": {},
     "output_type": "display_data"
    },
    {
     "data": {
      "application/vnd.jupyter.widget-view+json": {
       "model_id": "31334df767e34818b10ac6d2db0048e4",
       "version_major": 2,
       "version_minor": 0
      },
      "text/plain": [
       "Validation: |          | 0/? [00:00<?, ?it/s]"
      ]
     },
     "metadata": {},
     "output_type": "display_data"
    },
    {
     "data": {
      "application/vnd.jupyter.widget-view+json": {
       "model_id": "1bc805f4d6fa4c938cd526b2738ece94",
       "version_major": 2,
       "version_minor": 0
      },
      "text/plain": [
       "Validation: |          | 0/? [00:00<?, ?it/s]"
      ]
     },
     "metadata": {},
     "output_type": "display_data"
    },
    {
     "data": {
      "application/vnd.jupyter.widget-view+json": {
       "model_id": "f09b161dd692472c8dc3aa0b2bc8a631",
       "version_major": 2,
       "version_minor": 0
      },
      "text/plain": [
       "Validation: |          | 0/? [00:00<?, ?it/s]"
      ]
     },
     "metadata": {},
     "output_type": "display_data"
    },
    {
     "data": {
      "application/vnd.jupyter.widget-view+json": {
       "model_id": "f3b7762031224ebfb08a2de674ad06c4",
       "version_major": 2,
       "version_minor": 0
      },
      "text/plain": [
       "Validation: |          | 0/? [00:00<?, ?it/s]"
      ]
     },
     "metadata": {},
     "output_type": "display_data"
    },
    {
     "data": {
      "application/vnd.jupyter.widget-view+json": {
       "model_id": "8296e3bebabf4cb59cc29d36b0faf034",
       "version_major": 2,
       "version_minor": 0
      },
      "text/plain": [
       "Validation: |          | 0/? [00:00<?, ?it/s]"
      ]
     },
     "metadata": {},
     "output_type": "display_data"
    },
    {
     "data": {
      "application/vnd.jupyter.widget-view+json": {
       "model_id": "bea078a79b484dcb9f9ae3d5593c527d",
       "version_major": 2,
       "version_minor": 0
      },
      "text/plain": [
       "Validation: |          | 0/? [00:00<?, ?it/s]"
      ]
     },
     "metadata": {},
     "output_type": "display_data"
    },
    {
     "data": {
      "application/vnd.jupyter.widget-view+json": {
       "model_id": "6c8d774305da4206aea81bbbe2f42135",
       "version_major": 2,
       "version_minor": 0
      },
      "text/plain": [
       "Validation: |          | 0/? [00:00<?, ?it/s]"
      ]
     },
     "metadata": {},
     "output_type": "display_data"
    },
    {
     "data": {
      "application/vnd.jupyter.widget-view+json": {
       "model_id": "755d17c361ce488e86491fab8d9d9c0d",
       "version_major": 2,
       "version_minor": 0
      },
      "text/plain": [
       "Validation: |          | 0/? [00:00<?, ?it/s]"
      ]
     },
     "metadata": {},
     "output_type": "display_data"
    },
    {
     "data": {
      "application/vnd.jupyter.widget-view+json": {
       "model_id": "8b0d25506b4245ecaa4985bc07a54668",
       "version_major": 2,
       "version_minor": 0
      },
      "text/plain": [
       "Validation: |          | 0/? [00:00<?, ?it/s]"
      ]
     },
     "metadata": {},
     "output_type": "display_data"
    },
    {
     "data": {
      "application/vnd.jupyter.widget-view+json": {
       "model_id": "558696b5cc6f42f6b949ff78f41d477b",
       "version_major": 2,
       "version_minor": 0
      },
      "text/plain": [
       "Validation: |          | 0/? [00:00<?, ?it/s]"
      ]
     },
     "metadata": {},
     "output_type": "display_data"
    },
    {
     "data": {
      "application/vnd.jupyter.widget-view+json": {
       "model_id": "42968643309243a996123e066f8ba823",
       "version_major": 2,
       "version_minor": 0
      },
      "text/plain": [
       "Validation: |          | 0/? [00:00<?, ?it/s]"
      ]
     },
     "metadata": {},
     "output_type": "display_data"
    },
    {
     "data": {
      "application/vnd.jupyter.widget-view+json": {
       "model_id": "aa03be588b494ff0b1c31afda6296ee8",
       "version_major": 2,
       "version_minor": 0
      },
      "text/plain": [
       "Validation: |          | 0/? [00:00<?, ?it/s]"
      ]
     },
     "metadata": {},
     "output_type": "display_data"
    },
    {
     "data": {
      "application/vnd.jupyter.widget-view+json": {
       "model_id": "6fc5b1dc2b6b4342b14da39378ee388d",
       "version_major": 2,
       "version_minor": 0
      },
      "text/plain": [
       "Validation: |          | 0/? [00:00<?, ?it/s]"
      ]
     },
     "metadata": {},
     "output_type": "display_data"
    },
    {
     "data": {
      "application/vnd.jupyter.widget-view+json": {
       "model_id": "96867d1c63214b68a8e0fecb6605d663",
       "version_major": 2,
       "version_minor": 0
      },
      "text/plain": [
       "Validation: |          | 0/? [00:00<?, ?it/s]"
      ]
     },
     "metadata": {},
     "output_type": "display_data"
    },
    {
     "data": {
      "application/vnd.jupyter.widget-view+json": {
       "model_id": "250b9da834914521af0058ee2e4342d1",
       "version_major": 2,
       "version_minor": 0
      },
      "text/plain": [
       "Validation: |          | 0/? [00:00<?, ?it/s]"
      ]
     },
     "metadata": {},
     "output_type": "display_data"
    },
    {
     "name": "stderr",
     "output_type": "stream",
     "text": [
      "`Trainer.fit` stopped: `max_epochs=250` reached.\n"
     ]
    }
   ],
   "source": [
    "trainer.fit(model,\n",
    "            train_dataloaders=train_dataloader_all,\n",
    "            val_dataloaders=val_dataloader_all)\n",
    "        \n",
    "torch.cuda.empty_cache()"
   ]
  },
  {
   "cell_type": "code",
   "execution_count": null,
   "metadata": {},
   "outputs": [],
   "source": []
  }
 ],
 "metadata": {
  "kernelspec": {
   "display_name": ".venv",
   "language": "python",
   "name": "python3"
  },
  "language_info": {
   "codemirror_mode": {
    "name": "ipython",
    "version": 3
   },
   "file_extension": ".py",
   "mimetype": "text/x-python",
   "name": "python",
   "nbconvert_exporter": "python",
   "pygments_lexer": "ipython3",
   "version": "3.8.10"
  }
 },
 "nbformat": 4,
 "nbformat_minor": 2
}
