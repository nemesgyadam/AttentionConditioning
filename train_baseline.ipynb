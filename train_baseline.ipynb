{
 "cells": [
  {
   "cell_type": "code",
   "execution_count": 1,
   "metadata": {},
   "outputs": [],
   "source": [
    "import os\n",
    "os.environ[\"CUDA_DEVICE_ORDER\"]=\"PCI_BUS_ID\"   # see issue #152\n",
    "os.environ[\"CUDA_VISIBLE_DEVICES\"]=\"0\""
   ]
  },
  {
   "cell_type": "code",
   "execution_count": 2,
   "metadata": {},
   "outputs": [
    {
     "name": "stderr",
     "output_type": "stream",
     "text": [
      "/home/devuser/.local/lib/python3.8/site-packages/docstring_inheritance/docstring_inheritors/bases/inheritor.py:329: DocstringInheritanceWarning: File /home/devuser/.local/lib/python3.8/site-packages/braindecode/models/eegconformer.py:88: in EEGConformer.__init__: section Parameters: the docstring for the argument 'n_outputs' is missing.\n",
      "  self._warn(\n",
      "/home/devuser/.local/lib/python3.8/site-packages/docstring_inheritance/docstring_inheritors/bases/inheritor.py:329: DocstringInheritanceWarning: File /home/devuser/.local/lib/python3.8/site-packages/braindecode/models/eegconformer.py:88: in EEGConformer.__init__: section Parameters: the docstring for the argument 'n_chans' is missing.\n",
      "  self._warn(\n",
      "/home/devuser/.local/lib/python3.8/site-packages/docstring_inheritance/docstring_inheritors/bases/inheritor.py:329: DocstringInheritanceWarning: File /home/devuser/.local/lib/python3.8/site-packages/braindecode/models/eegconformer.py:88: in EEGConformer.__init__: section Parameters: the docstring for the argument 'n_filters_time' is missing.\n",
      "  self._warn(\n",
      "/home/devuser/.local/lib/python3.8/site-packages/docstring_inheritance/docstring_inheritors/bases/inheritor.py:329: DocstringInheritanceWarning: File /home/devuser/.local/lib/python3.8/site-packages/braindecode/models/eegconformer.py:88: in EEGConformer.__init__: section Parameters: the docstring for the argument 'filter_time_length' is missing.\n",
      "  self._warn(\n",
      "/home/devuser/.local/lib/python3.8/site-packages/docstring_inheritance/docstring_inheritors/bases/inheritor.py:329: DocstringInheritanceWarning: File /home/devuser/.local/lib/python3.8/site-packages/braindecode/models/eegconformer.py:88: in EEGConformer.__init__: section Parameters: the docstring for the argument 'pool_time_length' is missing.\n",
      "  self._warn(\n",
      "/home/devuser/.local/lib/python3.8/site-packages/docstring_inheritance/docstring_inheritors/bases/inheritor.py:329: DocstringInheritanceWarning: File /home/devuser/.local/lib/python3.8/site-packages/braindecode/models/eegconformer.py:88: in EEGConformer.__init__: section Parameters: the docstring for the argument 'pool_time_stride' is missing.\n",
      "  self._warn(\n",
      "/home/devuser/.local/lib/python3.8/site-packages/docstring_inheritance/docstring_inheritors/bases/inheritor.py:329: DocstringInheritanceWarning: File /home/devuser/.local/lib/python3.8/site-packages/braindecode/models/eegconformer.py:88: in EEGConformer.__init__: section Parameters: the docstring for the argument 'drop_prob' is missing.\n",
      "  self._warn(\n",
      "/home/devuser/.local/lib/python3.8/site-packages/docstring_inheritance/docstring_inheritors/bases/inheritor.py:329: DocstringInheritanceWarning: File /home/devuser/.local/lib/python3.8/site-packages/braindecode/models/eegconformer.py:88: in EEGConformer.__init__: section Parameters: the docstring for the argument 'att_depth' is missing.\n",
      "  self._warn(\n",
      "/home/devuser/.local/lib/python3.8/site-packages/docstring_inheritance/docstring_inheritors/bases/inheritor.py:329: DocstringInheritanceWarning: File /home/devuser/.local/lib/python3.8/site-packages/braindecode/models/eegconformer.py:88: in EEGConformer.__init__: section Parameters: the docstring for the argument 'att_heads' is missing.\n",
      "  self._warn(\n",
      "/home/devuser/.local/lib/python3.8/site-packages/docstring_inheritance/docstring_inheritors/bases/inheritor.py:329: DocstringInheritanceWarning: File /home/devuser/.local/lib/python3.8/site-packages/braindecode/models/eegconformer.py:88: in EEGConformer.__init__: section Parameters: the docstring for the argument 'att_drop_prob' is missing.\n",
      "  self._warn(\n",
      "/home/devuser/.local/lib/python3.8/site-packages/docstring_inheritance/docstring_inheritors/bases/inheritor.py:329: DocstringInheritanceWarning: File /home/devuser/.local/lib/python3.8/site-packages/braindecode/models/eegconformer.py:88: in EEGConformer.__init__: section Parameters: the docstring for the argument 'final_fc_length' is missing.\n",
      "  self._warn(\n",
      "/home/devuser/.local/lib/python3.8/site-packages/docstring_inheritance/docstring_inheritors/bases/inheritor.py:329: DocstringInheritanceWarning: File /home/devuser/.local/lib/python3.8/site-packages/braindecode/models/eegconformer.py:88: in EEGConformer.__init__: section Parameters: the docstring for the argument 'return_features' is missing.\n",
      "  self._warn(\n",
      "/home/devuser/.local/lib/python3.8/site-packages/docstring_inheritance/docstring_inheritors/bases/inheritor.py:329: DocstringInheritanceWarning: File /home/devuser/.local/lib/python3.8/site-packages/braindecode/models/eegconformer.py:88: in EEGConformer.__init__: section Parameters: the docstring for the argument 'n_times' is missing.\n",
      "  self._warn(\n",
      "/home/devuser/.local/lib/python3.8/site-packages/docstring_inheritance/docstring_inheritors/bases/inheritor.py:329: DocstringInheritanceWarning: File /home/devuser/.local/lib/python3.8/site-packages/braindecode/models/eegconformer.py:88: in EEGConformer.__init__: section Parameters: the docstring for the argument 'chs_info' is missing.\n",
      "  self._warn(\n",
      "/home/devuser/.local/lib/python3.8/site-packages/docstring_inheritance/docstring_inheritors/bases/inheritor.py:329: DocstringInheritanceWarning: File /home/devuser/.local/lib/python3.8/site-packages/braindecode/models/eegconformer.py:88: in EEGConformer.__init__: section Parameters: the docstring for the argument 'input_window_seconds' is missing.\n",
      "  self._warn(\n",
      "/home/devuser/.local/lib/python3.8/site-packages/docstring_inheritance/docstring_inheritors/bases/inheritor.py:329: DocstringInheritanceWarning: File /home/devuser/.local/lib/python3.8/site-packages/braindecode/models/eegconformer.py:88: in EEGConformer.__init__: section Parameters: the docstring for the argument 'sfreq' is missing.\n",
      "  self._warn(\n",
      "/home/devuser/.local/lib/python3.8/site-packages/docstring_inheritance/docstring_inheritors/bases/inheritor.py:329: DocstringInheritanceWarning: File /home/devuser/.local/lib/python3.8/site-packages/braindecode/models/eegconformer.py:88: in EEGConformer.__init__: section Parameters: the docstring for the argument 'n_classes' is missing.\n",
      "  self._warn(\n",
      "/home/devuser/.local/lib/python3.8/site-packages/docstring_inheritance/docstring_inheritors/bases/inheritor.py:329: DocstringInheritanceWarning: File /home/devuser/.local/lib/python3.8/site-packages/braindecode/models/eegconformer.py:88: in EEGConformer.__init__: section Parameters: the docstring for the argument 'n_channels' is missing.\n",
      "  self._warn(\n",
      "/home/devuser/.local/lib/python3.8/site-packages/docstring_inheritance/docstring_inheritors/bases/inheritor.py:329: DocstringInheritanceWarning: File /home/devuser/.local/lib/python3.8/site-packages/braindecode/models/eegconformer.py:88: in EEGConformer.__init__: section Parameters: the docstring for the argument 'input_window_samples' is missing.\n",
      "  self._warn(\n",
      "/home/devuser/.local/lib/python3.8/site-packages/docstring_inheritance/docstring_inheritors/bases/inheritor.py:329: DocstringInheritanceWarning: File /home/devuser/.local/lib/python3.8/site-packages/braindecode/models/eegconformer.py:88: in EEGConformer.__init__: section Parameters: the docstring for the argument 'add_log_softmax' is missing.\n",
      "  self._warn(\n",
      "/home/devuser/.local/lib/python3.8/site-packages/docstring_inheritance/docstring_inheritors/bases/inheritor.py:329: DocstringInheritanceWarning: File /home/devuser/.local/lib/python3.8/site-packages/braindecode/models/eegconformer.py:163: in EEGConformer.forward: section Parameters: the docstring for the argument 'x' is missing.\n",
      "  self._warn(\n",
      "/home/devuser/.local/lib/python3.8/site-packages/docstring_inheritance/docstring_inheritors/bases/inheritor.py:329: DocstringInheritanceWarning: File /home/devuser/.local/lib/python3.8/site-packages/braindecode/models/eegitnet.py:121: in EEGITNet.__init__: section Parameters: the docstring for the argument 'n_outputs' is missing.\n",
      "  self._warn(\n",
      "/home/devuser/.local/lib/python3.8/site-packages/docstring_inheritance/docstring_inheritors/bases/inheritor.py:329: DocstringInheritanceWarning: File /home/devuser/.local/lib/python3.8/site-packages/braindecode/models/eegitnet.py:121: in EEGITNet.__init__: section Parameters: the docstring for the argument 'n_chans' is missing.\n",
      "  self._warn(\n",
      "/home/devuser/.local/lib/python3.8/site-packages/docstring_inheritance/docstring_inheritors/bases/inheritor.py:329: DocstringInheritanceWarning: File /home/devuser/.local/lib/python3.8/site-packages/braindecode/models/eegitnet.py:121: in EEGITNet.__init__: section Parameters: the docstring for the argument 'n_times' is missing.\n",
      "  self._warn(\n",
      "/home/devuser/.local/lib/python3.8/site-packages/docstring_inheritance/docstring_inheritors/bases/inheritor.py:329: DocstringInheritanceWarning: File /home/devuser/.local/lib/python3.8/site-packages/braindecode/models/eegitnet.py:121: in EEGITNet.__init__: section Parameters: the docstring for the argument 'drop_prob' is missing.\n",
      "  self._warn(\n",
      "/home/devuser/.local/lib/python3.8/site-packages/docstring_inheritance/docstring_inheritors/bases/inheritor.py:329: DocstringInheritanceWarning: File /home/devuser/.local/lib/python3.8/site-packages/braindecode/models/eegitnet.py:121: in EEGITNet.__init__: section Parameters: the docstring for the argument 'chs_info' is missing.\n",
      "  self._warn(\n",
      "/home/devuser/.local/lib/python3.8/site-packages/docstring_inheritance/docstring_inheritors/bases/inheritor.py:329: DocstringInheritanceWarning: File /home/devuser/.local/lib/python3.8/site-packages/braindecode/models/eegitnet.py:121: in EEGITNet.__init__: section Parameters: the docstring for the argument 'input_window_seconds' is missing.\n",
      "  self._warn(\n",
      "/home/devuser/.local/lib/python3.8/site-packages/docstring_inheritance/docstring_inheritors/bases/inheritor.py:329: DocstringInheritanceWarning: File /home/devuser/.local/lib/python3.8/site-packages/braindecode/models/eegitnet.py:121: in EEGITNet.__init__: section Parameters: the docstring for the argument 'sfreq' is missing.\n",
      "  self._warn(\n",
      "/home/devuser/.local/lib/python3.8/site-packages/docstring_inheritance/docstring_inheritors/bases/inheritor.py:329: DocstringInheritanceWarning: File /home/devuser/.local/lib/python3.8/site-packages/braindecode/models/eegitnet.py:121: in EEGITNet.__init__: section Parameters: the docstring for the argument 'n_classes' is missing.\n",
      "  self._warn(\n",
      "/home/devuser/.local/lib/python3.8/site-packages/docstring_inheritance/docstring_inheritors/bases/inheritor.py:329: DocstringInheritanceWarning: File /home/devuser/.local/lib/python3.8/site-packages/braindecode/models/eegitnet.py:121: in EEGITNet.__init__: section Parameters: the docstring for the argument 'in_channels' is missing.\n",
      "  self._warn(\n",
      "/home/devuser/.local/lib/python3.8/site-packages/docstring_inheritance/docstring_inheritors/bases/inheritor.py:329: DocstringInheritanceWarning: File /home/devuser/.local/lib/python3.8/site-packages/braindecode/models/eegitnet.py:121: in EEGITNet.__init__: section Parameters: the docstring for the argument 'input_window_samples' is missing.\n",
      "  self._warn(\n",
      "/home/devuser/.local/lib/python3.8/site-packages/docstring_inheritance/docstring_inheritors/bases/inheritor.py:329: DocstringInheritanceWarning: File /home/devuser/.local/lib/python3.8/site-packages/braindecode/models/eegitnet.py:121: in EEGITNet.__init__: section Parameters: the docstring for the argument 'add_log_softmax' is missing.\n",
      "  self._warn(\n",
      "/home/devuser/.local/lib/python3.8/site-packages/docstring_inheritance/docstring_inheritors/bases/inheritor.py:329: DocstringInheritanceWarning: File /home/devuser/.local/lib/python3.8/site-packages/braindecode/models/deep4.py:89: in Deep4Net.__init__: section Parameters: the docstring for the argument 'n_chans' is missing.\n",
      "  self._warn(\n",
      "/home/devuser/.local/lib/python3.8/site-packages/docstring_inheritance/docstring_inheritors/bases/inheritor.py:329: DocstringInheritanceWarning: File /home/devuser/.local/lib/python3.8/site-packages/braindecode/models/deep4.py:89: in Deep4Net.__init__: section Parameters: the docstring for the argument 'n_outputs' is missing.\n",
      "  self._warn(\n",
      "/home/devuser/.local/lib/python3.8/site-packages/docstring_inheritance/docstring_inheritors/bases/inheritor.py:329: DocstringInheritanceWarning: File /home/devuser/.local/lib/python3.8/site-packages/braindecode/models/deep4.py:89: in Deep4Net.__init__: section Parameters: the docstring for the argument 'n_times' is missing.\n",
      "  self._warn(\n",
      "/home/devuser/.local/lib/python3.8/site-packages/docstring_inheritance/docstring_inheritors/bases/inheritor.py:329: DocstringInheritanceWarning: File /home/devuser/.local/lib/python3.8/site-packages/braindecode/models/deep4.py:89: in Deep4Net.__init__: section Parameters: the docstring for the argument 'final_conv_length' is missing.\n",
      "  self._warn(\n",
      "/home/devuser/.local/lib/python3.8/site-packages/docstring_inheritance/docstring_inheritors/bases/inheritor.py:329: DocstringInheritanceWarning: File /home/devuser/.local/lib/python3.8/site-packages/braindecode/models/deep4.py:89: in Deep4Net.__init__: section Parameters: the docstring for the argument 'n_filters_time' is missing.\n",
      "  self._warn(\n",
      "/home/devuser/.local/lib/python3.8/site-packages/docstring_inheritance/docstring_inheritors/bases/inheritor.py:329: DocstringInheritanceWarning: File /home/devuser/.local/lib/python3.8/site-packages/braindecode/models/deep4.py:89: in Deep4Net.__init__: section Parameters: the docstring for the argument 'n_filters_spat' is missing.\n",
      "  self._warn(\n",
      "/home/devuser/.local/lib/python3.8/site-packages/docstring_inheritance/docstring_inheritors/bases/inheritor.py:329: DocstringInheritanceWarning: File /home/devuser/.local/lib/python3.8/site-packages/braindecode/models/deep4.py:89: in Deep4Net.__init__: section Parameters: the docstring for the argument 'filter_time_length' is missing.\n",
      "  self._warn(\n",
      "/home/devuser/.local/lib/python3.8/site-packages/docstring_inheritance/docstring_inheritors/bases/inheritor.py:329: DocstringInheritanceWarning: File /home/devuser/.local/lib/python3.8/site-packages/braindecode/models/deep4.py:89: in Deep4Net.__init__: section Parameters: the docstring for the argument 'pool_time_length' is missing.\n",
      "  self._warn(\n",
      "/home/devuser/.local/lib/python3.8/site-packages/docstring_inheritance/docstring_inheritors/bases/inheritor.py:329: DocstringInheritanceWarning: File /home/devuser/.local/lib/python3.8/site-packages/braindecode/models/deep4.py:89: in Deep4Net.__init__: section Parameters: the docstring for the argument 'pool_time_stride' is missing.\n",
      "  self._warn(\n",
      "/home/devuser/.local/lib/python3.8/site-packages/docstring_inheritance/docstring_inheritors/bases/inheritor.py:329: DocstringInheritanceWarning: File /home/devuser/.local/lib/python3.8/site-packages/braindecode/models/deep4.py:89: in Deep4Net.__init__: section Parameters: the docstring for the argument 'n_filters_2' is missing.\n",
      "  self._warn(\n",
      "/home/devuser/.local/lib/python3.8/site-packages/docstring_inheritance/docstring_inheritors/bases/inheritor.py:329: DocstringInheritanceWarning: File /home/devuser/.local/lib/python3.8/site-packages/braindecode/models/deep4.py:89: in Deep4Net.__init__: section Parameters: the docstring for the argument 'filter_length_2' is missing.\n",
      "  self._warn(\n",
      "/home/devuser/.local/lib/python3.8/site-packages/docstring_inheritance/docstring_inheritors/bases/inheritor.py:329: DocstringInheritanceWarning: File /home/devuser/.local/lib/python3.8/site-packages/braindecode/models/deep4.py:89: in Deep4Net.__init__: section Parameters: the docstring for the argument 'n_filters_3' is missing.\n",
      "  self._warn(\n",
      "/home/devuser/.local/lib/python3.8/site-packages/docstring_inheritance/docstring_inheritors/bases/inheritor.py:329: DocstringInheritanceWarning: File /home/devuser/.local/lib/python3.8/site-packages/braindecode/models/deep4.py:89: in Deep4Net.__init__: section Parameters: the docstring for the argument 'filter_length_3' is missing.\n",
      "  self._warn(\n",
      "/home/devuser/.local/lib/python3.8/site-packages/docstring_inheritance/docstring_inheritors/bases/inheritor.py:329: DocstringInheritanceWarning: File /home/devuser/.local/lib/python3.8/site-packages/braindecode/models/deep4.py:89: in Deep4Net.__init__: section Parameters: the docstring for the argument 'n_filters_4' is missing.\n",
      "  self._warn(\n",
      "/home/devuser/.local/lib/python3.8/site-packages/docstring_inheritance/docstring_inheritors/bases/inheritor.py:329: DocstringInheritanceWarning: File /home/devuser/.local/lib/python3.8/site-packages/braindecode/models/deep4.py:89: in Deep4Net.__init__: section Parameters: the docstring for the argument 'filter_length_4' is missing.\n",
      "  self._warn(\n",
      "/home/devuser/.local/lib/python3.8/site-packages/docstring_inheritance/docstring_inheritors/bases/inheritor.py:329: DocstringInheritanceWarning: File /home/devuser/.local/lib/python3.8/site-packages/braindecode/models/deep4.py:89: in Deep4Net.__init__: section Parameters: the docstring for the argument 'first_conv_nonlin' is missing.\n",
      "  self._warn(\n",
      "/home/devuser/.local/lib/python3.8/site-packages/docstring_inheritance/docstring_inheritors/bases/inheritor.py:329: DocstringInheritanceWarning: File /home/devuser/.local/lib/python3.8/site-packages/braindecode/models/deep4.py:89: in Deep4Net.__init__: section Parameters: the docstring for the argument 'first_pool_mode' is missing.\n",
      "  self._warn(\n",
      "/home/devuser/.local/lib/python3.8/site-packages/docstring_inheritance/docstring_inheritors/bases/inheritor.py:329: DocstringInheritanceWarning: File /home/devuser/.local/lib/python3.8/site-packages/braindecode/models/deep4.py:89: in Deep4Net.__init__: section Parameters: the docstring for the argument 'first_pool_nonlin' is missing.\n",
      "  self._warn(\n",
      "/home/devuser/.local/lib/python3.8/site-packages/docstring_inheritance/docstring_inheritors/bases/inheritor.py:329: DocstringInheritanceWarning: File /home/devuser/.local/lib/python3.8/site-packages/braindecode/models/deep4.py:89: in Deep4Net.__init__: section Parameters: the docstring for the argument 'later_conv_nonlin' is missing.\n",
      "  self._warn(\n",
      "/home/devuser/.local/lib/python3.8/site-packages/docstring_inheritance/docstring_inheritors/bases/inheritor.py:329: DocstringInheritanceWarning: File /home/devuser/.local/lib/python3.8/site-packages/braindecode/models/deep4.py:89: in Deep4Net.__init__: section Parameters: the docstring for the argument 'later_pool_mode' is missing.\n",
      "  self._warn(\n",
      "/home/devuser/.local/lib/python3.8/site-packages/docstring_inheritance/docstring_inheritors/bases/inheritor.py:329: DocstringInheritanceWarning: File /home/devuser/.local/lib/python3.8/site-packages/braindecode/models/deep4.py:89: in Deep4Net.__init__: section Parameters: the docstring for the argument 'later_pool_nonlin' is missing.\n",
      "  self._warn(\n",
      "/home/devuser/.local/lib/python3.8/site-packages/docstring_inheritance/docstring_inheritors/bases/inheritor.py:329: DocstringInheritanceWarning: File /home/devuser/.local/lib/python3.8/site-packages/braindecode/models/deep4.py:89: in Deep4Net.__init__: section Parameters: the docstring for the argument 'drop_prob' is missing.\n",
      "  self._warn(\n",
      "/home/devuser/.local/lib/python3.8/site-packages/docstring_inheritance/docstring_inheritors/bases/inheritor.py:329: DocstringInheritanceWarning: File /home/devuser/.local/lib/python3.8/site-packages/braindecode/models/deep4.py:89: in Deep4Net.__init__: section Parameters: the docstring for the argument 'split_first_layer' is missing.\n",
      "  self._warn(\n",
      "/home/devuser/.local/lib/python3.8/site-packages/docstring_inheritance/docstring_inheritors/bases/inheritor.py:329: DocstringInheritanceWarning: File /home/devuser/.local/lib/python3.8/site-packages/braindecode/models/deep4.py:89: in Deep4Net.__init__: section Parameters: the docstring for the argument 'batch_norm' is missing.\n",
      "  self._warn(\n",
      "/home/devuser/.local/lib/python3.8/site-packages/docstring_inheritance/docstring_inheritors/bases/inheritor.py:329: DocstringInheritanceWarning: File /home/devuser/.local/lib/python3.8/site-packages/braindecode/models/deep4.py:89: in Deep4Net.__init__: section Parameters: the docstring for the argument 'batch_norm_alpha' is missing.\n",
      "  self._warn(\n",
      "/home/devuser/.local/lib/python3.8/site-packages/docstring_inheritance/docstring_inheritors/bases/inheritor.py:329: DocstringInheritanceWarning: File /home/devuser/.local/lib/python3.8/site-packages/braindecode/models/deep4.py:89: in Deep4Net.__init__: section Parameters: the docstring for the argument 'stride_before_pool' is missing.\n",
      "  self._warn(\n",
      "/home/devuser/.local/lib/python3.8/site-packages/docstring_inheritance/docstring_inheritors/bases/inheritor.py:329: DocstringInheritanceWarning: File /home/devuser/.local/lib/python3.8/site-packages/braindecode/models/deep4.py:89: in Deep4Net.__init__: section Parameters: the docstring for the argument 'chs_info' is missing.\n",
      "  self._warn(\n",
      "/home/devuser/.local/lib/python3.8/site-packages/docstring_inheritance/docstring_inheritors/bases/inheritor.py:329: DocstringInheritanceWarning: File /home/devuser/.local/lib/python3.8/site-packages/braindecode/models/deep4.py:89: in Deep4Net.__init__: section Parameters: the docstring for the argument 'input_window_seconds' is missing.\n",
      "  self._warn(\n",
      "/home/devuser/.local/lib/python3.8/site-packages/docstring_inheritance/docstring_inheritors/bases/inheritor.py:329: DocstringInheritanceWarning: File /home/devuser/.local/lib/python3.8/site-packages/braindecode/models/deep4.py:89: in Deep4Net.__init__: section Parameters: the docstring for the argument 'sfreq' is missing.\n",
      "  self._warn(\n",
      "/home/devuser/.local/lib/python3.8/site-packages/docstring_inheritance/docstring_inheritors/bases/inheritor.py:329: DocstringInheritanceWarning: File /home/devuser/.local/lib/python3.8/site-packages/braindecode/models/deep4.py:89: in Deep4Net.__init__: section Parameters: the docstring for the argument 'in_chans' is missing.\n",
      "  self._warn(\n",
      "/home/devuser/.local/lib/python3.8/site-packages/docstring_inheritance/docstring_inheritors/bases/inheritor.py:329: DocstringInheritanceWarning: File /home/devuser/.local/lib/python3.8/site-packages/braindecode/models/deep4.py:89: in Deep4Net.__init__: section Parameters: the docstring for the argument 'n_classes' is missing.\n",
      "  self._warn(\n",
      "/home/devuser/.local/lib/python3.8/site-packages/docstring_inheritance/docstring_inheritors/bases/inheritor.py:329: DocstringInheritanceWarning: File /home/devuser/.local/lib/python3.8/site-packages/braindecode/models/deep4.py:89: in Deep4Net.__init__: section Parameters: the docstring for the argument 'input_window_samples' is missing.\n",
      "  self._warn(\n",
      "/home/devuser/.local/lib/python3.8/site-packages/docstring_inheritance/docstring_inheritors/bases/inheritor.py:329: DocstringInheritanceWarning: File /home/devuser/.local/lib/python3.8/site-packages/braindecode/models/deep4.py:89: in Deep4Net.__init__: section Parameters: the docstring for the argument 'add_log_softmax' is missing.\n",
      "  self._warn(\n",
      "/home/devuser/.local/lib/python3.8/site-packages/docstring_inheritance/docstring_inheritors/bases/inheritor.py:329: DocstringInheritanceWarning: File /home/devuser/.local/lib/python3.8/site-packages/braindecode/models/deepsleepnet.py:190: in DeepSleepNet.__init__: section Parameters: the docstring for the argument 'n_outputs' is missing.\n",
      "  self._warn(\n",
      "/home/devuser/.local/lib/python3.8/site-packages/docstring_inheritance/docstring_inheritors/bases/inheritor.py:329: DocstringInheritanceWarning: File /home/devuser/.local/lib/python3.8/site-packages/braindecode/models/deepsleepnet.py:190: in DeepSleepNet.__init__: section Parameters: the docstring for the argument 'return_feats' is missing.\n",
      "  self._warn(\n",
      "/home/devuser/.local/lib/python3.8/site-packages/docstring_inheritance/docstring_inheritors/bases/inheritor.py:329: DocstringInheritanceWarning: File /home/devuser/.local/lib/python3.8/site-packages/braindecode/models/deepsleepnet.py:190: in DeepSleepNet.__init__: section Parameters: the docstring for the argument 'n_chans' is missing.\n",
      "  self._warn(\n",
      "/home/devuser/.local/lib/python3.8/site-packages/docstring_inheritance/docstring_inheritors/bases/inheritor.py:329: DocstringInheritanceWarning: File /home/devuser/.local/lib/python3.8/site-packages/braindecode/models/deepsleepnet.py:190: in DeepSleepNet.__init__: section Parameters: the docstring for the argument 'chs_info' is missing.\n",
      "  self._warn(\n",
      "/home/devuser/.local/lib/python3.8/site-packages/docstring_inheritance/docstring_inheritors/bases/inheritor.py:329: DocstringInheritanceWarning: File /home/devuser/.local/lib/python3.8/site-packages/braindecode/models/deepsleepnet.py:190: in DeepSleepNet.__init__: section Parameters: the docstring for the argument 'n_times' is missing.\n",
      "  self._warn(\n",
      "/home/devuser/.local/lib/python3.8/site-packages/docstring_inheritance/docstring_inheritors/bases/inheritor.py:329: DocstringInheritanceWarning: File /home/devuser/.local/lib/python3.8/site-packages/braindecode/models/deepsleepnet.py:190: in DeepSleepNet.__init__: section Parameters: the docstring for the argument 'input_window_seconds' is missing.\n",
      "  self._warn(\n",
      "/home/devuser/.local/lib/python3.8/site-packages/docstring_inheritance/docstring_inheritors/bases/inheritor.py:329: DocstringInheritanceWarning: File /home/devuser/.local/lib/python3.8/site-packages/braindecode/models/deepsleepnet.py:190: in DeepSleepNet.__init__: section Parameters: the docstring for the argument 'sfreq' is missing.\n",
      "  self._warn(\n",
      "/home/devuser/.local/lib/python3.8/site-packages/docstring_inheritance/docstring_inheritors/bases/inheritor.py:329: DocstringInheritanceWarning: File /home/devuser/.local/lib/python3.8/site-packages/braindecode/models/deepsleepnet.py:190: in DeepSleepNet.__init__: section Parameters: the docstring for the argument 'n_classes' is missing.\n",
      "  self._warn(\n",
      "/home/devuser/.local/lib/python3.8/site-packages/docstring_inheritance/docstring_inheritors/bases/inheritor.py:329: DocstringInheritanceWarning: File /home/devuser/.local/lib/python3.8/site-packages/braindecode/models/deepsleepnet.py:232: in DeepSleepNet.forward: section Parameters: the docstring for the argument 'x' is missing.\n",
      "  self._warn(\n",
      "/home/devuser/.local/lib/python3.8/site-packages/docstring_inheritance/docstring_inheritors/bases/inheritor.py:329: DocstringInheritanceWarning: File /home/devuser/.local/lib/python3.8/site-packages/braindecode/models/eegnet.py:57: in EEGNetv4.__init__: section Parameters: the docstring for the argument 'n_chans' is missing.\n",
      "  self._warn(\n",
      "/home/devuser/.local/lib/python3.8/site-packages/docstring_inheritance/docstring_inheritors/bases/inheritor.py:329: DocstringInheritanceWarning: File /home/devuser/.local/lib/python3.8/site-packages/braindecode/models/eegnet.py:57: in EEGNetv4.__init__: section Parameters: the docstring for the argument 'n_outputs' is missing.\n",
      "  self._warn(\n",
      "/home/devuser/.local/lib/python3.8/site-packages/docstring_inheritance/docstring_inheritors/bases/inheritor.py:329: DocstringInheritanceWarning: File /home/devuser/.local/lib/python3.8/site-packages/braindecode/models/eegnet.py:57: in EEGNetv4.__init__: section Parameters: the docstring for the argument 'n_times' is missing.\n",
      "  self._warn(\n",
      "/home/devuser/.local/lib/python3.8/site-packages/docstring_inheritance/docstring_inheritors/bases/inheritor.py:329: DocstringInheritanceWarning: File /home/devuser/.local/lib/python3.8/site-packages/braindecode/models/eegnet.py:57: in EEGNetv4.__init__: section Parameters: the docstring for the argument 'final_conv_length' is missing.\n",
      "  self._warn(\n",
      "/home/devuser/.local/lib/python3.8/site-packages/docstring_inheritance/docstring_inheritors/bases/inheritor.py:329: DocstringInheritanceWarning: File /home/devuser/.local/lib/python3.8/site-packages/braindecode/models/eegnet.py:57: in EEGNetv4.__init__: section Parameters: the docstring for the argument 'pool_mode' is missing.\n",
      "  self._warn(\n",
      "/home/devuser/.local/lib/python3.8/site-packages/docstring_inheritance/docstring_inheritors/bases/inheritor.py:329: DocstringInheritanceWarning: File /home/devuser/.local/lib/python3.8/site-packages/braindecode/models/eegnet.py:57: in EEGNetv4.__init__: section Parameters: the docstring for the argument 'F1' is missing.\n",
      "  self._warn(\n",
      "/home/devuser/.local/lib/python3.8/site-packages/docstring_inheritance/docstring_inheritors/bases/inheritor.py:329: DocstringInheritanceWarning: File /home/devuser/.local/lib/python3.8/site-packages/braindecode/models/eegnet.py:57: in EEGNetv4.__init__: section Parameters: the docstring for the argument 'D' is missing.\n",
      "  self._warn(\n",
      "/home/devuser/.local/lib/python3.8/site-packages/docstring_inheritance/docstring_inheritors/bases/inheritor.py:329: DocstringInheritanceWarning: File /home/devuser/.local/lib/python3.8/site-packages/braindecode/models/eegnet.py:57: in EEGNetv4.__init__: section Parameters: the docstring for the argument 'F2' is missing.\n",
      "  self._warn(\n",
      "/home/devuser/.local/lib/python3.8/site-packages/docstring_inheritance/docstring_inheritors/bases/inheritor.py:329: DocstringInheritanceWarning: File /home/devuser/.local/lib/python3.8/site-packages/braindecode/models/eegnet.py:57: in EEGNetv4.__init__: section Parameters: the docstring for the argument 'kernel_length' is missing.\n",
      "  self._warn(\n",
      "/home/devuser/.local/lib/python3.8/site-packages/docstring_inheritance/docstring_inheritors/bases/inheritor.py:329: DocstringInheritanceWarning: File /home/devuser/.local/lib/python3.8/site-packages/braindecode/models/eegnet.py:57: in EEGNetv4.__init__: section Parameters: the docstring for the argument 'third_kernel_size' is missing.\n",
      "  self._warn(\n",
      "/home/devuser/.local/lib/python3.8/site-packages/docstring_inheritance/docstring_inheritors/bases/inheritor.py:329: DocstringInheritanceWarning: File /home/devuser/.local/lib/python3.8/site-packages/braindecode/models/eegnet.py:57: in EEGNetv4.__init__: section Parameters: the docstring for the argument 'drop_prob' is missing.\n",
      "  self._warn(\n",
      "/home/devuser/.local/lib/python3.8/site-packages/docstring_inheritance/docstring_inheritors/bases/inheritor.py:329: DocstringInheritanceWarning: File /home/devuser/.local/lib/python3.8/site-packages/braindecode/models/eegnet.py:57: in EEGNetv4.__init__: section Parameters: the docstring for the argument 'chs_info' is missing.\n",
      "  self._warn(\n",
      "/home/devuser/.local/lib/python3.8/site-packages/docstring_inheritance/docstring_inheritors/bases/inheritor.py:329: DocstringInheritanceWarning: File /home/devuser/.local/lib/python3.8/site-packages/braindecode/models/eegnet.py:57: in EEGNetv4.__init__: section Parameters: the docstring for the argument 'input_window_seconds' is missing.\n",
      "  self._warn(\n",
      "/home/devuser/.local/lib/python3.8/site-packages/docstring_inheritance/docstring_inheritors/bases/inheritor.py:329: DocstringInheritanceWarning: File /home/devuser/.local/lib/python3.8/site-packages/braindecode/models/eegnet.py:57: in EEGNetv4.__init__: section Parameters: the docstring for the argument 'sfreq' is missing.\n",
      "  self._warn(\n",
      "/home/devuser/.local/lib/python3.8/site-packages/docstring_inheritance/docstring_inheritors/bases/inheritor.py:329: DocstringInheritanceWarning: File /home/devuser/.local/lib/python3.8/site-packages/braindecode/models/eegnet.py:57: in EEGNetv4.__init__: section Parameters: the docstring for the argument 'in_chans' is missing.\n",
      "  self._warn(\n",
      "/home/devuser/.local/lib/python3.8/site-packages/docstring_inheritance/docstring_inheritors/bases/inheritor.py:329: DocstringInheritanceWarning: File /home/devuser/.local/lib/python3.8/site-packages/braindecode/models/eegnet.py:57: in EEGNetv4.__init__: section Parameters: the docstring for the argument 'n_classes' is missing.\n",
      "  self._warn(\n",
      "/home/devuser/.local/lib/python3.8/site-packages/docstring_inheritance/docstring_inheritors/bases/inheritor.py:329: DocstringInheritanceWarning: File /home/devuser/.local/lib/python3.8/site-packages/braindecode/models/eegnet.py:57: in EEGNetv4.__init__: section Parameters: the docstring for the argument 'input_window_samples' is missing.\n",
      "  self._warn(\n",
      "/home/devuser/.local/lib/python3.8/site-packages/docstring_inheritance/docstring_inheritors/bases/inheritor.py:329: DocstringInheritanceWarning: File /home/devuser/.local/lib/python3.8/site-packages/braindecode/models/eegnet.py:245: in EEGNetv1.__init__: section Parameters: the docstring for the argument 'n_chans' is missing.\n",
      "  self._warn(\n",
      "/home/devuser/.local/lib/python3.8/site-packages/docstring_inheritance/docstring_inheritors/bases/inheritor.py:329: DocstringInheritanceWarning: File /home/devuser/.local/lib/python3.8/site-packages/braindecode/models/eegnet.py:245: in EEGNetv1.__init__: section Parameters: the docstring for the argument 'n_outputs' is missing.\n",
      "  self._warn(\n",
      "/home/devuser/.local/lib/python3.8/site-packages/docstring_inheritance/docstring_inheritors/bases/inheritor.py:329: DocstringInheritanceWarning: File /home/devuser/.local/lib/python3.8/site-packages/braindecode/models/eegnet.py:245: in EEGNetv1.__init__: section Parameters: the docstring for the argument 'n_times' is missing.\n",
      "  self._warn(\n",
      "/home/devuser/.local/lib/python3.8/site-packages/docstring_inheritance/docstring_inheritors/bases/inheritor.py:329: DocstringInheritanceWarning: File /home/devuser/.local/lib/python3.8/site-packages/braindecode/models/eegnet.py:245: in EEGNetv1.__init__: section Parameters: the docstring for the argument 'final_conv_length' is missing.\n",
      "  self._warn(\n",
      "/home/devuser/.local/lib/python3.8/site-packages/docstring_inheritance/docstring_inheritors/bases/inheritor.py:329: DocstringInheritanceWarning: File /home/devuser/.local/lib/python3.8/site-packages/braindecode/models/eegnet.py:245: in EEGNetv1.__init__: section Parameters: the docstring for the argument 'pool_mode' is missing.\n",
      "  self._warn(\n",
      "/home/devuser/.local/lib/python3.8/site-packages/docstring_inheritance/docstring_inheritors/bases/inheritor.py:329: DocstringInheritanceWarning: File /home/devuser/.local/lib/python3.8/site-packages/braindecode/models/eegnet.py:245: in EEGNetv1.__init__: section Parameters: the docstring for the argument 'second_kernel_size' is missing.\n",
      "  self._warn(\n",
      "/home/devuser/.local/lib/python3.8/site-packages/docstring_inheritance/docstring_inheritors/bases/inheritor.py:329: DocstringInheritanceWarning: File /home/devuser/.local/lib/python3.8/site-packages/braindecode/models/eegnet.py:245: in EEGNetv1.__init__: section Parameters: the docstring for the argument 'third_kernel_size' is missing.\n",
      "  self._warn(\n",
      "/home/devuser/.local/lib/python3.8/site-packages/docstring_inheritance/docstring_inheritors/bases/inheritor.py:329: DocstringInheritanceWarning: File /home/devuser/.local/lib/python3.8/site-packages/braindecode/models/eegnet.py:245: in EEGNetv1.__init__: section Parameters: the docstring for the argument 'drop_prob' is missing.\n",
      "  self._warn(\n",
      "/home/devuser/.local/lib/python3.8/site-packages/docstring_inheritance/docstring_inheritors/bases/inheritor.py:329: DocstringInheritanceWarning: File /home/devuser/.local/lib/python3.8/site-packages/braindecode/models/eegnet.py:245: in EEGNetv1.__init__: section Parameters: the docstring for the argument 'chs_info' is missing.\n",
      "  self._warn(\n",
      "/home/devuser/.local/lib/python3.8/site-packages/docstring_inheritance/docstring_inheritors/bases/inheritor.py:329: DocstringInheritanceWarning: File /home/devuser/.local/lib/python3.8/site-packages/braindecode/models/eegnet.py:245: in EEGNetv1.__init__: section Parameters: the docstring for the argument 'input_window_seconds' is missing.\n",
      "  self._warn(\n",
      "/home/devuser/.local/lib/python3.8/site-packages/docstring_inheritance/docstring_inheritors/bases/inheritor.py:329: DocstringInheritanceWarning: File /home/devuser/.local/lib/python3.8/site-packages/braindecode/models/eegnet.py:245: in EEGNetv1.__init__: section Parameters: the docstring for the argument 'sfreq' is missing.\n",
      "  self._warn(\n",
      "/home/devuser/.local/lib/python3.8/site-packages/docstring_inheritance/docstring_inheritors/bases/inheritor.py:329: DocstringInheritanceWarning: File /home/devuser/.local/lib/python3.8/site-packages/braindecode/models/eegnet.py:245: in EEGNetv1.__init__: section Parameters: the docstring for the argument 'in_chans' is missing.\n",
      "  self._warn(\n",
      "/home/devuser/.local/lib/python3.8/site-packages/docstring_inheritance/docstring_inheritors/bases/inheritor.py:329: DocstringInheritanceWarning: File /home/devuser/.local/lib/python3.8/site-packages/braindecode/models/eegnet.py:245: in EEGNetv1.__init__: section Parameters: the docstring for the argument 'n_classes' is missing.\n",
      "  self._warn(\n",
      "/home/devuser/.local/lib/python3.8/site-packages/docstring_inheritance/docstring_inheritors/bases/inheritor.py:329: DocstringInheritanceWarning: File /home/devuser/.local/lib/python3.8/site-packages/braindecode/models/eegnet.py:245: in EEGNetv1.__init__: section Parameters: the docstring for the argument 'input_window_samples' is missing.\n",
      "  self._warn(\n",
      "/home/devuser/.local/lib/python3.8/site-packages/docstring_inheritance/docstring_inheritors/bases/inheritor.py:329: DocstringInheritanceWarning: File /home/devuser/.local/lib/python3.8/site-packages/braindecode/models/eegnet.py:245: in EEGNetv1.__init__: section Parameters: the docstring for the argument 'add_log_softmax' is missing.\n",
      "  self._warn(\n",
      "/home/devuser/.local/lib/python3.8/site-packages/docstring_inheritance/docstring_inheritors/bases/inheritor.py:329: DocstringInheritanceWarning: File /home/devuser/.local/lib/python3.8/site-packages/braindecode/models/shallow_fbcsp.py:67: in ShallowFBCSPNet.__init__: section Parameters: the docstring for the argument 'n_chans' is missing.\n",
      "  self._warn(\n",
      "/home/devuser/.local/lib/python3.8/site-packages/docstring_inheritance/docstring_inheritors/bases/inheritor.py:329: DocstringInheritanceWarning: File /home/devuser/.local/lib/python3.8/site-packages/braindecode/models/shallow_fbcsp.py:67: in ShallowFBCSPNet.__init__: section Parameters: the docstring for the argument 'n_outputs' is missing.\n",
      "  self._warn(\n",
      "/home/devuser/.local/lib/python3.8/site-packages/docstring_inheritance/docstring_inheritors/bases/inheritor.py:329: DocstringInheritanceWarning: File /home/devuser/.local/lib/python3.8/site-packages/braindecode/models/shallow_fbcsp.py:67: in ShallowFBCSPNet.__init__: section Parameters: the docstring for the argument 'n_times' is missing.\n",
      "  self._warn(\n",
      "/home/devuser/.local/lib/python3.8/site-packages/docstring_inheritance/docstring_inheritors/bases/inheritor.py:329: DocstringInheritanceWarning: File /home/devuser/.local/lib/python3.8/site-packages/braindecode/models/shallow_fbcsp.py:67: in ShallowFBCSPNet.__init__: section Parameters: the docstring for the argument 'n_filters_time' is missing.\n",
      "  self._warn(\n",
      "/home/devuser/.local/lib/python3.8/site-packages/docstring_inheritance/docstring_inheritors/bases/inheritor.py:329: DocstringInheritanceWarning: File /home/devuser/.local/lib/python3.8/site-packages/braindecode/models/shallow_fbcsp.py:67: in ShallowFBCSPNet.__init__: section Parameters: the docstring for the argument 'filter_time_length' is missing.\n",
      "  self._warn(\n",
      "/home/devuser/.local/lib/python3.8/site-packages/docstring_inheritance/docstring_inheritors/bases/inheritor.py:329: DocstringInheritanceWarning: File /home/devuser/.local/lib/python3.8/site-packages/braindecode/models/shallow_fbcsp.py:67: in ShallowFBCSPNet.__init__: section Parameters: the docstring for the argument 'n_filters_spat' is missing.\n",
      "  self._warn(\n",
      "/home/devuser/.local/lib/python3.8/site-packages/docstring_inheritance/docstring_inheritors/bases/inheritor.py:329: DocstringInheritanceWarning: File /home/devuser/.local/lib/python3.8/site-packages/braindecode/models/shallow_fbcsp.py:67: in ShallowFBCSPNet.__init__: section Parameters: the docstring for the argument 'pool_time_length' is missing.\n",
      "  self._warn(\n",
      "/home/devuser/.local/lib/python3.8/site-packages/docstring_inheritance/docstring_inheritors/bases/inheritor.py:329: DocstringInheritanceWarning: File /home/devuser/.local/lib/python3.8/site-packages/braindecode/models/shallow_fbcsp.py:67: in ShallowFBCSPNet.__init__: section Parameters: the docstring for the argument 'pool_time_stride' is missing.\n",
      "  self._warn(\n",
      "/home/devuser/.local/lib/python3.8/site-packages/docstring_inheritance/docstring_inheritors/bases/inheritor.py:329: DocstringInheritanceWarning: File /home/devuser/.local/lib/python3.8/site-packages/braindecode/models/shallow_fbcsp.py:67: in ShallowFBCSPNet.__init__: section Parameters: the docstring for the argument 'final_conv_length' is missing.\n",
      "  self._warn(\n",
      "/home/devuser/.local/lib/python3.8/site-packages/docstring_inheritance/docstring_inheritors/bases/inheritor.py:329: DocstringInheritanceWarning: File /home/devuser/.local/lib/python3.8/site-packages/braindecode/models/shallow_fbcsp.py:67: in ShallowFBCSPNet.__init__: section Parameters: the docstring for the argument 'conv_nonlin' is missing.\n",
      "  self._warn(\n",
      "/home/devuser/.local/lib/python3.8/site-packages/docstring_inheritance/docstring_inheritors/bases/inheritor.py:329: DocstringInheritanceWarning: File /home/devuser/.local/lib/python3.8/site-packages/braindecode/models/shallow_fbcsp.py:67: in ShallowFBCSPNet.__init__: section Parameters: the docstring for the argument 'pool_mode' is missing.\n",
      "  self._warn(\n",
      "/home/devuser/.local/lib/python3.8/site-packages/docstring_inheritance/docstring_inheritors/bases/inheritor.py:329: DocstringInheritanceWarning: File /home/devuser/.local/lib/python3.8/site-packages/braindecode/models/shallow_fbcsp.py:67: in ShallowFBCSPNet.__init__: section Parameters: the docstring for the argument 'pool_nonlin' is missing.\n",
      "  self._warn(\n",
      "/home/devuser/.local/lib/python3.8/site-packages/docstring_inheritance/docstring_inheritors/bases/inheritor.py:329: DocstringInheritanceWarning: File /home/devuser/.local/lib/python3.8/site-packages/braindecode/models/shallow_fbcsp.py:67: in ShallowFBCSPNet.__init__: section Parameters: the docstring for the argument 'split_first_layer' is missing.\n",
      "  self._warn(\n",
      "/home/devuser/.local/lib/python3.8/site-packages/docstring_inheritance/docstring_inheritors/bases/inheritor.py:329: DocstringInheritanceWarning: File /home/devuser/.local/lib/python3.8/site-packages/braindecode/models/shallow_fbcsp.py:67: in ShallowFBCSPNet.__init__: section Parameters: the docstring for the argument 'batch_norm' is missing.\n",
      "  self._warn(\n",
      "/home/devuser/.local/lib/python3.8/site-packages/docstring_inheritance/docstring_inheritors/bases/inheritor.py:329: DocstringInheritanceWarning: File /home/devuser/.local/lib/python3.8/site-packages/braindecode/models/shallow_fbcsp.py:67: in ShallowFBCSPNet.__init__: section Parameters: the docstring for the argument 'batch_norm_alpha' is missing.\n",
      "  self._warn(\n",
      "/home/devuser/.local/lib/python3.8/site-packages/docstring_inheritance/docstring_inheritors/bases/inheritor.py:329: DocstringInheritanceWarning: File /home/devuser/.local/lib/python3.8/site-packages/braindecode/models/shallow_fbcsp.py:67: in ShallowFBCSPNet.__init__: section Parameters: the docstring for the argument 'drop_prob' is missing.\n",
      "  self._warn(\n",
      "/home/devuser/.local/lib/python3.8/site-packages/docstring_inheritance/docstring_inheritors/bases/inheritor.py:329: DocstringInheritanceWarning: File /home/devuser/.local/lib/python3.8/site-packages/braindecode/models/shallow_fbcsp.py:67: in ShallowFBCSPNet.__init__: section Parameters: the docstring for the argument 'chs_info' is missing.\n",
      "  self._warn(\n",
      "/home/devuser/.local/lib/python3.8/site-packages/docstring_inheritance/docstring_inheritors/bases/inheritor.py:329: DocstringInheritanceWarning: File /home/devuser/.local/lib/python3.8/site-packages/braindecode/models/shallow_fbcsp.py:67: in ShallowFBCSPNet.__init__: section Parameters: the docstring for the argument 'input_window_seconds' is missing.\n",
      "  self._warn(\n",
      "/home/devuser/.local/lib/python3.8/site-packages/docstring_inheritance/docstring_inheritors/bases/inheritor.py:329: DocstringInheritanceWarning: File /home/devuser/.local/lib/python3.8/site-packages/braindecode/models/shallow_fbcsp.py:67: in ShallowFBCSPNet.__init__: section Parameters: the docstring for the argument 'sfreq' is missing.\n",
      "  self._warn(\n",
      "/home/devuser/.local/lib/python3.8/site-packages/docstring_inheritance/docstring_inheritors/bases/inheritor.py:329: DocstringInheritanceWarning: File /home/devuser/.local/lib/python3.8/site-packages/braindecode/models/shallow_fbcsp.py:67: in ShallowFBCSPNet.__init__: section Parameters: the docstring for the argument 'in_chans' is missing.\n",
      "  self._warn(\n",
      "/home/devuser/.local/lib/python3.8/site-packages/docstring_inheritance/docstring_inheritors/bases/inheritor.py:329: DocstringInheritanceWarning: File /home/devuser/.local/lib/python3.8/site-packages/braindecode/models/shallow_fbcsp.py:67: in ShallowFBCSPNet.__init__: section Parameters: the docstring for the argument 'n_classes' is missing.\n",
      "  self._warn(\n",
      "/home/devuser/.local/lib/python3.8/site-packages/docstring_inheritance/docstring_inheritors/bases/inheritor.py:329: DocstringInheritanceWarning: File /home/devuser/.local/lib/python3.8/site-packages/braindecode/models/shallow_fbcsp.py:67: in ShallowFBCSPNet.__init__: section Parameters: the docstring for the argument 'input_window_samples' is missing.\n",
      "  self._warn(\n",
      "/home/devuser/.local/lib/python3.8/site-packages/docstring_inheritance/docstring_inheritors/bases/inheritor.py:329: DocstringInheritanceWarning: File /home/devuser/.local/lib/python3.8/site-packages/braindecode/models/shallow_fbcsp.py:67: in ShallowFBCSPNet.__init__: section Parameters: the docstring for the argument 'add_log_softmax' is missing.\n",
      "  self._warn(\n",
      "/home/devuser/.local/lib/python3.8/site-packages/docstring_inheritance/docstring_inheritors/bases/inheritor.py:329: DocstringInheritanceWarning: File /home/devuser/.local/lib/python3.8/site-packages/braindecode/models/hybrid.py:31: in HybridNet.__init__: section Parameters: the docstring for the argument 'n_chans' is missing.\n",
      "  self._warn(\n",
      "/home/devuser/.local/lib/python3.8/site-packages/docstring_inheritance/docstring_inheritors/bases/inheritor.py:329: DocstringInheritanceWarning: File /home/devuser/.local/lib/python3.8/site-packages/braindecode/models/hybrid.py:31: in HybridNet.__init__: section Parameters: the docstring for the argument 'n_outputs' is missing.\n",
      "  self._warn(\n",
      "/home/devuser/.local/lib/python3.8/site-packages/docstring_inheritance/docstring_inheritors/bases/inheritor.py:329: DocstringInheritanceWarning: File /home/devuser/.local/lib/python3.8/site-packages/braindecode/models/hybrid.py:31: in HybridNet.__init__: section Parameters: the docstring for the argument 'n_times' is missing.\n",
      "  self._warn(\n",
      "/home/devuser/.local/lib/python3.8/site-packages/docstring_inheritance/docstring_inheritors/bases/inheritor.py:329: DocstringInheritanceWarning: File /home/devuser/.local/lib/python3.8/site-packages/braindecode/models/hybrid.py:31: in HybridNet.__init__: section Parameters: the docstring for the argument 'in_chans' is missing.\n",
      "  self._warn(\n",
      "/home/devuser/.local/lib/python3.8/site-packages/docstring_inheritance/docstring_inheritors/bases/inheritor.py:329: DocstringInheritanceWarning: File /home/devuser/.local/lib/python3.8/site-packages/braindecode/models/hybrid.py:31: in HybridNet.__init__: section Parameters: the docstring for the argument 'n_classes' is missing.\n",
      "  self._warn(\n",
      "/home/devuser/.local/lib/python3.8/site-packages/docstring_inheritance/docstring_inheritors/bases/inheritor.py:329: DocstringInheritanceWarning: File /home/devuser/.local/lib/python3.8/site-packages/braindecode/models/hybrid.py:31: in HybridNet.__init__: section Parameters: the docstring for the argument 'input_window_samples' is missing.\n",
      "  self._warn(\n",
      "/home/devuser/.local/lib/python3.8/site-packages/docstring_inheritance/docstring_inheritors/bases/inheritor.py:329: DocstringInheritanceWarning: File /home/devuser/.local/lib/python3.8/site-packages/braindecode/models/hybrid.py:31: in HybridNet.__init__: section Parameters: the docstring for the argument 'add_log_softmax' is missing.\n",
      "  self._warn(\n",
      "/home/devuser/.local/lib/python3.8/site-packages/docstring_inheritance/docstring_inheritors/bases/inheritor.py:329: DocstringInheritanceWarning: File /home/devuser/.local/lib/python3.8/site-packages/braindecode/models/hybrid.py:117: in HybridNet.forward: section Parameters: the docstring for the argument 'x' is missing.\n",
      "  self._warn(\n",
      "/home/devuser/.local/lib/python3.8/site-packages/docstring_inheritance/docstring_inheritors/bases/inheritor.py:329: DocstringInheritanceWarning: File /home/devuser/.local/lib/python3.8/site-packages/braindecode/models/eegresnet.py:35: in EEGResNet.__init__: section Parameters: the docstring for the argument 'n_chans' is missing.\n",
      "  self._warn(\n",
      "/home/devuser/.local/lib/python3.8/site-packages/docstring_inheritance/docstring_inheritors/bases/inheritor.py:329: DocstringInheritanceWarning: File /home/devuser/.local/lib/python3.8/site-packages/braindecode/models/eegresnet.py:35: in EEGResNet.__init__: section Parameters: the docstring for the argument 'n_outputs' is missing.\n",
      "  self._warn(\n",
      "/home/devuser/.local/lib/python3.8/site-packages/docstring_inheritance/docstring_inheritors/bases/inheritor.py:329: DocstringInheritanceWarning: File /home/devuser/.local/lib/python3.8/site-packages/braindecode/models/eegresnet.py:35: in EEGResNet.__init__: section Parameters: the docstring for the argument 'n_times' is missing.\n",
      "  self._warn(\n",
      "/home/devuser/.local/lib/python3.8/site-packages/docstring_inheritance/docstring_inheritors/bases/inheritor.py:329: DocstringInheritanceWarning: File /home/devuser/.local/lib/python3.8/site-packages/braindecode/models/eegresnet.py:35: in EEGResNet.__init__: section Parameters: the docstring for the argument 'final_pool_length' is missing.\n",
      "  self._warn(\n",
      "/home/devuser/.local/lib/python3.8/site-packages/docstring_inheritance/docstring_inheritors/bases/inheritor.py:329: DocstringInheritanceWarning: File /home/devuser/.local/lib/python3.8/site-packages/braindecode/models/eegresnet.py:35: in EEGResNet.__init__: section Parameters: the docstring for the argument 'n_first_filters' is missing.\n",
      "  self._warn(\n",
      "/home/devuser/.local/lib/python3.8/site-packages/docstring_inheritance/docstring_inheritors/bases/inheritor.py:329: DocstringInheritanceWarning: File /home/devuser/.local/lib/python3.8/site-packages/braindecode/models/eegresnet.py:35: in EEGResNet.__init__: section Parameters: the docstring for the argument 'n_layers_per_block' is missing.\n",
      "  self._warn(\n",
      "/home/devuser/.local/lib/python3.8/site-packages/docstring_inheritance/docstring_inheritors/bases/inheritor.py:329: DocstringInheritanceWarning: File /home/devuser/.local/lib/python3.8/site-packages/braindecode/models/eegresnet.py:35: in EEGResNet.__init__: section Parameters: the docstring for the argument 'first_filter_length' is missing.\n",
      "  self._warn(\n",
      "/home/devuser/.local/lib/python3.8/site-packages/docstring_inheritance/docstring_inheritors/bases/inheritor.py:329: DocstringInheritanceWarning: File /home/devuser/.local/lib/python3.8/site-packages/braindecode/models/eegresnet.py:35: in EEGResNet.__init__: section Parameters: the docstring for the argument 'nonlinearity' is missing.\n",
      "  self._warn(\n",
      "/home/devuser/.local/lib/python3.8/site-packages/docstring_inheritance/docstring_inheritors/bases/inheritor.py:329: DocstringInheritanceWarning: File /home/devuser/.local/lib/python3.8/site-packages/braindecode/models/eegresnet.py:35: in EEGResNet.__init__: section Parameters: the docstring for the argument 'split_first_layer' is missing.\n",
      "  self._warn(\n",
      "/home/devuser/.local/lib/python3.8/site-packages/docstring_inheritance/docstring_inheritors/bases/inheritor.py:329: DocstringInheritanceWarning: File /home/devuser/.local/lib/python3.8/site-packages/braindecode/models/eegresnet.py:35: in EEGResNet.__init__: section Parameters: the docstring for the argument 'batch_norm_alpha' is missing.\n",
      "  self._warn(\n",
      "/home/devuser/.local/lib/python3.8/site-packages/docstring_inheritance/docstring_inheritors/bases/inheritor.py:329: DocstringInheritanceWarning: File /home/devuser/.local/lib/python3.8/site-packages/braindecode/models/eegresnet.py:35: in EEGResNet.__init__: section Parameters: the docstring for the argument 'batch_norm_epsilon' is missing.\n",
      "  self._warn(\n",
      "/home/devuser/.local/lib/python3.8/site-packages/docstring_inheritance/docstring_inheritors/bases/inheritor.py:329: DocstringInheritanceWarning: File /home/devuser/.local/lib/python3.8/site-packages/braindecode/models/eegresnet.py:35: in EEGResNet.__init__: section Parameters: the docstring for the argument 'conv_weight_init_fn' is missing.\n",
      "  self._warn(\n",
      "/home/devuser/.local/lib/python3.8/site-packages/docstring_inheritance/docstring_inheritors/bases/inheritor.py:329: DocstringInheritanceWarning: File /home/devuser/.local/lib/python3.8/site-packages/braindecode/models/eegresnet.py:35: in EEGResNet.__init__: section Parameters: the docstring for the argument 'chs_info' is missing.\n",
      "  self._warn(\n",
      "/home/devuser/.local/lib/python3.8/site-packages/docstring_inheritance/docstring_inheritors/bases/inheritor.py:329: DocstringInheritanceWarning: File /home/devuser/.local/lib/python3.8/site-packages/braindecode/models/eegresnet.py:35: in EEGResNet.__init__: section Parameters: the docstring for the argument 'input_window_seconds' is missing.\n",
      "  self._warn(\n",
      "/home/devuser/.local/lib/python3.8/site-packages/docstring_inheritance/docstring_inheritors/bases/inheritor.py:329: DocstringInheritanceWarning: File /home/devuser/.local/lib/python3.8/site-packages/braindecode/models/eegresnet.py:35: in EEGResNet.__init__: section Parameters: the docstring for the argument 'sfreq' is missing.\n",
      "  self._warn(\n",
      "/home/devuser/.local/lib/python3.8/site-packages/docstring_inheritance/docstring_inheritors/bases/inheritor.py:329: DocstringInheritanceWarning: File /home/devuser/.local/lib/python3.8/site-packages/braindecode/models/eegresnet.py:35: in EEGResNet.__init__: section Parameters: the docstring for the argument 'in_chans' is missing.\n",
      "  self._warn(\n",
      "/home/devuser/.local/lib/python3.8/site-packages/docstring_inheritance/docstring_inheritors/bases/inheritor.py:329: DocstringInheritanceWarning: File /home/devuser/.local/lib/python3.8/site-packages/braindecode/models/eegresnet.py:35: in EEGResNet.__init__: section Parameters: the docstring for the argument 'n_classes' is missing.\n",
      "  self._warn(\n",
      "/home/devuser/.local/lib/python3.8/site-packages/docstring_inheritance/docstring_inheritors/bases/inheritor.py:329: DocstringInheritanceWarning: File /home/devuser/.local/lib/python3.8/site-packages/braindecode/models/eegresnet.py:35: in EEGResNet.__init__: section Parameters: the docstring for the argument 'input_window_samples' is missing.\n",
      "  self._warn(\n",
      "/home/devuser/.local/lib/python3.8/site-packages/docstring_inheritance/docstring_inheritors/bases/inheritor.py:329: DocstringInheritanceWarning: File /home/devuser/.local/lib/python3.8/site-packages/braindecode/models/eegresnet.py:35: in EEGResNet.__init__: section Parameters: the docstring for the argument 'add_log_softmax' is missing.\n",
      "  self._warn(\n",
      "/home/devuser/.local/lib/python3.8/site-packages/docstring_inheritance/docstring_inheritors/bases/inheritor.py:329: DocstringInheritanceWarning: File /home/devuser/.local/lib/python3.8/site-packages/braindecode/models/eeginception.py:93: in EEGInception.__init__: section Parameters: the docstring for the argument 'n_chans' is missing.\n",
      "  self._warn(\n",
      "/home/devuser/.local/lib/python3.8/site-packages/docstring_inheritance/docstring_inheritors/bases/inheritor.py:329: DocstringInheritanceWarning: File /home/devuser/.local/lib/python3.8/site-packages/braindecode/models/eeginception.py:93: in EEGInception.__init__: section Parameters: the docstring for the argument 'n_outputs' is missing.\n",
      "  self._warn(\n",
      "/home/devuser/.local/lib/python3.8/site-packages/docstring_inheritance/docstring_inheritors/bases/inheritor.py:329: DocstringInheritanceWarning: File /home/devuser/.local/lib/python3.8/site-packages/braindecode/models/eeginception.py:93: in EEGInception.__init__: section Parameters: the docstring for the argument 'n_times' is missing.\n",
      "  self._warn(\n",
      "/home/devuser/.local/lib/python3.8/site-packages/docstring_inheritance/docstring_inheritors/bases/inheritor.py:329: DocstringInheritanceWarning: File /home/devuser/.local/lib/python3.8/site-packages/braindecode/models/eeginception.py:93: in EEGInception.__init__: section Parameters: the docstring for the argument 'sfreq' is missing.\n",
      "  self._warn(\n",
      "/home/devuser/.local/lib/python3.8/site-packages/docstring_inheritance/docstring_inheritors/bases/inheritor.py:329: DocstringInheritanceWarning: File /home/devuser/.local/lib/python3.8/site-packages/braindecode/models/eeginception.py:93: in EEGInception.__init__: section Parameters: the docstring for the argument 'drop_prob' is missing.\n",
      "  self._warn(\n",
      "/home/devuser/.local/lib/python3.8/site-packages/docstring_inheritance/docstring_inheritors/bases/inheritor.py:329: DocstringInheritanceWarning: File /home/devuser/.local/lib/python3.8/site-packages/braindecode/models/eeginception.py:93: in EEGInception.__init__: section Parameters: the docstring for the argument 'scales_samples_s' is missing.\n",
      "  self._warn(\n",
      "/home/devuser/.local/lib/python3.8/site-packages/docstring_inheritance/docstring_inheritors/bases/inheritor.py:329: DocstringInheritanceWarning: File /home/devuser/.local/lib/python3.8/site-packages/braindecode/models/eeginception.py:93: in EEGInception.__init__: section Parameters: the docstring for the argument 'n_filters' is missing.\n",
      "  self._warn(\n",
      "/home/devuser/.local/lib/python3.8/site-packages/docstring_inheritance/docstring_inheritors/bases/inheritor.py:329: DocstringInheritanceWarning: File /home/devuser/.local/lib/python3.8/site-packages/braindecode/models/eeginception.py:93: in EEGInception.__init__: section Parameters: the docstring for the argument 'activation' is missing.\n",
      "  self._warn(\n",
      "/home/devuser/.local/lib/python3.8/site-packages/docstring_inheritance/docstring_inheritors/bases/inheritor.py:329: DocstringInheritanceWarning: File /home/devuser/.local/lib/python3.8/site-packages/braindecode/models/eeginception.py:93: in EEGInception.__init__: section Parameters: the docstring for the argument 'batch_norm_alpha' is missing.\n",
      "  self._warn(\n",
      "/home/devuser/.local/lib/python3.8/site-packages/docstring_inheritance/docstring_inheritors/bases/inheritor.py:329: DocstringInheritanceWarning: File /home/devuser/.local/lib/python3.8/site-packages/braindecode/models/eeginception.py:93: in EEGInception.__init__: section Parameters: the docstring for the argument 'depth_multiplier' is missing.\n",
      "  self._warn(\n",
      "/home/devuser/.local/lib/python3.8/site-packages/docstring_inheritance/docstring_inheritors/bases/inheritor.py:329: DocstringInheritanceWarning: File /home/devuser/.local/lib/python3.8/site-packages/braindecode/models/eeginception.py:93: in EEGInception.__init__: section Parameters: the docstring for the argument 'pooling_sizes' is missing.\n",
      "  self._warn(\n",
      "/home/devuser/.local/lib/python3.8/site-packages/docstring_inheritance/docstring_inheritors/bases/inheritor.py:329: DocstringInheritanceWarning: File /home/devuser/.local/lib/python3.8/site-packages/braindecode/models/eeginception.py:93: in EEGInception.__init__: section Parameters: the docstring for the argument 'chs_info' is missing.\n",
      "  self._warn(\n",
      "/home/devuser/.local/lib/python3.8/site-packages/docstring_inheritance/docstring_inheritors/bases/inheritor.py:329: DocstringInheritanceWarning: File /home/devuser/.local/lib/python3.8/site-packages/braindecode/models/eeginception.py:93: in EEGInception.__init__: section Parameters: the docstring for the argument 'input_window_seconds' is missing.\n",
      "  self._warn(\n",
      "/home/devuser/.local/lib/python3.8/site-packages/docstring_inheritance/docstring_inheritors/bases/inheritor.py:329: DocstringInheritanceWarning: File /home/devuser/.local/lib/python3.8/site-packages/braindecode/models/eeginception.py:93: in EEGInception.__init__: section Parameters: the docstring for the argument 'in_channels' is missing.\n",
      "  self._warn(\n",
      "/home/devuser/.local/lib/python3.8/site-packages/docstring_inheritance/docstring_inheritors/bases/inheritor.py:329: DocstringInheritanceWarning: File /home/devuser/.local/lib/python3.8/site-packages/braindecode/models/eeginception.py:93: in EEGInception.__init__: section Parameters: the docstring for the argument 'n_classes' is missing.\n",
      "  self._warn(\n",
      "/home/devuser/.local/lib/python3.8/site-packages/docstring_inheritance/docstring_inheritors/bases/inheritor.py:329: DocstringInheritanceWarning: File /home/devuser/.local/lib/python3.8/site-packages/braindecode/models/eeginception.py:93: in EEGInception.__init__: section Parameters: the docstring for the argument 'input_window_samples' is missing.\n",
      "  self._warn(\n",
      "/home/devuser/.local/lib/python3.8/site-packages/docstring_inheritance/docstring_inheritors/bases/inheritor.py:329: DocstringInheritanceWarning: File /home/devuser/.local/lib/python3.8/site-packages/braindecode/models/eeginception.py:93: in EEGInception.__init__: section Parameters: the docstring for the argument 'add_log_softmax' is missing.\n",
      "  self._warn(\n",
      "/home/devuser/.local/lib/python3.8/site-packages/docstring_inheritance/docstring_inheritors/bases/inheritor.py:329: DocstringInheritanceWarning: File /home/devuser/.local/lib/python3.8/site-packages/braindecode/models/eeginception_erp.py:96: in EEGInceptionERP.__init__: section Parameters: the docstring for the argument 'n_chans' is missing.\n",
      "  self._warn(\n",
      "/home/devuser/.local/lib/python3.8/site-packages/docstring_inheritance/docstring_inheritors/bases/inheritor.py:329: DocstringInheritanceWarning: File /home/devuser/.local/lib/python3.8/site-packages/braindecode/models/eeginception_erp.py:96: in EEGInceptionERP.__init__: section Parameters: the docstring for the argument 'n_outputs' is missing.\n",
      "  self._warn(\n",
      "/home/devuser/.local/lib/python3.8/site-packages/docstring_inheritance/docstring_inheritors/bases/inheritor.py:329: DocstringInheritanceWarning: File /home/devuser/.local/lib/python3.8/site-packages/braindecode/models/eeginception_erp.py:96: in EEGInceptionERP.__init__: section Parameters: the docstring for the argument 'n_times' is missing.\n",
      "  self._warn(\n",
      "/home/devuser/.local/lib/python3.8/site-packages/docstring_inheritance/docstring_inheritors/bases/inheritor.py:329: DocstringInheritanceWarning: File /home/devuser/.local/lib/python3.8/site-packages/braindecode/models/eeginception_erp.py:96: in EEGInceptionERP.__init__: section Parameters: the docstring for the argument 'sfreq' is missing.\n",
      "  self._warn(\n",
      "/home/devuser/.local/lib/python3.8/site-packages/docstring_inheritance/docstring_inheritors/bases/inheritor.py:329: DocstringInheritanceWarning: File /home/devuser/.local/lib/python3.8/site-packages/braindecode/models/eeginception_erp.py:96: in EEGInceptionERP.__init__: section Parameters: the docstring for the argument 'drop_prob' is missing.\n",
      "  self._warn(\n",
      "/home/devuser/.local/lib/python3.8/site-packages/docstring_inheritance/docstring_inheritors/bases/inheritor.py:329: DocstringInheritanceWarning: File /home/devuser/.local/lib/python3.8/site-packages/braindecode/models/eeginception_erp.py:96: in EEGInceptionERP.__init__: section Parameters: the docstring for the argument 'scales_samples_s' is missing.\n",
      "  self._warn(\n",
      "/home/devuser/.local/lib/python3.8/site-packages/docstring_inheritance/docstring_inheritors/bases/inheritor.py:329: DocstringInheritanceWarning: File /home/devuser/.local/lib/python3.8/site-packages/braindecode/models/eeginception_erp.py:96: in EEGInceptionERP.__init__: section Parameters: the docstring for the argument 'n_filters' is missing.\n",
      "  self._warn(\n",
      "/home/devuser/.local/lib/python3.8/site-packages/docstring_inheritance/docstring_inheritors/bases/inheritor.py:329: DocstringInheritanceWarning: File /home/devuser/.local/lib/python3.8/site-packages/braindecode/models/eeginception_erp.py:96: in EEGInceptionERP.__init__: section Parameters: the docstring for the argument 'activation' is missing.\n",
      "  self._warn(\n",
      "/home/devuser/.local/lib/python3.8/site-packages/docstring_inheritance/docstring_inheritors/bases/inheritor.py:329: DocstringInheritanceWarning: File /home/devuser/.local/lib/python3.8/site-packages/braindecode/models/eeginception_erp.py:96: in EEGInceptionERP.__init__: section Parameters: the docstring for the argument 'batch_norm_alpha' is missing.\n",
      "  self._warn(\n",
      "/home/devuser/.local/lib/python3.8/site-packages/docstring_inheritance/docstring_inheritors/bases/inheritor.py:329: DocstringInheritanceWarning: File /home/devuser/.local/lib/python3.8/site-packages/braindecode/models/eeginception_erp.py:96: in EEGInceptionERP.__init__: section Parameters: the docstring for the argument 'depth_multiplier' is missing.\n",
      "  self._warn(\n",
      "/home/devuser/.local/lib/python3.8/site-packages/docstring_inheritance/docstring_inheritors/bases/inheritor.py:329: DocstringInheritanceWarning: File /home/devuser/.local/lib/python3.8/site-packages/braindecode/models/eeginception_erp.py:96: in EEGInceptionERP.__init__: section Parameters: the docstring for the argument 'pooling_sizes' is missing.\n",
      "  self._warn(\n",
      "/home/devuser/.local/lib/python3.8/site-packages/docstring_inheritance/docstring_inheritors/bases/inheritor.py:329: DocstringInheritanceWarning: File /home/devuser/.local/lib/python3.8/site-packages/braindecode/models/eeginception_erp.py:96: in EEGInceptionERP.__init__: section Parameters: the docstring for the argument 'chs_info' is missing.\n",
      "  self._warn(\n",
      "/home/devuser/.local/lib/python3.8/site-packages/docstring_inheritance/docstring_inheritors/bases/inheritor.py:329: DocstringInheritanceWarning: File /home/devuser/.local/lib/python3.8/site-packages/braindecode/models/eeginception_erp.py:96: in EEGInceptionERP.__init__: section Parameters: the docstring for the argument 'input_window_seconds' is missing.\n",
      "  self._warn(\n",
      "/home/devuser/.local/lib/python3.8/site-packages/docstring_inheritance/docstring_inheritors/bases/inheritor.py:329: DocstringInheritanceWarning: File /home/devuser/.local/lib/python3.8/site-packages/braindecode/models/eeginception_erp.py:96: in EEGInceptionERP.__init__: section Parameters: the docstring for the argument 'in_channels' is missing.\n",
      "  self._warn(\n",
      "/home/devuser/.local/lib/python3.8/site-packages/docstring_inheritance/docstring_inheritors/bases/inheritor.py:329: DocstringInheritanceWarning: File /home/devuser/.local/lib/python3.8/site-packages/braindecode/models/eeginception_erp.py:96: in EEGInceptionERP.__init__: section Parameters: the docstring for the argument 'n_classes' is missing.\n",
      "  self._warn(\n",
      "/home/devuser/.local/lib/python3.8/site-packages/docstring_inheritance/docstring_inheritors/bases/inheritor.py:329: DocstringInheritanceWarning: File /home/devuser/.local/lib/python3.8/site-packages/braindecode/models/eeginception_erp.py:96: in EEGInceptionERP.__init__: section Parameters: the docstring for the argument 'input_window_samples' is missing.\n",
      "  self._warn(\n",
      "/home/devuser/.local/lib/python3.8/site-packages/docstring_inheritance/docstring_inheritors/bases/inheritor.py:329: DocstringInheritanceWarning: File /home/devuser/.local/lib/python3.8/site-packages/braindecode/models/eeginception_erp.py:96: in EEGInceptionERP.__init__: section Parameters: the docstring for the argument 'add_log_softmax' is missing.\n",
      "  self._warn(\n",
      "/home/devuser/.local/lib/python3.8/site-packages/docstring_inheritance/docstring_inheritors/bases/inheritor.py:329: DocstringInheritanceWarning: File /home/devuser/.local/lib/python3.8/site-packages/braindecode/models/eeginception_mi.py:64: in EEGInceptionMI.__init__: section Parameters: the docstring for the argument 'n_chans' is missing.\n",
      "  self._warn(\n",
      "/home/devuser/.local/lib/python3.8/site-packages/docstring_inheritance/docstring_inheritors/bases/inheritor.py:329: DocstringInheritanceWarning: File /home/devuser/.local/lib/python3.8/site-packages/braindecode/models/eeginception_mi.py:64: in EEGInceptionMI.__init__: section Parameters: the docstring for the argument 'n_outputs' is missing.\n",
      "  self._warn(\n",
      "/home/devuser/.local/lib/python3.8/site-packages/docstring_inheritance/docstring_inheritors/bases/inheritor.py:329: DocstringInheritanceWarning: File /home/devuser/.local/lib/python3.8/site-packages/braindecode/models/eeginception_mi.py:64: in EEGInceptionMI.__init__: section Parameters: the docstring for the argument 'input_window_seconds' is missing.\n",
      "  self._warn(\n",
      "/home/devuser/.local/lib/python3.8/site-packages/docstring_inheritance/docstring_inheritors/bases/inheritor.py:329: DocstringInheritanceWarning: File /home/devuser/.local/lib/python3.8/site-packages/braindecode/models/eeginception_mi.py:64: in EEGInceptionMI.__init__: section Parameters: the docstring for the argument 'sfreq' is missing.\n",
      "  self._warn(\n",
      "/home/devuser/.local/lib/python3.8/site-packages/docstring_inheritance/docstring_inheritors/bases/inheritor.py:329: DocstringInheritanceWarning: File /home/devuser/.local/lib/python3.8/site-packages/braindecode/models/eeginception_mi.py:64: in EEGInceptionMI.__init__: section Parameters: the docstring for the argument 'n_convs' is missing.\n",
      "  self._warn(\n",
      "/home/devuser/.local/lib/python3.8/site-packages/docstring_inheritance/docstring_inheritors/bases/inheritor.py:329: DocstringInheritanceWarning: File /home/devuser/.local/lib/python3.8/site-packages/braindecode/models/eeginception_mi.py:64: in EEGInceptionMI.__init__: section Parameters: the docstring for the argument 'n_filters' is missing.\n",
      "  self._warn(\n",
      "/home/devuser/.local/lib/python3.8/site-packages/docstring_inheritance/docstring_inheritors/bases/inheritor.py:329: DocstringInheritanceWarning: File /home/devuser/.local/lib/python3.8/site-packages/braindecode/models/eeginception_mi.py:64: in EEGInceptionMI.__init__: section Parameters: the docstring for the argument 'kernel_unit_s' is missing.\n",
      "  self._warn(\n",
      "/home/devuser/.local/lib/python3.8/site-packages/docstring_inheritance/docstring_inheritors/bases/inheritor.py:329: DocstringInheritanceWarning: File /home/devuser/.local/lib/python3.8/site-packages/braindecode/models/eeginception_mi.py:64: in EEGInceptionMI.__init__: section Parameters: the docstring for the argument 'activation' is missing.\n",
      "  self._warn(\n",
      "/home/devuser/.local/lib/python3.8/site-packages/docstring_inheritance/docstring_inheritors/bases/inheritor.py:329: DocstringInheritanceWarning: File /home/devuser/.local/lib/python3.8/site-packages/braindecode/models/eeginception_mi.py:64: in EEGInceptionMI.__init__: section Parameters: the docstring for the argument 'chs_info' is missing.\n",
      "  self._warn(\n",
      "/home/devuser/.local/lib/python3.8/site-packages/docstring_inheritance/docstring_inheritors/bases/inheritor.py:329: DocstringInheritanceWarning: File /home/devuser/.local/lib/python3.8/site-packages/braindecode/models/eeginception_mi.py:64: in EEGInceptionMI.__init__: section Parameters: the docstring for the argument 'n_times' is missing.\n",
      "  self._warn(\n",
      "/home/devuser/.local/lib/python3.8/site-packages/docstring_inheritance/docstring_inheritors/bases/inheritor.py:329: DocstringInheritanceWarning: File /home/devuser/.local/lib/python3.8/site-packages/braindecode/models/eeginception_mi.py:64: in EEGInceptionMI.__init__: section Parameters: the docstring for the argument 'in_channels' is missing.\n",
      "  self._warn(\n",
      "/home/devuser/.local/lib/python3.8/site-packages/docstring_inheritance/docstring_inheritors/bases/inheritor.py:329: DocstringInheritanceWarning: File /home/devuser/.local/lib/python3.8/site-packages/braindecode/models/eeginception_mi.py:64: in EEGInceptionMI.__init__: section Parameters: the docstring for the argument 'n_classes' is missing.\n",
      "  self._warn(\n",
      "/home/devuser/.local/lib/python3.8/site-packages/docstring_inheritance/docstring_inheritors/bases/inheritor.py:329: DocstringInheritanceWarning: File /home/devuser/.local/lib/python3.8/site-packages/braindecode/models/eeginception_mi.py:64: in EEGInceptionMI.__init__: section Parameters: the docstring for the argument 'input_window_s' is missing.\n",
      "  self._warn(\n",
      "/home/devuser/.local/lib/python3.8/site-packages/docstring_inheritance/docstring_inheritors/bases/inheritor.py:329: DocstringInheritanceWarning: File /home/devuser/.local/lib/python3.8/site-packages/braindecode/models/eeginception_mi.py:64: in EEGInceptionMI.__init__: section Parameters: the docstring for the argument 'add_log_softmax' is missing.\n",
      "  self._warn(\n",
      "/home/devuser/.local/lib/python3.8/site-packages/docstring_inheritance/docstring_inheritors/bases/inheritor.py:329: DocstringInheritanceWarning: File /home/devuser/.local/lib/python3.8/site-packages/braindecode/models/eeginception_mi.py:185: in EEGInceptionMI.forward: section Parameters: the docstring for the argument 'X' is missing.\n",
      "  self._warn(\n",
      "/home/devuser/.local/lib/python3.8/site-packages/docstring_inheritance/docstring_inheritors/bases/inheritor.py:329: DocstringInheritanceWarning: File /home/devuser/.local/lib/python3.8/site-packages/braindecode/models/atcnet.py:101: in ATCNet.__init__: section Parameters: the docstring for the argument 'n_chans' is missing.\n",
      "  self._warn(\n",
      "/home/devuser/.local/lib/python3.8/site-packages/docstring_inheritance/docstring_inheritors/bases/inheritor.py:329: DocstringInheritanceWarning: File /home/devuser/.local/lib/python3.8/site-packages/braindecode/models/atcnet.py:101: in ATCNet.__init__: section Parameters: the docstring for the argument 'n_outputs' is missing.\n",
      "  self._warn(\n",
      "/home/devuser/.local/lib/python3.8/site-packages/docstring_inheritance/docstring_inheritors/bases/inheritor.py:329: DocstringInheritanceWarning: File /home/devuser/.local/lib/python3.8/site-packages/braindecode/models/atcnet.py:101: in ATCNet.__init__: section Parameters: the docstring for the argument 'input_window_seconds' is missing.\n",
      "  self._warn(\n",
      "/home/devuser/.local/lib/python3.8/site-packages/docstring_inheritance/docstring_inheritors/bases/inheritor.py:329: DocstringInheritanceWarning: File /home/devuser/.local/lib/python3.8/site-packages/braindecode/models/atcnet.py:101: in ATCNet.__init__: section Parameters: the docstring for the argument 'sfreq' is missing.\n",
      "  self._warn(\n",
      "/home/devuser/.local/lib/python3.8/site-packages/docstring_inheritance/docstring_inheritors/bases/inheritor.py:329: DocstringInheritanceWarning: File /home/devuser/.local/lib/python3.8/site-packages/braindecode/models/atcnet.py:101: in ATCNet.__init__: section Parameters: the docstring for the argument 'conv_block_n_filters' is missing.\n",
      "  self._warn(\n",
      "/home/devuser/.local/lib/python3.8/site-packages/docstring_inheritance/docstring_inheritors/bases/inheritor.py:329: DocstringInheritanceWarning: File /home/devuser/.local/lib/python3.8/site-packages/braindecode/models/atcnet.py:101: in ATCNet.__init__: section Parameters: the docstring for the argument 'conv_block_kernel_length_1' is missing.\n",
      "  self._warn(\n",
      "/home/devuser/.local/lib/python3.8/site-packages/docstring_inheritance/docstring_inheritors/bases/inheritor.py:329: DocstringInheritanceWarning: File /home/devuser/.local/lib/python3.8/site-packages/braindecode/models/atcnet.py:101: in ATCNet.__init__: section Parameters: the docstring for the argument 'conv_block_kernel_length_2' is missing.\n",
      "  self._warn(\n",
      "/home/devuser/.local/lib/python3.8/site-packages/docstring_inheritance/docstring_inheritors/bases/inheritor.py:329: DocstringInheritanceWarning: File /home/devuser/.local/lib/python3.8/site-packages/braindecode/models/atcnet.py:101: in ATCNet.__init__: section Parameters: the docstring for the argument 'conv_block_pool_size_1' is missing.\n",
      "  self._warn(\n",
      "/home/devuser/.local/lib/python3.8/site-packages/docstring_inheritance/docstring_inheritors/bases/inheritor.py:329: DocstringInheritanceWarning: File /home/devuser/.local/lib/python3.8/site-packages/braindecode/models/atcnet.py:101: in ATCNet.__init__: section Parameters: the docstring for the argument 'conv_block_pool_size_2' is missing.\n",
      "  self._warn(\n",
      "/home/devuser/.local/lib/python3.8/site-packages/docstring_inheritance/docstring_inheritors/bases/inheritor.py:329: DocstringInheritanceWarning: File /home/devuser/.local/lib/python3.8/site-packages/braindecode/models/atcnet.py:101: in ATCNet.__init__: section Parameters: the docstring for the argument 'conv_block_depth_mult' is missing.\n",
      "  self._warn(\n",
      "/home/devuser/.local/lib/python3.8/site-packages/docstring_inheritance/docstring_inheritors/bases/inheritor.py:329: DocstringInheritanceWarning: File /home/devuser/.local/lib/python3.8/site-packages/braindecode/models/atcnet.py:101: in ATCNet.__init__: section Parameters: the docstring for the argument 'conv_block_dropout' is missing.\n",
      "  self._warn(\n",
      "/home/devuser/.local/lib/python3.8/site-packages/docstring_inheritance/docstring_inheritors/bases/inheritor.py:329: DocstringInheritanceWarning: File /home/devuser/.local/lib/python3.8/site-packages/braindecode/models/atcnet.py:101: in ATCNet.__init__: section Parameters: the docstring for the argument 'n_windows' is missing.\n",
      "  self._warn(\n",
      "/home/devuser/.local/lib/python3.8/site-packages/docstring_inheritance/docstring_inheritors/bases/inheritor.py:329: DocstringInheritanceWarning: File /home/devuser/.local/lib/python3.8/site-packages/braindecode/models/atcnet.py:101: in ATCNet.__init__: section Parameters: the docstring for the argument 'att_head_dim' is missing.\n",
      "  self._warn(\n",
      "/home/devuser/.local/lib/python3.8/site-packages/docstring_inheritance/docstring_inheritors/bases/inheritor.py:329: DocstringInheritanceWarning: File /home/devuser/.local/lib/python3.8/site-packages/braindecode/models/atcnet.py:101: in ATCNet.__init__: section Parameters: the docstring for the argument 'att_num_heads' is missing.\n",
      "  self._warn(\n",
      "/home/devuser/.local/lib/python3.8/site-packages/docstring_inheritance/docstring_inheritors/bases/inheritor.py:329: DocstringInheritanceWarning: File /home/devuser/.local/lib/python3.8/site-packages/braindecode/models/atcnet.py:101: in ATCNet.__init__: section Parameters: the docstring for the argument 'att_dropout' is missing.\n",
      "  self._warn(\n",
      "/home/devuser/.local/lib/python3.8/site-packages/docstring_inheritance/docstring_inheritors/bases/inheritor.py:329: DocstringInheritanceWarning: File /home/devuser/.local/lib/python3.8/site-packages/braindecode/models/atcnet.py:101: in ATCNet.__init__: section Parameters: the docstring for the argument 'tcn_depth' is missing.\n",
      "  self._warn(\n",
      "/home/devuser/.local/lib/python3.8/site-packages/docstring_inheritance/docstring_inheritors/bases/inheritor.py:329: DocstringInheritanceWarning: File /home/devuser/.local/lib/python3.8/site-packages/braindecode/models/atcnet.py:101: in ATCNet.__init__: section Parameters: the docstring for the argument 'tcn_kernel_size' is missing.\n",
      "  self._warn(\n",
      "/home/devuser/.local/lib/python3.8/site-packages/docstring_inheritance/docstring_inheritors/bases/inheritor.py:329: DocstringInheritanceWarning: File /home/devuser/.local/lib/python3.8/site-packages/braindecode/models/atcnet.py:101: in ATCNet.__init__: section Parameters: the docstring for the argument 'tcn_n_filters' is missing.\n",
      "  self._warn(\n",
      "/home/devuser/.local/lib/python3.8/site-packages/docstring_inheritance/docstring_inheritors/bases/inheritor.py:329: DocstringInheritanceWarning: File /home/devuser/.local/lib/python3.8/site-packages/braindecode/models/atcnet.py:101: in ATCNet.__init__: section Parameters: the docstring for the argument 'tcn_dropout' is missing.\n",
      "  self._warn(\n",
      "/home/devuser/.local/lib/python3.8/site-packages/docstring_inheritance/docstring_inheritors/bases/inheritor.py:329: DocstringInheritanceWarning: File /home/devuser/.local/lib/python3.8/site-packages/braindecode/models/atcnet.py:101: in ATCNet.__init__: section Parameters: the docstring for the argument 'tcn_activation' is missing.\n",
      "  self._warn(\n",
      "/home/devuser/.local/lib/python3.8/site-packages/docstring_inheritance/docstring_inheritors/bases/inheritor.py:329: DocstringInheritanceWarning: File /home/devuser/.local/lib/python3.8/site-packages/braindecode/models/atcnet.py:101: in ATCNet.__init__: section Parameters: the docstring for the argument 'concat' is missing.\n",
      "  self._warn(\n",
      "/home/devuser/.local/lib/python3.8/site-packages/docstring_inheritance/docstring_inheritors/bases/inheritor.py:329: DocstringInheritanceWarning: File /home/devuser/.local/lib/python3.8/site-packages/braindecode/models/atcnet.py:101: in ATCNet.__init__: section Parameters: the docstring for the argument 'max_norm_const' is missing.\n",
      "  self._warn(\n",
      "/home/devuser/.local/lib/python3.8/site-packages/docstring_inheritance/docstring_inheritors/bases/inheritor.py:329: DocstringInheritanceWarning: File /home/devuser/.local/lib/python3.8/site-packages/braindecode/models/atcnet.py:101: in ATCNet.__init__: section Parameters: the docstring for the argument 'chs_info' is missing.\n",
      "  self._warn(\n",
      "/home/devuser/.local/lib/python3.8/site-packages/docstring_inheritance/docstring_inheritors/bases/inheritor.py:329: DocstringInheritanceWarning: File /home/devuser/.local/lib/python3.8/site-packages/braindecode/models/atcnet.py:101: in ATCNet.__init__: section Parameters: the docstring for the argument 'n_times' is missing.\n",
      "  self._warn(\n",
      "/home/devuser/.local/lib/python3.8/site-packages/docstring_inheritance/docstring_inheritors/bases/inheritor.py:329: DocstringInheritanceWarning: File /home/devuser/.local/lib/python3.8/site-packages/braindecode/models/atcnet.py:101: in ATCNet.__init__: section Parameters: the docstring for the argument 'n_channels' is missing.\n",
      "  self._warn(\n",
      "/home/devuser/.local/lib/python3.8/site-packages/docstring_inheritance/docstring_inheritors/bases/inheritor.py:329: DocstringInheritanceWarning: File /home/devuser/.local/lib/python3.8/site-packages/braindecode/models/atcnet.py:101: in ATCNet.__init__: section Parameters: the docstring for the argument 'n_classes' is missing.\n",
      "  self._warn(\n",
      "/home/devuser/.local/lib/python3.8/site-packages/docstring_inheritance/docstring_inheritors/bases/inheritor.py:329: DocstringInheritanceWarning: File /home/devuser/.local/lib/python3.8/site-packages/braindecode/models/atcnet.py:101: in ATCNet.__init__: section Parameters: the docstring for the argument 'input_size_s' is missing.\n",
      "  self._warn(\n",
      "/home/devuser/.local/lib/python3.8/site-packages/docstring_inheritance/docstring_inheritors/bases/inheritor.py:329: DocstringInheritanceWarning: File /home/devuser/.local/lib/python3.8/site-packages/braindecode/models/atcnet.py:101: in ATCNet.__init__: section Parameters: the docstring for the argument 'add_log_softmax' is missing.\n",
      "  self._warn(\n",
      "/home/devuser/.local/lib/python3.8/site-packages/docstring_inheritance/docstring_inheritors/bases/inheritor.py:329: DocstringInheritanceWarning: File /home/devuser/.local/lib/python3.8/site-packages/braindecode/models/atcnet.py:239: in ATCNet.forward: section Parameters: the docstring for the argument 'X' is missing.\n",
      "  self._warn(\n",
      "/home/devuser/.local/lib/python3.8/site-packages/docstring_inheritance/docstring_inheritors/bases/inheritor.py:329: DocstringInheritanceWarning: File /home/devuser/.local/lib/python3.8/site-packages/braindecode/models/tcn.py:43: in TCN.__init__: section Parameters: the docstring for the argument 'n_chans' is missing.\n",
      "  self._warn(\n",
      "/home/devuser/.local/lib/python3.8/site-packages/docstring_inheritance/docstring_inheritors/bases/inheritor.py:329: DocstringInheritanceWarning: File /home/devuser/.local/lib/python3.8/site-packages/braindecode/models/tcn.py:43: in TCN.__init__: section Parameters: the docstring for the argument 'n_outputs' is missing.\n",
      "  self._warn(\n",
      "/home/devuser/.local/lib/python3.8/site-packages/docstring_inheritance/docstring_inheritors/bases/inheritor.py:329: DocstringInheritanceWarning: File /home/devuser/.local/lib/python3.8/site-packages/braindecode/models/tcn.py:43: in TCN.__init__: section Parameters: the docstring for the argument 'n_blocks' is missing.\n",
      "  self._warn(\n",
      "/home/devuser/.local/lib/python3.8/site-packages/docstring_inheritance/docstring_inheritors/bases/inheritor.py:329: DocstringInheritanceWarning: File /home/devuser/.local/lib/python3.8/site-packages/braindecode/models/tcn.py:43: in TCN.__init__: section Parameters: the docstring for the argument 'n_filters' is missing.\n",
      "  self._warn(\n",
      "/home/devuser/.local/lib/python3.8/site-packages/docstring_inheritance/docstring_inheritors/bases/inheritor.py:329: DocstringInheritanceWarning: File /home/devuser/.local/lib/python3.8/site-packages/braindecode/models/tcn.py:43: in TCN.__init__: section Parameters: the docstring for the argument 'kernel_size' is missing.\n",
      "  self._warn(\n",
      "/home/devuser/.local/lib/python3.8/site-packages/docstring_inheritance/docstring_inheritors/bases/inheritor.py:329: DocstringInheritanceWarning: File /home/devuser/.local/lib/python3.8/site-packages/braindecode/models/tcn.py:43: in TCN.__init__: section Parameters: the docstring for the argument 'drop_prob' is missing.\n",
      "  self._warn(\n",
      "/home/devuser/.local/lib/python3.8/site-packages/docstring_inheritance/docstring_inheritors/bases/inheritor.py:329: DocstringInheritanceWarning: File /home/devuser/.local/lib/python3.8/site-packages/braindecode/models/tcn.py:43: in TCN.__init__: section Parameters: the docstring for the argument 'chs_info' is missing.\n",
      "  self._warn(\n",
      "/home/devuser/.local/lib/python3.8/site-packages/docstring_inheritance/docstring_inheritors/bases/inheritor.py:329: DocstringInheritanceWarning: File /home/devuser/.local/lib/python3.8/site-packages/braindecode/models/tcn.py:43: in TCN.__init__: section Parameters: the docstring for the argument 'n_times' is missing.\n",
      "  self._warn(\n",
      "/home/devuser/.local/lib/python3.8/site-packages/docstring_inheritance/docstring_inheritors/bases/inheritor.py:329: DocstringInheritanceWarning: File /home/devuser/.local/lib/python3.8/site-packages/braindecode/models/tcn.py:43: in TCN.__init__: section Parameters: the docstring for the argument 'input_window_seconds' is missing.\n",
      "  self._warn(\n",
      "/home/devuser/.local/lib/python3.8/site-packages/docstring_inheritance/docstring_inheritors/bases/inheritor.py:329: DocstringInheritanceWarning: File /home/devuser/.local/lib/python3.8/site-packages/braindecode/models/tcn.py:43: in TCN.__init__: section Parameters: the docstring for the argument 'sfreq' is missing.\n",
      "  self._warn(\n",
      "/home/devuser/.local/lib/python3.8/site-packages/docstring_inheritance/docstring_inheritors/bases/inheritor.py:329: DocstringInheritanceWarning: File /home/devuser/.local/lib/python3.8/site-packages/braindecode/models/tcn.py:43: in TCN.__init__: section Parameters: the docstring for the argument 'n_in_chans' is missing.\n",
      "  self._warn(\n",
      "/home/devuser/.local/lib/python3.8/site-packages/docstring_inheritance/docstring_inheritors/bases/inheritor.py:329: DocstringInheritanceWarning: File /home/devuser/.local/lib/python3.8/site-packages/braindecode/models/tcn.py:43: in TCN.__init__: section Parameters: the docstring for the argument 'add_log_softmax' is missing.\n",
      "  self._warn(\n",
      "/home/devuser/.local/lib/python3.8/site-packages/docstring_inheritance/docstring_inheritors/bases/inheritor.py:329: DocstringInheritanceWarning: File /home/devuser/.local/lib/python3.8/site-packages/braindecode/models/tcn.py:105: in TCN.forward: section Parameters: the docstring for the argument 'x' is missing.\n",
      "  self._warn(\n",
      "/home/devuser/.local/lib/python3.8/site-packages/docstring_inheritance/docstring_inheritors/bases/inheritor.py:329: DocstringInheritanceWarning: File /home/devuser/.local/lib/python3.8/site-packages/braindecode/models/sleep_stager_chambon_2018.py:54: in SleepStagerChambon2018.__init__: section Parameters: the docstring for the argument 'n_chans' is missing.\n",
      "  self._warn(\n",
      "/home/devuser/.local/lib/python3.8/site-packages/docstring_inheritance/docstring_inheritors/bases/inheritor.py:329: DocstringInheritanceWarning: File /home/devuser/.local/lib/python3.8/site-packages/braindecode/models/sleep_stager_chambon_2018.py:54: in SleepStagerChambon2018.__init__: section Parameters: the docstring for the argument 'sfreq' is missing.\n",
      "  self._warn(\n",
      "/home/devuser/.local/lib/python3.8/site-packages/docstring_inheritance/docstring_inheritors/bases/inheritor.py:329: DocstringInheritanceWarning: File /home/devuser/.local/lib/python3.8/site-packages/braindecode/models/sleep_stager_chambon_2018.py:54: in SleepStagerChambon2018.__init__: section Parameters: the docstring for the argument 'n_conv_chs' is missing.\n",
      "  self._warn(\n",
      "/home/devuser/.local/lib/python3.8/site-packages/docstring_inheritance/docstring_inheritors/bases/inheritor.py:329: DocstringInheritanceWarning: File /home/devuser/.local/lib/python3.8/site-packages/braindecode/models/sleep_stager_chambon_2018.py:54: in SleepStagerChambon2018.__init__: section Parameters: the docstring for the argument 'time_conv_size_s' is missing.\n",
      "  self._warn(\n",
      "/home/devuser/.local/lib/python3.8/site-packages/docstring_inheritance/docstring_inheritors/bases/inheritor.py:329: DocstringInheritanceWarning: File /home/devuser/.local/lib/python3.8/site-packages/braindecode/models/sleep_stager_chambon_2018.py:54: in SleepStagerChambon2018.__init__: section Parameters: the docstring for the argument 'max_pool_size_s' is missing.\n",
      "  self._warn(\n",
      "/home/devuser/.local/lib/python3.8/site-packages/docstring_inheritance/docstring_inheritors/bases/inheritor.py:329: DocstringInheritanceWarning: File /home/devuser/.local/lib/python3.8/site-packages/braindecode/models/sleep_stager_chambon_2018.py:54: in SleepStagerChambon2018.__init__: section Parameters: the docstring for the argument 'pad_size_s' is missing.\n",
      "  self._warn(\n",
      "/home/devuser/.local/lib/python3.8/site-packages/docstring_inheritance/docstring_inheritors/bases/inheritor.py:329: DocstringInheritanceWarning: File /home/devuser/.local/lib/python3.8/site-packages/braindecode/models/sleep_stager_chambon_2018.py:54: in SleepStagerChambon2018.__init__: section Parameters: the docstring for the argument 'input_window_seconds' is missing.\n",
      "  self._warn(\n",
      "/home/devuser/.local/lib/python3.8/site-packages/docstring_inheritance/docstring_inheritors/bases/inheritor.py:329: DocstringInheritanceWarning: File /home/devuser/.local/lib/python3.8/site-packages/braindecode/models/sleep_stager_chambon_2018.py:54: in SleepStagerChambon2018.__init__: section Parameters: the docstring for the argument 'n_outputs' is missing.\n",
      "  self._warn(\n",
      "/home/devuser/.local/lib/python3.8/site-packages/docstring_inheritance/docstring_inheritors/bases/inheritor.py:329: DocstringInheritanceWarning: File /home/devuser/.local/lib/python3.8/site-packages/braindecode/models/sleep_stager_chambon_2018.py:54: in SleepStagerChambon2018.__init__: section Parameters: the docstring for the argument 'dropout' is missing.\n",
      "  self._warn(\n",
      "/home/devuser/.local/lib/python3.8/site-packages/docstring_inheritance/docstring_inheritors/bases/inheritor.py:329: DocstringInheritanceWarning: File /home/devuser/.local/lib/python3.8/site-packages/braindecode/models/sleep_stager_chambon_2018.py:54: in SleepStagerChambon2018.__init__: section Parameters: the docstring for the argument 'apply_batch_norm' is missing.\n",
      "  self._warn(\n",
      "/home/devuser/.local/lib/python3.8/site-packages/docstring_inheritance/docstring_inheritors/bases/inheritor.py:329: DocstringInheritanceWarning: File /home/devuser/.local/lib/python3.8/site-packages/braindecode/models/sleep_stager_chambon_2018.py:54: in SleepStagerChambon2018.__init__: section Parameters: the docstring for the argument 'return_feats' is missing.\n",
      "  self._warn(\n",
      "/home/devuser/.local/lib/python3.8/site-packages/docstring_inheritance/docstring_inheritors/bases/inheritor.py:329: DocstringInheritanceWarning: File /home/devuser/.local/lib/python3.8/site-packages/braindecode/models/sleep_stager_chambon_2018.py:54: in SleepStagerChambon2018.__init__: section Parameters: the docstring for the argument 'chs_info' is missing.\n",
      "  self._warn(\n",
      "/home/devuser/.local/lib/python3.8/site-packages/docstring_inheritance/docstring_inheritors/bases/inheritor.py:329: DocstringInheritanceWarning: File /home/devuser/.local/lib/python3.8/site-packages/braindecode/models/sleep_stager_chambon_2018.py:54: in SleepStagerChambon2018.__init__: section Parameters: the docstring for the argument 'n_times' is missing.\n",
      "  self._warn(\n",
      "/home/devuser/.local/lib/python3.8/site-packages/docstring_inheritance/docstring_inheritors/bases/inheritor.py:329: DocstringInheritanceWarning: File /home/devuser/.local/lib/python3.8/site-packages/braindecode/models/sleep_stager_chambon_2018.py:54: in SleepStagerChambon2018.__init__: section Parameters: the docstring for the argument 'n_channels' is missing.\n",
      "  self._warn(\n",
      "/home/devuser/.local/lib/python3.8/site-packages/docstring_inheritance/docstring_inheritors/bases/inheritor.py:329: DocstringInheritanceWarning: File /home/devuser/.local/lib/python3.8/site-packages/braindecode/models/sleep_stager_chambon_2018.py:54: in SleepStagerChambon2018.__init__: section Parameters: the docstring for the argument 'input_size_s' is missing.\n",
      "  self._warn(\n",
      "/home/devuser/.local/lib/python3.8/site-packages/docstring_inheritance/docstring_inheritors/bases/inheritor.py:329: DocstringInheritanceWarning: File /home/devuser/.local/lib/python3.8/site-packages/braindecode/models/sleep_stager_chambon_2018.py:54: in SleepStagerChambon2018.__init__: section Parameters: the docstring for the argument 'n_classes' is missing.\n",
      "  self._warn(\n",
      "/home/devuser/.local/lib/python3.8/site-packages/docstring_inheritance/docstring_inheritors/bases/inheritor.py:329: DocstringInheritanceWarning: File /home/devuser/.local/lib/python3.8/site-packages/braindecode/models/sleep_stager_chambon_2018.py:135: in SleepStagerChambon2018.forward: section Parameters: the docstring for the argument 'x' is missing.\n",
      "  self._warn(\n",
      "/home/devuser/.local/lib/python3.8/site-packages/docstring_inheritance/docstring_inheritors/bases/inheritor.py:329: DocstringInheritanceWarning: File /home/devuser/.local/lib/python3.8/site-packages/braindecode/models/sleep_stager_blanco_2020.py:50: in SleepStagerBlanco2020.__init__: section Parameters: the docstring for the argument 'n_chans' is missing.\n",
      "  self._warn(\n",
      "/home/devuser/.local/lib/python3.8/site-packages/docstring_inheritance/docstring_inheritors/bases/inheritor.py:329: DocstringInheritanceWarning: File /home/devuser/.local/lib/python3.8/site-packages/braindecode/models/sleep_stager_blanco_2020.py:50: in SleepStagerBlanco2020.__init__: section Parameters: the docstring for the argument 'sfreq' is missing.\n",
      "  self._warn(\n",
      "/home/devuser/.local/lib/python3.8/site-packages/docstring_inheritance/docstring_inheritors/bases/inheritor.py:329: DocstringInheritanceWarning: File /home/devuser/.local/lib/python3.8/site-packages/braindecode/models/sleep_stager_blanco_2020.py:50: in SleepStagerBlanco2020.__init__: section Parameters: the docstring for the argument 'n_conv_chans' is missing.\n",
      "  self._warn(\n",
      "/home/devuser/.local/lib/python3.8/site-packages/docstring_inheritance/docstring_inheritors/bases/inheritor.py:329: DocstringInheritanceWarning: File /home/devuser/.local/lib/python3.8/site-packages/braindecode/models/sleep_stager_blanco_2020.py:50: in SleepStagerBlanco2020.__init__: section Parameters: the docstring for the argument 'input_window_seconds' is missing.\n",
      "  self._warn(\n",
      "/home/devuser/.local/lib/python3.8/site-packages/docstring_inheritance/docstring_inheritors/bases/inheritor.py:329: DocstringInheritanceWarning: File /home/devuser/.local/lib/python3.8/site-packages/braindecode/models/sleep_stager_blanco_2020.py:50: in SleepStagerBlanco2020.__init__: section Parameters: the docstring for the argument 'n_outputs' is missing.\n",
      "  self._warn(\n",
      "/home/devuser/.local/lib/python3.8/site-packages/docstring_inheritance/docstring_inheritors/bases/inheritor.py:329: DocstringInheritanceWarning: File /home/devuser/.local/lib/python3.8/site-packages/braindecode/models/sleep_stager_blanco_2020.py:50: in SleepStagerBlanco2020.__init__: section Parameters: the docstring for the argument 'n_groups' is missing.\n",
      "  self._warn(\n",
      "/home/devuser/.local/lib/python3.8/site-packages/docstring_inheritance/docstring_inheritors/bases/inheritor.py:329: DocstringInheritanceWarning: File /home/devuser/.local/lib/python3.8/site-packages/braindecode/models/sleep_stager_blanco_2020.py:50: in SleepStagerBlanco2020.__init__: section Parameters: the docstring for the argument 'max_pool_size' is missing.\n",
      "  self._warn(\n",
      "/home/devuser/.local/lib/python3.8/site-packages/docstring_inheritance/docstring_inheritors/bases/inheritor.py:329: DocstringInheritanceWarning: File /home/devuser/.local/lib/python3.8/site-packages/braindecode/models/sleep_stager_blanco_2020.py:50: in SleepStagerBlanco2020.__init__: section Parameters: the docstring for the argument 'dropout' is missing.\n",
      "  self._warn(\n",
      "/home/devuser/.local/lib/python3.8/site-packages/docstring_inheritance/docstring_inheritors/bases/inheritor.py:329: DocstringInheritanceWarning: File /home/devuser/.local/lib/python3.8/site-packages/braindecode/models/sleep_stager_blanco_2020.py:50: in SleepStagerBlanco2020.__init__: section Parameters: the docstring for the argument 'apply_batch_norm' is missing.\n",
      "  self._warn(\n",
      "/home/devuser/.local/lib/python3.8/site-packages/docstring_inheritance/docstring_inheritors/bases/inheritor.py:329: DocstringInheritanceWarning: File /home/devuser/.local/lib/python3.8/site-packages/braindecode/models/sleep_stager_blanco_2020.py:50: in SleepStagerBlanco2020.__init__: section Parameters: the docstring for the argument 'return_feats' is missing.\n",
      "  self._warn(\n",
      "/home/devuser/.local/lib/python3.8/site-packages/docstring_inheritance/docstring_inheritors/bases/inheritor.py:329: DocstringInheritanceWarning: File /home/devuser/.local/lib/python3.8/site-packages/braindecode/models/sleep_stager_blanco_2020.py:50: in SleepStagerBlanco2020.__init__: section Parameters: the docstring for the argument 'chs_info' is missing.\n",
      "  self._warn(\n",
      "/home/devuser/.local/lib/python3.8/site-packages/docstring_inheritance/docstring_inheritors/bases/inheritor.py:329: DocstringInheritanceWarning: File /home/devuser/.local/lib/python3.8/site-packages/braindecode/models/sleep_stager_blanco_2020.py:50: in SleepStagerBlanco2020.__init__: section Parameters: the docstring for the argument 'n_times' is missing.\n",
      "  self._warn(\n",
      "/home/devuser/.local/lib/python3.8/site-packages/docstring_inheritance/docstring_inheritors/bases/inheritor.py:329: DocstringInheritanceWarning: File /home/devuser/.local/lib/python3.8/site-packages/braindecode/models/sleep_stager_blanco_2020.py:50: in SleepStagerBlanco2020.__init__: section Parameters: the docstring for the argument 'n_channels' is missing.\n",
      "  self._warn(\n",
      "/home/devuser/.local/lib/python3.8/site-packages/docstring_inheritance/docstring_inheritors/bases/inheritor.py:329: DocstringInheritanceWarning: File /home/devuser/.local/lib/python3.8/site-packages/braindecode/models/sleep_stager_blanco_2020.py:50: in SleepStagerBlanco2020.__init__: section Parameters: the docstring for the argument 'n_classes' is missing.\n",
      "  self._warn(\n",
      "/home/devuser/.local/lib/python3.8/site-packages/docstring_inheritance/docstring_inheritors/bases/inheritor.py:329: DocstringInheritanceWarning: File /home/devuser/.local/lib/python3.8/site-packages/braindecode/models/sleep_stager_blanco_2020.py:50: in SleepStagerBlanco2020.__init__: section Parameters: the docstring for the argument 'input_size_s' is missing.\n",
      "  self._warn(\n",
      "/home/devuser/.local/lib/python3.8/site-packages/docstring_inheritance/docstring_inheritors/bases/inheritor.py:329: DocstringInheritanceWarning: File /home/devuser/.local/lib/python3.8/site-packages/braindecode/models/sleep_stager_blanco_2020.py:50: in SleepStagerBlanco2020.__init__: section Parameters: the docstring for the argument 'add_log_softmax' is missing.\n",
      "  self._warn(\n",
      "/home/devuser/.local/lib/python3.8/site-packages/docstring_inheritance/docstring_inheritors/bases/inheritor.py:329: DocstringInheritanceWarning: File /home/devuser/.local/lib/python3.8/site-packages/braindecode/models/sleep_stager_blanco_2020.py:144: in SleepStagerBlanco2020.forward: section Parameters: the docstring for the argument 'x' is missing.\n",
      "  self._warn(\n",
      "/home/devuser/.local/lib/python3.8/site-packages/docstring_inheritance/docstring_inheritors/bases/inheritor.py:329: DocstringInheritanceWarning: File /home/devuser/.local/lib/python3.8/site-packages/braindecode/models/sleep_stager_eldele_2021.py:70: in SleepStagerEldele2021.__init__: section Parameters: the docstring for the argument 'sfreq' is missing.\n",
      "  self._warn(\n",
      "/home/devuser/.local/lib/python3.8/site-packages/docstring_inheritance/docstring_inheritors/bases/inheritor.py:329: DocstringInheritanceWarning: File /home/devuser/.local/lib/python3.8/site-packages/braindecode/models/sleep_stager_eldele_2021.py:70: in SleepStagerEldele2021.__init__: section Parameters: the docstring for the argument 'n_tce' is missing.\n",
      "  self._warn(\n",
      "/home/devuser/.local/lib/python3.8/site-packages/docstring_inheritance/docstring_inheritors/bases/inheritor.py:329: DocstringInheritanceWarning: File /home/devuser/.local/lib/python3.8/site-packages/braindecode/models/sleep_stager_eldele_2021.py:70: in SleepStagerEldele2021.__init__: section Parameters: the docstring for the argument 'd_model' is missing.\n",
      "  self._warn(\n",
      "/home/devuser/.local/lib/python3.8/site-packages/docstring_inheritance/docstring_inheritors/bases/inheritor.py:329: DocstringInheritanceWarning: File /home/devuser/.local/lib/python3.8/site-packages/braindecode/models/sleep_stager_eldele_2021.py:70: in SleepStagerEldele2021.__init__: section Parameters: the docstring for the argument 'd_ff' is missing.\n",
      "  self._warn(\n",
      "/home/devuser/.local/lib/python3.8/site-packages/docstring_inheritance/docstring_inheritors/bases/inheritor.py:329: DocstringInheritanceWarning: File /home/devuser/.local/lib/python3.8/site-packages/braindecode/models/sleep_stager_eldele_2021.py:70: in SleepStagerEldele2021.__init__: section Parameters: the docstring for the argument 'n_attn_heads' is missing.\n",
      "  self._warn(\n",
      "/home/devuser/.local/lib/python3.8/site-packages/docstring_inheritance/docstring_inheritors/bases/inheritor.py:329: DocstringInheritanceWarning: File /home/devuser/.local/lib/python3.8/site-packages/braindecode/models/sleep_stager_eldele_2021.py:70: in SleepStagerEldele2021.__init__: section Parameters: the docstring for the argument 'dropout' is missing.\n",
      "  self._warn(\n",
      "/home/devuser/.local/lib/python3.8/site-packages/docstring_inheritance/docstring_inheritors/bases/inheritor.py:329: DocstringInheritanceWarning: File /home/devuser/.local/lib/python3.8/site-packages/braindecode/models/sleep_stager_eldele_2021.py:70: in SleepStagerEldele2021.__init__: section Parameters: the docstring for the argument 'input_window_seconds' is missing.\n",
      "  self._warn(\n",
      "/home/devuser/.local/lib/python3.8/site-packages/docstring_inheritance/docstring_inheritors/bases/inheritor.py:329: DocstringInheritanceWarning: File /home/devuser/.local/lib/python3.8/site-packages/braindecode/models/sleep_stager_eldele_2021.py:70: in SleepStagerEldele2021.__init__: section Parameters: the docstring for the argument 'n_outputs' is missing.\n",
      "  self._warn(\n",
      "/home/devuser/.local/lib/python3.8/site-packages/docstring_inheritance/docstring_inheritors/bases/inheritor.py:329: DocstringInheritanceWarning: File /home/devuser/.local/lib/python3.8/site-packages/braindecode/models/sleep_stager_eldele_2021.py:70: in SleepStagerEldele2021.__init__: section Parameters: the docstring for the argument 'after_reduced_cnn_size' is missing.\n",
      "  self._warn(\n",
      "/home/devuser/.local/lib/python3.8/site-packages/docstring_inheritance/docstring_inheritors/bases/inheritor.py:329: DocstringInheritanceWarning: File /home/devuser/.local/lib/python3.8/site-packages/braindecode/models/sleep_stager_eldele_2021.py:70: in SleepStagerEldele2021.__init__: section Parameters: the docstring for the argument 'return_feats' is missing.\n",
      "  self._warn(\n",
      "/home/devuser/.local/lib/python3.8/site-packages/docstring_inheritance/docstring_inheritors/bases/inheritor.py:329: DocstringInheritanceWarning: File /home/devuser/.local/lib/python3.8/site-packages/braindecode/models/sleep_stager_eldele_2021.py:70: in SleepStagerEldele2021.__init__: section Parameters: the docstring for the argument 'chs_info' is missing.\n",
      "  self._warn(\n",
      "/home/devuser/.local/lib/python3.8/site-packages/docstring_inheritance/docstring_inheritors/bases/inheritor.py:329: DocstringInheritanceWarning: File /home/devuser/.local/lib/python3.8/site-packages/braindecode/models/sleep_stager_eldele_2021.py:70: in SleepStagerEldele2021.__init__: section Parameters: the docstring for the argument 'n_chans' is missing.\n",
      "  self._warn(\n",
      "/home/devuser/.local/lib/python3.8/site-packages/docstring_inheritance/docstring_inheritors/bases/inheritor.py:329: DocstringInheritanceWarning: File /home/devuser/.local/lib/python3.8/site-packages/braindecode/models/sleep_stager_eldele_2021.py:70: in SleepStagerEldele2021.__init__: section Parameters: the docstring for the argument 'n_times' is missing.\n",
      "  self._warn(\n",
      "/home/devuser/.local/lib/python3.8/site-packages/docstring_inheritance/docstring_inheritors/bases/inheritor.py:329: DocstringInheritanceWarning: File /home/devuser/.local/lib/python3.8/site-packages/braindecode/models/sleep_stager_eldele_2021.py:70: in SleepStagerEldele2021.__init__: section Parameters: the docstring for the argument 'n_classes' is missing.\n",
      "  self._warn(\n",
      "/home/devuser/.local/lib/python3.8/site-packages/docstring_inheritance/docstring_inheritors/bases/inheritor.py:329: DocstringInheritanceWarning: File /home/devuser/.local/lib/python3.8/site-packages/braindecode/models/sleep_stager_eldele_2021.py:70: in SleepStagerEldele2021.__init__: section Parameters: the docstring for the argument 'input_size_s' is missing.\n",
      "  self._warn(\n",
      "/home/devuser/.local/lib/python3.8/site-packages/docstring_inheritance/docstring_inheritors/bases/inheritor.py:329: DocstringInheritanceWarning: File /home/devuser/.local/lib/python3.8/site-packages/braindecode/models/sleep_stager_eldele_2021.py:145: in SleepStagerEldele2021.forward: section Parameters: the docstring for the argument 'x' is missing.\n",
      "  self._warn(\n",
      "/home/devuser/.local/lib/python3.8/site-packages/docstring_inheritance/docstring_inheritors/bases/inheritor.py:329: DocstringInheritanceWarning: File /home/devuser/.local/lib/python3.8/site-packages/braindecode/models/tidnet.py:218: in TIDNet.__init__: section Parameters: the docstring for the argument 'n_chans' is missing.\n",
      "  self._warn(\n",
      "/home/devuser/.local/lib/python3.8/site-packages/docstring_inheritance/docstring_inheritors/bases/inheritor.py:329: DocstringInheritanceWarning: File /home/devuser/.local/lib/python3.8/site-packages/braindecode/models/tidnet.py:218: in TIDNet.__init__: section Parameters: the docstring for the argument 'n_outputs' is missing.\n",
      "  self._warn(\n",
      "/home/devuser/.local/lib/python3.8/site-packages/docstring_inheritance/docstring_inheritors/bases/inheritor.py:329: DocstringInheritanceWarning: File /home/devuser/.local/lib/python3.8/site-packages/braindecode/models/tidnet.py:218: in TIDNet.__init__: section Parameters: the docstring for the argument 'n_times' is missing.\n",
      "  self._warn(\n",
      "/home/devuser/.local/lib/python3.8/site-packages/docstring_inheritance/docstring_inheritors/bases/inheritor.py:329: DocstringInheritanceWarning: File /home/devuser/.local/lib/python3.8/site-packages/braindecode/models/tidnet.py:218: in TIDNet.__init__: section Parameters: the docstring for the argument 'in_chans' is missing.\n",
      "  self._warn(\n",
      "/home/devuser/.local/lib/python3.8/site-packages/docstring_inheritance/docstring_inheritors/bases/inheritor.py:329: DocstringInheritanceWarning: File /home/devuser/.local/lib/python3.8/site-packages/braindecode/models/tidnet.py:218: in TIDNet.__init__: section Parameters: the docstring for the argument 'n_classes' is missing.\n",
      "  self._warn(\n",
      "/home/devuser/.local/lib/python3.8/site-packages/docstring_inheritance/docstring_inheritors/bases/inheritor.py:329: DocstringInheritanceWarning: File /home/devuser/.local/lib/python3.8/site-packages/braindecode/models/tidnet.py:218: in TIDNet.__init__: section Parameters: the docstring for the argument 'input_window_samples' is missing.\n",
      "  self._warn(\n",
      "/home/devuser/.local/lib/python3.8/site-packages/docstring_inheritance/docstring_inheritors/bases/inheritor.py:329: DocstringInheritanceWarning: File /home/devuser/.local/lib/python3.8/site-packages/braindecode/models/tidnet.py:218: in TIDNet.__init__: section Parameters: the docstring for the argument 's_growth' is missing.\n",
      "  self._warn(\n",
      "/home/devuser/.local/lib/python3.8/site-packages/docstring_inheritance/docstring_inheritors/bases/inheritor.py:329: DocstringInheritanceWarning: File /home/devuser/.local/lib/python3.8/site-packages/braindecode/models/tidnet.py:218: in TIDNet.__init__: section Parameters: the docstring for the argument 't_filters' is missing.\n",
      "  self._warn(\n",
      "/home/devuser/.local/lib/python3.8/site-packages/docstring_inheritance/docstring_inheritors/bases/inheritor.py:329: DocstringInheritanceWarning: File /home/devuser/.local/lib/python3.8/site-packages/braindecode/models/tidnet.py:218: in TIDNet.__init__: section Parameters: the docstring for the argument 'drop_prob' is missing.\n",
      "  self._warn(\n",
      "/home/devuser/.local/lib/python3.8/site-packages/docstring_inheritance/docstring_inheritors/bases/inheritor.py:329: DocstringInheritanceWarning: File /home/devuser/.local/lib/python3.8/site-packages/braindecode/models/tidnet.py:218: in TIDNet.__init__: section Parameters: the docstring for the argument 'pooling' is missing.\n",
      "  self._warn(\n",
      "/home/devuser/.local/lib/python3.8/site-packages/docstring_inheritance/docstring_inheritors/bases/inheritor.py:329: DocstringInheritanceWarning: File /home/devuser/.local/lib/python3.8/site-packages/braindecode/models/tidnet.py:218: in TIDNet.__init__: section Parameters: the docstring for the argument 'temp_layers' is missing.\n",
      "  self._warn(\n",
      "/home/devuser/.local/lib/python3.8/site-packages/docstring_inheritance/docstring_inheritors/bases/inheritor.py:329: DocstringInheritanceWarning: File /home/devuser/.local/lib/python3.8/site-packages/braindecode/models/tidnet.py:218: in TIDNet.__init__: section Parameters: the docstring for the argument 'spat_layers' is missing.\n",
      "  self._warn(\n",
      "/home/devuser/.local/lib/python3.8/site-packages/docstring_inheritance/docstring_inheritors/bases/inheritor.py:329: DocstringInheritanceWarning: File /home/devuser/.local/lib/python3.8/site-packages/braindecode/models/tidnet.py:218: in TIDNet.__init__: section Parameters: the docstring for the argument 'temp_span' is missing.\n",
      "  self._warn(\n",
      "/home/devuser/.local/lib/python3.8/site-packages/docstring_inheritance/docstring_inheritors/bases/inheritor.py:329: DocstringInheritanceWarning: File /home/devuser/.local/lib/python3.8/site-packages/braindecode/models/tidnet.py:218: in TIDNet.__init__: section Parameters: the docstring for the argument 'bottleneck' is missing.\n",
      "  self._warn(\n",
      "/home/devuser/.local/lib/python3.8/site-packages/docstring_inheritance/docstring_inheritors/bases/inheritor.py:329: DocstringInheritanceWarning: File /home/devuser/.local/lib/python3.8/site-packages/braindecode/models/tidnet.py:218: in TIDNet.__init__: section Parameters: the docstring for the argument 'summary' is missing.\n",
      "  self._warn(\n",
      "/home/devuser/.local/lib/python3.8/site-packages/docstring_inheritance/docstring_inheritors/bases/inheritor.py:329: DocstringInheritanceWarning: File /home/devuser/.local/lib/python3.8/site-packages/braindecode/models/tidnet.py:218: in TIDNet.__init__: section Parameters: the docstring for the argument 'add_log_softmax' is missing.\n",
      "  self._warn(\n",
      "/home/devuser/.local/lib/python3.8/site-packages/docstring_inheritance/docstring_inheritors/bases/inheritor.py:329: DocstringInheritanceWarning: File /home/devuser/.local/lib/python3.8/site-packages/braindecode/models/tidnet.py:267: in TIDNet.forward: section Parameters: the docstring for the argument 'x' is missing.\n",
      "  self._warn(\n",
      "/home/devuser/.local/lib/python3.8/site-packages/docstring_inheritance/docstring_inheritors/bases/inheritor.py:329: DocstringInheritanceWarning: File /home/devuser/.local/lib/python3.8/site-packages/braindecode/models/usleep.py:166: in USleep.__init__: section Parameters: the docstring for the argument 'n_chans' is missing.\n",
      "  self._warn(\n",
      "/home/devuser/.local/lib/python3.8/site-packages/docstring_inheritance/docstring_inheritors/bases/inheritor.py:329: DocstringInheritanceWarning: File /home/devuser/.local/lib/python3.8/site-packages/braindecode/models/usleep.py:166: in USleep.__init__: section Parameters: the docstring for the argument 'sfreq' is missing.\n",
      "  self._warn(\n",
      "/home/devuser/.local/lib/python3.8/site-packages/docstring_inheritance/docstring_inheritors/bases/inheritor.py:329: DocstringInheritanceWarning: File /home/devuser/.local/lib/python3.8/site-packages/braindecode/models/usleep.py:166: in USleep.__init__: section Parameters: the docstring for the argument 'depth' is missing.\n",
      "  self._warn(\n",
      "/home/devuser/.local/lib/python3.8/site-packages/docstring_inheritance/docstring_inheritors/bases/inheritor.py:329: DocstringInheritanceWarning: File /home/devuser/.local/lib/python3.8/site-packages/braindecode/models/usleep.py:166: in USleep.__init__: section Parameters: the docstring for the argument 'n_time_filters' is missing.\n",
      "  self._warn(\n",
      "/home/devuser/.local/lib/python3.8/site-packages/docstring_inheritance/docstring_inheritors/bases/inheritor.py:329: DocstringInheritanceWarning: File /home/devuser/.local/lib/python3.8/site-packages/braindecode/models/usleep.py:166: in USleep.__init__: section Parameters: the docstring for the argument 'complexity_factor' is missing.\n",
      "  self._warn(\n",
      "/home/devuser/.local/lib/python3.8/site-packages/docstring_inheritance/docstring_inheritors/bases/inheritor.py:329: DocstringInheritanceWarning: File /home/devuser/.local/lib/python3.8/site-packages/braindecode/models/usleep.py:166: in USleep.__init__: section Parameters: the docstring for the argument 'with_skip_connection' is missing.\n",
      "  self._warn(\n",
      "/home/devuser/.local/lib/python3.8/site-packages/docstring_inheritance/docstring_inheritors/bases/inheritor.py:329: DocstringInheritanceWarning: File /home/devuser/.local/lib/python3.8/site-packages/braindecode/models/usleep.py:166: in USleep.__init__: section Parameters: the docstring for the argument 'n_outputs' is missing.\n",
      "  self._warn(\n",
      "/home/devuser/.local/lib/python3.8/site-packages/docstring_inheritance/docstring_inheritors/bases/inheritor.py:329: DocstringInheritanceWarning: File /home/devuser/.local/lib/python3.8/site-packages/braindecode/models/usleep.py:166: in USleep.__init__: section Parameters: the docstring for the argument 'input_window_seconds' is missing.\n",
      "  self._warn(\n",
      "/home/devuser/.local/lib/python3.8/site-packages/docstring_inheritance/docstring_inheritors/bases/inheritor.py:329: DocstringInheritanceWarning: File /home/devuser/.local/lib/python3.8/site-packages/braindecode/models/usleep.py:166: in USleep.__init__: section Parameters: the docstring for the argument 'time_conv_size_s' is missing.\n",
      "  self._warn(\n",
      "/home/devuser/.local/lib/python3.8/site-packages/docstring_inheritance/docstring_inheritors/bases/inheritor.py:329: DocstringInheritanceWarning: File /home/devuser/.local/lib/python3.8/site-packages/braindecode/models/usleep.py:166: in USleep.__init__: section Parameters: the docstring for the argument 'ensure_odd_conv_size' is missing.\n",
      "  self._warn(\n",
      "/home/devuser/.local/lib/python3.8/site-packages/docstring_inheritance/docstring_inheritors/bases/inheritor.py:329: DocstringInheritanceWarning: File /home/devuser/.local/lib/python3.8/site-packages/braindecode/models/usleep.py:166: in USleep.__init__: section Parameters: the docstring for the argument 'chs_info' is missing.\n",
      "  self._warn(\n",
      "/home/devuser/.local/lib/python3.8/site-packages/docstring_inheritance/docstring_inheritors/bases/inheritor.py:329: DocstringInheritanceWarning: File /home/devuser/.local/lib/python3.8/site-packages/braindecode/models/usleep.py:166: in USleep.__init__: section Parameters: the docstring for the argument 'n_times' is missing.\n",
      "  self._warn(\n",
      "/home/devuser/.local/lib/python3.8/site-packages/docstring_inheritance/docstring_inheritors/bases/inheritor.py:329: DocstringInheritanceWarning: File /home/devuser/.local/lib/python3.8/site-packages/braindecode/models/usleep.py:166: in USleep.__init__: section Parameters: the docstring for the argument 'in_chans' is missing.\n",
      "  self._warn(\n",
      "/home/devuser/.local/lib/python3.8/site-packages/docstring_inheritance/docstring_inheritors/bases/inheritor.py:329: DocstringInheritanceWarning: File /home/devuser/.local/lib/python3.8/site-packages/braindecode/models/usleep.py:166: in USleep.__init__: section Parameters: the docstring for the argument 'n_classes' is missing.\n",
      "  self._warn(\n",
      "/home/devuser/.local/lib/python3.8/site-packages/docstring_inheritance/docstring_inheritors/bases/inheritor.py:329: DocstringInheritanceWarning: File /home/devuser/.local/lib/python3.8/site-packages/braindecode/models/usleep.py:166: in USleep.__init__: section Parameters: the docstring for the argument 'input_size_s' is missing.\n",
      "  self._warn(\n",
      "/home/devuser/.local/lib/python3.8/site-packages/docstring_inheritance/docstring_inheritors/bases/inheritor.py:329: DocstringInheritanceWarning: File /home/devuser/.local/lib/python3.8/site-packages/braindecode/models/usleep.py:166: in USleep.__init__: section Parameters: the docstring for the argument 'add_log_softmax' is missing.\n",
      "  self._warn(\n",
      "/home/devuser/.local/lib/python3.8/site-packages/docstring_inheritance/docstring_inheritors/bases/inheritor.py:329: DocstringInheritanceWarning: File /home/devuser/.local/lib/python3.8/site-packages/braindecode/models/usleep.py:297: in USleep.forward: section Parameters: the docstring for the argument 'x' is missing.\n",
      "  self._warn(\n",
      "/home/devuser/.local/lib/python3.8/site-packages/braindecode/datautil/preprocess.py:10: UserWarning: datautil.preprocess module is deprecated and is now under preprocessing.preprocess, please use from import braindecode.preprocessing.preprocess\n",
      "  warn('datautil.preprocess module is deprecated and is now under '\n"
     ]
    }
   ],
   "source": [
    "import os, yaml\n",
    "from easydict import EasyDict\n",
    "import pickle\n",
    "import hashlib\n",
    "from datetime import datetime\n",
    "\n",
    "import torch\n",
    "from torch.utils.data import DataLoader\n",
    "\n",
    "from sklearn.model_selection import KFold\n",
    "\n",
    "from dataloader.bci_compet import get_dataset\n",
    "from dataloader.bci_compet import BCICompet2aIV\n",
    "\n",
    "from model.litmodel import get_litmodel\n",
    "from pytorch_lightning.loggers import TensorBoardLogger\n",
    "\n",
    "from pytorch_lightning import Trainer, seed_everything\n",
    "\n",
    "\n",
    "from utils.setup_utils import (\n",
    "    get_device,\n",
    "    get_log_name,\n",
    ")\n",
    "from utils.training_utils import get_callbacks\n",
    "\n",
    "%load_ext autoreload\n",
    "%autoreload 2"
   ]
  },
  {
   "cell_type": "code",
   "execution_count": 3,
   "metadata": {},
   "outputs": [],
   "source": [
    "CACHE_ROOT = 'cache'\n",
    "\n",
    "config_name = 'bcicompet2a_config'\n",
    "return_subject_id = False\n",
    "\n",
    "with open(f'configs/{config_name}.yaml') as file:\n",
    "    config = yaml.load(file, Loader=yaml.FullLoader)\n",
    "    args = EasyDict(config)\n",
    "\n",
    "def hash(config):\n",
    "    return 'base'\n",
    "    config_string = str(sorted(config.items())).encode()\n",
    "    return hashlib.sha256(config_string).hexdigest()[:8]\n",
    "config_hash = hash(config)"
   ]
  },
  {
   "cell_type": "code",
   "execution_count": 4,
   "metadata": {},
   "outputs": [
    {
     "name": "stdout",
     "output_type": "stream",
     "text": [
      "Loading cache\n"
     ]
    }
   ],
   "source": [
    "def load_dataset(args, return_subject_id=False):\n",
    "    datasets = {}\n",
    "    for subject_id in range(0,9):\n",
    "        args['target_subject'] = subject_id\n",
    "        datasets[subject_id] = BCICompet2aIV(args, return_subject_id=return_subject_id)\n",
    "    return datasets\n",
    "\n",
    "hash_path = os.path.join(CACHE_ROOT, f'{config_name}_{config_hash}_{str(int(return_subject_id))}.pkl')\n",
    "\n",
    "if not os.path.isfile(hash_path):\n",
    "    print('Cache miss, generating cache')\n",
    "    datasets = load_dataset(args, return_subject_id=return_subject_id)\n",
    "    with open(hash_path, 'wb') as file:\n",
    "        pickle.dump(datasets, file)\n",
    "else:\n",
    "    print('Loading cache')\n",
    "    with open(hash_path, 'rb') as file:\n",
    "        datasets = pickle.load(file)"
   ]
  },
  {
   "cell_type": "code",
   "execution_count": 5,
   "metadata": {},
   "outputs": [
    {
     "name": "stderr",
     "output_type": "stream",
     "text": [
      "Seed set to 42\n"
     ]
    },
    {
     "name": "stdout",
     "output_type": "stream",
     "text": [
      "LOG >>> Log name: \n",
      "\t20231130_task_BCICompet2a_batch_512_lr_0.002_Baseline\n"
     ]
    },
    {
     "data": {
      "text/plain": [
       "42"
      ]
     },
     "execution_count": 5,
     "metadata": {},
     "output_type": "execute_result"
    }
   ],
   "source": [
    "#### Set Log ####\n",
    "args['current_time'] = datetime.now().strftime('%Y%m%d')\n",
    "args['LOG_NAME'] = get_log_name(args)\n",
    "\n",
    "#### Update configs ####\n",
    "if args.downsampling != 0: args['sampling_rate'] = args.downsampling\n",
    "\n",
    "seed_everything(args.SEED)\n"
   ]
  },
  {
   "cell_type": "code",
   "execution_count": 6,
   "metadata": {},
   "outputs": [
    {
     "name": "stdout",
     "output_type": "stream",
     "text": [
      "Subject 0 has 288 trials\n",
      "Subject 1 has 288 trials\n",
      "Subject 2 has 288 trials\n",
      "Subject 3 has 288 trials\n",
      "Subject 4 has 288 trials\n",
      "Subject 5 has 288 trials\n",
      "Subject 6 has 288 trials\n",
      "Subject 7 has 288 trials\n",
      "Subject 8 has 288 trials\n"
     ]
    }
   ],
   "source": [
    "for subject_id in datasets.keys(): \n",
    "    print(f\"Subject {subject_id} has {len(datasets[subject_id])} trials\")"
   ]
  },
  {
   "cell_type": "code",
   "execution_count": 7,
   "metadata": {},
   "outputs": [
    {
     "data": {
      "text/plain": [
       "(2160, 432)"
      ]
     },
     "execution_count": 7,
     "metadata": {},
     "output_type": "execute_result"
    }
   ],
   "source": [
    "train_size = 240\n",
    "val_size = 48\n",
    "\n",
    "\n",
    "train_datasets = {}\n",
    "val_datasets = {}\n",
    "for subject_id in datasets.keys():\n",
    "    train_datasets[subject_id] = torch.utils.data.Subset(datasets[subject_id], range(train_size))\n",
    "    val_datasets[subject_id] = torch.utils.data.Subset(datasets[subject_id], range(train_size, train_size+val_size))\n",
    "\n",
    "\n",
    "train_dataset_all = torch.utils.data.ConcatDataset(list(train_datasets.values()))\n",
    "val_dataset_all = torch.utils.data.ConcatDataset(list(val_datasets.values()))\n",
    "len(train_dataset_all), len(val_dataset_all)"
   ]
  },
  {
   "cell_type": "code",
   "execution_count": 8,
   "metadata": {},
   "outputs": [],
   "source": [
    "train_dataloader_all = DataLoader(train_dataset_all, batch_size=args['batch_size'], shuffle=True, num_workers=0, persistent_workers=False)\n",
    "val_dataloader_all = DataLoader(val_dataset_all, batch_size=args['batch_size'], shuffle=False, num_workers=0, persistent_workers=False)"
   ]
  },
  {
   "cell_type": "code",
   "execution_count": 9,
   "metadata": {},
   "outputs": [
    {
     "name": "stderr",
     "output_type": "stream",
     "text": [
      "/usr/local/lib/python3.8/dist-packages/torch/nn/modules/lazy.py:180: UserWarning: Lazy modules are a new feature under heavy development so changes to the API or functionality can happen at any moment.\n",
      "  warnings.warn('Lazy modules are a new feature under heavy development '\n"
     ]
    }
   ],
   "source": [
    "model = get_litmodel(args)"
   ]
  },
  {
   "cell_type": "code",
   "execution_count": 10,
   "metadata": {},
   "outputs": [],
   "source": [
    "logger = TensorBoardLogger(args.LOG_PATH, \n",
    "                                    name='all_baseline')"
   ]
  },
  {
   "cell_type": "code",
   "execution_count": 11,
   "metadata": {},
   "outputs": [],
   "source": [
    "callbacks = get_callbacks(monitor='val_loss', args=args)"
   ]
  },
  {
   "cell_type": "code",
   "execution_count": 12,
   "metadata": {},
   "outputs": [
    {
     "name": "stderr",
     "output_type": "stream",
     "text": [
      "GPU available: True (cuda), used: True\n",
      "TPU available: False, using: 0 TPU cores\n",
      "IPU available: False, using: 0 IPUs\n",
      "HPU available: False, using: 0 HPUs\n"
     ]
    }
   ],
   "source": [
    "trainer = Trainer(\n",
    "            max_epochs=args['EPOCHS'],\n",
    "            callbacks=callbacks,\n",
    "            default_root_dir=args.CKPT_PATH,\n",
    "            logger=logger,\n",
    "        )"
   ]
  },
  {
   "cell_type": "code",
   "execution_count": 13,
   "metadata": {},
   "outputs": [
    {
     "name": "stderr",
     "output_type": "stream",
     "text": [
      "You are using a CUDA device ('NVIDIA GeForce RTX 4070 Ti') that has Tensor Cores. To properly utilize them, you should set `torch.set_float32_matmul_precision('medium' | 'high')` which will trade-off precision for performance. For more details, read https://pytorch.org/docs/stable/generated/torch.set_float32_matmul_precision.html#torch.set_float32_matmul_precision\n",
      "/home/devuser/.local/lib/python3.8/site-packages/pytorch_lightning/callbacks/model_checkpoint.py:639: Checkpoint directory /work/Nemes/m-shallowconvnet/checkpoints/20231130_task_BCICompet2a_batch_512_lr_0.002_Baseline exists and is not empty.\n",
      "LOCAL_RANK: 0 - CUDA_VISIBLE_DEVICES: [0]\n",
      "/home/devuser/.local/lib/python3.8/site-packages/pytorch_lightning/core/optimizer.py:256: Found unsupported keys in the lr scheduler dict: {'internal'}. HINT: remove them from the output of `configure_optimizers`.\n",
      "/home/devuser/.local/lib/python3.8/site-packages/pytorch_lightning/utilities/model_summary/model_summary.py:452: A layer with UninitializedParameter was found. Thus, the total number of parameters detected may be inaccurate.\n",
      "\n",
      "  | Name      | Type             | Params\n",
      "-----------------------------------------------\n",
      "0 | model     | Net              | 13.5 K\n",
      "1 | criterion | CrossEntropyLoss | 0     \n",
      "-----------------------------------------------\n",
      "13.5 K    Trainable params\n",
      "0         Non-trainable params\n",
      "13.5 K    Total params\n",
      "0.054     Total estimated model params size (MB)\n"
     ]
    },
    {
     "data": {
      "application/vnd.jupyter.widget-view+json": {
       "model_id": "6f4f1811081d42cd93a0a6a1a974a90f",
       "version_major": 2,
       "version_minor": 0
      },
      "text/plain": [
       "  0%|          | 0/500 [00:00<?, ?it/s]"
      ]
     },
     "metadata": {},
     "output_type": "display_data"
    },
    {
     "data": {
      "application/vnd.jupyter.widget-view+json": {
       "model_id": "47e0db3830dc4c5d8fb1f267eecf4608",
       "version_major": 2,
       "version_minor": 0
      },
      "text/plain": [
       "Sanity Checking: |          | 0/? [00:00<?, ?it/s]"
      ]
     },
     "metadata": {},
     "output_type": "display_data"
    },
    {
     "name": "stderr",
     "output_type": "stream",
     "text": [
      "/home/devuser/.local/lib/python3.8/site-packages/pytorch_lightning/trainer/connectors/data_connector.py:441: The 'val_dataloader' does not have many workers which may be a bottleneck. Consider increasing the value of the `num_workers` argument` to `num_workers=31` in the `DataLoader` to improve performance.\n",
      "/usr/local/lib/python3.8/dist-packages/torch/nn/modules/conv.py:459: UserWarning: Using padding='same' with even kernel lengths and odd dilation may require a zero-padded copy of the input be created (Triggered internally at ../aten/src/ATen/native/Convolution.cpp:1003.)\n",
      "  return F.conv2d(input, weight, bias, self.stride,\n",
      "/home/devuser/.local/lib/python3.8/site-packages/pytorch_lightning/trainer/connectors/data_connector.py:441: The 'train_dataloader' does not have many workers which may be a bottleneck. Consider increasing the value of the `num_workers` argument` to `num_workers=31` in the `DataLoader` to improve performance.\n",
      "/home/devuser/.local/lib/python3.8/site-packages/pytorch_lightning/loops/fit_loop.py:293: The number of training batches (5) is smaller than the logging interval Trainer(log_every_n_steps=50). Set a lower value for log_every_n_steps if you want to see logs for the training epoch.\n"
     ]
    },
    {
     "data": {
      "application/vnd.jupyter.widget-view+json": {
       "model_id": "8c299119e99c4b0f8520e2cfeced58b1",
       "version_major": 2,
       "version_minor": 0
      },
      "text/plain": [
       "Training: |          | 0/? [00:00<?, ?it/s]"
      ]
     },
     "metadata": {},
     "output_type": "display_data"
    },
    {
     "data": {
      "application/vnd.jupyter.widget-view+json": {
       "model_id": "9578b3d79a324afeac964b516e5c0848",
       "version_major": 2,
       "version_minor": 0
      },
      "text/plain": [
       "Validation: |          | 0/? [00:00<?, ?it/s]"
      ]
     },
     "metadata": {},
     "output_type": "display_data"
    },
    {
     "data": {
      "application/vnd.jupyter.widget-view+json": {
       "model_id": "aee8cbe3a5104cc3975155ad2361e221",
       "version_major": 2,
       "version_minor": 0
      },
      "text/plain": [
       "Validation: |          | 0/? [00:00<?, ?it/s]"
      ]
     },
     "metadata": {},
     "output_type": "display_data"
    },
    {
     "data": {
      "application/vnd.jupyter.widget-view+json": {
       "model_id": "c022b7b702e044f09dbeb70062e107c5",
       "version_major": 2,
       "version_minor": 0
      },
      "text/plain": [
       "Validation: |          | 0/? [00:00<?, ?it/s]"
      ]
     },
     "metadata": {},
     "output_type": "display_data"
    },
    {
     "data": {
      "application/vnd.jupyter.widget-view+json": {
       "model_id": "8cc3717c2f674a28824ba1e401fd54ff",
       "version_major": 2,
       "version_minor": 0
      },
      "text/plain": [
       "Validation: |          | 0/? [00:00<?, ?it/s]"
      ]
     },
     "metadata": {},
     "output_type": "display_data"
    },
    {
     "data": {
      "application/vnd.jupyter.widget-view+json": {
       "model_id": "9ced6ec3cc5142b891763270508eed39",
       "version_major": 2,
       "version_minor": 0
      },
      "text/plain": [
       "Validation: |          | 0/? [00:00<?, ?it/s]"
      ]
     },
     "metadata": {},
     "output_type": "display_data"
    },
    {
     "data": {
      "application/vnd.jupyter.widget-view+json": {
       "model_id": "9835610ed9084e3bbbf3fb2edc4c4f85",
       "version_major": 2,
       "version_minor": 0
      },
      "text/plain": [
       "Validation: |          | 0/? [00:00<?, ?it/s]"
      ]
     },
     "metadata": {},
     "output_type": "display_data"
    },
    {
     "data": {
      "application/vnd.jupyter.widget-view+json": {
       "model_id": "7f2fae8235a5477d89ef35422f03ee5e",
       "version_major": 2,
       "version_minor": 0
      },
      "text/plain": [
       "Validation: |          | 0/? [00:00<?, ?it/s]"
      ]
     },
     "metadata": {},
     "output_type": "display_data"
    },
    {
     "data": {
      "application/vnd.jupyter.widget-view+json": {
       "model_id": "6fcbf609d2fa4861a22f9e5f4d95aaa9",
       "version_major": 2,
       "version_minor": 0
      },
      "text/plain": [
       "Validation: |          | 0/? [00:00<?, ?it/s]"
      ]
     },
     "metadata": {},
     "output_type": "display_data"
    },
    {
     "data": {
      "application/vnd.jupyter.widget-view+json": {
       "model_id": "310f44976b27472d8f68d7b5c545cf38",
       "version_major": 2,
       "version_minor": 0
      },
      "text/plain": [
       "Validation: |          | 0/? [00:00<?, ?it/s]"
      ]
     },
     "metadata": {},
     "output_type": "display_data"
    },
    {
     "data": {
      "application/vnd.jupyter.widget-view+json": {
       "model_id": "8a06bc9963fb4f84920eca22b4804097",
       "version_major": 2,
       "version_minor": 0
      },
      "text/plain": [
       "Validation: |          | 0/? [00:00<?, ?it/s]"
      ]
     },
     "metadata": {},
     "output_type": "display_data"
    },
    {
     "data": {
      "application/vnd.jupyter.widget-view+json": {
       "model_id": "f4799949c8ea45a78aec93102a464b19",
       "version_major": 2,
       "version_minor": 0
      },
      "text/plain": [
       "Validation: |          | 0/? [00:00<?, ?it/s]"
      ]
     },
     "metadata": {},
     "output_type": "display_data"
    },
    {
     "data": {
      "application/vnd.jupyter.widget-view+json": {
       "model_id": "c298a4ce52c4455098aadbdedfc9e969",
       "version_major": 2,
       "version_minor": 0
      },
      "text/plain": [
       "Validation: |          | 0/? [00:00<?, ?it/s]"
      ]
     },
     "metadata": {},
     "output_type": "display_data"
    },
    {
     "data": {
      "application/vnd.jupyter.widget-view+json": {
       "model_id": "fb1ea3a996444533b8627b3ae821f012",
       "version_major": 2,
       "version_minor": 0
      },
      "text/plain": [
       "Validation: |          | 0/? [00:00<?, ?it/s]"
      ]
     },
     "metadata": {},
     "output_type": "display_data"
    },
    {
     "data": {
      "application/vnd.jupyter.widget-view+json": {
       "model_id": "1a14e538c1034d5bb979f83edb906d01",
       "version_major": 2,
       "version_minor": 0
      },
      "text/plain": [
       "Validation: |          | 0/? [00:00<?, ?it/s]"
      ]
     },
     "metadata": {},
     "output_type": "display_data"
    },
    {
     "data": {
      "application/vnd.jupyter.widget-view+json": {
       "model_id": "ea4819d5edb64ba1a7b4a294ef93634f",
       "version_major": 2,
       "version_minor": 0
      },
      "text/plain": [
       "Validation: |          | 0/? [00:00<?, ?it/s]"
      ]
     },
     "metadata": {},
     "output_type": "display_data"
    },
    {
     "data": {
      "application/vnd.jupyter.widget-view+json": {
       "model_id": "258cea4c61714f5897be8af36248104e",
       "version_major": 2,
       "version_minor": 0
      },
      "text/plain": [
       "Validation: |          | 0/? [00:00<?, ?it/s]"
      ]
     },
     "metadata": {},
     "output_type": "display_data"
    },
    {
     "data": {
      "application/vnd.jupyter.widget-view+json": {
       "model_id": "65b194c193d14d9485dc5bc1fd7162f4",
       "version_major": 2,
       "version_minor": 0
      },
      "text/plain": [
       "Validation: |          | 0/? [00:00<?, ?it/s]"
      ]
     },
     "metadata": {},
     "output_type": "display_data"
    },
    {
     "data": {
      "application/vnd.jupyter.widget-view+json": {
       "model_id": "65f48d3411f1479180293b69c4ded1f3",
       "version_major": 2,
       "version_minor": 0
      },
      "text/plain": [
       "Validation: |          | 0/? [00:00<?, ?it/s]"
      ]
     },
     "metadata": {},
     "output_type": "display_data"
    },
    {
     "data": {
      "application/vnd.jupyter.widget-view+json": {
       "model_id": "efae4ff540574057b8547e08a88c2284",
       "version_major": 2,
       "version_minor": 0
      },
      "text/plain": [
       "Validation: |          | 0/? [00:00<?, ?it/s]"
      ]
     },
     "metadata": {},
     "output_type": "display_data"
    },
    {
     "data": {
      "application/vnd.jupyter.widget-view+json": {
       "model_id": "38d56ac6587f49ab936e0471760f8647",
       "version_major": 2,
       "version_minor": 0
      },
      "text/plain": [
       "Validation: |          | 0/? [00:00<?, ?it/s]"
      ]
     },
     "metadata": {},
     "output_type": "display_data"
    },
    {
     "data": {
      "application/vnd.jupyter.widget-view+json": {
       "model_id": "4c4cd33ab6c4406887591d99a758edfc",
       "version_major": 2,
       "version_minor": 0
      },
      "text/plain": [
       "Validation: |          | 0/? [00:00<?, ?it/s]"
      ]
     },
     "metadata": {},
     "output_type": "display_data"
    },
    {
     "data": {
      "application/vnd.jupyter.widget-view+json": {
       "model_id": "1c9d1c6e541f4700b6c0e7f090009c01",
       "version_major": 2,
       "version_minor": 0
      },
      "text/plain": [
       "Validation: |          | 0/? [00:00<?, ?it/s]"
      ]
     },
     "metadata": {},
     "output_type": "display_data"
    },
    {
     "data": {
      "application/vnd.jupyter.widget-view+json": {
       "model_id": "ce31b1441e79481ea81a9daffad5896a",
       "version_major": 2,
       "version_minor": 0
      },
      "text/plain": [
       "Validation: |          | 0/? [00:00<?, ?it/s]"
      ]
     },
     "metadata": {},
     "output_type": "display_data"
    },
    {
     "data": {
      "application/vnd.jupyter.widget-view+json": {
       "model_id": "d5bf3a2dc14340fab3faf5ced055d616",
       "version_major": 2,
       "version_minor": 0
      },
      "text/plain": [
       "Validation: |          | 0/? [00:00<?, ?it/s]"
      ]
     },
     "metadata": {},
     "output_type": "display_data"
    },
    {
     "data": {
      "application/vnd.jupyter.widget-view+json": {
       "model_id": "a2271fffb5d6475a9ddab2c3d9f71bc3",
       "version_major": 2,
       "version_minor": 0
      },
      "text/plain": [
       "Validation: |          | 0/? [00:00<?, ?it/s]"
      ]
     },
     "metadata": {},
     "output_type": "display_data"
    },
    {
     "data": {
      "application/vnd.jupyter.widget-view+json": {
       "model_id": "6102eb721a5041f4b29c15fd5ad58fd1",
       "version_major": 2,
       "version_minor": 0
      },
      "text/plain": [
       "Validation: |          | 0/? [00:00<?, ?it/s]"
      ]
     },
     "metadata": {},
     "output_type": "display_data"
    },
    {
     "data": {
      "application/vnd.jupyter.widget-view+json": {
       "model_id": "fc68d96ee1ac4ef7959522e544a9594a",
       "version_major": 2,
       "version_minor": 0
      },
      "text/plain": [
       "Validation: |          | 0/? [00:00<?, ?it/s]"
      ]
     },
     "metadata": {},
     "output_type": "display_data"
    },
    {
     "data": {
      "application/vnd.jupyter.widget-view+json": {
       "model_id": "9d90457722894be785d02edb0fe5a6d5",
       "version_major": 2,
       "version_minor": 0
      },
      "text/plain": [
       "Validation: |          | 0/? [00:00<?, ?it/s]"
      ]
     },
     "metadata": {},
     "output_type": "display_data"
    },
    {
     "data": {
      "application/vnd.jupyter.widget-view+json": {
       "model_id": "b35abf8c961549749c65493e47639dc2",
       "version_major": 2,
       "version_minor": 0
      },
      "text/plain": [
       "Validation: |          | 0/? [00:00<?, ?it/s]"
      ]
     },
     "metadata": {},
     "output_type": "display_data"
    },
    {
     "data": {
      "application/vnd.jupyter.widget-view+json": {
       "model_id": "73c00b3f39f64617830fdd10377dceb0",
       "version_major": 2,
       "version_minor": 0
      },
      "text/plain": [
       "Validation: |          | 0/? [00:00<?, ?it/s]"
      ]
     },
     "metadata": {},
     "output_type": "display_data"
    },
    {
     "data": {
      "application/vnd.jupyter.widget-view+json": {
       "model_id": "c6a68ff2fed54aa18cbc006cd68cadaf",
       "version_major": 2,
       "version_minor": 0
      },
      "text/plain": [
       "Validation: |          | 0/? [00:00<?, ?it/s]"
      ]
     },
     "metadata": {},
     "output_type": "display_data"
    },
    {
     "data": {
      "application/vnd.jupyter.widget-view+json": {
       "model_id": "bcf3717683b64011b71a907613cfcf91",
       "version_major": 2,
       "version_minor": 0
      },
      "text/plain": [
       "Validation: |          | 0/? [00:00<?, ?it/s]"
      ]
     },
     "metadata": {},
     "output_type": "display_data"
    },
    {
     "data": {
      "application/vnd.jupyter.widget-view+json": {
       "model_id": "13611227f9054aefa0e58c1bce4ef914",
       "version_major": 2,
       "version_minor": 0
      },
      "text/plain": [
       "Validation: |          | 0/? [00:00<?, ?it/s]"
      ]
     },
     "metadata": {},
     "output_type": "display_data"
    },
    {
     "data": {
      "application/vnd.jupyter.widget-view+json": {
       "model_id": "fef314c55ed7460f87c40f368cb2fc74",
       "version_major": 2,
       "version_minor": 0
      },
      "text/plain": [
       "Validation: |          | 0/? [00:00<?, ?it/s]"
      ]
     },
     "metadata": {},
     "output_type": "display_data"
    },
    {
     "data": {
      "application/vnd.jupyter.widget-view+json": {
       "model_id": "19396d41f3ac409c86d13ba51b3ef10a",
       "version_major": 2,
       "version_minor": 0
      },
      "text/plain": [
       "Validation: |          | 0/? [00:00<?, ?it/s]"
      ]
     },
     "metadata": {},
     "output_type": "display_data"
    },
    {
     "data": {
      "application/vnd.jupyter.widget-view+json": {
       "model_id": "5c591e0abe2d463b9ee95948e14837ae",
       "version_major": 2,
       "version_minor": 0
      },
      "text/plain": [
       "Validation: |          | 0/? [00:00<?, ?it/s]"
      ]
     },
     "metadata": {},
     "output_type": "display_data"
    },
    {
     "data": {
      "application/vnd.jupyter.widget-view+json": {
       "model_id": "42bef3460cbd4f86a96877e7348d15ed",
       "version_major": 2,
       "version_minor": 0
      },
      "text/plain": [
       "Validation: |          | 0/? [00:00<?, ?it/s]"
      ]
     },
     "metadata": {},
     "output_type": "display_data"
    },
    {
     "data": {
      "application/vnd.jupyter.widget-view+json": {
       "model_id": "3439385189b941d884677fa3ce469a8a",
       "version_major": 2,
       "version_minor": 0
      },
      "text/plain": [
       "Validation: |          | 0/? [00:00<?, ?it/s]"
      ]
     },
     "metadata": {},
     "output_type": "display_data"
    },
    {
     "data": {
      "application/vnd.jupyter.widget-view+json": {
       "model_id": "b153b59b8da44e3aa05156f483c0b61b",
       "version_major": 2,
       "version_minor": 0
      },
      "text/plain": [
       "Validation: |          | 0/? [00:00<?, ?it/s]"
      ]
     },
     "metadata": {},
     "output_type": "display_data"
    },
    {
     "data": {
      "application/vnd.jupyter.widget-view+json": {
       "model_id": "53ddc3d8241e43b2a6d2a1ffa200dd4c",
       "version_major": 2,
       "version_minor": 0
      },
      "text/plain": [
       "Validation: |          | 0/? [00:00<?, ?it/s]"
      ]
     },
     "metadata": {},
     "output_type": "display_data"
    },
    {
     "data": {
      "application/vnd.jupyter.widget-view+json": {
       "model_id": "b8ff767b7ee447bea02467bc1896b579",
       "version_major": 2,
       "version_minor": 0
      },
      "text/plain": [
       "Validation: |          | 0/? [00:00<?, ?it/s]"
      ]
     },
     "metadata": {},
     "output_type": "display_data"
    },
    {
     "data": {
      "application/vnd.jupyter.widget-view+json": {
       "model_id": "0bbecf4556e94845bb435f2133da2437",
       "version_major": 2,
       "version_minor": 0
      },
      "text/plain": [
       "Validation: |          | 0/? [00:00<?, ?it/s]"
      ]
     },
     "metadata": {},
     "output_type": "display_data"
    },
    {
     "data": {
      "application/vnd.jupyter.widget-view+json": {
       "model_id": "93182b43825e4be99bda6cc59792383f",
       "version_major": 2,
       "version_minor": 0
      },
      "text/plain": [
       "Validation: |          | 0/? [00:00<?, ?it/s]"
      ]
     },
     "metadata": {},
     "output_type": "display_data"
    },
    {
     "data": {
      "application/vnd.jupyter.widget-view+json": {
       "model_id": "935dd4906e034ea7b9e20d5bff03c7d6",
       "version_major": 2,
       "version_minor": 0
      },
      "text/plain": [
       "Validation: |          | 0/? [00:00<?, ?it/s]"
      ]
     },
     "metadata": {},
     "output_type": "display_data"
    },
    {
     "data": {
      "application/vnd.jupyter.widget-view+json": {
       "model_id": "cafb6601b05f4b1a88c9e22ec30e2322",
       "version_major": 2,
       "version_minor": 0
      },
      "text/plain": [
       "Validation: |          | 0/? [00:00<?, ?it/s]"
      ]
     },
     "metadata": {},
     "output_type": "display_data"
    },
    {
     "data": {
      "application/vnd.jupyter.widget-view+json": {
       "model_id": "f71e59b576b049509ee6374c21fd0183",
       "version_major": 2,
       "version_minor": 0
      },
      "text/plain": [
       "Validation: |          | 0/? [00:00<?, ?it/s]"
      ]
     },
     "metadata": {},
     "output_type": "display_data"
    },
    {
     "data": {
      "application/vnd.jupyter.widget-view+json": {
       "model_id": "039d14cc8a0b467bafeaa7aa9b462eca",
       "version_major": 2,
       "version_minor": 0
      },
      "text/plain": [
       "Validation: |          | 0/? [00:00<?, ?it/s]"
      ]
     },
     "metadata": {},
     "output_type": "display_data"
    },
    {
     "data": {
      "application/vnd.jupyter.widget-view+json": {
       "model_id": "d9d6c2b1661347e2b33f99b30e1d67a4",
       "version_major": 2,
       "version_minor": 0
      },
      "text/plain": [
       "Validation: |          | 0/? [00:00<?, ?it/s]"
      ]
     },
     "metadata": {},
     "output_type": "display_data"
    },
    {
     "data": {
      "application/vnd.jupyter.widget-view+json": {
       "model_id": "b7571e9257ab4ff4b169db12969c1faf",
       "version_major": 2,
       "version_minor": 0
      },
      "text/plain": [
       "Validation: |          | 0/? [00:00<?, ?it/s]"
      ]
     },
     "metadata": {},
     "output_type": "display_data"
    },
    {
     "data": {
      "application/vnd.jupyter.widget-view+json": {
       "model_id": "91a8309f352d4849bdbb7e95effaeaeb",
       "version_major": 2,
       "version_minor": 0
      },
      "text/plain": [
       "Validation: |          | 0/? [00:00<?, ?it/s]"
      ]
     },
     "metadata": {},
     "output_type": "display_data"
    },
    {
     "data": {
      "application/vnd.jupyter.widget-view+json": {
       "model_id": "bcf96cb9cc5d45f985ed43ef939e2ebe",
       "version_major": 2,
       "version_minor": 0
      },
      "text/plain": [
       "Validation: |          | 0/? [00:00<?, ?it/s]"
      ]
     },
     "metadata": {},
     "output_type": "display_data"
    },
    {
     "data": {
      "application/vnd.jupyter.widget-view+json": {
       "model_id": "65775e6148ea4b93a3e7f501fbf4615a",
       "version_major": 2,
       "version_minor": 0
      },
      "text/plain": [
       "Validation: |          | 0/? [00:00<?, ?it/s]"
      ]
     },
     "metadata": {},
     "output_type": "display_data"
    },
    {
     "data": {
      "application/vnd.jupyter.widget-view+json": {
       "model_id": "692c0da54b3240f7963a96d5e3cacf95",
       "version_major": 2,
       "version_minor": 0
      },
      "text/plain": [
       "Validation: |          | 0/? [00:00<?, ?it/s]"
      ]
     },
     "metadata": {},
     "output_type": "display_data"
    },
    {
     "data": {
      "application/vnd.jupyter.widget-view+json": {
       "model_id": "e549686d6be5407183208d3aae57aac2",
       "version_major": 2,
       "version_minor": 0
      },
      "text/plain": [
       "Validation: |          | 0/? [00:00<?, ?it/s]"
      ]
     },
     "metadata": {},
     "output_type": "display_data"
    },
    {
     "data": {
      "application/vnd.jupyter.widget-view+json": {
       "model_id": "be5cf97699ff4e349f3b0b475d04baf2",
       "version_major": 2,
       "version_minor": 0
      },
      "text/plain": [
       "Validation: |          | 0/? [00:00<?, ?it/s]"
      ]
     },
     "metadata": {},
     "output_type": "display_data"
    },
    {
     "data": {
      "application/vnd.jupyter.widget-view+json": {
       "model_id": "c2090a7fe8244315b53073945912342d",
       "version_major": 2,
       "version_minor": 0
      },
      "text/plain": [
       "Validation: |          | 0/? [00:00<?, ?it/s]"
      ]
     },
     "metadata": {},
     "output_type": "display_data"
    },
    {
     "data": {
      "application/vnd.jupyter.widget-view+json": {
       "model_id": "79b0b01cbd044d53a6fcc98bbdaf1255",
       "version_major": 2,
       "version_minor": 0
      },
      "text/plain": [
       "Validation: |          | 0/? [00:00<?, ?it/s]"
      ]
     },
     "metadata": {},
     "output_type": "display_data"
    },
    {
     "data": {
      "application/vnd.jupyter.widget-view+json": {
       "model_id": "ec6f77b5aa5d4bd885b13176afbf154d",
       "version_major": 2,
       "version_minor": 0
      },
      "text/plain": [
       "Validation: |          | 0/? [00:00<?, ?it/s]"
      ]
     },
     "metadata": {},
     "output_type": "display_data"
    },
    {
     "data": {
      "application/vnd.jupyter.widget-view+json": {
       "model_id": "9425eb8021b14487a240ff3651067369",
       "version_major": 2,
       "version_minor": 0
      },
      "text/plain": [
       "Validation: |          | 0/? [00:00<?, ?it/s]"
      ]
     },
     "metadata": {},
     "output_type": "display_data"
    },
    {
     "data": {
      "application/vnd.jupyter.widget-view+json": {
       "model_id": "a43ac5fbb6fd40438d2b89b9f19a44a6",
       "version_major": 2,
       "version_minor": 0
      },
      "text/plain": [
       "Validation: |          | 0/? [00:00<?, ?it/s]"
      ]
     },
     "metadata": {},
     "output_type": "display_data"
    },
    {
     "data": {
      "application/vnd.jupyter.widget-view+json": {
       "model_id": "195f74eb9a884c9d9277914d0ff9d2a0",
       "version_major": 2,
       "version_minor": 0
      },
      "text/plain": [
       "Validation: |          | 0/? [00:00<?, ?it/s]"
      ]
     },
     "metadata": {},
     "output_type": "display_data"
    },
    {
     "data": {
      "application/vnd.jupyter.widget-view+json": {
       "model_id": "f6ed84d76fe54201b60cd369a3f5be72",
       "version_major": 2,
       "version_minor": 0
      },
      "text/plain": [
       "Validation: |          | 0/? [00:00<?, ?it/s]"
      ]
     },
     "metadata": {},
     "output_type": "display_data"
    },
    {
     "data": {
      "application/vnd.jupyter.widget-view+json": {
       "model_id": "7ec44c20ea4a41829596fa1c8ced7bc9",
       "version_major": 2,
       "version_minor": 0
      },
      "text/plain": [
       "Validation: |          | 0/? [00:00<?, ?it/s]"
      ]
     },
     "metadata": {},
     "output_type": "display_data"
    },
    {
     "data": {
      "application/vnd.jupyter.widget-view+json": {
       "model_id": "c33f5e74265c43c29531aca8dbd72cf8",
       "version_major": 2,
       "version_minor": 0
      },
      "text/plain": [
       "Validation: |          | 0/? [00:00<?, ?it/s]"
      ]
     },
     "metadata": {},
     "output_type": "display_data"
    },
    {
     "data": {
      "application/vnd.jupyter.widget-view+json": {
       "model_id": "839350e0aaeb4a96995f876c19ed67fe",
       "version_major": 2,
       "version_minor": 0
      },
      "text/plain": [
       "Validation: |          | 0/? [00:00<?, ?it/s]"
      ]
     },
     "metadata": {},
     "output_type": "display_data"
    },
    {
     "data": {
      "application/vnd.jupyter.widget-view+json": {
       "model_id": "3dca84a323504f45aa983f0da8dc04d7",
       "version_major": 2,
       "version_minor": 0
      },
      "text/plain": [
       "Validation: |          | 0/? [00:00<?, ?it/s]"
      ]
     },
     "metadata": {},
     "output_type": "display_data"
    },
    {
     "data": {
      "application/vnd.jupyter.widget-view+json": {
       "model_id": "4604035177e543acb5b3f754d2abcd59",
       "version_major": 2,
       "version_minor": 0
      },
      "text/plain": [
       "Validation: |          | 0/? [00:00<?, ?it/s]"
      ]
     },
     "metadata": {},
     "output_type": "display_data"
    },
    {
     "data": {
      "application/vnd.jupyter.widget-view+json": {
       "model_id": "32d58701b39f4a45a8d556f828760ff2",
       "version_major": 2,
       "version_minor": 0
      },
      "text/plain": [
       "Validation: |          | 0/? [00:00<?, ?it/s]"
      ]
     },
     "metadata": {},
     "output_type": "display_data"
    },
    {
     "data": {
      "application/vnd.jupyter.widget-view+json": {
       "model_id": "8ec813f0b1d14c9c98ef6f2a8f7ecf4e",
       "version_major": 2,
       "version_minor": 0
      },
      "text/plain": [
       "Validation: |          | 0/? [00:00<?, ?it/s]"
      ]
     },
     "metadata": {},
     "output_type": "display_data"
    },
    {
     "data": {
      "application/vnd.jupyter.widget-view+json": {
       "model_id": "b676f6c78880475b8b3d9264634f04c2",
       "version_major": 2,
       "version_minor": 0
      },
      "text/plain": [
       "Validation: |          | 0/? [00:00<?, ?it/s]"
      ]
     },
     "metadata": {},
     "output_type": "display_data"
    },
    {
     "data": {
      "application/vnd.jupyter.widget-view+json": {
       "model_id": "9e709fac94df40cf85c43bd9e37eb231",
       "version_major": 2,
       "version_minor": 0
      },
      "text/plain": [
       "Validation: |          | 0/? [00:00<?, ?it/s]"
      ]
     },
     "metadata": {},
     "output_type": "display_data"
    },
    {
     "data": {
      "application/vnd.jupyter.widget-view+json": {
       "model_id": "433ae88b7df14f66bb0365959ffd0776",
       "version_major": 2,
       "version_minor": 0
      },
      "text/plain": [
       "Validation: |          | 0/? [00:00<?, ?it/s]"
      ]
     },
     "metadata": {},
     "output_type": "display_data"
    },
    {
     "data": {
      "application/vnd.jupyter.widget-view+json": {
       "model_id": "b50e4ffac6c34453af6435bc744bb431",
       "version_major": 2,
       "version_minor": 0
      },
      "text/plain": [
       "Validation: |          | 0/? [00:00<?, ?it/s]"
      ]
     },
     "metadata": {},
     "output_type": "display_data"
    },
    {
     "data": {
      "application/vnd.jupyter.widget-view+json": {
       "model_id": "7aa6c99dbe074cb1b037dadc4e1daa17",
       "version_major": 2,
       "version_minor": 0
      },
      "text/plain": [
       "Validation: |          | 0/? [00:00<?, ?it/s]"
      ]
     },
     "metadata": {},
     "output_type": "display_data"
    },
    {
     "data": {
      "application/vnd.jupyter.widget-view+json": {
       "model_id": "ee80540f5e12493f8ef297317a2ce40e",
       "version_major": 2,
       "version_minor": 0
      },
      "text/plain": [
       "Validation: |          | 0/? [00:00<?, ?it/s]"
      ]
     },
     "metadata": {},
     "output_type": "display_data"
    },
    {
     "data": {
      "application/vnd.jupyter.widget-view+json": {
       "model_id": "b80f386eecda40f1bab6b578afc2b0e8",
       "version_major": 2,
       "version_minor": 0
      },
      "text/plain": [
       "Validation: |          | 0/? [00:00<?, ?it/s]"
      ]
     },
     "metadata": {},
     "output_type": "display_data"
    },
    {
     "data": {
      "application/vnd.jupyter.widget-view+json": {
       "model_id": "a57e25d5a8a744ac98a75861feb80551",
       "version_major": 2,
       "version_minor": 0
      },
      "text/plain": [
       "Validation: |          | 0/? [00:00<?, ?it/s]"
      ]
     },
     "metadata": {},
     "output_type": "display_data"
    },
    {
     "data": {
      "application/vnd.jupyter.widget-view+json": {
       "model_id": "b8fc219192034456a620723fda0a0f7b",
       "version_major": 2,
       "version_minor": 0
      },
      "text/plain": [
       "Validation: |          | 0/? [00:00<?, ?it/s]"
      ]
     },
     "metadata": {},
     "output_type": "display_data"
    },
    {
     "data": {
      "application/vnd.jupyter.widget-view+json": {
       "model_id": "0068e6a17eec43c0b046dd0e89d4069d",
       "version_major": 2,
       "version_minor": 0
      },
      "text/plain": [
       "Validation: |          | 0/? [00:00<?, ?it/s]"
      ]
     },
     "metadata": {},
     "output_type": "display_data"
    },
    {
     "data": {
      "application/vnd.jupyter.widget-view+json": {
       "model_id": "566c6bf22cd447d9b9814301b266684f",
       "version_major": 2,
       "version_minor": 0
      },
      "text/plain": [
       "Validation: |          | 0/? [00:00<?, ?it/s]"
      ]
     },
     "metadata": {},
     "output_type": "display_data"
    },
    {
     "data": {
      "application/vnd.jupyter.widget-view+json": {
       "model_id": "713967b9ab6b4e469b5d539e65683f4b",
       "version_major": 2,
       "version_minor": 0
      },
      "text/plain": [
       "Validation: |          | 0/? [00:00<?, ?it/s]"
      ]
     },
     "metadata": {},
     "output_type": "display_data"
    },
    {
     "data": {
      "application/vnd.jupyter.widget-view+json": {
       "model_id": "c6963107a12a47929933b68d8e2909eb",
       "version_major": 2,
       "version_minor": 0
      },
      "text/plain": [
       "Validation: |          | 0/? [00:00<?, ?it/s]"
      ]
     },
     "metadata": {},
     "output_type": "display_data"
    },
    {
     "data": {
      "application/vnd.jupyter.widget-view+json": {
       "model_id": "10eacd1124c74288949f2c9ed51ac7fe",
       "version_major": 2,
       "version_minor": 0
      },
      "text/plain": [
       "Validation: |          | 0/? [00:00<?, ?it/s]"
      ]
     },
     "metadata": {},
     "output_type": "display_data"
    },
    {
     "data": {
      "application/vnd.jupyter.widget-view+json": {
       "model_id": "efb9c9c8f6b84df68ff996e7acefff7a",
       "version_major": 2,
       "version_minor": 0
      },
      "text/plain": [
       "Validation: |          | 0/? [00:00<?, ?it/s]"
      ]
     },
     "metadata": {},
     "output_type": "display_data"
    },
    {
     "data": {
      "application/vnd.jupyter.widget-view+json": {
       "model_id": "40a0996532744080bcea81131ab48d6b",
       "version_major": 2,
       "version_minor": 0
      },
      "text/plain": [
       "Validation: |          | 0/? [00:00<?, ?it/s]"
      ]
     },
     "metadata": {},
     "output_type": "display_data"
    },
    {
     "data": {
      "application/vnd.jupyter.widget-view+json": {
       "model_id": "7aebdc43e4804c4ebee5cc8ade7db774",
       "version_major": 2,
       "version_minor": 0
      },
      "text/plain": [
       "Validation: |          | 0/? [00:00<?, ?it/s]"
      ]
     },
     "metadata": {},
     "output_type": "display_data"
    },
    {
     "data": {
      "application/vnd.jupyter.widget-view+json": {
       "model_id": "eb76d68f4555473b9725f21a5902adcd",
       "version_major": 2,
       "version_minor": 0
      },
      "text/plain": [
       "Validation: |          | 0/? [00:00<?, ?it/s]"
      ]
     },
     "metadata": {},
     "output_type": "display_data"
    },
    {
     "data": {
      "application/vnd.jupyter.widget-view+json": {
       "model_id": "8d2171e8b6284e40a475384499b0d49b",
       "version_major": 2,
       "version_minor": 0
      },
      "text/plain": [
       "Validation: |          | 0/? [00:00<?, ?it/s]"
      ]
     },
     "metadata": {},
     "output_type": "display_data"
    },
    {
     "data": {
      "application/vnd.jupyter.widget-view+json": {
       "model_id": "8f1159ea2de8403d867d9b8de237fea5",
       "version_major": 2,
       "version_minor": 0
      },
      "text/plain": [
       "Validation: |          | 0/? [00:00<?, ?it/s]"
      ]
     },
     "metadata": {},
     "output_type": "display_data"
    },
    {
     "data": {
      "application/vnd.jupyter.widget-view+json": {
       "model_id": "b866ad61103d476887cc243e2b299899",
       "version_major": 2,
       "version_minor": 0
      },
      "text/plain": [
       "Validation: |          | 0/? [00:00<?, ?it/s]"
      ]
     },
     "metadata": {},
     "output_type": "display_data"
    },
    {
     "data": {
      "application/vnd.jupyter.widget-view+json": {
       "model_id": "4fb1f29ada324ac4955fa64e5d116db1",
       "version_major": 2,
       "version_minor": 0
      },
      "text/plain": [
       "Validation: |          | 0/? [00:00<?, ?it/s]"
      ]
     },
     "metadata": {},
     "output_type": "display_data"
    },
    {
     "data": {
      "application/vnd.jupyter.widget-view+json": {
       "model_id": "545414ad7e80420f8320de0b1bd190b6",
       "version_major": 2,
       "version_minor": 0
      },
      "text/plain": [
       "Validation: |          | 0/? [00:00<?, ?it/s]"
      ]
     },
     "metadata": {},
     "output_type": "display_data"
    },
    {
     "data": {
      "application/vnd.jupyter.widget-view+json": {
       "model_id": "cf72a8dd1de54379a49c4a3e9b5aac48",
       "version_major": 2,
       "version_minor": 0
      },
      "text/plain": [
       "Validation: |          | 0/? [00:00<?, ?it/s]"
      ]
     },
     "metadata": {},
     "output_type": "display_data"
    },
    {
     "data": {
      "application/vnd.jupyter.widget-view+json": {
       "model_id": "ef49198659404be69d336207c0ead428",
       "version_major": 2,
       "version_minor": 0
      },
      "text/plain": [
       "Validation: |          | 0/? [00:00<?, ?it/s]"
      ]
     },
     "metadata": {},
     "output_type": "display_data"
    },
    {
     "data": {
      "application/vnd.jupyter.widget-view+json": {
       "model_id": "0a0c5e109875400dbbabb18fb966677b",
       "version_major": 2,
       "version_minor": 0
      },
      "text/plain": [
       "Validation: |          | 0/? [00:00<?, ?it/s]"
      ]
     },
     "metadata": {},
     "output_type": "display_data"
    },
    {
     "data": {
      "application/vnd.jupyter.widget-view+json": {
       "model_id": "3a3faa6a1c114dcfaeb0bf8b70581091",
       "version_major": 2,
       "version_minor": 0
      },
      "text/plain": [
       "Validation: |          | 0/? [00:00<?, ?it/s]"
      ]
     },
     "metadata": {},
     "output_type": "display_data"
    },
    {
     "data": {
      "application/vnd.jupyter.widget-view+json": {
       "model_id": "bf3a0a92c3214c6fb4d70e79d70d917b",
       "version_major": 2,
       "version_minor": 0
      },
      "text/plain": [
       "Validation: |          | 0/? [00:00<?, ?it/s]"
      ]
     },
     "metadata": {},
     "output_type": "display_data"
    },
    {
     "data": {
      "application/vnd.jupyter.widget-view+json": {
       "model_id": "a70f20c7799d4fd9a2fcc1ec18cc8d01",
       "version_major": 2,
       "version_minor": 0
      },
      "text/plain": [
       "Validation: |          | 0/? [00:00<?, ?it/s]"
      ]
     },
     "metadata": {},
     "output_type": "display_data"
    },
    {
     "data": {
      "application/vnd.jupyter.widget-view+json": {
       "model_id": "88b5a40c27754f63b89cb4c46189f484",
       "version_major": 2,
       "version_minor": 0
      },
      "text/plain": [
       "Validation: |          | 0/? [00:00<?, ?it/s]"
      ]
     },
     "metadata": {},
     "output_type": "display_data"
    },
    {
     "data": {
      "application/vnd.jupyter.widget-view+json": {
       "model_id": "0c1c8cab2dc74b3fba796443fcabaee5",
       "version_major": 2,
       "version_minor": 0
      },
      "text/plain": [
       "Validation: |          | 0/? [00:00<?, ?it/s]"
      ]
     },
     "metadata": {},
     "output_type": "display_data"
    },
    {
     "data": {
      "application/vnd.jupyter.widget-view+json": {
       "model_id": "6b416e9cb75749a3b2c52f72caab9cf8",
       "version_major": 2,
       "version_minor": 0
      },
      "text/plain": [
       "Validation: |          | 0/? [00:00<?, ?it/s]"
      ]
     },
     "metadata": {},
     "output_type": "display_data"
    },
    {
     "data": {
      "application/vnd.jupyter.widget-view+json": {
       "model_id": "d9259efc95204566b50d56df7f85a878",
       "version_major": 2,
       "version_minor": 0
      },
      "text/plain": [
       "Validation: |          | 0/? [00:00<?, ?it/s]"
      ]
     },
     "metadata": {},
     "output_type": "display_data"
    },
    {
     "data": {
      "application/vnd.jupyter.widget-view+json": {
       "model_id": "92b2ddb48b92481ba694a66f82c5e600",
       "version_major": 2,
       "version_minor": 0
      },
      "text/plain": [
       "Validation: |          | 0/? [00:00<?, ?it/s]"
      ]
     },
     "metadata": {},
     "output_type": "display_data"
    },
    {
     "data": {
      "application/vnd.jupyter.widget-view+json": {
       "model_id": "c4598181d0064b249d40cfb56f2e7a5a",
       "version_major": 2,
       "version_minor": 0
      },
      "text/plain": [
       "Validation: |          | 0/? [00:00<?, ?it/s]"
      ]
     },
     "metadata": {},
     "output_type": "display_data"
    },
    {
     "data": {
      "application/vnd.jupyter.widget-view+json": {
       "model_id": "ebcd3b434d8e486993505c3a5782a6a7",
       "version_major": 2,
       "version_minor": 0
      },
      "text/plain": [
       "Validation: |          | 0/? [00:00<?, ?it/s]"
      ]
     },
     "metadata": {},
     "output_type": "display_data"
    },
    {
     "data": {
      "application/vnd.jupyter.widget-view+json": {
       "model_id": "6d6303d98d524ae5bd993727b9830550",
       "version_major": 2,
       "version_minor": 0
      },
      "text/plain": [
       "Validation: |          | 0/? [00:00<?, ?it/s]"
      ]
     },
     "metadata": {},
     "output_type": "display_data"
    },
    {
     "data": {
      "application/vnd.jupyter.widget-view+json": {
       "model_id": "7fa45e05b57642e0a146857da573ff35",
       "version_major": 2,
       "version_minor": 0
      },
      "text/plain": [
       "Validation: |          | 0/? [00:00<?, ?it/s]"
      ]
     },
     "metadata": {},
     "output_type": "display_data"
    },
    {
     "data": {
      "application/vnd.jupyter.widget-view+json": {
       "model_id": "1690485334754b4c8f9c47a442370920",
       "version_major": 2,
       "version_minor": 0
      },
      "text/plain": [
       "Validation: |          | 0/? [00:00<?, ?it/s]"
      ]
     },
     "metadata": {},
     "output_type": "display_data"
    },
    {
     "data": {
      "application/vnd.jupyter.widget-view+json": {
       "model_id": "e8a4f794cdec4fbf8085c95ebf4b6b61",
       "version_major": 2,
       "version_minor": 0
      },
      "text/plain": [
       "Validation: |          | 0/? [00:00<?, ?it/s]"
      ]
     },
     "metadata": {},
     "output_type": "display_data"
    },
    {
     "data": {
      "application/vnd.jupyter.widget-view+json": {
       "model_id": "420f3347552145fda2b5c7f1105dd235",
       "version_major": 2,
       "version_minor": 0
      },
      "text/plain": [
       "Validation: |          | 0/? [00:00<?, ?it/s]"
      ]
     },
     "metadata": {},
     "output_type": "display_data"
    },
    {
     "data": {
      "application/vnd.jupyter.widget-view+json": {
       "model_id": "fcf9f9006c0e42e4a644579d4cf7e9bf",
       "version_major": 2,
       "version_minor": 0
      },
      "text/plain": [
       "Validation: |          | 0/? [00:00<?, ?it/s]"
      ]
     },
     "metadata": {},
     "output_type": "display_data"
    },
    {
     "data": {
      "application/vnd.jupyter.widget-view+json": {
       "model_id": "c21a73cb001d44dba67a298ae64b2fc1",
       "version_major": 2,
       "version_minor": 0
      },
      "text/plain": [
       "Validation: |          | 0/? [00:00<?, ?it/s]"
      ]
     },
     "metadata": {},
     "output_type": "display_data"
    },
    {
     "data": {
      "application/vnd.jupyter.widget-view+json": {
       "model_id": "fd646052e6b54e7bb55f17a5d0ea8054",
       "version_major": 2,
       "version_minor": 0
      },
      "text/plain": [
       "Validation: |          | 0/? [00:00<?, ?it/s]"
      ]
     },
     "metadata": {},
     "output_type": "display_data"
    },
    {
     "data": {
      "application/vnd.jupyter.widget-view+json": {
       "model_id": "38be657a6ed045d3844821826eaa3ed4",
       "version_major": 2,
       "version_minor": 0
      },
      "text/plain": [
       "Validation: |          | 0/? [00:00<?, ?it/s]"
      ]
     },
     "metadata": {},
     "output_type": "display_data"
    },
    {
     "data": {
      "application/vnd.jupyter.widget-view+json": {
       "model_id": "f7742e6851b64b44883c9865c5b59168",
       "version_major": 2,
       "version_minor": 0
      },
      "text/plain": [
       "Validation: |          | 0/? [00:00<?, ?it/s]"
      ]
     },
     "metadata": {},
     "output_type": "display_data"
    },
    {
     "data": {
      "application/vnd.jupyter.widget-view+json": {
       "model_id": "c8445882865a45b7a2eca846163ac741",
       "version_major": 2,
       "version_minor": 0
      },
      "text/plain": [
       "Validation: |          | 0/? [00:00<?, ?it/s]"
      ]
     },
     "metadata": {},
     "output_type": "display_data"
    },
    {
     "data": {
      "application/vnd.jupyter.widget-view+json": {
       "model_id": "6399421c40574203ad83f47871b43042",
       "version_major": 2,
       "version_minor": 0
      },
      "text/plain": [
       "Validation: |          | 0/? [00:00<?, ?it/s]"
      ]
     },
     "metadata": {},
     "output_type": "display_data"
    },
    {
     "data": {
      "application/vnd.jupyter.widget-view+json": {
       "model_id": "00b4d75a01ab4d9eb5aab1a3764e1014",
       "version_major": 2,
       "version_minor": 0
      },
      "text/plain": [
       "Validation: |          | 0/? [00:00<?, ?it/s]"
      ]
     },
     "metadata": {},
     "output_type": "display_data"
    },
    {
     "data": {
      "application/vnd.jupyter.widget-view+json": {
       "model_id": "55b345e90dd94c12834e666e6354fce8",
       "version_major": 2,
       "version_minor": 0
      },
      "text/plain": [
       "Validation: |          | 0/? [00:00<?, ?it/s]"
      ]
     },
     "metadata": {},
     "output_type": "display_data"
    },
    {
     "data": {
      "application/vnd.jupyter.widget-view+json": {
       "model_id": "45ef8155603d46279db336a56025e0ae",
       "version_major": 2,
       "version_minor": 0
      },
      "text/plain": [
       "Validation: |          | 0/? [00:00<?, ?it/s]"
      ]
     },
     "metadata": {},
     "output_type": "display_data"
    },
    {
     "data": {
      "application/vnd.jupyter.widget-view+json": {
       "model_id": "b6b7cf01d7f64a23a43c5a3ab0b2f29d",
       "version_major": 2,
       "version_minor": 0
      },
      "text/plain": [
       "Validation: |          | 0/? [00:00<?, ?it/s]"
      ]
     },
     "metadata": {},
     "output_type": "display_data"
    },
    {
     "data": {
      "application/vnd.jupyter.widget-view+json": {
       "model_id": "9dd83da33e6a422eaeb97e58e8d1249d",
       "version_major": 2,
       "version_minor": 0
      },
      "text/plain": [
       "Validation: |          | 0/? [00:00<?, ?it/s]"
      ]
     },
     "metadata": {},
     "output_type": "display_data"
    },
    {
     "data": {
      "application/vnd.jupyter.widget-view+json": {
       "model_id": "0fd169d9f10b4518a92e3eddc059b1e4",
       "version_major": 2,
       "version_minor": 0
      },
      "text/plain": [
       "Validation: |          | 0/? [00:00<?, ?it/s]"
      ]
     },
     "metadata": {},
     "output_type": "display_data"
    },
    {
     "data": {
      "application/vnd.jupyter.widget-view+json": {
       "model_id": "ab99e4c8aaa24c309b1d38bb0802cc37",
       "version_major": 2,
       "version_minor": 0
      },
      "text/plain": [
       "Validation: |          | 0/? [00:00<?, ?it/s]"
      ]
     },
     "metadata": {},
     "output_type": "display_data"
    },
    {
     "data": {
      "application/vnd.jupyter.widget-view+json": {
       "model_id": "4d819ff75255415d8b3f094651951473",
       "version_major": 2,
       "version_minor": 0
      },
      "text/plain": [
       "Validation: |          | 0/? [00:00<?, ?it/s]"
      ]
     },
     "metadata": {},
     "output_type": "display_data"
    },
    {
     "data": {
      "application/vnd.jupyter.widget-view+json": {
       "model_id": "cda8132938b640218e76fd87abe6ef73",
       "version_major": 2,
       "version_minor": 0
      },
      "text/plain": [
       "Validation: |          | 0/? [00:00<?, ?it/s]"
      ]
     },
     "metadata": {},
     "output_type": "display_data"
    },
    {
     "data": {
      "application/vnd.jupyter.widget-view+json": {
       "model_id": "66237d02d4c44705adc3aea3c5e0fe09",
       "version_major": 2,
       "version_minor": 0
      },
      "text/plain": [
       "Validation: |          | 0/? [00:00<?, ?it/s]"
      ]
     },
     "metadata": {},
     "output_type": "display_data"
    },
    {
     "data": {
      "application/vnd.jupyter.widget-view+json": {
       "model_id": "0799781fb444487eaf4ff9a123e8b3a4",
       "version_major": 2,
       "version_minor": 0
      },
      "text/plain": [
       "Validation: |          | 0/? [00:00<?, ?it/s]"
      ]
     },
     "metadata": {},
     "output_type": "display_data"
    },
    {
     "data": {
      "application/vnd.jupyter.widget-view+json": {
       "model_id": "0bcfeee7bd474434a021fd5cf666afda",
       "version_major": 2,
       "version_minor": 0
      },
      "text/plain": [
       "Validation: |          | 0/? [00:00<?, ?it/s]"
      ]
     },
     "metadata": {},
     "output_type": "display_data"
    },
    {
     "data": {
      "application/vnd.jupyter.widget-view+json": {
       "model_id": "340e1929260c441f9ca5a448465c8968",
       "version_major": 2,
       "version_minor": 0
      },
      "text/plain": [
       "Validation: |          | 0/? [00:00<?, ?it/s]"
      ]
     },
     "metadata": {},
     "output_type": "display_data"
    },
    {
     "data": {
      "application/vnd.jupyter.widget-view+json": {
       "model_id": "a126e66835734cfca9f386d66eef9d4c",
       "version_major": 2,
       "version_minor": 0
      },
      "text/plain": [
       "Validation: |          | 0/? [00:00<?, ?it/s]"
      ]
     },
     "metadata": {},
     "output_type": "display_data"
    },
    {
     "data": {
      "application/vnd.jupyter.widget-view+json": {
       "model_id": "d0c63142df604c51905f56965c409255",
       "version_major": 2,
       "version_minor": 0
      },
      "text/plain": [
       "Validation: |          | 0/? [00:00<?, ?it/s]"
      ]
     },
     "metadata": {},
     "output_type": "display_data"
    },
    {
     "data": {
      "application/vnd.jupyter.widget-view+json": {
       "model_id": "6eabeaa357b748d5a0c36f41477626d9",
       "version_major": 2,
       "version_minor": 0
      },
      "text/plain": [
       "Validation: |          | 0/? [00:00<?, ?it/s]"
      ]
     },
     "metadata": {},
     "output_type": "display_data"
    },
    {
     "data": {
      "application/vnd.jupyter.widget-view+json": {
       "model_id": "014cc1f04a28451c8b3e229051f06cf7",
       "version_major": 2,
       "version_minor": 0
      },
      "text/plain": [
       "Validation: |          | 0/? [00:00<?, ?it/s]"
      ]
     },
     "metadata": {},
     "output_type": "display_data"
    },
    {
     "data": {
      "application/vnd.jupyter.widget-view+json": {
       "model_id": "9912d64944ee45abaeaf93e733751017",
       "version_major": 2,
       "version_minor": 0
      },
      "text/plain": [
       "Validation: |          | 0/? [00:00<?, ?it/s]"
      ]
     },
     "metadata": {},
     "output_type": "display_data"
    },
    {
     "data": {
      "application/vnd.jupyter.widget-view+json": {
       "model_id": "1eb2b4d2b24c444884233de26f8fa8ae",
       "version_major": 2,
       "version_minor": 0
      },
      "text/plain": [
       "Validation: |          | 0/? [00:00<?, ?it/s]"
      ]
     },
     "metadata": {},
     "output_type": "display_data"
    },
    {
     "data": {
      "application/vnd.jupyter.widget-view+json": {
       "model_id": "25d325fa2f40467a9f000f326d486277",
       "version_major": 2,
       "version_minor": 0
      },
      "text/plain": [
       "Validation: |          | 0/? [00:00<?, ?it/s]"
      ]
     },
     "metadata": {},
     "output_type": "display_data"
    },
    {
     "data": {
      "application/vnd.jupyter.widget-view+json": {
       "model_id": "6ce746f3c05a42d2aaeaa376dfcb6bf0",
       "version_major": 2,
       "version_minor": 0
      },
      "text/plain": [
       "Validation: |          | 0/? [00:00<?, ?it/s]"
      ]
     },
     "metadata": {},
     "output_type": "display_data"
    },
    {
     "data": {
      "application/vnd.jupyter.widget-view+json": {
       "model_id": "3633e99d2fa740be8e27f4bb68bf3691",
       "version_major": 2,
       "version_minor": 0
      },
      "text/plain": [
       "Validation: |          | 0/? [00:00<?, ?it/s]"
      ]
     },
     "metadata": {},
     "output_type": "display_data"
    },
    {
     "data": {
      "application/vnd.jupyter.widget-view+json": {
       "model_id": "aeb5f375c6aa476ba6a12257d948b1cd",
       "version_major": 2,
       "version_minor": 0
      },
      "text/plain": [
       "Validation: |          | 0/? [00:00<?, ?it/s]"
      ]
     },
     "metadata": {},
     "output_type": "display_data"
    },
    {
     "data": {
      "application/vnd.jupyter.widget-view+json": {
       "model_id": "b0c7aa60decf4b5daa8b670340c55fdf",
       "version_major": 2,
       "version_minor": 0
      },
      "text/plain": [
       "Validation: |          | 0/? [00:00<?, ?it/s]"
      ]
     },
     "metadata": {},
     "output_type": "display_data"
    },
    {
     "data": {
      "application/vnd.jupyter.widget-view+json": {
       "model_id": "92d4c6020b2c4fbd8de9f3bc72e0413d",
       "version_major": 2,
       "version_minor": 0
      },
      "text/plain": [
       "Validation: |          | 0/? [00:00<?, ?it/s]"
      ]
     },
     "metadata": {},
     "output_type": "display_data"
    },
    {
     "data": {
      "application/vnd.jupyter.widget-view+json": {
       "model_id": "66df90c832754ca2bf8c4e19ae60bdb8",
       "version_major": 2,
       "version_minor": 0
      },
      "text/plain": [
       "Validation: |          | 0/? [00:00<?, ?it/s]"
      ]
     },
     "metadata": {},
     "output_type": "display_data"
    },
    {
     "data": {
      "application/vnd.jupyter.widget-view+json": {
       "model_id": "9f1dd322c0014b969855662bc98154c7",
       "version_major": 2,
       "version_minor": 0
      },
      "text/plain": [
       "Validation: |          | 0/? [00:00<?, ?it/s]"
      ]
     },
     "metadata": {},
     "output_type": "display_data"
    },
    {
     "data": {
      "application/vnd.jupyter.widget-view+json": {
       "model_id": "1d36c1200cf849cb980d6170b8ac0883",
       "version_major": 2,
       "version_minor": 0
      },
      "text/plain": [
       "Validation: |          | 0/? [00:00<?, ?it/s]"
      ]
     },
     "metadata": {},
     "output_type": "display_data"
    },
    {
     "data": {
      "application/vnd.jupyter.widget-view+json": {
       "model_id": "4d59896a523042cd8ad6072da3713fbb",
       "version_major": 2,
       "version_minor": 0
      },
      "text/plain": [
       "Validation: |          | 0/? [00:00<?, ?it/s]"
      ]
     },
     "metadata": {},
     "output_type": "display_data"
    },
    {
     "data": {
      "application/vnd.jupyter.widget-view+json": {
       "model_id": "c002292897924e68ad1acc1ed1392e6f",
       "version_major": 2,
       "version_minor": 0
      },
      "text/plain": [
       "Validation: |          | 0/? [00:00<?, ?it/s]"
      ]
     },
     "metadata": {},
     "output_type": "display_data"
    },
    {
     "data": {
      "application/vnd.jupyter.widget-view+json": {
       "model_id": "5fd961bb8aee45f1a0c09a3f433ad06b",
       "version_major": 2,
       "version_minor": 0
      },
      "text/plain": [
       "Validation: |          | 0/? [00:00<?, ?it/s]"
      ]
     },
     "metadata": {},
     "output_type": "display_data"
    },
    {
     "data": {
      "application/vnd.jupyter.widget-view+json": {
       "model_id": "f56c755b740f44c49de97f3311122670",
       "version_major": 2,
       "version_minor": 0
      },
      "text/plain": [
       "Validation: |          | 0/? [00:00<?, ?it/s]"
      ]
     },
     "metadata": {},
     "output_type": "display_data"
    },
    {
     "data": {
      "application/vnd.jupyter.widget-view+json": {
       "model_id": "cd63481032a1431d83ea6eba675694cf",
       "version_major": 2,
       "version_minor": 0
      },
      "text/plain": [
       "Validation: |          | 0/? [00:00<?, ?it/s]"
      ]
     },
     "metadata": {},
     "output_type": "display_data"
    },
    {
     "data": {
      "application/vnd.jupyter.widget-view+json": {
       "model_id": "725f1eec924c4a40902a20e203b1ef64",
       "version_major": 2,
       "version_minor": 0
      },
      "text/plain": [
       "Validation: |          | 0/? [00:00<?, ?it/s]"
      ]
     },
     "metadata": {},
     "output_type": "display_data"
    },
    {
     "data": {
      "application/vnd.jupyter.widget-view+json": {
       "model_id": "677f94a92a5048eca8a64df617e25b10",
       "version_major": 2,
       "version_minor": 0
      },
      "text/plain": [
       "Validation: |          | 0/? [00:00<?, ?it/s]"
      ]
     },
     "metadata": {},
     "output_type": "display_data"
    },
    {
     "data": {
      "application/vnd.jupyter.widget-view+json": {
       "model_id": "a9c4935d4b6245d786eb9511155fc49f",
       "version_major": 2,
       "version_minor": 0
      },
      "text/plain": [
       "Validation: |          | 0/? [00:00<?, ?it/s]"
      ]
     },
     "metadata": {},
     "output_type": "display_data"
    },
    {
     "data": {
      "application/vnd.jupyter.widget-view+json": {
       "model_id": "8d90482abee943848ff0aad5e154d273",
       "version_major": 2,
       "version_minor": 0
      },
      "text/plain": [
       "Validation: |          | 0/? [00:00<?, ?it/s]"
      ]
     },
     "metadata": {},
     "output_type": "display_data"
    },
    {
     "data": {
      "application/vnd.jupyter.widget-view+json": {
       "model_id": "0a8ab44ded624169890834a8166eb5d5",
       "version_major": 2,
       "version_minor": 0
      },
      "text/plain": [
       "Validation: |          | 0/? [00:00<?, ?it/s]"
      ]
     },
     "metadata": {},
     "output_type": "display_data"
    },
    {
     "data": {
      "application/vnd.jupyter.widget-view+json": {
       "model_id": "d4f85ce5baa043c9bdb70fa1bf49c6bd",
       "version_major": 2,
       "version_minor": 0
      },
      "text/plain": [
       "Validation: |          | 0/? [00:00<?, ?it/s]"
      ]
     },
     "metadata": {},
     "output_type": "display_data"
    },
    {
     "data": {
      "application/vnd.jupyter.widget-view+json": {
       "model_id": "c343f1bc8b5b4a8197db3dd6f2682aa4",
       "version_major": 2,
       "version_minor": 0
      },
      "text/plain": [
       "Validation: |          | 0/? [00:00<?, ?it/s]"
      ]
     },
     "metadata": {},
     "output_type": "display_data"
    },
    {
     "data": {
      "application/vnd.jupyter.widget-view+json": {
       "model_id": "564fbaa1a9ae4796b429ff761863805c",
       "version_major": 2,
       "version_minor": 0
      },
      "text/plain": [
       "Validation: |          | 0/? [00:00<?, ?it/s]"
      ]
     },
     "metadata": {},
     "output_type": "display_data"
    },
    {
     "data": {
      "application/vnd.jupyter.widget-view+json": {
       "model_id": "027ff3f8567649b1b27870226c76f21b",
       "version_major": 2,
       "version_minor": 0
      },
      "text/plain": [
       "Validation: |          | 0/? [00:00<?, ?it/s]"
      ]
     },
     "metadata": {},
     "output_type": "display_data"
    },
    {
     "data": {
      "application/vnd.jupyter.widget-view+json": {
       "model_id": "b1532947690d455595ca311c0ce28cd8",
       "version_major": 2,
       "version_minor": 0
      },
      "text/plain": [
       "Validation: |          | 0/? [00:00<?, ?it/s]"
      ]
     },
     "metadata": {},
     "output_type": "display_data"
    },
    {
     "data": {
      "application/vnd.jupyter.widget-view+json": {
       "model_id": "020fc20b5d7f4ef09a06bb67bcf37384",
       "version_major": 2,
       "version_minor": 0
      },
      "text/plain": [
       "Validation: |          | 0/? [00:00<?, ?it/s]"
      ]
     },
     "metadata": {},
     "output_type": "display_data"
    },
    {
     "data": {
      "application/vnd.jupyter.widget-view+json": {
       "model_id": "c6d1fd8076db40b0b4b4ac12aaa90a34",
       "version_major": 2,
       "version_minor": 0
      },
      "text/plain": [
       "Validation: |          | 0/? [00:00<?, ?it/s]"
      ]
     },
     "metadata": {},
     "output_type": "display_data"
    },
    {
     "data": {
      "application/vnd.jupyter.widget-view+json": {
       "model_id": "8fdbc0d8ba7640c1987e3cec443c070a",
       "version_major": 2,
       "version_minor": 0
      },
      "text/plain": [
       "Validation: |          | 0/? [00:00<?, ?it/s]"
      ]
     },
     "metadata": {},
     "output_type": "display_data"
    },
    {
     "data": {
      "application/vnd.jupyter.widget-view+json": {
       "model_id": "cbc9ba2736e74eedb9baf5f024f79ed9",
       "version_major": 2,
       "version_minor": 0
      },
      "text/plain": [
       "Validation: |          | 0/? [00:00<?, ?it/s]"
      ]
     },
     "metadata": {},
     "output_type": "display_data"
    },
    {
     "data": {
      "application/vnd.jupyter.widget-view+json": {
       "model_id": "d6bdf6224f1a45f9b165d8d72a993d86",
       "version_major": 2,
       "version_minor": 0
      },
      "text/plain": [
       "Validation: |          | 0/? [00:00<?, ?it/s]"
      ]
     },
     "metadata": {},
     "output_type": "display_data"
    },
    {
     "data": {
      "application/vnd.jupyter.widget-view+json": {
       "model_id": "2f040ee37af84fe689ef5e68e3b89670",
       "version_major": 2,
       "version_minor": 0
      },
      "text/plain": [
       "Validation: |          | 0/? [00:00<?, ?it/s]"
      ]
     },
     "metadata": {},
     "output_type": "display_data"
    },
    {
     "data": {
      "application/vnd.jupyter.widget-view+json": {
       "model_id": "7712ede5004544b9b479e261891e160c",
       "version_major": 2,
       "version_minor": 0
      },
      "text/plain": [
       "Validation: |          | 0/? [00:00<?, ?it/s]"
      ]
     },
     "metadata": {},
     "output_type": "display_data"
    },
    {
     "data": {
      "application/vnd.jupyter.widget-view+json": {
       "model_id": "9345189851094d84b6c98e56d8269318",
       "version_major": 2,
       "version_minor": 0
      },
      "text/plain": [
       "Validation: |          | 0/? [00:00<?, ?it/s]"
      ]
     },
     "metadata": {},
     "output_type": "display_data"
    },
    {
     "data": {
      "application/vnd.jupyter.widget-view+json": {
       "model_id": "5f323b9c1cba48a69fe4836a47573d4e",
       "version_major": 2,
       "version_minor": 0
      },
      "text/plain": [
       "Validation: |          | 0/? [00:00<?, ?it/s]"
      ]
     },
     "metadata": {},
     "output_type": "display_data"
    },
    {
     "data": {
      "application/vnd.jupyter.widget-view+json": {
       "model_id": "809444534b6146f490f0d7250d033fac",
       "version_major": 2,
       "version_minor": 0
      },
      "text/plain": [
       "Validation: |          | 0/? [00:00<?, ?it/s]"
      ]
     },
     "metadata": {},
     "output_type": "display_data"
    },
    {
     "data": {
      "application/vnd.jupyter.widget-view+json": {
       "model_id": "8afa9867db57413ab054c3e62c03c45d",
       "version_major": 2,
       "version_minor": 0
      },
      "text/plain": [
       "Validation: |          | 0/? [00:00<?, ?it/s]"
      ]
     },
     "metadata": {},
     "output_type": "display_data"
    },
    {
     "data": {
      "application/vnd.jupyter.widget-view+json": {
       "model_id": "cb0bf59eb8b8494e874d2df60e990f1a",
       "version_major": 2,
       "version_minor": 0
      },
      "text/plain": [
       "Validation: |          | 0/? [00:00<?, ?it/s]"
      ]
     },
     "metadata": {},
     "output_type": "display_data"
    },
    {
     "data": {
      "application/vnd.jupyter.widget-view+json": {
       "model_id": "3c9be60e361b45ccacc3eeace4b4e48a",
       "version_major": 2,
       "version_minor": 0
      },
      "text/plain": [
       "Validation: |          | 0/? [00:00<?, ?it/s]"
      ]
     },
     "metadata": {},
     "output_type": "display_data"
    },
    {
     "data": {
      "application/vnd.jupyter.widget-view+json": {
       "model_id": "e6ab071c3091446e8fbfb8c85dd7a3fe",
       "version_major": 2,
       "version_minor": 0
      },
      "text/plain": [
       "Validation: |          | 0/? [00:00<?, ?it/s]"
      ]
     },
     "metadata": {},
     "output_type": "display_data"
    },
    {
     "data": {
      "application/vnd.jupyter.widget-view+json": {
       "model_id": "15e688846fa44c1785090179bbafda7c",
       "version_major": 2,
       "version_minor": 0
      },
      "text/plain": [
       "Validation: |          | 0/? [00:00<?, ?it/s]"
      ]
     },
     "metadata": {},
     "output_type": "display_data"
    },
    {
     "data": {
      "application/vnd.jupyter.widget-view+json": {
       "model_id": "eed0cef5e18d40d0a696a044c5335342",
       "version_major": 2,
       "version_minor": 0
      },
      "text/plain": [
       "Validation: |          | 0/? [00:00<?, ?it/s]"
      ]
     },
     "metadata": {},
     "output_type": "display_data"
    },
    {
     "data": {
      "application/vnd.jupyter.widget-view+json": {
       "model_id": "0e25bdc1985d47b4aba5f6bb8c80881a",
       "version_major": 2,
       "version_minor": 0
      },
      "text/plain": [
       "Validation: |          | 0/? [00:00<?, ?it/s]"
      ]
     },
     "metadata": {},
     "output_type": "display_data"
    },
    {
     "data": {
      "application/vnd.jupyter.widget-view+json": {
       "model_id": "6088447902584b359eba4b0f971d8730",
       "version_major": 2,
       "version_minor": 0
      },
      "text/plain": [
       "Validation: |          | 0/? [00:00<?, ?it/s]"
      ]
     },
     "metadata": {},
     "output_type": "display_data"
    },
    {
     "data": {
      "application/vnd.jupyter.widget-view+json": {
       "model_id": "62e379ee66b149c28ff14af78143e398",
       "version_major": 2,
       "version_minor": 0
      },
      "text/plain": [
       "Validation: |          | 0/? [00:00<?, ?it/s]"
      ]
     },
     "metadata": {},
     "output_type": "display_data"
    },
    {
     "data": {
      "application/vnd.jupyter.widget-view+json": {
       "model_id": "a065377634644249b3b202bf736dbc48",
       "version_major": 2,
       "version_minor": 0
      },
      "text/plain": [
       "Validation: |          | 0/? [00:00<?, ?it/s]"
      ]
     },
     "metadata": {},
     "output_type": "display_data"
    },
    {
     "data": {
      "application/vnd.jupyter.widget-view+json": {
       "model_id": "4379768273774f5b858f77ad243e8dd5",
       "version_major": 2,
       "version_minor": 0
      },
      "text/plain": [
       "Validation: |          | 0/? [00:00<?, ?it/s]"
      ]
     },
     "metadata": {},
     "output_type": "display_data"
    },
    {
     "data": {
      "application/vnd.jupyter.widget-view+json": {
       "model_id": "928b21e1362d415c9796996d5d00215a",
       "version_major": 2,
       "version_minor": 0
      },
      "text/plain": [
       "Validation: |          | 0/? [00:00<?, ?it/s]"
      ]
     },
     "metadata": {},
     "output_type": "display_data"
    },
    {
     "data": {
      "application/vnd.jupyter.widget-view+json": {
       "model_id": "3b5ab6d5896947538f2abdf9d4c7bdc6",
       "version_major": 2,
       "version_minor": 0
      },
      "text/plain": [
       "Validation: |          | 0/? [00:00<?, ?it/s]"
      ]
     },
     "metadata": {},
     "output_type": "display_data"
    },
    {
     "data": {
      "application/vnd.jupyter.widget-view+json": {
       "model_id": "01b4b213c8da4025bf4e7cf321ab2adf",
       "version_major": 2,
       "version_minor": 0
      },
      "text/plain": [
       "Validation: |          | 0/? [00:00<?, ?it/s]"
      ]
     },
     "metadata": {},
     "output_type": "display_data"
    },
    {
     "data": {
      "application/vnd.jupyter.widget-view+json": {
       "model_id": "9921f76c203248179d0657ac2dd90cc9",
       "version_major": 2,
       "version_minor": 0
      },
      "text/plain": [
       "Validation: |          | 0/? [00:00<?, ?it/s]"
      ]
     },
     "metadata": {},
     "output_type": "display_data"
    },
    {
     "data": {
      "application/vnd.jupyter.widget-view+json": {
       "model_id": "6a58b0161ce74225b9da9cc967ddb01a",
       "version_major": 2,
       "version_minor": 0
      },
      "text/plain": [
       "Validation: |          | 0/? [00:00<?, ?it/s]"
      ]
     },
     "metadata": {},
     "output_type": "display_data"
    },
    {
     "data": {
      "application/vnd.jupyter.widget-view+json": {
       "model_id": "fd703112e01340f9b2611b830fa628b0",
       "version_major": 2,
       "version_minor": 0
      },
      "text/plain": [
       "Validation: |          | 0/? [00:00<?, ?it/s]"
      ]
     },
     "metadata": {},
     "output_type": "display_data"
    },
    {
     "data": {
      "application/vnd.jupyter.widget-view+json": {
       "model_id": "06f6b0f1603d48dcb213361ae256ddfb",
       "version_major": 2,
       "version_minor": 0
      },
      "text/plain": [
       "Validation: |          | 0/? [00:00<?, ?it/s]"
      ]
     },
     "metadata": {},
     "output_type": "display_data"
    },
    {
     "data": {
      "application/vnd.jupyter.widget-view+json": {
       "model_id": "57e05a565a254b0ebdd54c1eeedc9b54",
       "version_major": 2,
       "version_minor": 0
      },
      "text/plain": [
       "Validation: |          | 0/? [00:00<?, ?it/s]"
      ]
     },
     "metadata": {},
     "output_type": "display_data"
    },
    {
     "data": {
      "application/vnd.jupyter.widget-view+json": {
       "model_id": "b5e020329e104ee1b48e62db28be7c72",
       "version_major": 2,
       "version_minor": 0
      },
      "text/plain": [
       "Validation: |          | 0/? [00:00<?, ?it/s]"
      ]
     },
     "metadata": {},
     "output_type": "display_data"
    },
    {
     "data": {
      "application/vnd.jupyter.widget-view+json": {
       "model_id": "0ed577abfee74fd4a3231569436035d2",
       "version_major": 2,
       "version_minor": 0
      },
      "text/plain": [
       "Validation: |          | 0/? [00:00<?, ?it/s]"
      ]
     },
     "metadata": {},
     "output_type": "display_data"
    },
    {
     "data": {
      "application/vnd.jupyter.widget-view+json": {
       "model_id": "9ba0928393fa4d27b1d98c1a345af509",
       "version_major": 2,
       "version_minor": 0
      },
      "text/plain": [
       "Validation: |          | 0/? [00:00<?, ?it/s]"
      ]
     },
     "metadata": {},
     "output_type": "display_data"
    },
    {
     "data": {
      "application/vnd.jupyter.widget-view+json": {
       "model_id": "d9afb29991784e96a1ebaa8c5f80f36e",
       "version_major": 2,
       "version_minor": 0
      },
      "text/plain": [
       "Validation: |          | 0/? [00:00<?, ?it/s]"
      ]
     },
     "metadata": {},
     "output_type": "display_data"
    },
    {
     "data": {
      "application/vnd.jupyter.widget-view+json": {
       "model_id": "a97d59717dd94c5d9ba1eb1cfb67afc2",
       "version_major": 2,
       "version_minor": 0
      },
      "text/plain": [
       "Validation: |          | 0/? [00:00<?, ?it/s]"
      ]
     },
     "metadata": {},
     "output_type": "display_data"
    },
    {
     "data": {
      "application/vnd.jupyter.widget-view+json": {
       "model_id": "c1f7d3b4725a48a69863f0e0c5303136",
       "version_major": 2,
       "version_minor": 0
      },
      "text/plain": [
       "Validation: |          | 0/? [00:00<?, ?it/s]"
      ]
     },
     "metadata": {},
     "output_type": "display_data"
    },
    {
     "data": {
      "application/vnd.jupyter.widget-view+json": {
       "model_id": "3aca9ac2efeb416b92c045b44e1fef6f",
       "version_major": 2,
       "version_minor": 0
      },
      "text/plain": [
       "Validation: |          | 0/? [00:00<?, ?it/s]"
      ]
     },
     "metadata": {},
     "output_type": "display_data"
    },
    {
     "data": {
      "application/vnd.jupyter.widget-view+json": {
       "model_id": "ec112ba39d984c7aa2f9fc7355e63357",
       "version_major": 2,
       "version_minor": 0
      },
      "text/plain": [
       "Validation: |          | 0/? [00:00<?, ?it/s]"
      ]
     },
     "metadata": {},
     "output_type": "display_data"
    },
    {
     "data": {
      "application/vnd.jupyter.widget-view+json": {
       "model_id": "00488abac7b54370ace5c26189c26355",
       "version_major": 2,
       "version_minor": 0
      },
      "text/plain": [
       "Validation: |          | 0/? [00:00<?, ?it/s]"
      ]
     },
     "metadata": {},
     "output_type": "display_data"
    },
    {
     "data": {
      "application/vnd.jupyter.widget-view+json": {
       "model_id": "b4e274a9729640a389bcc6d553720fe0",
       "version_major": 2,
       "version_minor": 0
      },
      "text/plain": [
       "Validation: |          | 0/? [00:00<?, ?it/s]"
      ]
     },
     "metadata": {},
     "output_type": "display_data"
    },
    {
     "data": {
      "application/vnd.jupyter.widget-view+json": {
       "model_id": "0c0abad7d55f4195913923fa72cba052",
       "version_major": 2,
       "version_minor": 0
      },
      "text/plain": [
       "Validation: |          | 0/? [00:00<?, ?it/s]"
      ]
     },
     "metadata": {},
     "output_type": "display_data"
    },
    {
     "data": {
      "application/vnd.jupyter.widget-view+json": {
       "model_id": "bb42119fbb6349e38b98270c3196aad3",
       "version_major": 2,
       "version_minor": 0
      },
      "text/plain": [
       "Validation: |          | 0/? [00:00<?, ?it/s]"
      ]
     },
     "metadata": {},
     "output_type": "display_data"
    },
    {
     "data": {
      "application/vnd.jupyter.widget-view+json": {
       "model_id": "0d6608d59b474b3da964f388a4d86a09",
       "version_major": 2,
       "version_minor": 0
      },
      "text/plain": [
       "Validation: |          | 0/? [00:00<?, ?it/s]"
      ]
     },
     "metadata": {},
     "output_type": "display_data"
    },
    {
     "data": {
      "application/vnd.jupyter.widget-view+json": {
       "model_id": "24af96e914fe4a0bb45da63718121f75",
       "version_major": 2,
       "version_minor": 0
      },
      "text/plain": [
       "Validation: |          | 0/? [00:00<?, ?it/s]"
      ]
     },
     "metadata": {},
     "output_type": "display_data"
    },
    {
     "data": {
      "application/vnd.jupyter.widget-view+json": {
       "model_id": "5b125ad93e4e46ae8c35475e816eedbf",
       "version_major": 2,
       "version_minor": 0
      },
      "text/plain": [
       "Validation: |          | 0/? [00:00<?, ?it/s]"
      ]
     },
     "metadata": {},
     "output_type": "display_data"
    },
    {
     "data": {
      "application/vnd.jupyter.widget-view+json": {
       "model_id": "a47f692b59064f6cb26ed8e29a4abe8e",
       "version_major": 2,
       "version_minor": 0
      },
      "text/plain": [
       "Validation: |          | 0/? [00:00<?, ?it/s]"
      ]
     },
     "metadata": {},
     "output_type": "display_data"
    },
    {
     "data": {
      "application/vnd.jupyter.widget-view+json": {
       "model_id": "d6cca4947cad4f2c9906246e6be6746a",
       "version_major": 2,
       "version_minor": 0
      },
      "text/plain": [
       "Validation: |          | 0/? [00:00<?, ?it/s]"
      ]
     },
     "metadata": {},
     "output_type": "display_data"
    },
    {
     "data": {
      "application/vnd.jupyter.widget-view+json": {
       "model_id": "6f5b7cec37384eb98293439e396f9afa",
       "version_major": 2,
       "version_minor": 0
      },
      "text/plain": [
       "Validation: |          | 0/? [00:00<?, ?it/s]"
      ]
     },
     "metadata": {},
     "output_type": "display_data"
    },
    {
     "data": {
      "application/vnd.jupyter.widget-view+json": {
       "model_id": "419b7c458bc04524bb66e44f99c12638",
       "version_major": 2,
       "version_minor": 0
      },
      "text/plain": [
       "Validation: |          | 0/? [00:00<?, ?it/s]"
      ]
     },
     "metadata": {},
     "output_type": "display_data"
    },
    {
     "data": {
      "application/vnd.jupyter.widget-view+json": {
       "model_id": "68ea07d199d749efb8021c004d75c7fe",
       "version_major": 2,
       "version_minor": 0
      },
      "text/plain": [
       "Validation: |          | 0/? [00:00<?, ?it/s]"
      ]
     },
     "metadata": {},
     "output_type": "display_data"
    },
    {
     "data": {
      "application/vnd.jupyter.widget-view+json": {
       "model_id": "7146fb93d41c4ebeaca089ba7c5f5f93",
       "version_major": 2,
       "version_minor": 0
      },
      "text/plain": [
       "Validation: |          | 0/? [00:00<?, ?it/s]"
      ]
     },
     "metadata": {},
     "output_type": "display_data"
    },
    {
     "data": {
      "application/vnd.jupyter.widget-view+json": {
       "model_id": "abf1db03c8524c2d94779c753434d8f6",
       "version_major": 2,
       "version_minor": 0
      },
      "text/plain": [
       "Validation: |          | 0/? [00:00<?, ?it/s]"
      ]
     },
     "metadata": {},
     "output_type": "display_data"
    },
    {
     "data": {
      "application/vnd.jupyter.widget-view+json": {
       "model_id": "e49f95e212f94bdf81825d1e3975419a",
       "version_major": 2,
       "version_minor": 0
      },
      "text/plain": [
       "Validation: |          | 0/? [00:00<?, ?it/s]"
      ]
     },
     "metadata": {},
     "output_type": "display_data"
    },
    {
     "data": {
      "application/vnd.jupyter.widget-view+json": {
       "model_id": "b49085f4677148b097cb0eec0774cf10",
       "version_major": 2,
       "version_minor": 0
      },
      "text/plain": [
       "Validation: |          | 0/? [00:00<?, ?it/s]"
      ]
     },
     "metadata": {},
     "output_type": "display_data"
    },
    {
     "data": {
      "application/vnd.jupyter.widget-view+json": {
       "model_id": "aed866badc1545e0ad57da394d863dd4",
       "version_major": 2,
       "version_minor": 0
      },
      "text/plain": [
       "Validation: |          | 0/? [00:00<?, ?it/s]"
      ]
     },
     "metadata": {},
     "output_type": "display_data"
    },
    {
     "data": {
      "application/vnd.jupyter.widget-view+json": {
       "model_id": "c998af521437456cba8a6a53727fb5e4",
       "version_major": 2,
       "version_minor": 0
      },
      "text/plain": [
       "Validation: |          | 0/? [00:00<?, ?it/s]"
      ]
     },
     "metadata": {},
     "output_type": "display_data"
    },
    {
     "data": {
      "application/vnd.jupyter.widget-view+json": {
       "model_id": "11eb00c71b854830bd7e921f7d3bdfec",
       "version_major": 2,
       "version_minor": 0
      },
      "text/plain": [
       "Validation: |          | 0/? [00:00<?, ?it/s]"
      ]
     },
     "metadata": {},
     "output_type": "display_data"
    },
    {
     "data": {
      "application/vnd.jupyter.widget-view+json": {
       "model_id": "6b2d5e33860548f5a6133270b5afb75c",
       "version_major": 2,
       "version_minor": 0
      },
      "text/plain": [
       "Validation: |          | 0/? [00:00<?, ?it/s]"
      ]
     },
     "metadata": {},
     "output_type": "display_data"
    },
    {
     "data": {
      "application/vnd.jupyter.widget-view+json": {
       "model_id": "31bc33d6bb3e4f19a144af99ed61fb31",
       "version_major": 2,
       "version_minor": 0
      },
      "text/plain": [
       "Validation: |          | 0/? [00:00<?, ?it/s]"
      ]
     },
     "metadata": {},
     "output_type": "display_data"
    },
    {
     "data": {
      "application/vnd.jupyter.widget-view+json": {
       "model_id": "6b974036f6904cd2b6858953ecd414f7",
       "version_major": 2,
       "version_minor": 0
      },
      "text/plain": [
       "Validation: |          | 0/? [00:00<?, ?it/s]"
      ]
     },
     "metadata": {},
     "output_type": "display_data"
    },
    {
     "data": {
      "application/vnd.jupyter.widget-view+json": {
       "model_id": "842bfc54afd5473ea0ec55acb98c4c10",
       "version_major": 2,
       "version_minor": 0
      },
      "text/plain": [
       "Validation: |          | 0/? [00:00<?, ?it/s]"
      ]
     },
     "metadata": {},
     "output_type": "display_data"
    },
    {
     "data": {
      "application/vnd.jupyter.widget-view+json": {
       "model_id": "5f585e63648b4523bb982e41263813e9",
       "version_major": 2,
       "version_minor": 0
      },
      "text/plain": [
       "Validation: |          | 0/? [00:00<?, ?it/s]"
      ]
     },
     "metadata": {},
     "output_type": "display_data"
    },
    {
     "data": {
      "application/vnd.jupyter.widget-view+json": {
       "model_id": "d4ba61b1d7f74ce2bf20a775879e9c5c",
       "version_major": 2,
       "version_minor": 0
      },
      "text/plain": [
       "Validation: |          | 0/? [00:00<?, ?it/s]"
      ]
     },
     "metadata": {},
     "output_type": "display_data"
    },
    {
     "data": {
      "application/vnd.jupyter.widget-view+json": {
       "model_id": "37a7a21e150c43df8a016461dd423458",
       "version_major": 2,
       "version_minor": 0
      },
      "text/plain": [
       "Validation: |          | 0/? [00:00<?, ?it/s]"
      ]
     },
     "metadata": {},
     "output_type": "display_data"
    },
    {
     "data": {
      "application/vnd.jupyter.widget-view+json": {
       "model_id": "037f495fb2704ea1b463c4d6ee858847",
       "version_major": 2,
       "version_minor": 0
      },
      "text/plain": [
       "Validation: |          | 0/? [00:00<?, ?it/s]"
      ]
     },
     "metadata": {},
     "output_type": "display_data"
    },
    {
     "data": {
      "application/vnd.jupyter.widget-view+json": {
       "model_id": "0ef5163a26bf4ae6b4f369f08aaf38e7",
       "version_major": 2,
       "version_minor": 0
      },
      "text/plain": [
       "Validation: |          | 0/? [00:00<?, ?it/s]"
      ]
     },
     "metadata": {},
     "output_type": "display_data"
    },
    {
     "data": {
      "application/vnd.jupyter.widget-view+json": {
       "model_id": "ca3dbf9d0da3436f9b6fd47e5d3928b5",
       "version_major": 2,
       "version_minor": 0
      },
      "text/plain": [
       "Validation: |          | 0/? [00:00<?, ?it/s]"
      ]
     },
     "metadata": {},
     "output_type": "display_data"
    },
    {
     "data": {
      "application/vnd.jupyter.widget-view+json": {
       "model_id": "9e2758a6aec04983aa194d3cc47f9654",
       "version_major": 2,
       "version_minor": 0
      },
      "text/plain": [
       "Validation: |          | 0/? [00:00<?, ?it/s]"
      ]
     },
     "metadata": {},
     "output_type": "display_data"
    },
    {
     "data": {
      "application/vnd.jupyter.widget-view+json": {
       "model_id": "caca58b0db27455faa4ee29e930ecec1",
       "version_major": 2,
       "version_minor": 0
      },
      "text/plain": [
       "Validation: |          | 0/? [00:00<?, ?it/s]"
      ]
     },
     "metadata": {},
     "output_type": "display_data"
    },
    {
     "data": {
      "application/vnd.jupyter.widget-view+json": {
       "model_id": "b07449a5507e498399e5d99378d289c3",
       "version_major": 2,
       "version_minor": 0
      },
      "text/plain": [
       "Validation: |          | 0/? [00:00<?, ?it/s]"
      ]
     },
     "metadata": {},
     "output_type": "display_data"
    },
    {
     "data": {
      "application/vnd.jupyter.widget-view+json": {
       "model_id": "9db8aa632db4419ea771bb2772ae7de0",
       "version_major": 2,
       "version_minor": 0
      },
      "text/plain": [
       "Validation: |          | 0/? [00:00<?, ?it/s]"
      ]
     },
     "metadata": {},
     "output_type": "display_data"
    },
    {
     "data": {
      "application/vnd.jupyter.widget-view+json": {
       "model_id": "8e602549c62a49b2aec7525d08b4fe98",
       "version_major": 2,
       "version_minor": 0
      },
      "text/plain": [
       "Validation: |          | 0/? [00:00<?, ?it/s]"
      ]
     },
     "metadata": {},
     "output_type": "display_data"
    },
    {
     "data": {
      "application/vnd.jupyter.widget-view+json": {
       "model_id": "8b9e8103d1f34d7ab7a081b8872693c1",
       "version_major": 2,
       "version_minor": 0
      },
      "text/plain": [
       "Validation: |          | 0/? [00:00<?, ?it/s]"
      ]
     },
     "metadata": {},
     "output_type": "display_data"
    },
    {
     "data": {
      "application/vnd.jupyter.widget-view+json": {
       "model_id": "edb1c349e1724a0c83a1c73035984a00",
       "version_major": 2,
       "version_minor": 0
      },
      "text/plain": [
       "Validation: |          | 0/? [00:00<?, ?it/s]"
      ]
     },
     "metadata": {},
     "output_type": "display_data"
    },
    {
     "data": {
      "application/vnd.jupyter.widget-view+json": {
       "model_id": "9164dab210e649ca84d556daacf5ad30",
       "version_major": 2,
       "version_minor": 0
      },
      "text/plain": [
       "Validation: |          | 0/? [00:00<?, ?it/s]"
      ]
     },
     "metadata": {},
     "output_type": "display_data"
    },
    {
     "data": {
      "application/vnd.jupyter.widget-view+json": {
       "model_id": "f27cc38efca64ed1aa465a60fe774ac4",
       "version_major": 2,
       "version_minor": 0
      },
      "text/plain": [
       "Validation: |          | 0/? [00:00<?, ?it/s]"
      ]
     },
     "metadata": {},
     "output_type": "display_data"
    },
    {
     "data": {
      "application/vnd.jupyter.widget-view+json": {
       "model_id": "a3c54d8d29194ce28513cef6cc18e69e",
       "version_major": 2,
       "version_minor": 0
      },
      "text/plain": [
       "Validation: |          | 0/? [00:00<?, ?it/s]"
      ]
     },
     "metadata": {},
     "output_type": "display_data"
    },
    {
     "data": {
      "application/vnd.jupyter.widget-view+json": {
       "model_id": "74e6ab97fdf4415e8fe4f5092927fa75",
       "version_major": 2,
       "version_minor": 0
      },
      "text/plain": [
       "Validation: |          | 0/? [00:00<?, ?it/s]"
      ]
     },
     "metadata": {},
     "output_type": "display_data"
    },
    {
     "data": {
      "application/vnd.jupyter.widget-view+json": {
       "model_id": "bf602b191ac34825b404a027b96ef094",
       "version_major": 2,
       "version_minor": 0
      },
      "text/plain": [
       "Validation: |          | 0/? [00:00<?, ?it/s]"
      ]
     },
     "metadata": {},
     "output_type": "display_data"
    },
    {
     "data": {
      "application/vnd.jupyter.widget-view+json": {
       "model_id": "3e51357f7bb64e81859eed2659eaad0c",
       "version_major": 2,
       "version_minor": 0
      },
      "text/plain": [
       "Validation: |          | 0/? [00:00<?, ?it/s]"
      ]
     },
     "metadata": {},
     "output_type": "display_data"
    },
    {
     "data": {
      "application/vnd.jupyter.widget-view+json": {
       "model_id": "0a979b20d56d4559a708d297b6a96544",
       "version_major": 2,
       "version_minor": 0
      },
      "text/plain": [
       "Validation: |          | 0/? [00:00<?, ?it/s]"
      ]
     },
     "metadata": {},
     "output_type": "display_data"
    },
    {
     "data": {
      "application/vnd.jupyter.widget-view+json": {
       "model_id": "94c66c61fbc84e869544b4734bc6c508",
       "version_major": 2,
       "version_minor": 0
      },
      "text/plain": [
       "Validation: |          | 0/? [00:00<?, ?it/s]"
      ]
     },
     "metadata": {},
     "output_type": "display_data"
    },
    {
     "data": {
      "application/vnd.jupyter.widget-view+json": {
       "model_id": "90428f8b86d44f19bcd54936b5a5ccfc",
       "version_major": 2,
       "version_minor": 0
      },
      "text/plain": [
       "Validation: |          | 0/? [00:00<?, ?it/s]"
      ]
     },
     "metadata": {},
     "output_type": "display_data"
    },
    {
     "data": {
      "application/vnd.jupyter.widget-view+json": {
       "model_id": "3f41a2be0454418abd4009b660db8567",
       "version_major": 2,
       "version_minor": 0
      },
      "text/plain": [
       "Validation: |          | 0/? [00:00<?, ?it/s]"
      ]
     },
     "metadata": {},
     "output_type": "display_data"
    },
    {
     "data": {
      "application/vnd.jupyter.widget-view+json": {
       "model_id": "b4ceca45cca44fd9912a7cae2fbaf1ad",
       "version_major": 2,
       "version_minor": 0
      },
      "text/plain": [
       "Validation: |          | 0/? [00:00<?, ?it/s]"
      ]
     },
     "metadata": {},
     "output_type": "display_data"
    },
    {
     "data": {
      "application/vnd.jupyter.widget-view+json": {
       "model_id": "64f02bd31a414b308b7d762cc0dfec00",
       "version_major": 2,
       "version_minor": 0
      },
      "text/plain": [
       "Validation: |          | 0/? [00:00<?, ?it/s]"
      ]
     },
     "metadata": {},
     "output_type": "display_data"
    },
    {
     "data": {
      "application/vnd.jupyter.widget-view+json": {
       "model_id": "5e766f76f588448d8c8c21a59b022736",
       "version_major": 2,
       "version_minor": 0
      },
      "text/plain": [
       "Validation: |          | 0/? [00:00<?, ?it/s]"
      ]
     },
     "metadata": {},
     "output_type": "display_data"
    },
    {
     "data": {
      "application/vnd.jupyter.widget-view+json": {
       "model_id": "1d905a436206436a8d6ade8ae252e105",
       "version_major": 2,
       "version_minor": 0
      },
      "text/plain": [
       "Validation: |          | 0/? [00:00<?, ?it/s]"
      ]
     },
     "metadata": {},
     "output_type": "display_data"
    },
    {
     "data": {
      "application/vnd.jupyter.widget-view+json": {
       "model_id": "309888ca11724d119ee66d3cf23f0340",
       "version_major": 2,
       "version_minor": 0
      },
      "text/plain": [
       "Validation: |          | 0/? [00:00<?, ?it/s]"
      ]
     },
     "metadata": {},
     "output_type": "display_data"
    },
    {
     "data": {
      "application/vnd.jupyter.widget-view+json": {
       "model_id": "2220d4d09e9c46b5ada73a80f1455d82",
       "version_major": 2,
       "version_minor": 0
      },
      "text/plain": [
       "Validation: |          | 0/? [00:00<?, ?it/s]"
      ]
     },
     "metadata": {},
     "output_type": "display_data"
    },
    {
     "data": {
      "application/vnd.jupyter.widget-view+json": {
       "model_id": "668680f2a9b94e83882f41aea95736b7",
       "version_major": 2,
       "version_minor": 0
      },
      "text/plain": [
       "Validation: |          | 0/? [00:00<?, ?it/s]"
      ]
     },
     "metadata": {},
     "output_type": "display_data"
    },
    {
     "data": {
      "application/vnd.jupyter.widget-view+json": {
       "model_id": "92e0ef35d92e49ac8a50c5d6664f4ec8",
       "version_major": 2,
       "version_minor": 0
      },
      "text/plain": [
       "Validation: |          | 0/? [00:00<?, ?it/s]"
      ]
     },
     "metadata": {},
     "output_type": "display_data"
    },
    {
     "data": {
      "application/vnd.jupyter.widget-view+json": {
       "model_id": "3ff53ad7a16f4c97a01b003f8801666c",
       "version_major": 2,
       "version_minor": 0
      },
      "text/plain": [
       "Validation: |          | 0/? [00:00<?, ?it/s]"
      ]
     },
     "metadata": {},
     "output_type": "display_data"
    },
    {
     "data": {
      "application/vnd.jupyter.widget-view+json": {
       "model_id": "acbcbf6dd091481fa5b0ab0fa67caabb",
       "version_major": 2,
       "version_minor": 0
      },
      "text/plain": [
       "Validation: |          | 0/? [00:00<?, ?it/s]"
      ]
     },
     "metadata": {},
     "output_type": "display_data"
    },
    {
     "data": {
      "application/vnd.jupyter.widget-view+json": {
       "model_id": "991f37ad834b43fcbc3da5a21621c0d2",
       "version_major": 2,
       "version_minor": 0
      },
      "text/plain": [
       "Validation: |          | 0/? [00:00<?, ?it/s]"
      ]
     },
     "metadata": {},
     "output_type": "display_data"
    },
    {
     "data": {
      "application/vnd.jupyter.widget-view+json": {
       "model_id": "70fb2f88c190440797726dbc066fc5bd",
       "version_major": 2,
       "version_minor": 0
      },
      "text/plain": [
       "Validation: |          | 0/? [00:00<?, ?it/s]"
      ]
     },
     "metadata": {},
     "output_type": "display_data"
    },
    {
     "data": {
      "application/vnd.jupyter.widget-view+json": {
       "model_id": "f4569f2fc6f5437ca1544bf3aa674405",
       "version_major": 2,
       "version_minor": 0
      },
      "text/plain": [
       "Validation: |          | 0/? [00:00<?, ?it/s]"
      ]
     },
     "metadata": {},
     "output_type": "display_data"
    },
    {
     "data": {
      "application/vnd.jupyter.widget-view+json": {
       "model_id": "650ac8c579714d85bdc13af0116f41cd",
       "version_major": 2,
       "version_minor": 0
      },
      "text/plain": [
       "Validation: |          | 0/? [00:00<?, ?it/s]"
      ]
     },
     "metadata": {},
     "output_type": "display_data"
    },
    {
     "data": {
      "application/vnd.jupyter.widget-view+json": {
       "model_id": "594da7c8cf5f4229a1629c33d40004f1",
       "version_major": 2,
       "version_minor": 0
      },
      "text/plain": [
       "Validation: |          | 0/? [00:00<?, ?it/s]"
      ]
     },
     "metadata": {},
     "output_type": "display_data"
    },
    {
     "data": {
      "application/vnd.jupyter.widget-view+json": {
       "model_id": "71306127330144a7846623cf1d4a5745",
       "version_major": 2,
       "version_minor": 0
      },
      "text/plain": [
       "Validation: |          | 0/? [00:00<?, ?it/s]"
      ]
     },
     "metadata": {},
     "output_type": "display_data"
    },
    {
     "data": {
      "application/vnd.jupyter.widget-view+json": {
       "model_id": "f69d2c41f6c048aea5dc500a945c8163",
       "version_major": 2,
       "version_minor": 0
      },
      "text/plain": [
       "Validation: |          | 0/? [00:00<?, ?it/s]"
      ]
     },
     "metadata": {},
     "output_type": "display_data"
    },
    {
     "data": {
      "application/vnd.jupyter.widget-view+json": {
       "model_id": "faa8cab2dc1f45a1a461036983d38e1e",
       "version_major": 2,
       "version_minor": 0
      },
      "text/plain": [
       "Validation: |          | 0/? [00:00<?, ?it/s]"
      ]
     },
     "metadata": {},
     "output_type": "display_data"
    },
    {
     "data": {
      "application/vnd.jupyter.widget-view+json": {
       "model_id": "7b9d4c7078f846f99f0bc03ef600f2cd",
       "version_major": 2,
       "version_minor": 0
      },
      "text/plain": [
       "Validation: |          | 0/? [00:00<?, ?it/s]"
      ]
     },
     "metadata": {},
     "output_type": "display_data"
    },
    {
     "data": {
      "application/vnd.jupyter.widget-view+json": {
       "model_id": "0ecce7157339446dac01ea3c201f894b",
       "version_major": 2,
       "version_minor": 0
      },
      "text/plain": [
       "Validation: |          | 0/? [00:00<?, ?it/s]"
      ]
     },
     "metadata": {},
     "output_type": "display_data"
    },
    {
     "data": {
      "application/vnd.jupyter.widget-view+json": {
       "model_id": "2bcc4b715674444ea13de74456af7015",
       "version_major": 2,
       "version_minor": 0
      },
      "text/plain": [
       "Validation: |          | 0/? [00:00<?, ?it/s]"
      ]
     },
     "metadata": {},
     "output_type": "display_data"
    },
    {
     "data": {
      "application/vnd.jupyter.widget-view+json": {
       "model_id": "3d4dee0ad1a94ddd958ec13edb493415",
       "version_major": 2,
       "version_minor": 0
      },
      "text/plain": [
       "Validation: |          | 0/? [00:00<?, ?it/s]"
      ]
     },
     "metadata": {},
     "output_type": "display_data"
    },
    {
     "data": {
      "application/vnd.jupyter.widget-view+json": {
       "model_id": "d3ee35c697054eaa9be4877f8fa8968a",
       "version_major": 2,
       "version_minor": 0
      },
      "text/plain": [
       "Validation: |          | 0/? [00:00<?, ?it/s]"
      ]
     },
     "metadata": {},
     "output_type": "display_data"
    },
    {
     "data": {
      "application/vnd.jupyter.widget-view+json": {
       "model_id": "77077c5260c74cc996d5d47096abbba5",
       "version_major": 2,
       "version_minor": 0
      },
      "text/plain": [
       "Validation: |          | 0/? [00:00<?, ?it/s]"
      ]
     },
     "metadata": {},
     "output_type": "display_data"
    },
    {
     "data": {
      "application/vnd.jupyter.widget-view+json": {
       "model_id": "2fa1604972af4da6bbfa6813482a4743",
       "version_major": 2,
       "version_minor": 0
      },
      "text/plain": [
       "Validation: |          | 0/? [00:00<?, ?it/s]"
      ]
     },
     "metadata": {},
     "output_type": "display_data"
    },
    {
     "data": {
      "application/vnd.jupyter.widget-view+json": {
       "model_id": "7d0fd0b4d38c4c4db19bb67397d76842",
       "version_major": 2,
       "version_minor": 0
      },
      "text/plain": [
       "Validation: |          | 0/? [00:00<?, ?it/s]"
      ]
     },
     "metadata": {},
     "output_type": "display_data"
    },
    {
     "data": {
      "application/vnd.jupyter.widget-view+json": {
       "model_id": "ec4386919df34166bc7f898b9f619f61",
       "version_major": 2,
       "version_minor": 0
      },
      "text/plain": [
       "Validation: |          | 0/? [00:00<?, ?it/s]"
      ]
     },
     "metadata": {},
     "output_type": "display_data"
    },
    {
     "data": {
      "application/vnd.jupyter.widget-view+json": {
       "model_id": "a130c61ceb7f4e099dccee30fd960049",
       "version_major": 2,
       "version_minor": 0
      },
      "text/plain": [
       "Validation: |          | 0/? [00:00<?, ?it/s]"
      ]
     },
     "metadata": {},
     "output_type": "display_data"
    },
    {
     "data": {
      "application/vnd.jupyter.widget-view+json": {
       "model_id": "18d6280ce81e43738e0eb43cd200c822",
       "version_major": 2,
       "version_minor": 0
      },
      "text/plain": [
       "Validation: |          | 0/? [00:00<?, ?it/s]"
      ]
     },
     "metadata": {},
     "output_type": "display_data"
    },
    {
     "data": {
      "application/vnd.jupyter.widget-view+json": {
       "model_id": "fc5fad6cd9a1469188c274a8624a3b35",
       "version_major": 2,
       "version_minor": 0
      },
      "text/plain": [
       "Validation: |          | 0/? [00:00<?, ?it/s]"
      ]
     },
     "metadata": {},
     "output_type": "display_data"
    },
    {
     "data": {
      "application/vnd.jupyter.widget-view+json": {
       "model_id": "e8ecdc48243e4a34a6a47fcc79ece5f3",
       "version_major": 2,
       "version_minor": 0
      },
      "text/plain": [
       "Validation: |          | 0/? [00:00<?, ?it/s]"
      ]
     },
     "metadata": {},
     "output_type": "display_data"
    },
    {
     "data": {
      "application/vnd.jupyter.widget-view+json": {
       "model_id": "b3815bba85b74f6696c4597b8dea5d0b",
       "version_major": 2,
       "version_minor": 0
      },
      "text/plain": [
       "Validation: |          | 0/? [00:00<?, ?it/s]"
      ]
     },
     "metadata": {},
     "output_type": "display_data"
    },
    {
     "data": {
      "application/vnd.jupyter.widget-view+json": {
       "model_id": "6c1fce0bc0f348bebf7a07f9a18d9666",
       "version_major": 2,
       "version_minor": 0
      },
      "text/plain": [
       "Validation: |          | 0/? [00:00<?, ?it/s]"
      ]
     },
     "metadata": {},
     "output_type": "display_data"
    },
    {
     "data": {
      "application/vnd.jupyter.widget-view+json": {
       "model_id": "a8de1d3c65a74399928b7df45aed5661",
       "version_major": 2,
       "version_minor": 0
      },
      "text/plain": [
       "Validation: |          | 0/? [00:00<?, ?it/s]"
      ]
     },
     "metadata": {},
     "output_type": "display_data"
    },
    {
     "data": {
      "application/vnd.jupyter.widget-view+json": {
       "model_id": "51a0e2589c7c4623a8629c855c33a20e",
       "version_major": 2,
       "version_minor": 0
      },
      "text/plain": [
       "Validation: |          | 0/? [00:00<?, ?it/s]"
      ]
     },
     "metadata": {},
     "output_type": "display_data"
    },
    {
     "data": {
      "application/vnd.jupyter.widget-view+json": {
       "model_id": "0d0a60f0e6d541d080134b9848d33470",
       "version_major": 2,
       "version_minor": 0
      },
      "text/plain": [
       "Validation: |          | 0/? [00:00<?, ?it/s]"
      ]
     },
     "metadata": {},
     "output_type": "display_data"
    },
    {
     "data": {
      "application/vnd.jupyter.widget-view+json": {
       "model_id": "64e41a7b8c0143fda6d99957bdffe604",
       "version_major": 2,
       "version_minor": 0
      },
      "text/plain": [
       "Validation: |          | 0/? [00:00<?, ?it/s]"
      ]
     },
     "metadata": {},
     "output_type": "display_data"
    },
    {
     "data": {
      "application/vnd.jupyter.widget-view+json": {
       "model_id": "fbc181422212429f919804b03ae3dff1",
       "version_major": 2,
       "version_minor": 0
      },
      "text/plain": [
       "Validation: |          | 0/? [00:00<?, ?it/s]"
      ]
     },
     "metadata": {},
     "output_type": "display_data"
    },
    {
     "data": {
      "application/vnd.jupyter.widget-view+json": {
       "model_id": "95e09a4448944a95bd92e97a7bb1ab5f",
       "version_major": 2,
       "version_minor": 0
      },
      "text/plain": [
       "Validation: |          | 0/? [00:00<?, ?it/s]"
      ]
     },
     "metadata": {},
     "output_type": "display_data"
    },
    {
     "data": {
      "application/vnd.jupyter.widget-view+json": {
       "model_id": "69470fbbdd954bcb814ea929231a9039",
       "version_major": 2,
       "version_minor": 0
      },
      "text/plain": [
       "Validation: |          | 0/? [00:00<?, ?it/s]"
      ]
     },
     "metadata": {},
     "output_type": "display_data"
    },
    {
     "data": {
      "application/vnd.jupyter.widget-view+json": {
       "model_id": "c1f06a64e4f54ae895941ea8c4b2f020",
       "version_major": 2,
       "version_minor": 0
      },
      "text/plain": [
       "Validation: |          | 0/? [00:00<?, ?it/s]"
      ]
     },
     "metadata": {},
     "output_type": "display_data"
    },
    {
     "data": {
      "application/vnd.jupyter.widget-view+json": {
       "model_id": "ce66d0742a5f49748e654b30e936e2e2",
       "version_major": 2,
       "version_minor": 0
      },
      "text/plain": [
       "Validation: |          | 0/? [00:00<?, ?it/s]"
      ]
     },
     "metadata": {},
     "output_type": "display_data"
    },
    {
     "data": {
      "application/vnd.jupyter.widget-view+json": {
       "model_id": "972ebc960bb444a987e624ecf3d9c88f",
       "version_major": 2,
       "version_minor": 0
      },
      "text/plain": [
       "Validation: |          | 0/? [00:00<?, ?it/s]"
      ]
     },
     "metadata": {},
     "output_type": "display_data"
    },
    {
     "data": {
      "application/vnd.jupyter.widget-view+json": {
       "model_id": "5555598faced48f0ac10f35e05e01b42",
       "version_major": 2,
       "version_minor": 0
      },
      "text/plain": [
       "Validation: |          | 0/? [00:00<?, ?it/s]"
      ]
     },
     "metadata": {},
     "output_type": "display_data"
    },
    {
     "data": {
      "application/vnd.jupyter.widget-view+json": {
       "model_id": "509e605e8297478badf2cb0cb1efc7a4",
       "version_major": 2,
       "version_minor": 0
      },
      "text/plain": [
       "Validation: |          | 0/? [00:00<?, ?it/s]"
      ]
     },
     "metadata": {},
     "output_type": "display_data"
    },
    {
     "data": {
      "application/vnd.jupyter.widget-view+json": {
       "model_id": "5023aa818cbf4195be5ad5e72a88bcd0",
       "version_major": 2,
       "version_minor": 0
      },
      "text/plain": [
       "Validation: |          | 0/? [00:00<?, ?it/s]"
      ]
     },
     "metadata": {},
     "output_type": "display_data"
    },
    {
     "data": {
      "application/vnd.jupyter.widget-view+json": {
       "model_id": "e5333b90926c4c0490457d29e645f472",
       "version_major": 2,
       "version_minor": 0
      },
      "text/plain": [
       "Validation: |          | 0/? [00:00<?, ?it/s]"
      ]
     },
     "metadata": {},
     "output_type": "display_data"
    },
    {
     "data": {
      "application/vnd.jupyter.widget-view+json": {
       "model_id": "2709e3912e964bbab06674b6180a342f",
       "version_major": 2,
       "version_minor": 0
      },
      "text/plain": [
       "Validation: |          | 0/? [00:00<?, ?it/s]"
      ]
     },
     "metadata": {},
     "output_type": "display_data"
    },
    {
     "data": {
      "application/vnd.jupyter.widget-view+json": {
       "model_id": "0ed674ef7efe41879b0f90376843ce01",
       "version_major": 2,
       "version_minor": 0
      },
      "text/plain": [
       "Validation: |          | 0/? [00:00<?, ?it/s]"
      ]
     },
     "metadata": {},
     "output_type": "display_data"
    },
    {
     "data": {
      "application/vnd.jupyter.widget-view+json": {
       "model_id": "48d2df2a32b149c485bafc1ed11f22d5",
       "version_major": 2,
       "version_minor": 0
      },
      "text/plain": [
       "Validation: |          | 0/? [00:00<?, ?it/s]"
      ]
     },
     "metadata": {},
     "output_type": "display_data"
    },
    {
     "data": {
      "application/vnd.jupyter.widget-view+json": {
       "model_id": "ffc8637f18df4d0183a7b8ecc1af9c9d",
       "version_major": 2,
       "version_minor": 0
      },
      "text/plain": [
       "Validation: |          | 0/? [00:00<?, ?it/s]"
      ]
     },
     "metadata": {},
     "output_type": "display_data"
    },
    {
     "data": {
      "application/vnd.jupyter.widget-view+json": {
       "model_id": "bcf6c9badbd84af2ad998aa58c289c96",
       "version_major": 2,
       "version_minor": 0
      },
      "text/plain": [
       "Validation: |          | 0/? [00:00<?, ?it/s]"
      ]
     },
     "metadata": {},
     "output_type": "display_data"
    },
    {
     "data": {
      "application/vnd.jupyter.widget-view+json": {
       "model_id": "fe7b8fb0dcb9413cb47880fb70ee03ee",
       "version_major": 2,
       "version_minor": 0
      },
      "text/plain": [
       "Validation: |          | 0/? [00:00<?, ?it/s]"
      ]
     },
     "metadata": {},
     "output_type": "display_data"
    },
    {
     "data": {
      "application/vnd.jupyter.widget-view+json": {
       "model_id": "c3a455e0182a47c9bec297db4dd4562f",
       "version_major": 2,
       "version_minor": 0
      },
      "text/plain": [
       "Validation: |          | 0/? [00:00<?, ?it/s]"
      ]
     },
     "metadata": {},
     "output_type": "display_data"
    },
    {
     "data": {
      "application/vnd.jupyter.widget-view+json": {
       "model_id": "1fd7cc53412146f1a4f086612116b7f6",
       "version_major": 2,
       "version_minor": 0
      },
      "text/plain": [
       "Validation: |          | 0/? [00:00<?, ?it/s]"
      ]
     },
     "metadata": {},
     "output_type": "display_data"
    },
    {
     "data": {
      "application/vnd.jupyter.widget-view+json": {
       "model_id": "5fa2981403c44f5795218b14b23b4910",
       "version_major": 2,
       "version_minor": 0
      },
      "text/plain": [
       "Validation: |          | 0/? [00:00<?, ?it/s]"
      ]
     },
     "metadata": {},
     "output_type": "display_data"
    },
    {
     "data": {
      "application/vnd.jupyter.widget-view+json": {
       "model_id": "19b7d1b12dc74617bd635b1932e7ba89",
       "version_major": 2,
       "version_minor": 0
      },
      "text/plain": [
       "Validation: |          | 0/? [00:00<?, ?it/s]"
      ]
     },
     "metadata": {},
     "output_type": "display_data"
    },
    {
     "data": {
      "application/vnd.jupyter.widget-view+json": {
       "model_id": "843cd01938d04d399f1a91d31fc98013",
       "version_major": 2,
       "version_minor": 0
      },
      "text/plain": [
       "Validation: |          | 0/? [00:00<?, ?it/s]"
      ]
     },
     "metadata": {},
     "output_type": "display_data"
    },
    {
     "data": {
      "application/vnd.jupyter.widget-view+json": {
       "model_id": "11b07645dfaa42378e3ef3864564bbaf",
       "version_major": 2,
       "version_minor": 0
      },
      "text/plain": [
       "Validation: |          | 0/? [00:00<?, ?it/s]"
      ]
     },
     "metadata": {},
     "output_type": "display_data"
    },
    {
     "data": {
      "application/vnd.jupyter.widget-view+json": {
       "model_id": "f4e931f9e607422888d0e6cac25824b5",
       "version_major": 2,
       "version_minor": 0
      },
      "text/plain": [
       "Validation: |          | 0/? [00:00<?, ?it/s]"
      ]
     },
     "metadata": {},
     "output_type": "display_data"
    },
    {
     "data": {
      "application/vnd.jupyter.widget-view+json": {
       "model_id": "f70d72b65ee4489ebf34d2db7cd83f24",
       "version_major": 2,
       "version_minor": 0
      },
      "text/plain": [
       "Validation: |          | 0/? [00:00<?, ?it/s]"
      ]
     },
     "metadata": {},
     "output_type": "display_data"
    },
    {
     "data": {
      "application/vnd.jupyter.widget-view+json": {
       "model_id": "c925f863d9fd4a11825a3134a23e60e9",
       "version_major": 2,
       "version_minor": 0
      },
      "text/plain": [
       "Validation: |          | 0/? [00:00<?, ?it/s]"
      ]
     },
     "metadata": {},
     "output_type": "display_data"
    },
    {
     "data": {
      "application/vnd.jupyter.widget-view+json": {
       "model_id": "dec948acecf742978de9357e782e7d0e",
       "version_major": 2,
       "version_minor": 0
      },
      "text/plain": [
       "Validation: |          | 0/? [00:00<?, ?it/s]"
      ]
     },
     "metadata": {},
     "output_type": "display_data"
    },
    {
     "data": {
      "application/vnd.jupyter.widget-view+json": {
       "model_id": "2b092b93879f44ffb4976f26f0b27757",
       "version_major": 2,
       "version_minor": 0
      },
      "text/plain": [
       "Validation: |          | 0/? [00:00<?, ?it/s]"
      ]
     },
     "metadata": {},
     "output_type": "display_data"
    },
    {
     "data": {
      "application/vnd.jupyter.widget-view+json": {
       "model_id": "02f8c1a1561c4a868c72d023b00911af",
       "version_major": 2,
       "version_minor": 0
      },
      "text/plain": [
       "Validation: |          | 0/? [00:00<?, ?it/s]"
      ]
     },
     "metadata": {},
     "output_type": "display_data"
    },
    {
     "data": {
      "application/vnd.jupyter.widget-view+json": {
       "model_id": "a6bae887df12442cb8f7c7aa417ef5c8",
       "version_major": 2,
       "version_minor": 0
      },
      "text/plain": [
       "Validation: |          | 0/? [00:00<?, ?it/s]"
      ]
     },
     "metadata": {},
     "output_type": "display_data"
    },
    {
     "data": {
      "application/vnd.jupyter.widget-view+json": {
       "model_id": "4db8c93d12ff4f2faa7b064576e99fb5",
       "version_major": 2,
       "version_minor": 0
      },
      "text/plain": [
       "Validation: |          | 0/? [00:00<?, ?it/s]"
      ]
     },
     "metadata": {},
     "output_type": "display_data"
    },
    {
     "data": {
      "application/vnd.jupyter.widget-view+json": {
       "model_id": "961b012ca09e4628951fac1e94ba7852",
       "version_major": 2,
       "version_minor": 0
      },
      "text/plain": [
       "Validation: |          | 0/? [00:00<?, ?it/s]"
      ]
     },
     "metadata": {},
     "output_type": "display_data"
    },
    {
     "data": {
      "application/vnd.jupyter.widget-view+json": {
       "model_id": "d0f803da09c74a07af9bd5c9cc6fa785",
       "version_major": 2,
       "version_minor": 0
      },
      "text/plain": [
       "Validation: |          | 0/? [00:00<?, ?it/s]"
      ]
     },
     "metadata": {},
     "output_type": "display_data"
    },
    {
     "data": {
      "application/vnd.jupyter.widget-view+json": {
       "model_id": "afd3eae52c8d4467be5dfa2901d75fc6",
       "version_major": 2,
       "version_minor": 0
      },
      "text/plain": [
       "Validation: |          | 0/? [00:00<?, ?it/s]"
      ]
     },
     "metadata": {},
     "output_type": "display_data"
    },
    {
     "data": {
      "application/vnd.jupyter.widget-view+json": {
       "model_id": "94b8edb760654bcdb32d6d5c98d0cb06",
       "version_major": 2,
       "version_minor": 0
      },
      "text/plain": [
       "Validation: |          | 0/? [00:00<?, ?it/s]"
      ]
     },
     "metadata": {},
     "output_type": "display_data"
    },
    {
     "data": {
      "application/vnd.jupyter.widget-view+json": {
       "model_id": "a8c9a84dc2374200a5a66f7de39d640c",
       "version_major": 2,
       "version_minor": 0
      },
      "text/plain": [
       "Validation: |          | 0/? [00:00<?, ?it/s]"
      ]
     },
     "metadata": {},
     "output_type": "display_data"
    },
    {
     "data": {
      "application/vnd.jupyter.widget-view+json": {
       "model_id": "ac4f9c1bbaca4f7fb78871b2369aa518",
       "version_major": 2,
       "version_minor": 0
      },
      "text/plain": [
       "Validation: |          | 0/? [00:00<?, ?it/s]"
      ]
     },
     "metadata": {},
     "output_type": "display_data"
    },
    {
     "data": {
      "application/vnd.jupyter.widget-view+json": {
       "model_id": "145a11cf805943b29adf91b8f8c13ca7",
       "version_major": 2,
       "version_minor": 0
      },
      "text/plain": [
       "Validation: |          | 0/? [00:00<?, ?it/s]"
      ]
     },
     "metadata": {},
     "output_type": "display_data"
    },
    {
     "data": {
      "application/vnd.jupyter.widget-view+json": {
       "model_id": "d3e2f45e94de458d9c23fa26b2a60751",
       "version_major": 2,
       "version_minor": 0
      },
      "text/plain": [
       "Validation: |          | 0/? [00:00<?, ?it/s]"
      ]
     },
     "metadata": {},
     "output_type": "display_data"
    },
    {
     "data": {
      "application/vnd.jupyter.widget-view+json": {
       "model_id": "dee23f1604374501968747bb63eb6123",
       "version_major": 2,
       "version_minor": 0
      },
      "text/plain": [
       "Validation: |          | 0/? [00:00<?, ?it/s]"
      ]
     },
     "metadata": {},
     "output_type": "display_data"
    },
    {
     "data": {
      "application/vnd.jupyter.widget-view+json": {
       "model_id": "5a9dbb6b01a748d28deec965bcdb0338",
       "version_major": 2,
       "version_minor": 0
      },
      "text/plain": [
       "Validation: |          | 0/? [00:00<?, ?it/s]"
      ]
     },
     "metadata": {},
     "output_type": "display_data"
    },
    {
     "data": {
      "application/vnd.jupyter.widget-view+json": {
       "model_id": "8482dd0820544de188117dda57a441d5",
       "version_major": 2,
       "version_minor": 0
      },
      "text/plain": [
       "Validation: |          | 0/? [00:00<?, ?it/s]"
      ]
     },
     "metadata": {},
     "output_type": "display_data"
    },
    {
     "data": {
      "application/vnd.jupyter.widget-view+json": {
       "model_id": "0b2d6b9a392a4c36902899c5cfbd4934",
       "version_major": 2,
       "version_minor": 0
      },
      "text/plain": [
       "Validation: |          | 0/? [00:00<?, ?it/s]"
      ]
     },
     "metadata": {},
     "output_type": "display_data"
    },
    {
     "data": {
      "application/vnd.jupyter.widget-view+json": {
       "model_id": "2ca2dd33311840d5b4dc1e64341bd006",
       "version_major": 2,
       "version_minor": 0
      },
      "text/plain": [
       "Validation: |          | 0/? [00:00<?, ?it/s]"
      ]
     },
     "metadata": {},
     "output_type": "display_data"
    },
    {
     "data": {
      "application/vnd.jupyter.widget-view+json": {
       "model_id": "9d0d35ab7e394c6d9ebbc487eaed16ca",
       "version_major": 2,
       "version_minor": 0
      },
      "text/plain": [
       "Validation: |          | 0/? [00:00<?, ?it/s]"
      ]
     },
     "metadata": {},
     "output_type": "display_data"
    },
    {
     "data": {
      "application/vnd.jupyter.widget-view+json": {
       "model_id": "1fe403410da04ee5aca21e7d21f1a771",
       "version_major": 2,
       "version_minor": 0
      },
      "text/plain": [
       "Validation: |          | 0/? [00:00<?, ?it/s]"
      ]
     },
     "metadata": {},
     "output_type": "display_data"
    },
    {
     "data": {
      "application/vnd.jupyter.widget-view+json": {
       "model_id": "03908533dda94e228a8e47078a232b89",
       "version_major": 2,
       "version_minor": 0
      },
      "text/plain": [
       "Validation: |          | 0/? [00:00<?, ?it/s]"
      ]
     },
     "metadata": {},
     "output_type": "display_data"
    },
    {
     "data": {
      "application/vnd.jupyter.widget-view+json": {
       "model_id": "9ea77e6ab4954cd4bec91e2fdc3a7a1d",
       "version_major": 2,
       "version_minor": 0
      },
      "text/plain": [
       "Validation: |          | 0/? [00:00<?, ?it/s]"
      ]
     },
     "metadata": {},
     "output_type": "display_data"
    },
    {
     "data": {
      "application/vnd.jupyter.widget-view+json": {
       "model_id": "02a4e76bc97448fb9df39ad80f8bd295",
       "version_major": 2,
       "version_minor": 0
      },
      "text/plain": [
       "Validation: |          | 0/? [00:00<?, ?it/s]"
      ]
     },
     "metadata": {},
     "output_type": "display_data"
    },
    {
     "data": {
      "application/vnd.jupyter.widget-view+json": {
       "model_id": "a4b84356f6194168abecd8095344c182",
       "version_major": 2,
       "version_minor": 0
      },
      "text/plain": [
       "Validation: |          | 0/? [00:00<?, ?it/s]"
      ]
     },
     "metadata": {},
     "output_type": "display_data"
    },
    {
     "data": {
      "application/vnd.jupyter.widget-view+json": {
       "model_id": "f283ddb6799941408a60caa9b8aa9024",
       "version_major": 2,
       "version_minor": 0
      },
      "text/plain": [
       "Validation: |          | 0/? [00:00<?, ?it/s]"
      ]
     },
     "metadata": {},
     "output_type": "display_data"
    },
    {
     "data": {
      "application/vnd.jupyter.widget-view+json": {
       "model_id": "f3fa37b697f245538ad955cecc585697",
       "version_major": 2,
       "version_minor": 0
      },
      "text/plain": [
       "Validation: |          | 0/? [00:00<?, ?it/s]"
      ]
     },
     "metadata": {},
     "output_type": "display_data"
    },
    {
     "data": {
      "application/vnd.jupyter.widget-view+json": {
       "model_id": "b56f99876688404f9ccf1c32c0169d9e",
       "version_major": 2,
       "version_minor": 0
      },
      "text/plain": [
       "Validation: |          | 0/? [00:00<?, ?it/s]"
      ]
     },
     "metadata": {},
     "output_type": "display_data"
    },
    {
     "data": {
      "application/vnd.jupyter.widget-view+json": {
       "model_id": "7dd827e362e64d588090277a13e05983",
       "version_major": 2,
       "version_minor": 0
      },
      "text/plain": [
       "Validation: |          | 0/? [00:00<?, ?it/s]"
      ]
     },
     "metadata": {},
     "output_type": "display_data"
    },
    {
     "data": {
      "application/vnd.jupyter.widget-view+json": {
       "model_id": "3425da7b194a4de0b60ae28d7dd4106c",
       "version_major": 2,
       "version_minor": 0
      },
      "text/plain": [
       "Validation: |          | 0/? [00:00<?, ?it/s]"
      ]
     },
     "metadata": {},
     "output_type": "display_data"
    },
    {
     "data": {
      "application/vnd.jupyter.widget-view+json": {
       "model_id": "2146a8b91ba5408094e81d67083871f2",
       "version_major": 2,
       "version_minor": 0
      },
      "text/plain": [
       "Validation: |          | 0/? [00:00<?, ?it/s]"
      ]
     },
     "metadata": {},
     "output_type": "display_data"
    },
    {
     "data": {
      "application/vnd.jupyter.widget-view+json": {
       "model_id": "5f8176cab26c470eaec2b217b7bd2cbe",
       "version_major": 2,
       "version_minor": 0
      },
      "text/plain": [
       "Validation: |          | 0/? [00:00<?, ?it/s]"
      ]
     },
     "metadata": {},
     "output_type": "display_data"
    },
    {
     "data": {
      "application/vnd.jupyter.widget-view+json": {
       "model_id": "f0630350c3184ecaa2464e07155b0c17",
       "version_major": 2,
       "version_minor": 0
      },
      "text/plain": [
       "Validation: |          | 0/? [00:00<?, ?it/s]"
      ]
     },
     "metadata": {},
     "output_type": "display_data"
    },
    {
     "data": {
      "application/vnd.jupyter.widget-view+json": {
       "model_id": "11d641cd48534b3b993c0d46a624b3ab",
       "version_major": 2,
       "version_minor": 0
      },
      "text/plain": [
       "Validation: |          | 0/? [00:00<?, ?it/s]"
      ]
     },
     "metadata": {},
     "output_type": "display_data"
    },
    {
     "data": {
      "application/vnd.jupyter.widget-view+json": {
       "model_id": "56a3aabeb1a748548cfb1e75cb83bb8d",
       "version_major": 2,
       "version_minor": 0
      },
      "text/plain": [
       "Validation: |          | 0/? [00:00<?, ?it/s]"
      ]
     },
     "metadata": {},
     "output_type": "display_data"
    },
    {
     "data": {
      "application/vnd.jupyter.widget-view+json": {
       "model_id": "c315b0c718f8427cab4faa1d19ce2ff4",
       "version_major": 2,
       "version_minor": 0
      },
      "text/plain": [
       "Validation: |          | 0/? [00:00<?, ?it/s]"
      ]
     },
     "metadata": {},
     "output_type": "display_data"
    },
    {
     "data": {
      "application/vnd.jupyter.widget-view+json": {
       "model_id": "387d2b86dd304fb9bceca4fc534c8eba",
       "version_major": 2,
       "version_minor": 0
      },
      "text/plain": [
       "Validation: |          | 0/? [00:00<?, ?it/s]"
      ]
     },
     "metadata": {},
     "output_type": "display_data"
    },
    {
     "data": {
      "application/vnd.jupyter.widget-view+json": {
       "model_id": "1759b167455d4423a77e09e71145b82e",
       "version_major": 2,
       "version_minor": 0
      },
      "text/plain": [
       "Validation: |          | 0/? [00:00<?, ?it/s]"
      ]
     },
     "metadata": {},
     "output_type": "display_data"
    },
    {
     "data": {
      "application/vnd.jupyter.widget-view+json": {
       "model_id": "e0d634e16a844492b9dbd22edfa078bc",
       "version_major": 2,
       "version_minor": 0
      },
      "text/plain": [
       "Validation: |          | 0/? [00:00<?, ?it/s]"
      ]
     },
     "metadata": {},
     "output_type": "display_data"
    },
    {
     "data": {
      "application/vnd.jupyter.widget-view+json": {
       "model_id": "35d934ebf6304f5bb8e4c180648ee996",
       "version_major": 2,
       "version_minor": 0
      },
      "text/plain": [
       "Validation: |          | 0/? [00:00<?, ?it/s]"
      ]
     },
     "metadata": {},
     "output_type": "display_data"
    },
    {
     "data": {
      "application/vnd.jupyter.widget-view+json": {
       "model_id": "f9113b002f9244e489b54b5c35497df5",
       "version_major": 2,
       "version_minor": 0
      },
      "text/plain": [
       "Validation: |          | 0/? [00:00<?, ?it/s]"
      ]
     },
     "metadata": {},
     "output_type": "display_data"
    },
    {
     "data": {
      "application/vnd.jupyter.widget-view+json": {
       "model_id": "94a8e5a583ba4631ab156b45082b2051",
       "version_major": 2,
       "version_minor": 0
      },
      "text/plain": [
       "Validation: |          | 0/? [00:00<?, ?it/s]"
      ]
     },
     "metadata": {},
     "output_type": "display_data"
    },
    {
     "data": {
      "application/vnd.jupyter.widget-view+json": {
       "model_id": "f5bd3a9f629f40409fb54f38b9675f1f",
       "version_major": 2,
       "version_minor": 0
      },
      "text/plain": [
       "Validation: |          | 0/? [00:00<?, ?it/s]"
      ]
     },
     "metadata": {},
     "output_type": "display_data"
    },
    {
     "data": {
      "application/vnd.jupyter.widget-view+json": {
       "model_id": "0b91738863cf43079eedb18364a1b58c",
       "version_major": 2,
       "version_minor": 0
      },
      "text/plain": [
       "Validation: |          | 0/? [00:00<?, ?it/s]"
      ]
     },
     "metadata": {},
     "output_type": "display_data"
    },
    {
     "data": {
      "application/vnd.jupyter.widget-view+json": {
       "model_id": "ef5d8488083d46ef815223ba94b46114",
       "version_major": 2,
       "version_minor": 0
      },
      "text/plain": [
       "Validation: |          | 0/? [00:00<?, ?it/s]"
      ]
     },
     "metadata": {},
     "output_type": "display_data"
    },
    {
     "data": {
      "application/vnd.jupyter.widget-view+json": {
       "model_id": "f90b69007e3c4ef191cefba31efd1345",
       "version_major": 2,
       "version_minor": 0
      },
      "text/plain": [
       "Validation: |          | 0/? [00:00<?, ?it/s]"
      ]
     },
     "metadata": {},
     "output_type": "display_data"
    },
    {
     "data": {
      "application/vnd.jupyter.widget-view+json": {
       "model_id": "d099ca53f6c64362a0d8d7bcb3d1fd16",
       "version_major": 2,
       "version_minor": 0
      },
      "text/plain": [
       "Validation: |          | 0/? [00:00<?, ?it/s]"
      ]
     },
     "metadata": {},
     "output_type": "display_data"
    },
    {
     "data": {
      "application/vnd.jupyter.widget-view+json": {
       "model_id": "c69d63c9de2146b39f5a7eb6c2855af8",
       "version_major": 2,
       "version_minor": 0
      },
      "text/plain": [
       "Validation: |          | 0/? [00:00<?, ?it/s]"
      ]
     },
     "metadata": {},
     "output_type": "display_data"
    },
    {
     "data": {
      "application/vnd.jupyter.widget-view+json": {
       "model_id": "bb1c09d6073d48e397c110a5cb5d9827",
       "version_major": 2,
       "version_minor": 0
      },
      "text/plain": [
       "Validation: |          | 0/? [00:00<?, ?it/s]"
      ]
     },
     "metadata": {},
     "output_type": "display_data"
    },
    {
     "data": {
      "application/vnd.jupyter.widget-view+json": {
       "model_id": "053c1089f95442cf94ad47a4d8b0829a",
       "version_major": 2,
       "version_minor": 0
      },
      "text/plain": [
       "Validation: |          | 0/? [00:00<?, ?it/s]"
      ]
     },
     "metadata": {},
     "output_type": "display_data"
    },
    {
     "data": {
      "application/vnd.jupyter.widget-view+json": {
       "model_id": "f922d32228d3467c9c92e0e98af1d774",
       "version_major": 2,
       "version_minor": 0
      },
      "text/plain": [
       "Validation: |          | 0/? [00:00<?, ?it/s]"
      ]
     },
     "metadata": {},
     "output_type": "display_data"
    },
    {
     "data": {
      "application/vnd.jupyter.widget-view+json": {
       "model_id": "00f3c997231d4c60b0f53b5697a3cc52",
       "version_major": 2,
       "version_minor": 0
      },
      "text/plain": [
       "Validation: |          | 0/? [00:00<?, ?it/s]"
      ]
     },
     "metadata": {},
     "output_type": "display_data"
    },
    {
     "data": {
      "application/vnd.jupyter.widget-view+json": {
       "model_id": "29e767a6f48749188ee22f6d55c3a51f",
       "version_major": 2,
       "version_minor": 0
      },
      "text/plain": [
       "Validation: |          | 0/? [00:00<?, ?it/s]"
      ]
     },
     "metadata": {},
     "output_type": "display_data"
    },
    {
     "data": {
      "application/vnd.jupyter.widget-view+json": {
       "model_id": "15a7082fe4d94910a402ab42f126f3f6",
       "version_major": 2,
       "version_minor": 0
      },
      "text/plain": [
       "Validation: |          | 0/? [00:00<?, ?it/s]"
      ]
     },
     "metadata": {},
     "output_type": "display_data"
    },
    {
     "data": {
      "application/vnd.jupyter.widget-view+json": {
       "model_id": "014514d5a4a44dac9b7aef0ba0179d99",
       "version_major": 2,
       "version_minor": 0
      },
      "text/plain": [
       "Validation: |          | 0/? [00:00<?, ?it/s]"
      ]
     },
     "metadata": {},
     "output_type": "display_data"
    },
    {
     "data": {
      "application/vnd.jupyter.widget-view+json": {
       "model_id": "7a46b287cca54960ac5139d1ae64f3b3",
       "version_major": 2,
       "version_minor": 0
      },
      "text/plain": [
       "Validation: |          | 0/? [00:00<?, ?it/s]"
      ]
     },
     "metadata": {},
     "output_type": "display_data"
    },
    {
     "data": {
      "application/vnd.jupyter.widget-view+json": {
       "model_id": "60212a35008a419babf1c9344da6ea2d",
       "version_major": 2,
       "version_minor": 0
      },
      "text/plain": [
       "Validation: |          | 0/? [00:00<?, ?it/s]"
      ]
     },
     "metadata": {},
     "output_type": "display_data"
    },
    {
     "data": {
      "application/vnd.jupyter.widget-view+json": {
       "model_id": "0bfa841e5b2d4f2bbcb81feed99af9c4",
       "version_major": 2,
       "version_minor": 0
      },
      "text/plain": [
       "Validation: |          | 0/? [00:00<?, ?it/s]"
      ]
     },
     "metadata": {},
     "output_type": "display_data"
    },
    {
     "data": {
      "application/vnd.jupyter.widget-view+json": {
       "model_id": "dafe55449f97462e876318e548700159",
       "version_major": 2,
       "version_minor": 0
      },
      "text/plain": [
       "Validation: |          | 0/? [00:00<?, ?it/s]"
      ]
     },
     "metadata": {},
     "output_type": "display_data"
    },
    {
     "data": {
      "application/vnd.jupyter.widget-view+json": {
       "model_id": "3f761f0f948c467c99e1fcf1c06109e2",
       "version_major": 2,
       "version_minor": 0
      },
      "text/plain": [
       "Validation: |          | 0/? [00:00<?, ?it/s]"
      ]
     },
     "metadata": {},
     "output_type": "display_data"
    },
    {
     "data": {
      "application/vnd.jupyter.widget-view+json": {
       "model_id": "0ffac0f68fc64d8eb549af76bf194213",
       "version_major": 2,
       "version_minor": 0
      },
      "text/plain": [
       "Validation: |          | 0/? [00:00<?, ?it/s]"
      ]
     },
     "metadata": {},
     "output_type": "display_data"
    },
    {
     "data": {
      "application/vnd.jupyter.widget-view+json": {
       "model_id": "90688bb4f8104ce1a436d82aeb444953",
       "version_major": 2,
       "version_minor": 0
      },
      "text/plain": [
       "Validation: |          | 0/? [00:00<?, ?it/s]"
      ]
     },
     "metadata": {},
     "output_type": "display_data"
    },
    {
     "data": {
      "application/vnd.jupyter.widget-view+json": {
       "model_id": "97cc06179a5043dd851ae01f3dbeb5a4",
       "version_major": 2,
       "version_minor": 0
      },
      "text/plain": [
       "Validation: |          | 0/? [00:00<?, ?it/s]"
      ]
     },
     "metadata": {},
     "output_type": "display_data"
    },
    {
     "data": {
      "application/vnd.jupyter.widget-view+json": {
       "model_id": "773b8111d20e4b5e81d0c0d55f707df2",
       "version_major": 2,
       "version_minor": 0
      },
      "text/plain": [
       "Validation: |          | 0/? [00:00<?, ?it/s]"
      ]
     },
     "metadata": {},
     "output_type": "display_data"
    },
    {
     "data": {
      "application/vnd.jupyter.widget-view+json": {
       "model_id": "e5e7ec62329d46098d2fe0ba01158dc0",
       "version_major": 2,
       "version_minor": 0
      },
      "text/plain": [
       "Validation: |          | 0/? [00:00<?, ?it/s]"
      ]
     },
     "metadata": {},
     "output_type": "display_data"
    },
    {
     "data": {
      "application/vnd.jupyter.widget-view+json": {
       "model_id": "23056ed406154cc983ade77944514632",
       "version_major": 2,
       "version_minor": 0
      },
      "text/plain": [
       "Validation: |          | 0/? [00:00<?, ?it/s]"
      ]
     },
     "metadata": {},
     "output_type": "display_data"
    },
    {
     "data": {
      "application/vnd.jupyter.widget-view+json": {
       "model_id": "46c7454a7d6d4591b38fafaef647b705",
       "version_major": 2,
       "version_minor": 0
      },
      "text/plain": [
       "Validation: |          | 0/? [00:00<?, ?it/s]"
      ]
     },
     "metadata": {},
     "output_type": "display_data"
    },
    {
     "data": {
      "application/vnd.jupyter.widget-view+json": {
       "model_id": "07db4090c7244aae9db482b542f50ff3",
       "version_major": 2,
       "version_minor": 0
      },
      "text/plain": [
       "Validation: |          | 0/? [00:00<?, ?it/s]"
      ]
     },
     "metadata": {},
     "output_type": "display_data"
    },
    {
     "data": {
      "application/vnd.jupyter.widget-view+json": {
       "model_id": "4540448be35b4ec59a839d1223809d73",
       "version_major": 2,
       "version_minor": 0
      },
      "text/plain": [
       "Validation: |          | 0/? [00:00<?, ?it/s]"
      ]
     },
     "metadata": {},
     "output_type": "display_data"
    },
    {
     "data": {
      "application/vnd.jupyter.widget-view+json": {
       "model_id": "288f06d52a914b268d69bb3301c1edac",
       "version_major": 2,
       "version_minor": 0
      },
      "text/plain": [
       "Validation: |          | 0/? [00:00<?, ?it/s]"
      ]
     },
     "metadata": {},
     "output_type": "display_data"
    },
    {
     "data": {
      "application/vnd.jupyter.widget-view+json": {
       "model_id": "9fda7891fb994166a2992e06578cb801",
       "version_major": 2,
       "version_minor": 0
      },
      "text/plain": [
       "Validation: |          | 0/? [00:00<?, ?it/s]"
      ]
     },
     "metadata": {},
     "output_type": "display_data"
    },
    {
     "data": {
      "application/vnd.jupyter.widget-view+json": {
       "model_id": "a0a8f8eb111244cfb80e557ae300d14e",
       "version_major": 2,
       "version_minor": 0
      },
      "text/plain": [
       "Validation: |          | 0/? [00:00<?, ?it/s]"
      ]
     },
     "metadata": {},
     "output_type": "display_data"
    },
    {
     "data": {
      "application/vnd.jupyter.widget-view+json": {
       "model_id": "c25ca03fb5e64dc1b595849bf8e8a868",
       "version_major": 2,
       "version_minor": 0
      },
      "text/plain": [
       "Validation: |          | 0/? [00:00<?, ?it/s]"
      ]
     },
     "metadata": {},
     "output_type": "display_data"
    },
    {
     "data": {
      "application/vnd.jupyter.widget-view+json": {
       "model_id": "68ade9e2dea44560a1c24ed17b0eee21",
       "version_major": 2,
       "version_minor": 0
      },
      "text/plain": [
       "Validation: |          | 0/? [00:00<?, ?it/s]"
      ]
     },
     "metadata": {},
     "output_type": "display_data"
    },
    {
     "data": {
      "application/vnd.jupyter.widget-view+json": {
       "model_id": "8319abee3e974995a0b0a0beb2d573f5",
       "version_major": 2,
       "version_minor": 0
      },
      "text/plain": [
       "Validation: |          | 0/? [00:00<?, ?it/s]"
      ]
     },
     "metadata": {},
     "output_type": "display_data"
    },
    {
     "data": {
      "application/vnd.jupyter.widget-view+json": {
       "model_id": "ed629677a95a412ea558ab5c534d5455",
       "version_major": 2,
       "version_minor": 0
      },
      "text/plain": [
       "Validation: |          | 0/? [00:00<?, ?it/s]"
      ]
     },
     "metadata": {},
     "output_type": "display_data"
    },
    {
     "data": {
      "application/vnd.jupyter.widget-view+json": {
       "model_id": "7fb352b547c246b28c47c039188d5014",
       "version_major": 2,
       "version_minor": 0
      },
      "text/plain": [
       "Validation: |          | 0/? [00:00<?, ?it/s]"
      ]
     },
     "metadata": {},
     "output_type": "display_data"
    },
    {
     "data": {
      "application/vnd.jupyter.widget-view+json": {
       "model_id": "d7a389799d804dce9c355e0e1ec56633",
       "version_major": 2,
       "version_minor": 0
      },
      "text/plain": [
       "Validation: |          | 0/? [00:00<?, ?it/s]"
      ]
     },
     "metadata": {},
     "output_type": "display_data"
    },
    {
     "data": {
      "application/vnd.jupyter.widget-view+json": {
       "model_id": "a3a24dd4158f4af1a7c1531734ed1e44",
       "version_major": 2,
       "version_minor": 0
      },
      "text/plain": [
       "Validation: |          | 0/? [00:00<?, ?it/s]"
      ]
     },
     "metadata": {},
     "output_type": "display_data"
    },
    {
     "data": {
      "application/vnd.jupyter.widget-view+json": {
       "model_id": "9f50203ba4434016b33135ba58c47c7f",
       "version_major": 2,
       "version_minor": 0
      },
      "text/plain": [
       "Validation: |          | 0/? [00:00<?, ?it/s]"
      ]
     },
     "metadata": {},
     "output_type": "display_data"
    },
    {
     "data": {
      "application/vnd.jupyter.widget-view+json": {
       "model_id": "f2d380fedf774c7783145b7c98779fc0",
       "version_major": 2,
       "version_minor": 0
      },
      "text/plain": [
       "Validation: |          | 0/? [00:00<?, ?it/s]"
      ]
     },
     "metadata": {},
     "output_type": "display_data"
    },
    {
     "data": {
      "application/vnd.jupyter.widget-view+json": {
       "model_id": "c95b45113c62413ea12e98f9998c46dc",
       "version_major": 2,
       "version_minor": 0
      },
      "text/plain": [
       "Validation: |          | 0/? [00:00<?, ?it/s]"
      ]
     },
     "metadata": {},
     "output_type": "display_data"
    },
    {
     "data": {
      "application/vnd.jupyter.widget-view+json": {
       "model_id": "5d4894d7d55745b3b81f650ae02dad43",
       "version_major": 2,
       "version_minor": 0
      },
      "text/plain": [
       "Validation: |          | 0/? [00:00<?, ?it/s]"
      ]
     },
     "metadata": {},
     "output_type": "display_data"
    },
    {
     "data": {
      "application/vnd.jupyter.widget-view+json": {
       "model_id": "4ca95dec4bdf4d57b23ba614099bcb23",
       "version_major": 2,
       "version_minor": 0
      },
      "text/plain": [
       "Validation: |          | 0/? [00:00<?, ?it/s]"
      ]
     },
     "metadata": {},
     "output_type": "display_data"
    },
    {
     "data": {
      "application/vnd.jupyter.widget-view+json": {
       "model_id": "94907411c75f4a5896a019cbf4cced8e",
       "version_major": 2,
       "version_minor": 0
      },
      "text/plain": [
       "Validation: |          | 0/? [00:00<?, ?it/s]"
      ]
     },
     "metadata": {},
     "output_type": "display_data"
    },
    {
     "data": {
      "application/vnd.jupyter.widget-view+json": {
       "model_id": "aaf4ac211e3545058cb83a1e5d8091d8",
       "version_major": 2,
       "version_minor": 0
      },
      "text/plain": [
       "Validation: |          | 0/? [00:00<?, ?it/s]"
      ]
     },
     "metadata": {},
     "output_type": "display_data"
    },
    {
     "data": {
      "application/vnd.jupyter.widget-view+json": {
       "model_id": "52d9bcf048f24f7f83e07392730f7c1e",
       "version_major": 2,
       "version_minor": 0
      },
      "text/plain": [
       "Validation: |          | 0/? [00:00<?, ?it/s]"
      ]
     },
     "metadata": {},
     "output_type": "display_data"
    },
    {
     "data": {
      "application/vnd.jupyter.widget-view+json": {
       "model_id": "eaf9cff6a7e349abb43c8e61ab772d6f",
       "version_major": 2,
       "version_minor": 0
      },
      "text/plain": [
       "Validation: |          | 0/? [00:00<?, ?it/s]"
      ]
     },
     "metadata": {},
     "output_type": "display_data"
    },
    {
     "data": {
      "application/vnd.jupyter.widget-view+json": {
       "model_id": "8e2409a6edf64c798d37e54a4e95e392",
       "version_major": 2,
       "version_minor": 0
      },
      "text/plain": [
       "Validation: |          | 0/? [00:00<?, ?it/s]"
      ]
     },
     "metadata": {},
     "output_type": "display_data"
    },
    {
     "data": {
      "application/vnd.jupyter.widget-view+json": {
       "model_id": "c4b6f9c32f784e119b88297d523bce06",
       "version_major": 2,
       "version_minor": 0
      },
      "text/plain": [
       "Validation: |          | 0/? [00:00<?, ?it/s]"
      ]
     },
     "metadata": {},
     "output_type": "display_data"
    },
    {
     "data": {
      "application/vnd.jupyter.widget-view+json": {
       "model_id": "4529ccd5de534495be55a4a2aa61a31b",
       "version_major": 2,
       "version_minor": 0
      },
      "text/plain": [
       "Validation: |          | 0/? [00:00<?, ?it/s]"
      ]
     },
     "metadata": {},
     "output_type": "display_data"
    },
    {
     "data": {
      "application/vnd.jupyter.widget-view+json": {
       "model_id": "9ae5a7a43f8b4a6e8681dff87ba3e24e",
       "version_major": 2,
       "version_minor": 0
      },
      "text/plain": [
       "Validation: |          | 0/? [00:00<?, ?it/s]"
      ]
     },
     "metadata": {},
     "output_type": "display_data"
    },
    {
     "data": {
      "application/vnd.jupyter.widget-view+json": {
       "model_id": "33699d45f0b1486d8ea426f7e5e0b978",
       "version_major": 2,
       "version_minor": 0
      },
      "text/plain": [
       "Validation: |          | 0/? [00:00<?, ?it/s]"
      ]
     },
     "metadata": {},
     "output_type": "display_data"
    },
    {
     "data": {
      "application/vnd.jupyter.widget-view+json": {
       "model_id": "b093565a91e74a91bd54fc1309378e1f",
       "version_major": 2,
       "version_minor": 0
      },
      "text/plain": [
       "Validation: |          | 0/? [00:00<?, ?it/s]"
      ]
     },
     "metadata": {},
     "output_type": "display_data"
    },
    {
     "data": {
      "application/vnd.jupyter.widget-view+json": {
       "model_id": "da8e921567b04ab7a5b9cafd68b40bb2",
       "version_major": 2,
       "version_minor": 0
      },
      "text/plain": [
       "Validation: |          | 0/? [00:00<?, ?it/s]"
      ]
     },
     "metadata": {},
     "output_type": "display_data"
    },
    {
     "data": {
      "application/vnd.jupyter.widget-view+json": {
       "model_id": "02e2419fcfa74cabb39786505b4aae71",
       "version_major": 2,
       "version_minor": 0
      },
      "text/plain": [
       "Validation: |          | 0/? [00:00<?, ?it/s]"
      ]
     },
     "metadata": {},
     "output_type": "display_data"
    },
    {
     "data": {
      "application/vnd.jupyter.widget-view+json": {
       "model_id": "e90b62bb1d1e424da1421073e6146500",
       "version_major": 2,
       "version_minor": 0
      },
      "text/plain": [
       "Validation: |          | 0/? [00:00<?, ?it/s]"
      ]
     },
     "metadata": {},
     "output_type": "display_data"
    },
    {
     "data": {
      "application/vnd.jupyter.widget-view+json": {
       "model_id": "a2ec92ebb0de412c93bd452af319833e",
       "version_major": 2,
       "version_minor": 0
      },
      "text/plain": [
       "Validation: |          | 0/? [00:00<?, ?it/s]"
      ]
     },
     "metadata": {},
     "output_type": "display_data"
    },
    {
     "data": {
      "application/vnd.jupyter.widget-view+json": {
       "model_id": "0382d84f44fa46849f3e316e34e549f0",
       "version_major": 2,
       "version_minor": 0
      },
      "text/plain": [
       "Validation: |          | 0/? [00:00<?, ?it/s]"
      ]
     },
     "metadata": {},
     "output_type": "display_data"
    },
    {
     "data": {
      "application/vnd.jupyter.widget-view+json": {
       "model_id": "b27f79cb13c04f1e87f4b7e8a86c9438",
       "version_major": 2,
       "version_minor": 0
      },
      "text/plain": [
       "Validation: |          | 0/? [00:00<?, ?it/s]"
      ]
     },
     "metadata": {},
     "output_type": "display_data"
    },
    {
     "data": {
      "application/vnd.jupyter.widget-view+json": {
       "model_id": "fd98837d95c447c9ab66c44b55313d10",
       "version_major": 2,
       "version_minor": 0
      },
      "text/plain": [
       "Validation: |          | 0/? [00:00<?, ?it/s]"
      ]
     },
     "metadata": {},
     "output_type": "display_data"
    },
    {
     "data": {
      "application/vnd.jupyter.widget-view+json": {
       "model_id": "f8e6daf0208d4f86ad51091fd6750db4",
       "version_major": 2,
       "version_minor": 0
      },
      "text/plain": [
       "Validation: |          | 0/? [00:00<?, ?it/s]"
      ]
     },
     "metadata": {},
     "output_type": "display_data"
    },
    {
     "data": {
      "application/vnd.jupyter.widget-view+json": {
       "model_id": "e2f001df3a044d21a4e256f3c68eaf19",
       "version_major": 2,
       "version_minor": 0
      },
      "text/plain": [
       "Validation: |          | 0/? [00:00<?, ?it/s]"
      ]
     },
     "metadata": {},
     "output_type": "display_data"
    },
    {
     "data": {
      "application/vnd.jupyter.widget-view+json": {
       "model_id": "75492306ac4d49dab92464c4213147ec",
       "version_major": 2,
       "version_minor": 0
      },
      "text/plain": [
       "Validation: |          | 0/? [00:00<?, ?it/s]"
      ]
     },
     "metadata": {},
     "output_type": "display_data"
    },
    {
     "data": {
      "application/vnd.jupyter.widget-view+json": {
       "model_id": "e3da80dbbd914453ad0242ec305a60a6",
       "version_major": 2,
       "version_minor": 0
      },
      "text/plain": [
       "Validation: |          | 0/? [00:00<?, ?it/s]"
      ]
     },
     "metadata": {},
     "output_type": "display_data"
    },
    {
     "data": {
      "application/vnd.jupyter.widget-view+json": {
       "model_id": "930099e4a559423a8153423cb344fedf",
       "version_major": 2,
       "version_minor": 0
      },
      "text/plain": [
       "Validation: |          | 0/? [00:00<?, ?it/s]"
      ]
     },
     "metadata": {},
     "output_type": "display_data"
    },
    {
     "data": {
      "application/vnd.jupyter.widget-view+json": {
       "model_id": "9a8f61579a7a47c8baada1273ded41da",
       "version_major": 2,
       "version_minor": 0
      },
      "text/plain": [
       "Validation: |          | 0/? [00:00<?, ?it/s]"
      ]
     },
     "metadata": {},
     "output_type": "display_data"
    },
    {
     "data": {
      "application/vnd.jupyter.widget-view+json": {
       "model_id": "5ba905da0d23491898a2a507860d3c76",
       "version_major": 2,
       "version_minor": 0
      },
      "text/plain": [
       "Validation: |          | 0/? [00:00<?, ?it/s]"
      ]
     },
     "metadata": {},
     "output_type": "display_data"
    },
    {
     "data": {
      "application/vnd.jupyter.widget-view+json": {
       "model_id": "a233ce2e684f42f8abcd7462905ff463",
       "version_major": 2,
       "version_minor": 0
      },
      "text/plain": [
       "Validation: |          | 0/? [00:00<?, ?it/s]"
      ]
     },
     "metadata": {},
     "output_type": "display_data"
    },
    {
     "data": {
      "application/vnd.jupyter.widget-view+json": {
       "model_id": "adfb70a3e0764f0a87b2c39c35fc9bb8",
       "version_major": 2,
       "version_minor": 0
      },
      "text/plain": [
       "Validation: |          | 0/? [00:00<?, ?it/s]"
      ]
     },
     "metadata": {},
     "output_type": "display_data"
    },
    {
     "data": {
      "application/vnd.jupyter.widget-view+json": {
       "model_id": "0c0753e9675c437295c961b014c49957",
       "version_major": 2,
       "version_minor": 0
      },
      "text/plain": [
       "Validation: |          | 0/? [00:00<?, ?it/s]"
      ]
     },
     "metadata": {},
     "output_type": "display_data"
    },
    {
     "data": {
      "application/vnd.jupyter.widget-view+json": {
       "model_id": "3894a0baf9d1437c970803df88d12875",
       "version_major": 2,
       "version_minor": 0
      },
      "text/plain": [
       "Validation: |          | 0/? [00:00<?, ?it/s]"
      ]
     },
     "metadata": {},
     "output_type": "display_data"
    },
    {
     "data": {
      "application/vnd.jupyter.widget-view+json": {
       "model_id": "7b62f2264b374e3a8e235a5d54fe94dd",
       "version_major": 2,
       "version_minor": 0
      },
      "text/plain": [
       "Validation: |          | 0/? [00:00<?, ?it/s]"
      ]
     },
     "metadata": {},
     "output_type": "display_data"
    },
    {
     "data": {
      "application/vnd.jupyter.widget-view+json": {
       "model_id": "7dfdfeb818d94c8293819003bafbc81a",
       "version_major": 2,
       "version_minor": 0
      },
      "text/plain": [
       "Validation: |          | 0/? [00:00<?, ?it/s]"
      ]
     },
     "metadata": {},
     "output_type": "display_data"
    },
    {
     "data": {
      "application/vnd.jupyter.widget-view+json": {
       "model_id": "a3926d6e5e504b96b7ae6dcec06ef588",
       "version_major": 2,
       "version_minor": 0
      },
      "text/plain": [
       "Validation: |          | 0/? [00:00<?, ?it/s]"
      ]
     },
     "metadata": {},
     "output_type": "display_data"
    },
    {
     "data": {
      "application/vnd.jupyter.widget-view+json": {
       "model_id": "1b3056c5ca7a4825b4a12376a8971bbd",
       "version_major": 2,
       "version_minor": 0
      },
      "text/plain": [
       "Validation: |          | 0/? [00:00<?, ?it/s]"
      ]
     },
     "metadata": {},
     "output_type": "display_data"
    },
    {
     "data": {
      "application/vnd.jupyter.widget-view+json": {
       "model_id": "31790b0b6b524453b1b0c4df73f611ea",
       "version_major": 2,
       "version_minor": 0
      },
      "text/plain": [
       "Validation: |          | 0/? [00:00<?, ?it/s]"
      ]
     },
     "metadata": {},
     "output_type": "display_data"
    },
    {
     "data": {
      "application/vnd.jupyter.widget-view+json": {
       "model_id": "2b345f49d14345eda5ed861e9b647232",
       "version_major": 2,
       "version_minor": 0
      },
      "text/plain": [
       "Validation: |          | 0/? [00:00<?, ?it/s]"
      ]
     },
     "metadata": {},
     "output_type": "display_data"
    },
    {
     "data": {
      "application/vnd.jupyter.widget-view+json": {
       "model_id": "2b458ee3bc154f5d9cbbc955871f56b7",
       "version_major": 2,
       "version_minor": 0
      },
      "text/plain": [
       "Validation: |          | 0/? [00:00<?, ?it/s]"
      ]
     },
     "metadata": {},
     "output_type": "display_data"
    },
    {
     "data": {
      "application/vnd.jupyter.widget-view+json": {
       "model_id": "0dd2c6a3761d46b997009a8510fef74f",
       "version_major": 2,
       "version_minor": 0
      },
      "text/plain": [
       "Validation: |          | 0/? [00:00<?, ?it/s]"
      ]
     },
     "metadata": {},
     "output_type": "display_data"
    },
    {
     "data": {
      "application/vnd.jupyter.widget-view+json": {
       "model_id": "e8db9f671d4e446796d0eb97cb1f3b6a",
       "version_major": 2,
       "version_minor": 0
      },
      "text/plain": [
       "Validation: |          | 0/? [00:00<?, ?it/s]"
      ]
     },
     "metadata": {},
     "output_type": "display_data"
    },
    {
     "data": {
      "application/vnd.jupyter.widget-view+json": {
       "model_id": "f979a6560e914daa90a8821b2870df88",
       "version_major": 2,
       "version_minor": 0
      },
      "text/plain": [
       "Validation: |          | 0/? [00:00<?, ?it/s]"
      ]
     },
     "metadata": {},
     "output_type": "display_data"
    },
    {
     "data": {
      "application/vnd.jupyter.widget-view+json": {
       "model_id": "77d8af57e22547f4ad08c33f2d655222",
       "version_major": 2,
       "version_minor": 0
      },
      "text/plain": [
       "Validation: |          | 0/? [00:00<?, ?it/s]"
      ]
     },
     "metadata": {},
     "output_type": "display_data"
    },
    {
     "data": {
      "application/vnd.jupyter.widget-view+json": {
       "model_id": "ff523294f39140e79d9c6c2124dba89f",
       "version_major": 2,
       "version_minor": 0
      },
      "text/plain": [
       "Validation: |          | 0/? [00:00<?, ?it/s]"
      ]
     },
     "metadata": {},
     "output_type": "display_data"
    },
    {
     "data": {
      "application/vnd.jupyter.widget-view+json": {
       "model_id": "dc03ac4239a64f92a8783a6eaa38f102",
       "version_major": 2,
       "version_minor": 0
      },
      "text/plain": [
       "Validation: |          | 0/? [00:00<?, ?it/s]"
      ]
     },
     "metadata": {},
     "output_type": "display_data"
    },
    {
     "data": {
      "application/vnd.jupyter.widget-view+json": {
       "model_id": "65f60a3c64b24fb2aa1e8608e710e65c",
       "version_major": 2,
       "version_minor": 0
      },
      "text/plain": [
       "Validation: |          | 0/? [00:00<?, ?it/s]"
      ]
     },
     "metadata": {},
     "output_type": "display_data"
    },
    {
     "data": {
      "application/vnd.jupyter.widget-view+json": {
       "model_id": "1ae48c2f3540440698c2e6f499e25dcc",
       "version_major": 2,
       "version_minor": 0
      },
      "text/plain": [
       "Validation: |          | 0/? [00:00<?, ?it/s]"
      ]
     },
     "metadata": {},
     "output_type": "display_data"
    },
    {
     "data": {
      "application/vnd.jupyter.widget-view+json": {
       "model_id": "092ca5e0122e4af1ae136d63feaaf1f3",
       "version_major": 2,
       "version_minor": 0
      },
      "text/plain": [
       "Validation: |          | 0/? [00:00<?, ?it/s]"
      ]
     },
     "metadata": {},
     "output_type": "display_data"
    },
    {
     "data": {
      "application/vnd.jupyter.widget-view+json": {
       "model_id": "23eb66ea858e48ad910ac63aab7d3d14",
       "version_major": 2,
       "version_minor": 0
      },
      "text/plain": [
       "Validation: |          | 0/? [00:00<?, ?it/s]"
      ]
     },
     "metadata": {},
     "output_type": "display_data"
    },
    {
     "data": {
      "application/vnd.jupyter.widget-view+json": {
       "model_id": "3d69204fbd304340871b1d6182df0986",
       "version_major": 2,
       "version_minor": 0
      },
      "text/plain": [
       "Validation: |          | 0/? [00:00<?, ?it/s]"
      ]
     },
     "metadata": {},
     "output_type": "display_data"
    },
    {
     "data": {
      "application/vnd.jupyter.widget-view+json": {
       "model_id": "c33460d99f4b4927bd26e2486b90b949",
       "version_major": 2,
       "version_minor": 0
      },
      "text/plain": [
       "Validation: |          | 0/? [00:00<?, ?it/s]"
      ]
     },
     "metadata": {},
     "output_type": "display_data"
    },
    {
     "data": {
      "application/vnd.jupyter.widget-view+json": {
       "model_id": "09c164624e13488daf4b09d5aed77d65",
       "version_major": 2,
       "version_minor": 0
      },
      "text/plain": [
       "Validation: |          | 0/? [00:00<?, ?it/s]"
      ]
     },
     "metadata": {},
     "output_type": "display_data"
    },
    {
     "data": {
      "application/vnd.jupyter.widget-view+json": {
       "model_id": "86e405f7ccca40e4bb5d9ed035c09adf",
       "version_major": 2,
       "version_minor": 0
      },
      "text/plain": [
       "Validation: |          | 0/? [00:00<?, ?it/s]"
      ]
     },
     "metadata": {},
     "output_type": "display_data"
    },
    {
     "data": {
      "application/vnd.jupyter.widget-view+json": {
       "model_id": "e81f62e10666473ab5d15cc18c162077",
       "version_major": 2,
       "version_minor": 0
      },
      "text/plain": [
       "Validation: |          | 0/? [00:00<?, ?it/s]"
      ]
     },
     "metadata": {},
     "output_type": "display_data"
    },
    {
     "data": {
      "application/vnd.jupyter.widget-view+json": {
       "model_id": "c618ba41dbcd48d4b3fbb76876ed02cf",
       "version_major": 2,
       "version_minor": 0
      },
      "text/plain": [
       "Validation: |          | 0/? [00:00<?, ?it/s]"
      ]
     },
     "metadata": {},
     "output_type": "display_data"
    },
    {
     "data": {
      "application/vnd.jupyter.widget-view+json": {
       "model_id": "49575065358c4cf2b5742e288eaf6d07",
       "version_major": 2,
       "version_minor": 0
      },
      "text/plain": [
       "Validation: |          | 0/? [00:00<?, ?it/s]"
      ]
     },
     "metadata": {},
     "output_type": "display_data"
    },
    {
     "data": {
      "application/vnd.jupyter.widget-view+json": {
       "model_id": "daed9edbbca4479888bb58256133708d",
       "version_major": 2,
       "version_minor": 0
      },
      "text/plain": [
       "Validation: |          | 0/? [00:00<?, ?it/s]"
      ]
     },
     "metadata": {},
     "output_type": "display_data"
    },
    {
     "data": {
      "application/vnd.jupyter.widget-view+json": {
       "model_id": "3feb250208db4c1688f50abe18d0b107",
       "version_major": 2,
       "version_minor": 0
      },
      "text/plain": [
       "Validation: |          | 0/? [00:00<?, ?it/s]"
      ]
     },
     "metadata": {},
     "output_type": "display_data"
    },
    {
     "data": {
      "application/vnd.jupyter.widget-view+json": {
       "model_id": "1210b63847844040be2c2f665dd21c4f",
       "version_major": 2,
       "version_minor": 0
      },
      "text/plain": [
       "Validation: |          | 0/? [00:00<?, ?it/s]"
      ]
     },
     "metadata": {},
     "output_type": "display_data"
    },
    {
     "data": {
      "application/vnd.jupyter.widget-view+json": {
       "model_id": "651ce36b5f824227ac6e0723761b04b8",
       "version_major": 2,
       "version_minor": 0
      },
      "text/plain": [
       "Validation: |          | 0/? [00:00<?, ?it/s]"
      ]
     },
     "metadata": {},
     "output_type": "display_data"
    },
    {
     "data": {
      "application/vnd.jupyter.widget-view+json": {
       "model_id": "e4be675a219748aa8737b2466881bb88",
       "version_major": 2,
       "version_minor": 0
      },
      "text/plain": [
       "Validation: |          | 0/? [00:00<?, ?it/s]"
      ]
     },
     "metadata": {},
     "output_type": "display_data"
    },
    {
     "data": {
      "application/vnd.jupyter.widget-view+json": {
       "model_id": "1f715f79a4d247099caf6940f05f50d3",
       "version_major": 2,
       "version_minor": 0
      },
      "text/plain": [
       "Validation: |          | 0/? [00:00<?, ?it/s]"
      ]
     },
     "metadata": {},
     "output_type": "display_data"
    },
    {
     "data": {
      "application/vnd.jupyter.widget-view+json": {
       "model_id": "e84fc8597e034e8f8eea90c9ba751999",
       "version_major": 2,
       "version_minor": 0
      },
      "text/plain": [
       "Validation: |          | 0/? [00:00<?, ?it/s]"
      ]
     },
     "metadata": {},
     "output_type": "display_data"
    },
    {
     "data": {
      "application/vnd.jupyter.widget-view+json": {
       "model_id": "4f984fd4c35b41ebb21ea90b39487067",
       "version_major": 2,
       "version_minor": 0
      },
      "text/plain": [
       "Validation: |          | 0/? [00:00<?, ?it/s]"
      ]
     },
     "metadata": {},
     "output_type": "display_data"
    },
    {
     "data": {
      "application/vnd.jupyter.widget-view+json": {
       "model_id": "12eed12da77042df8d13a5031550efb8",
       "version_major": 2,
       "version_minor": 0
      },
      "text/plain": [
       "Validation: |          | 0/? [00:00<?, ?it/s]"
      ]
     },
     "metadata": {},
     "output_type": "display_data"
    },
    {
     "data": {
      "application/vnd.jupyter.widget-view+json": {
       "model_id": "2818ce5acc8e46879e08aca3de9f40fb",
       "version_major": 2,
       "version_minor": 0
      },
      "text/plain": [
       "Validation: |          | 0/? [00:00<?, ?it/s]"
      ]
     },
     "metadata": {},
     "output_type": "display_data"
    },
    {
     "data": {
      "application/vnd.jupyter.widget-view+json": {
       "model_id": "dc17ced754f14680bf84d3249968fb1b",
       "version_major": 2,
       "version_minor": 0
      },
      "text/plain": [
       "Validation: |          | 0/? [00:00<?, ?it/s]"
      ]
     },
     "metadata": {},
     "output_type": "display_data"
    },
    {
     "data": {
      "application/vnd.jupyter.widget-view+json": {
       "model_id": "5139881c63eb4318bb40d67776e93434",
       "version_major": 2,
       "version_minor": 0
      },
      "text/plain": [
       "Validation: |          | 0/? [00:00<?, ?it/s]"
      ]
     },
     "metadata": {},
     "output_type": "display_data"
    },
    {
     "data": {
      "application/vnd.jupyter.widget-view+json": {
       "model_id": "3b40d29efebc4a6f8a22bf17ba99241c",
       "version_major": 2,
       "version_minor": 0
      },
      "text/plain": [
       "Validation: |          | 0/? [00:00<?, ?it/s]"
      ]
     },
     "metadata": {},
     "output_type": "display_data"
    },
    {
     "data": {
      "application/vnd.jupyter.widget-view+json": {
       "model_id": "25300627a68f4728aaa3be721cc6a79c",
       "version_major": 2,
       "version_minor": 0
      },
      "text/plain": [
       "Validation: |          | 0/? [00:00<?, ?it/s]"
      ]
     },
     "metadata": {},
     "output_type": "display_data"
    },
    {
     "data": {
      "application/vnd.jupyter.widget-view+json": {
       "model_id": "8fc05d85009342d3ae01f35cf64b9b14",
       "version_major": 2,
       "version_minor": 0
      },
      "text/plain": [
       "Validation: |          | 0/? [00:00<?, ?it/s]"
      ]
     },
     "metadata": {},
     "output_type": "display_data"
    },
    {
     "data": {
      "application/vnd.jupyter.widget-view+json": {
       "model_id": "ce90397fbc9c4641aebffa900ac628cc",
       "version_major": 2,
       "version_minor": 0
      },
      "text/plain": [
       "Validation: |          | 0/? [00:00<?, ?it/s]"
      ]
     },
     "metadata": {},
     "output_type": "display_data"
    },
    {
     "data": {
      "application/vnd.jupyter.widget-view+json": {
       "model_id": "c7bd59b8a01c4b6797770e288348f00e",
       "version_major": 2,
       "version_minor": 0
      },
      "text/plain": [
       "Validation: |          | 0/? [00:00<?, ?it/s]"
      ]
     },
     "metadata": {},
     "output_type": "display_data"
    },
    {
     "data": {
      "application/vnd.jupyter.widget-view+json": {
       "model_id": "66dd6ecdfe774c99993b9d38c22e990a",
       "version_major": 2,
       "version_minor": 0
      },
      "text/plain": [
       "Validation: |          | 0/? [00:00<?, ?it/s]"
      ]
     },
     "metadata": {},
     "output_type": "display_data"
    },
    {
     "data": {
      "application/vnd.jupyter.widget-view+json": {
       "model_id": "f5466261970843a0af559a3fd694be86",
       "version_major": 2,
       "version_minor": 0
      },
      "text/plain": [
       "Validation: |          | 0/? [00:00<?, ?it/s]"
      ]
     },
     "metadata": {},
     "output_type": "display_data"
    },
    {
     "data": {
      "application/vnd.jupyter.widget-view+json": {
       "model_id": "bd361cb5f71c46f5935357786d04e110",
       "version_major": 2,
       "version_minor": 0
      },
      "text/plain": [
       "Validation: |          | 0/? [00:00<?, ?it/s]"
      ]
     },
     "metadata": {},
     "output_type": "display_data"
    },
    {
     "data": {
      "application/vnd.jupyter.widget-view+json": {
       "model_id": "440780b94a3e48878a245d72ecf56537",
       "version_major": 2,
       "version_minor": 0
      },
      "text/plain": [
       "Validation: |          | 0/? [00:00<?, ?it/s]"
      ]
     },
     "metadata": {},
     "output_type": "display_data"
    },
    {
     "data": {
      "application/vnd.jupyter.widget-view+json": {
       "model_id": "80fdc8df159a49ccaf151f7fa8acbd57",
       "version_major": 2,
       "version_minor": 0
      },
      "text/plain": [
       "Validation: |          | 0/? [00:00<?, ?it/s]"
      ]
     },
     "metadata": {},
     "output_type": "display_data"
    },
    {
     "data": {
      "application/vnd.jupyter.widget-view+json": {
       "model_id": "1221c3fc27c24ec7b18a41d130c300d7",
       "version_major": 2,
       "version_minor": 0
      },
      "text/plain": [
       "Validation: |          | 0/? [00:00<?, ?it/s]"
      ]
     },
     "metadata": {},
     "output_type": "display_data"
    },
    {
     "data": {
      "application/vnd.jupyter.widget-view+json": {
       "model_id": "80c68523fd6240f1b5b300f76c5ef4da",
       "version_major": 2,
       "version_minor": 0
      },
      "text/plain": [
       "Validation: |          | 0/? [00:00<?, ?it/s]"
      ]
     },
     "metadata": {},
     "output_type": "display_data"
    },
    {
     "data": {
      "application/vnd.jupyter.widget-view+json": {
       "model_id": "24867aa50cb24db0b4bfbc1895c415dc",
       "version_major": 2,
       "version_minor": 0
      },
      "text/plain": [
       "Validation: |          | 0/? [00:00<?, ?it/s]"
      ]
     },
     "metadata": {},
     "output_type": "display_data"
    },
    {
     "data": {
      "application/vnd.jupyter.widget-view+json": {
       "model_id": "e132b4c6c8674037848bcbc4a66bc76a",
       "version_major": 2,
       "version_minor": 0
      },
      "text/plain": [
       "Validation: |          | 0/? [00:00<?, ?it/s]"
      ]
     },
     "metadata": {},
     "output_type": "display_data"
    },
    {
     "data": {
      "application/vnd.jupyter.widget-view+json": {
       "model_id": "2081b5779ce741478558287adc49c40e",
       "version_major": 2,
       "version_minor": 0
      },
      "text/plain": [
       "Validation: |          | 0/? [00:00<?, ?it/s]"
      ]
     },
     "metadata": {},
     "output_type": "display_data"
    },
    {
     "data": {
      "application/vnd.jupyter.widget-view+json": {
       "model_id": "1b20fce7f2a440ffa3db2662cdcf3bb2",
       "version_major": 2,
       "version_minor": 0
      },
      "text/plain": [
       "Validation: |          | 0/? [00:00<?, ?it/s]"
      ]
     },
     "metadata": {},
     "output_type": "display_data"
    },
    {
     "data": {
      "application/vnd.jupyter.widget-view+json": {
       "model_id": "19583e11e6b4437da61829860748b0fd",
       "version_major": 2,
       "version_minor": 0
      },
      "text/plain": [
       "Validation: |          | 0/? [00:00<?, ?it/s]"
      ]
     },
     "metadata": {},
     "output_type": "display_data"
    },
    {
     "data": {
      "application/vnd.jupyter.widget-view+json": {
       "model_id": "cce7f61b7dd440ebb43f51d93dbcf588",
       "version_major": 2,
       "version_minor": 0
      },
      "text/plain": [
       "Validation: |          | 0/? [00:00<?, ?it/s]"
      ]
     },
     "metadata": {},
     "output_type": "display_data"
    },
    {
     "data": {
      "application/vnd.jupyter.widget-view+json": {
       "model_id": "16706170881c4031af2d23ad61c25881",
       "version_major": 2,
       "version_minor": 0
      },
      "text/plain": [
       "Validation: |          | 0/? [00:00<?, ?it/s]"
      ]
     },
     "metadata": {},
     "output_type": "display_data"
    },
    {
     "data": {
      "application/vnd.jupyter.widget-view+json": {
       "model_id": "f365ba0dff6d4f15838a71191ca34080",
       "version_major": 2,
       "version_minor": 0
      },
      "text/plain": [
       "Validation: |          | 0/? [00:00<?, ?it/s]"
      ]
     },
     "metadata": {},
     "output_type": "display_data"
    },
    {
     "data": {
      "application/vnd.jupyter.widget-view+json": {
       "model_id": "981e65f38480429298b02523bc6acd14",
       "version_major": 2,
       "version_minor": 0
      },
      "text/plain": [
       "Validation: |          | 0/? [00:00<?, ?it/s]"
      ]
     },
     "metadata": {},
     "output_type": "display_data"
    },
    {
     "data": {
      "application/vnd.jupyter.widget-view+json": {
       "model_id": "63da97c5e8224fa79aca55c9487f647d",
       "version_major": 2,
       "version_minor": 0
      },
      "text/plain": [
       "Validation: |          | 0/? [00:00<?, ?it/s]"
      ]
     },
     "metadata": {},
     "output_type": "display_data"
    },
    {
     "data": {
      "application/vnd.jupyter.widget-view+json": {
       "model_id": "299080ed0a2546e78c1c691fc0051f15",
       "version_major": 2,
       "version_minor": 0
      },
      "text/plain": [
       "Validation: |          | 0/? [00:00<?, ?it/s]"
      ]
     },
     "metadata": {},
     "output_type": "display_data"
    },
    {
     "data": {
      "application/vnd.jupyter.widget-view+json": {
       "model_id": "3d5399fc731e4ebd88675faa62c5ed2c",
       "version_major": 2,
       "version_minor": 0
      },
      "text/plain": [
       "Validation: |          | 0/? [00:00<?, ?it/s]"
      ]
     },
     "metadata": {},
     "output_type": "display_data"
    },
    {
     "data": {
      "application/vnd.jupyter.widget-view+json": {
       "model_id": "f688ebff106d48039b27959155016f3d",
       "version_major": 2,
       "version_minor": 0
      },
      "text/plain": [
       "Validation: |          | 0/? [00:00<?, ?it/s]"
      ]
     },
     "metadata": {},
     "output_type": "display_data"
    },
    {
     "data": {
      "application/vnd.jupyter.widget-view+json": {
       "model_id": "05cef0a0d6dc4230a650f9b100abe47c",
       "version_major": 2,
       "version_minor": 0
      },
      "text/plain": [
       "Validation: |          | 0/? [00:00<?, ?it/s]"
      ]
     },
     "metadata": {},
     "output_type": "display_data"
    },
    {
     "data": {
      "application/vnd.jupyter.widget-view+json": {
       "model_id": "9c4d210f2c814a338c0555caaf13370c",
       "version_major": 2,
       "version_minor": 0
      },
      "text/plain": [
       "Validation: |          | 0/? [00:00<?, ?it/s]"
      ]
     },
     "metadata": {},
     "output_type": "display_data"
    },
    {
     "data": {
      "application/vnd.jupyter.widget-view+json": {
       "model_id": "dabbec65b9bf445fbf31340606622a70",
       "version_major": 2,
       "version_minor": 0
      },
      "text/plain": [
       "Validation: |          | 0/? [00:00<?, ?it/s]"
      ]
     },
     "metadata": {},
     "output_type": "display_data"
    },
    {
     "data": {
      "application/vnd.jupyter.widget-view+json": {
       "model_id": "982f26c1c44d4d53a6a6aef48d1e8367",
       "version_major": 2,
       "version_minor": 0
      },
      "text/plain": [
       "Validation: |          | 0/? [00:00<?, ?it/s]"
      ]
     },
     "metadata": {},
     "output_type": "display_data"
    },
    {
     "data": {
      "application/vnd.jupyter.widget-view+json": {
       "model_id": "529499dff43d434f8fcd2a3ee5bf94e6",
       "version_major": 2,
       "version_minor": 0
      },
      "text/plain": [
       "Validation: |          | 0/? [00:00<?, ?it/s]"
      ]
     },
     "metadata": {},
     "output_type": "display_data"
    },
    {
     "data": {
      "application/vnd.jupyter.widget-view+json": {
       "model_id": "791cdd39fad04a9da72f80b067058553",
       "version_major": 2,
       "version_minor": 0
      },
      "text/plain": [
       "Validation: |          | 0/? [00:00<?, ?it/s]"
      ]
     },
     "metadata": {},
     "output_type": "display_data"
    },
    {
     "data": {
      "application/vnd.jupyter.widget-view+json": {
       "model_id": "e20567bec6124d79b5bee20e0a7d6fed",
       "version_major": 2,
       "version_minor": 0
      },
      "text/plain": [
       "Validation: |          | 0/? [00:00<?, ?it/s]"
      ]
     },
     "metadata": {},
     "output_type": "display_data"
    },
    {
     "data": {
      "application/vnd.jupyter.widget-view+json": {
       "model_id": "3f96005fb93e4441ad2fa464c15f0d48",
       "version_major": 2,
       "version_minor": 0
      },
      "text/plain": [
       "Validation: |          | 0/? [00:00<?, ?it/s]"
      ]
     },
     "metadata": {},
     "output_type": "display_data"
    },
    {
     "data": {
      "application/vnd.jupyter.widget-view+json": {
       "model_id": "797d42e41e98462d8d0996465b7b79a3",
       "version_major": 2,
       "version_minor": 0
      },
      "text/plain": [
       "Validation: |          | 0/? [00:00<?, ?it/s]"
      ]
     },
     "metadata": {},
     "output_type": "display_data"
    },
    {
     "data": {
      "application/vnd.jupyter.widget-view+json": {
       "model_id": "a9467126c9b346d1a7e61993e862b50f",
       "version_major": 2,
       "version_minor": 0
      },
      "text/plain": [
       "Validation: |          | 0/? [00:00<?, ?it/s]"
      ]
     },
     "metadata": {},
     "output_type": "display_data"
    },
    {
     "data": {
      "application/vnd.jupyter.widget-view+json": {
       "model_id": "eb31c14a524d459094458b231834da2a",
       "version_major": 2,
       "version_minor": 0
      },
      "text/plain": [
       "Validation: |          | 0/? [00:00<?, ?it/s]"
      ]
     },
     "metadata": {},
     "output_type": "display_data"
    },
    {
     "data": {
      "application/vnd.jupyter.widget-view+json": {
       "model_id": "3e6d2c8c2a6b451b89733a3e54e880e9",
       "version_major": 2,
       "version_minor": 0
      },
      "text/plain": [
       "Validation: |          | 0/? [00:00<?, ?it/s]"
      ]
     },
     "metadata": {},
     "output_type": "display_data"
    },
    {
     "data": {
      "application/vnd.jupyter.widget-view+json": {
       "model_id": "751dc223df644e1eb202518a42fa7936",
       "version_major": 2,
       "version_minor": 0
      },
      "text/plain": [
       "Validation: |          | 0/? [00:00<?, ?it/s]"
      ]
     },
     "metadata": {},
     "output_type": "display_data"
    },
    {
     "data": {
      "application/vnd.jupyter.widget-view+json": {
       "model_id": "59d89bd7ca91413794c02da5b3712ce9",
       "version_major": 2,
       "version_minor": 0
      },
      "text/plain": [
       "Validation: |          | 0/? [00:00<?, ?it/s]"
      ]
     },
     "metadata": {},
     "output_type": "display_data"
    },
    {
     "data": {
      "application/vnd.jupyter.widget-view+json": {
       "model_id": "b95dfdf4f4164dab916e2b4ef8f70beb",
       "version_major": 2,
       "version_minor": 0
      },
      "text/plain": [
       "Validation: |          | 0/? [00:00<?, ?it/s]"
      ]
     },
     "metadata": {},
     "output_type": "display_data"
    },
    {
     "data": {
      "application/vnd.jupyter.widget-view+json": {
       "model_id": "bed03d8f4949432faac884aaca5f44e4",
       "version_major": 2,
       "version_minor": 0
      },
      "text/plain": [
       "Validation: |          | 0/? [00:00<?, ?it/s]"
      ]
     },
     "metadata": {},
     "output_type": "display_data"
    },
    {
     "data": {
      "application/vnd.jupyter.widget-view+json": {
       "model_id": "f514bfdecde745db8e2cfe2870e80892",
       "version_major": 2,
       "version_minor": 0
      },
      "text/plain": [
       "Validation: |          | 0/? [00:00<?, ?it/s]"
      ]
     },
     "metadata": {},
     "output_type": "display_data"
    },
    {
     "data": {
      "application/vnd.jupyter.widget-view+json": {
       "model_id": "cba84a3986db407895e4407de62c6afb",
       "version_major": 2,
       "version_minor": 0
      },
      "text/plain": [
       "Validation: |          | 0/? [00:00<?, ?it/s]"
      ]
     },
     "metadata": {},
     "output_type": "display_data"
    },
    {
     "data": {
      "application/vnd.jupyter.widget-view+json": {
       "model_id": "f2f6206972744a52a0dec2281a63083d",
       "version_major": 2,
       "version_minor": 0
      },
      "text/plain": [
       "Validation: |          | 0/? [00:00<?, ?it/s]"
      ]
     },
     "metadata": {},
     "output_type": "display_data"
    },
    {
     "data": {
      "application/vnd.jupyter.widget-view+json": {
       "model_id": "1a9ce49060394d9b934f0de88b985ea9",
       "version_major": 2,
       "version_minor": 0
      },
      "text/plain": [
       "Validation: |          | 0/? [00:00<?, ?it/s]"
      ]
     },
     "metadata": {},
     "output_type": "display_data"
    },
    {
     "data": {
      "application/vnd.jupyter.widget-view+json": {
       "model_id": "8a92f8b1eab94e2388df67404ec98a67",
       "version_major": 2,
       "version_minor": 0
      },
      "text/plain": [
       "Validation: |          | 0/? [00:00<?, ?it/s]"
      ]
     },
     "metadata": {},
     "output_type": "display_data"
    },
    {
     "data": {
      "application/vnd.jupyter.widget-view+json": {
       "model_id": "c60a386fc8784d23afdd028ee0c43c9b",
       "version_major": 2,
       "version_minor": 0
      },
      "text/plain": [
       "Validation: |          | 0/? [00:00<?, ?it/s]"
      ]
     },
     "metadata": {},
     "output_type": "display_data"
    },
    {
     "data": {
      "application/vnd.jupyter.widget-view+json": {
       "model_id": "f03ee6c38f564196b31779c9b53503dd",
       "version_major": 2,
       "version_minor": 0
      },
      "text/plain": [
       "Validation: |          | 0/? [00:00<?, ?it/s]"
      ]
     },
     "metadata": {},
     "output_type": "display_data"
    },
    {
     "name": "stderr",
     "output_type": "stream",
     "text": [
      "`Trainer.fit` stopped: `max_epochs=500` reached.\n"
     ]
    }
   ],
   "source": [
    "trainer.fit(model,\n",
    "            train_dataloaders=train_dataloader_all,\n",
    "            val_dataloaders=val_dataloader_all)\n",
    "        \n",
    "torch.cuda.empty_cache()"
   ]
  },
  {
   "cell_type": "code",
   "execution_count": null,
   "metadata": {},
   "outputs": [],
   "source": []
  }
 ],
 "metadata": {
  "kernelspec": {
   "display_name": ".venv",
   "language": "python",
   "name": "python3"
  },
  "language_info": {
   "codemirror_mode": {
    "name": "ipython",
    "version": 3
   },
   "file_extension": ".py",
   "mimetype": "text/x-python",
   "name": "python",
   "nbconvert_exporter": "python",
   "pygments_lexer": "ipython3",
   "version": "3.8.10"
  }
 },
 "nbformat": 4,
 "nbformat_minor": 2
}
